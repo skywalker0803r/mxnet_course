{
  "nbformat": 4,
  "nbformat_minor": 0,
  "metadata": {
    "colab": {
      "name": "mxnet_ppo_test.ipynb",
      "provenance": [],
      "collapsed_sections": [],
      "include_colab_link": true
    },
    "kernelspec": {
      "name": "python3",
      "display_name": "Python 3"
    }
  },
  "cells": [
    {
      "cell_type": "markdown",
      "metadata": {
        "id": "view-in-github",
        "colab_type": "text"
      },
      "source": [
        "<a href=\"https://colab.research.google.com/github/skywalker0803r/mxnet_course/blob/master/mxnet_ppo_test.ipynb\" target=\"_parent\"><img src=\"https://colab.research.google.com/assets/colab-badge.svg\" alt=\"Open In Colab\"/></a>"
      ]
    },
    {
      "cell_type": "code",
      "metadata": {
        "id": "9FiaX_ohLvWD",
        "colab_type": "code",
        "colab": {}
      },
      "source": [
        "#!pip install mxnet\n",
        "import numpy as np \n",
        "import mxnet as mx \n",
        "from mxnet import gluon, autograd, nd\n",
        "import mxnet.ndarray as F\n",
        "from mxnet.gluon import nn\n",
        "from mxnet.gluon.loss import L2Loss\n",
        "import gym\n",
        "from mxnet import init\n",
        "import matplotlib.pyplot as plt"
      ],
      "execution_count": 0,
      "outputs": []
    },
    {
      "cell_type": "markdown",
      "metadata": {
        "id": "NET-eqwPgkq_",
        "colab_type": "text"
      },
      "source": [
        "# some function"
      ]
    },
    {
      "cell_type": "code",
      "metadata": {
        "id": "uakkFrEad24J",
        "colab_type": "code",
        "colab": {}
      },
      "source": [
        "def nd_entropy(probs):\n",
        "  return -nd.sum(probs*nd.log(probs+1e-8),axis=1)"
      ],
      "execution_count": 0,
      "outputs": []
    },
    {
      "cell_type": "markdown",
      "metadata": {
        "id": "6LIRe6hjgmjV",
        "colab_type": "text"
      },
      "source": [
        "# memory"
      ]
    },
    {
      "cell_type": "code",
      "metadata": {
        "id": "Y6KC6RytdufZ",
        "colab_type": "code",
        "colab": {}
      },
      "source": [
        "class Memory:\n",
        "  def __init__(self):\n",
        "    self.actions = []\n",
        "    self.states = []\n",
        "    self.logprobs = []\n",
        "    self.rewards = []\n",
        "    self.is_terminals = []\n",
        "  def clear_memory(self):\n",
        "    del self.actions[:]\n",
        "    del self.states[:]\n",
        "    del self.logprobs[:]\n",
        "    del self.rewards[:]\n",
        "    del self.is_terminals[:]"
      ],
      "execution_count": 0,
      "outputs": []
    },
    {
      "cell_type": "markdown",
      "metadata": {
        "id": "Npwuiud-gn71",
        "colab_type": "text"
      },
      "source": [
        "# model"
      ]
    },
    {
      "cell_type": "code",
      "metadata": {
        "id": "yFy1rzTIL5is",
        "colab_type": "code",
        "colab": {}
      },
      "source": [
        "class ActorCritic_Discrete(gluon.Block):\n",
        "  def __init__(self,action_dim):\n",
        "    super(ActorCritic_Discrete, self).__init__()\n",
        "    self.action_dim = action_dim\n",
        "    with self.name_scope():\n",
        "      self.probs = nn.Sequential()\n",
        "      self.probs.add(nn.Dense(128,activation='relu'))\n",
        "      self.probs.add(nn.Dense(action_dim))\n",
        "      \n",
        "      self.value = nn.Sequential()\n",
        "      self.value.add(nn.Dense(128,activation='relu'))\n",
        "      self.value.add(nn.Dense(1))       \n",
        "  \n",
        "  def choose_action(self, state, memory):\n",
        "    state = nd.array(state)\n",
        "    probs = nd.softmax(self.probs(state))\n",
        "    action, log_prob = nd.sample_multinomial(probs, get_prob = True)\n",
        "    memory.states.append(list(nd.squeeze(state).asnumpy())) \n",
        "    memory.actions.append(action.asnumpy()[0])\n",
        "    memory.logprobs.append(log_prob.asnumpy()[0])\n",
        "    return action.asnumpy()[0]\n",
        "  \n",
        "  def evaluate(self, state, action):\n",
        "    state = nd.array(state)\n",
        "    action = nd.array(action)\n",
        "    probs = nd.softmax(self.probs(state))\n",
        "    action_logprobs = nd.pick(probs.log(),action,axis=1)\n",
        "    state_value = self.value(state)\n",
        "    return action_logprobs, nd.squeeze(state_value), nd_entropy(probs) "
      ],
      "execution_count": 0,
      "outputs": []
    },
    {
      "cell_type": "markdown",
      "metadata": {
        "id": "xSSE1o9NNpHP",
        "colab_type": "text"
      },
      "source": [
        "# forward test"
      ]
    },
    {
      "cell_type": "code",
      "metadata": {
        "id": "dKrA5ldMNstk",
        "colab_type": "code",
        "colab": {
          "base_uri": "https://localhost:8080/",
          "height": 84
        },
        "outputId": "b62aa7e0-b428-4116-abe1-bb10c674bdf5"
      },
      "source": [
        "a = ActorCritic_Discrete(action_dim=2)\n",
        "a.initialize()\n",
        "m = Memory()\n",
        "#=============\n",
        "action = a.choose_action([[1,1,1,1]],m)\n",
        "print('action:',action)\n",
        "print('states:',m.states)\n",
        "print('actions:',m.actions)\n",
        "print('logprobs:',m.logprobs)"
      ],
      "execution_count": 5,
      "outputs": [
        {
          "output_type": "stream",
          "text": [
            "action: 1\n",
            "states: [[1.0, 1.0, 1.0, 1.0]]\n",
            "actions: [1]\n",
            "logprobs: [-0.67801327]\n"
          ],
          "name": "stdout"
        }
      ]
    },
    {
      "cell_type": "code",
      "metadata": {
        "id": "lN6047DPObDH",
        "colab_type": "code",
        "colab": {
          "base_uri": "https://localhost:8080/",
          "height": 134
        },
        "outputId": "38a7e009-90eb-486b-8e6a-6be7e094e255"
      },
      "source": [
        "a = ActorCritic_Discrete(action_dim=2)\n",
        "a.initialize()\n",
        "m = Memory()\n",
        "#=============\n",
        "probs_log_action,value,entropy = a.evaluate([[1,1,1,1],\n",
        "                                             [1,1,1,1],\n",
        "                                             [1,1,1,1]],[0,1,0])\n",
        "print(probs_log_action,value,entropy)"
      ],
      "execution_count": 6,
      "outputs": [
        {
          "output_type": "stream",
          "text": [
            "\n",
            "[-0.6901691  -0.69613415 -0.6901691 ]\n",
            "<NDArray 3 @cpu(0)> \n",
            "[-0.00307417 -0.00307417 -0.00307417]\n",
            "<NDArray 3 @cpu(0)> \n",
            "[0.6931428 0.6931428 0.6931428]\n",
            "<NDArray 3 @cpu(0)>\n"
          ],
          "name": "stdout"
        }
      ]
    },
    {
      "cell_type": "markdown",
      "metadata": {
        "id": "QxNAy1W-g5gm",
        "colab_type": "text"
      },
      "source": [
        "# ppo"
      ]
    },
    {
      "cell_type": "code",
      "metadata": {
        "id": "AjBVLp_6YhaR",
        "colab_type": "code",
        "colab": {}
      },
      "source": [
        "class PPO_Discrete(object):\n",
        "  def __init__(self, action_dim, lr, gamma):\n",
        "    \n",
        "    # initialize policy\n",
        "    self.policy = ActorCritic_Discrete(action_dim)\n",
        "    self.policy.probs.initialize(init=init.Xavier())\n",
        "    self.policy.value.initialize(init=init.Xavier())\n",
        "    \n",
        "    # initialize old policy\n",
        "    self.policy_old = ActorCritic_Discrete(action_dim)\n",
        "    self.policy_old.probs.initialize(init=init.Xavier())\n",
        "    self.policy_old.value.initialize(init=init.Xavier())\n",
        "\n",
        "    # initialize forward 4 net\n",
        "    random_x = nd.random_uniform(shape=(1,state_dim))\n",
        "    _ = self.policy.probs(random_x)\n",
        "    _ = self.policy.value(random_x)\n",
        "    _ = self.policy_old.probs(random_x)\n",
        "    _ = self.policy_old.value(random_x)\n",
        "    \n",
        "    # Copy policy params to old policy:\n",
        "    self.policy.probs.save_parameters(\"temp_probs.params\")\n",
        "    self.policy.value.save_parameters(\"temp_value.params\")\n",
        "    self.policy_old.probs.load_parameters(\"temp_probs.params\")\n",
        "    self.policy_old.value.load_parameters(\"temp_value.params\")\n",
        "    print('initialize copy params to old policy')\n",
        "    \n",
        "    self.lr = lr\n",
        "    self.gamma = gamma\n",
        "    self.trainer = gluon.Trainer(self.policy.collect_params(),'adam',{'learning_rate':self.lr})\n",
        "\n",
        "  def update(self, memory): \n",
        "    \n",
        "    # Monte Carlo estimate of state rewards:\n",
        "    rewards = []\n",
        "    discounted_reward = 0\n",
        "    for reward, is_terminal in zip(reversed(memory.rewards), reversed(memory.is_terminals)):\n",
        "      if is_terminal:\n",
        "        discounted_reward = 0\n",
        "      discounted_reward = reward + (self.gamma * discounted_reward)\n",
        "      rewards.insert(0, discounted_reward)\n",
        "    \n",
        "    # Normalizing the rewards:\n",
        "    rewards = np.array(rewards)\n",
        "    rewards = (rewards - rewards.mean()) / (rewards.std() + 1e-5)\n",
        "    \n",
        "    # sample batch data from memory\n",
        "    old_states = memory.states\n",
        "    old_actions = memory.actions\n",
        "    old_logprobs = memory.logprobs\n",
        "\n",
        "    # to ndarray\n",
        "    rewards = nd.array(rewards)\n",
        "    old_logprobs = nd.array(old_logprobs)\n",
        "\n",
        "    # Optimize policy for 4 epochs:\n",
        "    for _ in range(4):\n",
        "      with autograd.record():    \n",
        "        logprobs, state_values, dist_entropy = self.policy.evaluate(old_states, old_actions)\n",
        "        ratios = nd.exp(logprobs - old_logprobs)\n",
        "        advantages = rewards - state_values\n",
        "        surr1 = ratios * advantages\n",
        "        surr2 = nd.clip(ratios, 0.8, 1.2)*advantages\n",
        "        loss = -nd.minimum(surr1,surr2) + 0.5*(advantages)**2 - 0.01*dist_entropy\n",
        "        loss = nd.mean(loss)\n",
        "      # loss backward and trainer step\n",
        "      loss.backward()\n",
        "      self.trainer.step(1)\n",
        "    \n",
        "    # Copy policy params to old policy:\n",
        "    self.policy.probs.save_parameters(\"temp_probs.params\")\n",
        "    self.policy.value.save_parameters(\"temp_value.params\")\n",
        "    self.policy_old.probs.load_parameters(\"temp_probs.params\")\n",
        "    self.policy_old.value.load_parameters(\"temp_value.params\")\n",
        "    print('copy params to old policy')"
      ],
      "execution_count": 0,
      "outputs": []
    },
    {
      "cell_type": "markdown",
      "metadata": {
        "id": "E2gVFfDErj2r",
        "colab_type": "text"
      },
      "source": [
        "# env and params"
      ]
    },
    {
      "cell_type": "code",
      "metadata": {
        "id": "3pKWwmrPrkCL",
        "colab_type": "code",
        "colab": {}
      },
      "source": [
        "env_name = \"CartPole-v0\"\n",
        "env = gym.make(env_name)\n",
        "state_dim = env.observation_space.shape[0]\n",
        "action_dim = env.action_space.n\n",
        "render = False\n",
        "solved_reward = 200         \n",
        "log_interval = 10     \n",
        "update_timestep = 2000\n",
        "lr = 0.001\n",
        "gamma = 0.99"
      ],
      "execution_count": 0,
      "outputs": []
    },
    {
      "cell_type": "markdown",
      "metadata": {
        "id": "oNlWFrt0qOOH",
        "colab_type": "text"
      },
      "source": [
        "# main"
      ]
    },
    {
      "cell_type": "code",
      "metadata": {
        "id": "hgMq9T-lEkXq",
        "colab_type": "code",
        "colab": {
          "base_uri": "https://localhost:8080/",
          "height": 34
        },
        "outputId": "6b330c69-741e-44e8-857e-9ff0d73e8dfc"
      },
      "source": [
        "memory = Memory()\n",
        "ppo = PPO_Discrete(action_dim,lr=0.001,gamma=0.99)"
      ],
      "execution_count": 9,
      "outputs": [
        {
          "output_type": "stream",
          "text": [
            "initialize copy params to old policy\n"
          ],
          "name": "stdout"
        }
      ]
    },
    {
      "cell_type": "code",
      "metadata": {
        "id": "3Y0fjmcimvg1",
        "colab_type": "code",
        "colab": {
          "base_uri": "https://localhost:8080/",
          "height": 1000
        },
        "outputId": "fb7ad27b-3cda-428b-be57-9cddc155b077"
      },
      "source": [
        "all_rewards = []\n",
        "avg_rewards = []\n",
        "time_step = 0    \n",
        "\n",
        "# run 50000 episode\n",
        "for i_episode in range(50000):\n",
        "  # reset env and R(total_reward)\n",
        "  state = env.reset()\n",
        "  R = 0\n",
        "  # game start \n",
        "  for t in range(1000):\n",
        "    time_step +=1\n",
        "    # transform state to nd_array\n",
        "    state = nd.array(np.expand_dims(state, 0))\n",
        "    # choose action\n",
        "    action = ppo.policy_old.choose_action(state, memory)\n",
        "    # do action on env\n",
        "    state, reward, done, _ = env.step(action)\n",
        "    \n",
        "    # append to memory\n",
        "    R += reward\n",
        "    memory.rewards.append(reward)\n",
        "    memory.is_terminals.append(done)\n",
        "    \n",
        "    # every update_timestep ppo learn\n",
        "    if time_step % update_timestep == 0:\n",
        "      ppo.update(memory)\n",
        "      memory.clear_memory()\n",
        "      time_step = 0\n",
        "    \n",
        "    # game over\n",
        "    if done:\n",
        "      break            \n",
        "  \n",
        "  # every episode record R\n",
        "  all_rewards.append(R)\n",
        "  avg_rewards.append(np.mean(all_rewards[-10:]))\n",
        "  \n",
        "  # if solved!\n",
        "  if (all_rewards[-1] >= solved_reward)&(avg_rewards[-1] >= solved_reward*0.9):\n",
        "    print(\"########## Solved! ##########\")\n",
        "    print(i_episode,all_rewards[-1],avg_rewards[-1])\n",
        "    break\n",
        "  \n",
        "  # print infomation\n",
        "  if i_episode % log_interval == 0:\n",
        "    print(i_episode,avg_rewards[-1])"
      ],
      "execution_count": 10,
      "outputs": [
        {
          "output_type": "stream",
          "text": [
            "0 10.0\n",
            "10 17.2\n",
            "20 21.6\n",
            "30 19.4\n",
            "40 22.6\n",
            "50 21.6\n",
            "60 21.5\n",
            "70 25.8\n",
            "80 27.2\n",
            "copy params to old policy\n",
            "90 23.7\n",
            "100 28.2\n",
            "110 22.5\n",
            "120 26.0\n",
            "130 20.4\n",
            "140 28.0\n",
            "150 22.5\n",
            "160 24.5\n",
            "170 22.3\n",
            "copy params to old policy\n",
            "180 26.7\n",
            "190 26.6\n",
            "200 25.4\n",
            "210 23.7\n",
            "220 30.2\n",
            "230 26.6\n",
            "240 28.8\n",
            "copy params to old policy\n",
            "250 30.7\n",
            "260 35.1\n",
            "270 28.9\n",
            "280 30.9\n",
            "290 25.6\n",
            "300 39.4\n",
            "copy params to old policy\n",
            "310 28.0\n",
            "320 25.9\n",
            "330 31.6\n",
            "340 26.3\n",
            "350 36.8\n",
            "360 36.0\n",
            "370 30.4\n",
            "copy params to old policy\n",
            "380 37.7\n",
            "390 35.6\n",
            "400 25.1\n",
            "410 32.8\n",
            "420 38.4\n",
            "430 40.5\n",
            "copy params to old policy\n",
            "440 35.0\n",
            "450 42.9\n",
            "460 36.0\n",
            "470 37.0\n",
            "480 28.9\n",
            "copy params to old policy\n",
            "490 48.3\n",
            "500 49.1\n",
            "510 39.1\n",
            "520 36.5\n",
            "530 39.7\n",
            "copy params to old policy\n",
            "540 49.7\n",
            "550 48.3\n",
            "560 51.1\n",
            "570 42.9\n",
            "copy params to old policy\n",
            "580 47.2\n",
            "590 36.1\n",
            "600 44.2\n",
            "610 37.4\n",
            "620 45.7\n",
            "copy params to old policy\n",
            "630 60.5\n",
            "640 52.4\n",
            "650 38.4\n",
            "660 42.9\n",
            "copy params to old policy\n",
            "670 43.2\n",
            "680 54.3\n",
            "690 37.4\n",
            "700 70.9\n",
            "copy params to old policy\n",
            "710 60.9\n",
            "720 45.0\n",
            "730 47.5\n",
            "copy params to old policy\n",
            "740 67.7\n",
            "750 50.0\n",
            "760 56.0\n",
            "770 44.9\n",
            "copy params to old policy\n",
            "780 46.2\n",
            "790 58.1\n",
            "800 53.4\n",
            "810 61.8\n",
            "copy params to old policy\n",
            "820 65.7\n",
            "830 67.2\n",
            "840 54.0\n",
            "copy params to old policy\n",
            "850 58.4\n",
            "860 70.9\n",
            "870 68.2\n",
            "copy params to old policy\n",
            "880 57.1\n",
            "890 65.9\n",
            "900 56.2\n",
            "copy params to old policy\n",
            "910 54.7\n",
            "920 66.9\n",
            "930 73.6\n",
            "copy params to old policy\n",
            "940 75.1\n",
            "950 81.6\n",
            "960 48.5\n",
            "copy params to old policy\n",
            "970 78.1\n",
            "980 67.8\n",
            "990 100.8\n",
            "copy params to old policy\n",
            "1000 83.9\n",
            "1010 114.3\n",
            "copy params to old policy\n",
            "1020 110.3\n",
            "1030 88.1\n",
            "copy params to old policy\n",
            "1040 104.9\n",
            "copy params to old policy\n",
            "1050 114.7\n",
            "1060 140.4\n",
            "copy params to old policy\n",
            "1070 137.7\n",
            "copy params to old policy\n",
            "1080 110.0\n",
            "1090 101.5\n",
            "copy params to old policy\n",
            "1100 129.2\n",
            "1110 144.8\n",
            "copy params to old policy\n",
            "1120 141.5\n",
            "copy params to old policy\n",
            "1130 150.5\n",
            "copy params to old policy\n",
            "1140 148.4\n",
            "1150 174.7\n",
            "copy params to old policy\n",
            "########## Solved! ##########\n",
            "1152 200.0 181.2\n"
          ],
          "name": "stdout"
        }
      ]
    },
    {
      "cell_type": "markdown",
      "metadata": {
        "id": "tkHdkPFtUZOp",
        "colab_type": "text"
      },
      "source": [
        "# plot"
      ]
    },
    {
      "cell_type": "code",
      "metadata": {
        "id": "Wm8DVdTB2Lmy",
        "colab_type": "code",
        "colab": {
          "base_uri": "https://localhost:8080/",
          "height": 279
        },
        "outputId": "da256c85-df8a-4805-9161-d47ba09d6151"
      },
      "source": [
        "plt.plot(all_rewards)\n",
        "plt.plot(avg_rewards)\n",
        "plt.xlabel('episode')\n",
        "plt.show()"
      ],
      "execution_count": 11,
      "outputs": [
        {
          "output_type": "display_data",
          "data": {
            "image/png": "[encoded data removed]",
            "text/plain": [
              "<Figure size 432x288 with 1 Axes>"
            ]
          },
          "metadata": {
            "tags": []
          }
        }
      ]
    },
    {
      "cell_type": "code",
      "metadata": {
        "id": "-lNsvJstUo7l",
        "colab_type": "code",
        "colab": {}
      },
      "source": [
        ""
      ],
      "execution_count": 0,
      "outputs": []
    }
  ]
}