{
  "nbformat": 4,
  "nbformat_minor": 0,
  "metadata": {
    "colab": {
      "name": "mxnet_dqn.ipynb",
      "provenance": [],
      "collapsed_sections": [],
      "include_colab_link": true
    },
    "kernelspec": {
      "name": "python3",
      "display_name": "Python 3"
    }
  },
  "cells": [
    {
      "cell_type": "markdown",
      "metadata": {
        "id": "view-in-github",
        "colab_type": "text"
      },
      "source": [
        "<a href=\"https://colab.research.google.com/github/skywalker0803r/mxnet_course/blob/master/mxnet_dqn.ipynb\" target=\"_parent\"><img src=\"https://colab.research.google.com/assets/colab-badge.svg\" alt=\"Open In Colab\"/></a>"
      ]
    },
    {
      "cell_type": "code",
      "metadata": {
        "id": "RFBepfyUG8x1",
        "colab_type": "code",
        "colab": {}
      },
      "source": [
        "import mxnet as mx\n",
        "import mxnet.ndarray as nd\n",
        "import mxnet.gluon as gluon\n",
        "from mxnet.gluon.loss import L2Loss\n",
        "import numpy as np\n",
        "from mxnet import init\n",
        "import mxnet.gluon.nn as nn\n",
        "import gym\n",
        "import matplotlib.pyplot as plt"
      ],
      "execution_count": 0,
      "outputs": []
    },
    {
      "cell_type": "markdown",
      "metadata": {
        "id": "EeauIatW2GBB",
        "colab_type": "text"
      },
      "source": [
        "# Hyper params"
      ]
    },
    {
      "cell_type": "code",
      "metadata": {
        "id": "Js1WdQzOzxMK",
        "colab_type": "code",
        "colab": {}
      },
      "source": [
        "BATCH_SIZE=64           \n",
        "LR=0.01                                                       \n",
        "EPSILON=0.9                                                \n",
        "GAMMA=0.9                              \n",
        "TARGET_REPLACE_ITER=100                          \n",
        "MEMORY_CAPACITY=1000"
      ],
      "execution_count": 0,
      "outputs": []
    },
    {
      "cell_type": "markdown",
      "metadata": {
        "id": "vjVqpXrb2IVA",
        "colab_type": "text"
      },
      "source": [
        "# env"
      ]
    },
    {
      "cell_type": "code",
      "metadata": {
        "id": "zgM-jjAg0Mm7",
        "colab_type": "code",
        "colab": {}
      },
      "source": [
        "env = gym.make('CartPole-v0').unwrapped                   \n",
        "N_ACTIONS=env.action_space.n                       \n",
        "N_STATES = env.observation_space.shape[0]    "
      ],
      "execution_count": 0,
      "outputs": []
    },
    {
      "cell_type": "markdown",
      "metadata": {
        "id": "VfFZuUf32Jkn",
        "colab_type": "text"
      },
      "source": [
        "# Qnet"
      ]
    },
    {
      "cell_type": "code",
      "metadata": {
        "id": "J1Ol2ir1M6Ty",
        "colab_type": "code",
        "colab": {}
      },
      "source": [
        "def build_Q_net(net,num_actions):\n",
        "  with net.name_scope():\n",
        "    net.add(nn.Dense(128,activation='relu'))\n",
        "    net.add(nn.Dense(128,activation='relu'))\n",
        "    net.add(nn.Dense(128,activation='relu'))\n",
        "    net.add(nn.Dense(num_actions))\n",
        "  return net"
      ],
      "execution_count": 0,
      "outputs": []
    },
    {
      "cell_type": "code",
      "metadata": {
        "id": "v29u65XpNQrv",
        "colab_type": "code",
        "colab": {}
      },
      "source": [
        "state = nd.random.normal(shape=(1,4))"
      ],
      "execution_count": 0,
      "outputs": []
    },
    {
      "cell_type": "code",
      "metadata": {
        "id": "yDn8zU4666o5",
        "colab_type": "code",
        "colab": {
          "base_uri": "https://localhost:8080/",
          "height": 70
        },
        "outputId": "e785ec99-4318-4934-9189-aec4fa55eb10"
      },
      "source": [
        "q = build_Q_net(nn.HybridSequential(),N_ACTIONS)\n",
        "q.initialize(init=init.Xavier(),force_reinit=True)\n",
        "q(state)"
      ],
      "execution_count": 6,
      "outputs": [
        {
          "output_type": "execute_result",
          "data": {
            "text/plain": [
              "\n",
              "[[-0.00842177  0.05223081]]\n",
              "<NDArray 1x2 @cpu(0)>"
            ]
          },
          "metadata": {
            "tags": []
          },
          "execution_count": 6
        }
      ]
    },
    {
      "cell_type": "markdown",
      "metadata": {
        "id": "pXt_8Brv40VK",
        "colab_type": "text"
      },
      "source": [
        "# copy params"
      ]
    },
    {
      "cell_type": "code",
      "metadata": {
        "id": "joTWYTdxCR28",
        "colab_type": "code",
        "colab": {}
      },
      "source": [
        "def copy_params(src, dst):\n",
        "  for src_name,dst_name in zip(list(src.keys()),list(dst.keys())):\n",
        "    print(src_name,dst_name)\n",
        "    print(src.get(src_name).data())\n",
        "    dst.get(dst_name).set_data(src.get(src_name).data())"
      ],
      "execution_count": 0,
      "outputs": []
    },
    {
      "cell_type": "markdown",
      "metadata": {
        "id": "vGiqYeS19N_0",
        "colab_type": "text"
      },
      "source": [
        "# class DQN"
      ]
    },
    {
      "cell_type": "code",
      "metadata": {
        "id": "yp4Us4jk7Kdj",
        "colab_type": "code",
        "colab": {}
      },
      "source": [
        "class DQN(object):\n",
        "  def __init__(self,N_ACTIONS):\n",
        "    # one net\n",
        "    self.eval_net = build_Q_net(nn.HybridSequential(),N_ACTIONS)\n",
        "    self.eval_net.initialize(init=init.Xavier())\n",
        "    \n",
        "    # memory\n",
        "    self.memory_counter = 0\n",
        "    self.memory = np.zeros(shape=(MEMORY_CAPACITY, N_STATES*2 + 3))\n",
        "    \n",
        "    # trainer and loss_func \n",
        "    self.trainer = gluon.Trainer(self.eval_net.collect_params(),'Adam',{'learning_rate':0.001})\n",
        "    self.loss_func = gluon.loss.L2Loss()\n",
        "\n",
        "    # record history\n",
        "    self.learn_step_counter = 0\n",
        "    self.cost_his=[]\n",
        "  \n",
        "  def choose_action(self,x):\n",
        "    # select best action\n",
        "    if np.random.uniform() < EPSILON:\n",
        "      action_value = self.eval_net(nd.array([x]))\n",
        "      action = nd.argmax(action_value,axis=1).asscalar()\n",
        "      return int(action)\n",
        "    # select random action\n",
        "    else:\n",
        "      return np.random.randint(0,N_ACTIONS)\n",
        "  \n",
        "  def store_transition(self,s,a,r,d,s_):\n",
        "    # add transition to memory\n",
        "    transition = np.hstack((s,[a,r,d],s_))\n",
        "    index = self.memory_counter % MEMORY_CAPACITY\n",
        "    self.memory[index,:] = transition\n",
        "    self.memory_counter += 1\n",
        "  \n",
        "  def learn(self):\n",
        "    # record\n",
        "    self.learn_step_counter += 1\n",
        "    \n",
        "    # sample a mini_batch_data\n",
        "    sample_index = np.random.choice(MEMORY_CAPACITY, BATCH_SIZE)\n",
        "    b_memory = self.memory[sample_index,:]\n",
        "    b_s = nd.array(b_memory[:,:N_STATES])\n",
        "    b_a = nd.array(b_memory[:,N_STATES:N_STATES+1])\n",
        "    b_r = nd.array(b_memory[:,N_STATES+1:N_STATES+2])\n",
        "    b_d = nd.array(b_memory[:,N_STATES+2:N_STATES+3])\n",
        "    b_s_= nd.array(b_memory[:,-N_STATES:])\n",
        "    \n",
        "    # caculate gradient\n",
        "    with mx.autograd.record():\n",
        "      Q_sp = nd.max(self.eval_net(b_s_),axis=1)\n",
        "      Q_sp = Q_sp * (nd.ones(BATCH_SIZE)-b_d)\n",
        "      Q_s_array = self.eval_net(b_s)\n",
        "      Q_s = nd.pick(Q_s_array,b_a,1)\n",
        "      loss = (Q_s - (b_r + GAMMA * Q_sp))**2\n",
        "    \n",
        "    # loss backward and trainer step\n",
        "    loss.backward()\n",
        "    self.trainer.step(BATCH_SIZE)\n",
        "    \n",
        "    # record loss history\n",
        "    self.cost_his.append(nd.mean(loss).asscalar())\n",
        "  \n",
        "  def plot_cost(self):\n",
        "     plt.plot(np.arange(len(self.cost_his)), self.cost_his)\n",
        "     plt.ylabel('Cost')\n",
        "     plt.xlabel('training steps')\n",
        "     plt.show()"
      ],
      "execution_count": 0,
      "outputs": []
    },
    {
      "cell_type": "code",
      "metadata": {
        "id": "obZskD3E-Y6B",
        "colab_type": "code",
        "colab": {
          "base_uri": "https://localhost:8080/",
          "height": 1000
        },
        "outputId": "0eb7026e-3208-4117-8b6c-c914904d40d3"
      },
      "source": [
        "all_rewards = []\n",
        "avg_rewards = []\n",
        "dqn = DQN(N_ACTIONS)\n",
        "for i_episode in range(200):\n",
        "     s = env.reset()\n",
        "     rewards = []\n",
        "     while True:\n",
        "         a = dqn.choose_action(s)\n",
        "         s_, r, done, info = env.step(a)\n",
        "         rewards.append(r) \n",
        "         dqn.store_transition(s,a,r,done,s_)\n",
        "         if dqn.memory_counter > MEMORY_CAPACITY:\n",
        "             dqn.learn()\n",
        "         if done:\n",
        "           print(i_episode,np.sum(rewards))\n",
        "           all_rewards.append(np.sum(rewards))\n",
        "           avg_rewards.append(np.mean(all_rewards[-10:]))\n",
        "           break\n",
        "         s = s_"
      ],
      "execution_count": 9,
      "outputs": [
        {
          "output_type": "stream",
          "text": [
            "0 43.0\n",
            "1 86.0\n",
            "2 23.0\n",
            "3 23.0\n",
            "4 31.0\n",
            "5 30.0\n",
            "6 33.0\n",
            "7 49.0\n",
            "8 53.0\n",
            "9 47.0\n",
            "10 60.0\n",
            "11 49.0\n",
            "12 39.0\n",
            "13 39.0\n",
            "14 23.0\n",
            "15 34.0\n",
            "16 43.0\n",
            "17 55.0\n",
            "18 68.0\n",
            "19 42.0\n",
            "20 46.0\n",
            "21 30.0\n",
            "22 27.0\n",
            "23 41.0\n",
            "24 38.0\n",
            "25 24.0\n",
            "26 24.0\n",
            "27 68.0\n",
            "28 78.0\n",
            "29 53.0\n",
            "30 30.0\n",
            "31 42.0\n",
            "32 25.0\n",
            "33 51.0\n",
            "34 22.0\n",
            "35 54.0\n",
            "36 21.0\n",
            "37 48.0\n",
            "38 43.0\n",
            "39 36.0\n",
            "40 19.0\n",
            "41 50.0\n",
            "42 69.0\n",
            "43 54.0\n",
            "44 25.0\n",
            "45 41.0\n",
            "46 30.0\n",
            "47 104.0\n",
            "48 57.0\n",
            "49 57.0\n",
            "50 22.0\n",
            "51 52.0\n",
            "52 48.0\n",
            "53 26.0\n",
            "54 42.0\n",
            "55 58.0\n",
            "56 35.0\n",
            "57 42.0\n",
            "58 61.0\n",
            "59 89.0\n",
            "60 71.0\n",
            "61 133.0\n",
            "62 55.0\n",
            "63 76.0\n",
            "64 144.0\n",
            "65 55.0\n",
            "66 62.0\n",
            "67 62.0\n",
            "68 74.0\n",
            "69 46.0\n",
            "70 26.0\n",
            "71 55.0\n",
            "72 48.0\n",
            "73 53.0\n",
            "74 97.0\n",
            "75 73.0\n",
            "76 76.0\n",
            "77 45.0\n",
            "78 162.0\n",
            "79 80.0\n",
            "80 88.0\n",
            "81 67.0\n",
            "82 70.0\n",
            "83 51.0\n",
            "84 64.0\n",
            "85 224.0\n",
            "86 232.0\n",
            "87 126.0\n",
            "88 75.0\n",
            "89 135.0\n",
            "90 76.0\n",
            "91 99.0\n",
            "92 110.0\n",
            "93 134.0\n",
            "94 47.0\n",
            "95 75.0\n",
            "96 204.0\n",
            "97 38.0\n",
            "98 86.0\n",
            "99 82.0\n",
            "100 77.0\n",
            "101 115.0\n",
            "102 83.0\n",
            "103 114.0\n",
            "104 81.0\n",
            "105 78.0\n",
            "106 131.0\n",
            "107 103.0\n",
            "108 39.0\n",
            "109 94.0\n",
            "110 157.0\n",
            "111 156.0\n",
            "112 125.0\n",
            "113 127.0\n",
            "114 163.0\n",
            "115 137.0\n",
            "116 128.0\n",
            "117 140.0\n",
            "118 155.0\n",
            "119 40.0\n",
            "120 132.0\n",
            "121 143.0\n",
            "122 127.0\n",
            "123 193.0\n",
            "124 30.0\n",
            "125 122.0\n",
            "126 135.0\n",
            "127 28.0\n",
            "128 10.0\n",
            "129 137.0\n",
            "130 116.0\n",
            "131 114.0\n",
            "132 133.0\n",
            "133 213.0\n",
            "134 114.0\n",
            "135 170.0\n",
            "136 181.0\n",
            "137 138.0\n",
            "138 115.0\n",
            "139 113.0\n",
            "140 217.0\n",
            "141 307.0\n",
            "142 130.0\n",
            "143 132.0\n",
            "144 131.0\n",
            "145 250.0\n",
            "146 66.0\n",
            "147 240.0\n",
            "148 142.0\n",
            "149 130.0\n",
            "150 79.0\n",
            "151 176.0\n",
            "152 254.0\n",
            "153 147.0\n",
            "154 112.0\n",
            "155 156.0\n",
            "156 141.0\n",
            "157 118.0\n",
            "158 197.0\n",
            "159 152.0\n",
            "160 95.0\n",
            "161 164.0\n",
            "162 206.0\n",
            "163 133.0\n",
            "164 145.0\n",
            "165 209.0\n",
            "166 330.0\n",
            "167 132.0\n",
            "168 81.0\n",
            "169 163.0\n",
            "170 273.0\n",
            "171 250.0\n",
            "172 548.0\n",
            "173 462.0\n",
            "174 231.0\n",
            "175 215.0\n",
            "176 286.0\n",
            "177 114.0\n",
            "178 53.0\n",
            "179 174.0\n",
            "180 387.0\n",
            "181 204.0\n",
            "182 205.0\n",
            "183 328.0\n",
            "184 192.0\n",
            "185 131.0\n",
            "186 194.0\n",
            "187 216.0\n",
            "188 174.0\n",
            "189 154.0\n",
            "190 217.0\n",
            "191 158.0\n",
            "192 156.0\n",
            "193 183.0\n",
            "194 139.0\n",
            "195 200.0\n",
            "196 154.0\n",
            "197 206.0\n",
            "198 167.0\n",
            "199 192.0\n"
          ],
          "name": "stdout"
        }
      ]
    },
    {
      "cell_type": "code",
      "metadata": {
        "id": "fItQxcRAW5Fr",
        "colab_type": "code",
        "colab": {
          "base_uri": "https://localhost:8080/",
          "height": 278
        },
        "outputId": "14742d63-ade2-4306-f34a-1ecfb566d725"
      },
      "source": [
        "plt.plot(all_rewards)\n",
        "plt.plot(avg_rewards)\n",
        "plt.xlabel('Episode')\n",
        "plt.show()"
      ],
      "execution_count": 10,
      "outputs": [
        {
          "output_type": "display_data",
          "data": {
            "image/png": "[encoded data removed]",
            "text/plain": [
              "<Figure size 432x288 with 1 Axes>"
            ]
          },
          "metadata": {
            "tags": []
          }
        }
      ]
    },
    {
      "cell_type": "code",
      "metadata": {
        "id": "0_6PEemEY0-a",
        "colab_type": "code",
        "colab": {}
      },
      "source": [
        ""
      ],
      "execution_count": 0,
      "outputs": []
    }
  ]
}