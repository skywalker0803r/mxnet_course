{
  "nbformat": 4,
  "nbformat_minor": 0,
  "metadata": {
    "colab": {
      "name": "mxnet_LSTM.ipynb",
      "provenance": [],
      "include_colab_link": true
    },
    "kernelspec": {
      "name": "python3",
      "display_name": "Python 3"
    }
  },
  "cells": [
    {
      "cell_type": "markdown",
      "metadata": {
        "id": "view-in-github",
        "colab_type": "text"
      },
      "source": [
        "<a href=\"https://colab.research.google.com/github/skywalker0803r/mxnet_course/blob/master/mxnet_LSTM.ipynb\" target=\"_parent\"><img src=\"https://colab.research.google.com/assets/colab-badge.svg\" alt=\"Open In Colab\"/></a>"
      ]
    },
    {
      "cell_type": "code",
      "metadata": {
        "id": "Wkova8pDNSrh",
        "colab_type": "code",
        "colab": {
          "base_uri": "https://localhost:8080/",
          "height": 35
        },
        "outputId": "0feff11f-ff01-443d-e140-f4aba636418e"
      },
      "source": [
        "#!pip install mxnet\n",
        "#!pip install d2lzh\n",
        "from mxnet import autograd,gluon,init,nd,cpu\n",
        "import d2lzh as d2l\n",
        "import math\n",
        "from mxnet.gluon import loss as gloss,nn,rnn\n",
        "import time\n",
        "from google.colab import drive\n",
        "import random\n",
        "drive.mount('/content/drive')"
      ],
      "execution_count": 1,
      "outputs": [
        {
          "output_type": "stream",
          "text": [
            "Drive already mounted at /content/drive; to attempt to forcibly remount, call drive.mount(\"/content/drive\", force_remount=True).\n"
          ],
          "name": "stdout"
        }
      ]
    },
    {
      "cell_type": "code",
      "metadata": {
        "id": "LgCYkj0hZNU-",
        "colab_type": "code",
        "colab": {}
      },
      "source": [
        "def load_lyrics(path):\n",
        "  with open(path,encoding='utf8') as f:\n",
        "    corpus_chars = f.read().replace('\\n',' ').replace('\\r',' ').replace('\\u3000','')\n",
        "  idx_to_char = list(set(corpus_chars))\n",
        "  char_to_idx = dict([(char,i) for i,char in enumerate(idx_to_char)])\n",
        "  vocab_size = len(char_to_idx)\n",
        "  corpus_indices = [char_to_idx[char] for char in corpus_chars]\n",
        "  return corpus_indices,char_to_idx,idx_to_char,vocab_size"
      ],
      "execution_count": 0,
      "outputs": []
    },
    {
      "cell_type": "markdown",
      "metadata": {
        "id": "szBUDs14PBys",
        "colab_type": "text"
      },
      "source": [
        "# load data"
      ]
    },
    {
      "cell_type": "code",
      "metadata": {
        "id": "kLpQI3DRNTuE",
        "colab_type": "code",
        "colab": {
          "base_uri": "https://localhost:8080/",
          "height": 53
        },
        "outputId": "9a7e19ae-d8f8-4a14-868c-38367fc40d91"
      },
      "source": [
        "(corpus_indices,char_to_idx,idx_to_char,vocab_size) = load_lyrics('/content/drive/My Drive/mxnet_dataset/歌詞.txt')\n",
        "print('chars:',[idx_to_char[i] for i in corpus_indices[:20]])\n",
        "print('indices:',corpus_indices[:20])"
      ],
      "execution_count": 3,
      "outputs": [
        {
          "output_type": "stream",
          "text": [
            "chars: ['窗', '外', '的', '麻', '雀', '在', '電', '線', '桿', '上', '多', '嘴', ' ', '妳', '說', '這', '一', '句', '很', '有']\n",
            "indices: [35, 87, 150, 125, 31, 99, 32, 85, 50, 83, 112, 55, 1, 152, 139, 38, 64, 120, 116, 129]\n"
          ],
          "name": "stdout"
        }
      ]
    },
    {
      "cell_type": "markdown",
      "metadata": {
        "id": "Ga-jhY_waSr4",
        "colab_type": "text"
      },
      "source": [
        "# model"
      ]
    },
    {
      "cell_type": "code",
      "metadata": {
        "id": "MsPm8lllVppt",
        "colab_type": "code",
        "colab": {}
      },
      "source": [
        "num_hiddens = 256\n",
        "lstm_layer = rnn.LSTM(num_hiddens)\n",
        "model = d2l.RNNModel(lstm_layer,vocab_size)\n",
        "model.initialize(force_reinit=True)"
      ],
      "execution_count": 0,
      "outputs": []
    },
    {
      "cell_type": "markdown",
      "metadata": {
        "id": "Spe8o1Ldd8QU",
        "colab_type": "text"
      },
      "source": [
        "# 訓練前"
      ]
    },
    {
      "cell_type": "code",
      "metadata": {
        "id": "-XlM2BVWnYXO",
        "colab_type": "code",
        "colab": {}
      },
      "source": [
        "word = '窗外'"
      ],
      "execution_count": 0,
      "outputs": []
    },
    {
      "cell_type": "code",
      "metadata": {
        "id": "_Oh2gj-kmLXG",
        "colab_type": "code",
        "colab": {
          "base_uri": "https://localhost:8080/",
          "height": 35
        },
        "outputId": "14904460-6bf7-4ef4-b352-7d21a8f3aca6"
      },
      "source": [
        "d2l.predict_rnn_gluon(word,10,model,vocab_size,cpu(),idx_to_char,char_to_idx)"
      ],
      "execution_count": 6,
      "outputs": [
        {
          "output_type": "execute_result",
          "data": {
            "text/plain": [
              "'窗外只雀厚草草剛個上中出'"
            ]
          },
          "metadata": {
            "tags": []
          },
          "execution_count": 6
        }
      ]
    },
    {
      "cell_type": "markdown",
      "metadata": {
        "id": "gUmNnqF-eWvz",
        "colab_type": "text"
      },
      "source": [
        "# 開始訓練"
      ]
    },
    {
      "cell_type": "code",
      "metadata": {
        "id": "masIgErOdP3V",
        "colab_type": "code",
        "colab": {
          "base_uri": "https://localhost:8080/",
          "height": 1000
        },
        "outputId": "fe26af30-505b-4c82-abf5-0586247e4caf"
      },
      "source": [
        "d2l.train_and_predict_rnn_gluon(model = model,\n",
        "                                num_hiddens = 256,\n",
        "                                vocab_size = vocab_size,\n",
        "                                ctx = cpu(),\n",
        "                                corpus_indices = corpus_indices,\n",
        "                                idx_to_char = idx_to_char,\n",
        "                                char_to_idx = char_to_idx,\n",
        "                                num_epochs = 600,\n",
        "                                num_steps = 11,\n",
        "                                lr = 1e2,\n",
        "                                clipping_theta = 1e-2,\n",
        "                                batch_size = 32,\n",
        "                                pred_period = 10,\n",
        "                                pred_len = 10,\n",
        "                                prefixes=[word])"
      ],
      "execution_count": 7,
      "outputs": [
        {
          "output_type": "stream",
          "text": [
            "epoch 10, perplexity 90.843531, time 0.08 sec\n",
            " - 窗外我我我我      \n",
            "epoch 20, perplexity 83.802832, time 0.08 sec\n",
            " - 窗外的的的的      \n",
            "epoch 30, perplexity 79.258904, time 0.08 sec\n",
            " - 窗外我我的       \n",
            "epoch 40, perplexity 69.330467, time 0.08 sec\n",
            " - 窗外我我我的的的的   \n",
            "epoch 50, perplexity 64.151119, time 0.08 sec\n",
            " - 窗外我我我我      \n",
            "epoch 60, perplexity 59.781619, time 0.08 sec\n",
            " - 窗外我我我的      \n",
            "epoch 70, perplexity 54.258485, time 0.08 sec\n",
            " - 窗外我我我的一     \n",
            "epoch 80, perplexity 50.241866, time 0.08 sec\n",
            " - 窗外我我我的的     \n",
            "epoch 90, perplexity 46.898033, time 0.08 sec\n",
            " - 窗外我我的的一     \n",
            "epoch 100, perplexity 43.957495, time 0.08 sec\n",
            " - 窗外我我的的一一    \n",
            "epoch 110, perplexity 41.353251, time 0.08 sec\n",
            " - 窗外我我的愛出一    \n",
            "epoch 120, perplexity 38.915521, time 0.08 sec\n",
            " - 窗外我我我愛溢就    \n",
            "epoch 130, perplexity 37.706294, time 0.08 sec\n",
            " - 窗外我的的的的的    \n",
            "epoch 140, perplexity 35.989978, time 0.08 sec\n",
            " - 窗外我我的的的的    \n",
            "epoch 150, perplexity 34.088375, time 0.08 sec\n",
            " - 窗外夜我的的的的    \n",
            "epoch 160, perplexity 33.120229, time 0.08 sec\n",
            " - 窗外夜我的的的的厚   \n",
            "epoch 170, perplexity 29.307148, time 0.08 sec\n",
            " - 窗外夜我的愛溢出像   \n",
            "epoch 180, perplexity 26.772410, time 0.08 sec\n",
            " - 窗外夜我的愛溢出就像雨 \n",
            "epoch 190, perplexity 26.369410, time 0.08 sec\n",
            " - 窗外夜我的愛溢出出像雨雨\n",
            "epoch 200, perplexity 23.178452, time 0.08 sec\n",
            " - 窗外夜我的愛溢出就像像雨\n",
            "epoch 210, perplexity 21.540725, time 0.08 sec\n",
            " - 窗外我的的愛溢出就像雨水\n",
            "epoch 220, perplexity 19.868120, time 0.08 sec\n",
            " - 窗外像我的愛溢出就像雨水\n",
            "epoch 230, perplexity 20.386420, time 0.08 sec\n",
            " - 窗外夜我的愛溢出就像  \n",
            "epoch 240, perplexity 17.559981, time 0.08 sec\n",
            " - 窗外夜我的愛溢出就像雨雨\n",
            "epoch 250, perplexity 16.109423, time 0.08 sec\n",
            " - 窗外夜我的愛溢出就雨雨 \n",
            "epoch 260, perplexity 14.244819, time 0.08 sec\n",
            " - 窗外我的愛溢出就像雨雨水\n",
            "epoch 270, perplexity 13.771592, time 0.08 sec\n",
            " - 窗外夜我的愛溢出就像雨水\n",
            "epoch 280, perplexity 11.803014, time 0.08 sec\n",
            " - 窗外夜我的愛溢出就像雨水\n",
            "epoch 290, perplexity 11.083933, time 0.08 sec\n",
            " - 窗外夜我的愛溢出就就像雨\n",
            "epoch 300, perplexity 9.719560, time 0.08 sec\n",
            " - 窗外夜我的愛溢出就像雨雨\n",
            "epoch 310, perplexity 8.685313, time 0.08 sec\n",
            " - 窗外的麻把永遠妳妳寫進 \n",
            "epoch 320, perplexity 8.428742, time 0.08 sec\n",
            " - 窗外的把在永飛的美麗  \n",
            "epoch 330, perplexity 7.390915, time 0.08 sec\n",
            " - 窗外夜我的愛溢出就像雨水\n",
            "epoch 340, perplexity 6.857746, time 0.08 sec\n",
            " - 窗外的麻把永遠愛妳寫進詩\n",
            "epoch 350, perplexity 6.180144, time 0.08 sec\n",
            " - 窗外是在在我詩的每頁  \n",
            "epoch 360, perplexity 5.462311, time 0.08 sec\n",
            " - 窗外的麻把永遠愛的美麗節\n",
            "epoch 370, perplexity 5.051428, time 0.08 sec\n",
            " - 窗外夜我的愛溢出就像雨水\n",
            "epoch 380, perplexity 4.579523, time 0.08 sec\n",
            " - 窗外夜我的愛溢出就像雨水\n",
            "epoch 390, perplexity 4.444099, time 0.08 sec\n",
            " - 窗外的麻把永遠愛妳妳進詩\n",
            "epoch 400, perplexity 3.701319, time 0.08 sec\n",
            " - 窗外的麻把永遠愛妳妳進進\n",
            "epoch 410, perplexity 3.422845, time 0.08 sec\n",
            " - 窗外夜我的愛溢出就像雨水\n",
            "epoch 420, perplexity 3.208905, time 0.08 sec\n",
            " - 窗外的麻把在遠愛桿美麗節\n",
            "epoch 430, perplexity 3.122821, time 0.08 sec\n",
            " - 窗外著寫把在被我們尋回 \n",
            "epoch 440, perplexity 2.773655, time 0.08 sec\n",
            " - 窗外的麻雀永電線妳上進的\n",
            "epoch 450, perplexity 2.673991, time 0.08 sec\n",
            " - 窗外的麻雀在電線桿上上多\n",
            "epoch 460, perplexity 2.381809, time 0.08 sec\n",
            " - 窗外的麻雀在電線桿上上嘴\n",
            "epoch 470, perplexity 2.299963, time 0.08 sec\n",
            " - 窗外的麻雀永電線妳寫進詩\n",
            "epoch 480, perplexity 2.013523, time 0.08 sec\n",
            " - 窗外的麻雀在電線桿上多嘴\n",
            "epoch 490, perplexity 1.887466, time 0.08 sec\n",
            " - 窗外的麻雀幸電線桿上多嘴\n",
            "epoch 500, perplexity 1.873472, time 0.08 sec\n",
            " - 窗外的麻雀在電線桿上多嘴\n",
            "epoch 510, perplexity 1.730136, time 0.08 sec\n",
            " - 窗外的麻雀在電線桿上多嘴\n",
            "epoch 520, perplexity 1.596030, time 0.08 sec\n",
            " - 窗外的麻雀在電線桿上多嘴\n",
            "epoch 530, perplexity 1.555121, time 0.08 sec\n",
            " - 窗外的麻雀在電線桿上多嘴\n",
            "epoch 540, perplexity 1.460672, time 0.08 sec\n",
            " - 窗外的麻雀在電線桿上多嘴\n",
            "epoch 550, perplexity 1.447836, time 0.08 sec\n",
            " - 窗外的麻雀在電線桿上多嘴\n",
            "epoch 560, perplexity 1.398443, time 0.08 sec\n",
            " - 窗外的麻雀在電線桿上多嘴\n",
            "epoch 570, perplexity 1.323160, time 0.08 sec\n",
            " - 窗外的麻雀在電線桿上多嘴\n",
            "epoch 580, perplexity 1.303395, time 0.08 sec\n",
            " - 窗外的麻雀在電線桿上多嘴\n",
            "epoch 590, perplexity 1.269409, time 0.08 sec\n",
            " - 窗外的麻雀在電線桿上多嘴\n",
            "epoch 600, perplexity 1.223994, time 0.08 sec\n",
            " - 窗外的麻雀在電線桿上多嘴\n"
          ],
          "name": "stdout"
        }
      ]
    },
    {
      "cell_type": "markdown",
      "metadata": {
        "id": "OOozQ8k-mHhc",
        "colab_type": "text"
      },
      "source": [
        "# 測試"
      ]
    },
    {
      "cell_type": "code",
      "metadata": {
        "id": "DHh_Vdh7fZDc",
        "colab_type": "code",
        "colab": {
          "base_uri": "https://localhost:8080/",
          "height": 35
        },
        "outputId": "244d03a9-b611-40de-8c29-eb132a79ceea"
      },
      "source": [
        "d2l.predict_rnn_gluon(word,10,model,vocab_size,cpu(),idx_to_char,char_to_idx)"
      ],
      "execution_count": 8,
      "outputs": [
        {
          "output_type": "execute_result",
          "data": {
            "text/plain": [
              "'窗外的麻雀在電線桿上多嘴'"
            ]
          },
          "metadata": {
            "tags": []
          },
          "execution_count": 8
        }
      ]
    },
    {
      "cell_type": "code",
      "metadata": {
        "id": "uMFPIXVFnJcG",
        "colab_type": "code",
        "colab": {}
      },
      "source": [
        ""
      ],
      "execution_count": 0,
      "outputs": []
    }
  ]
}