{
  "nbformat": 4,
  "nbformat_minor": 0,
  "metadata": {
    "colab": {
      "name": "AlexNet.ipynb",
      "provenance": [],
      "include_colab_link": true
    },
    "kernelspec": {
      "name": "python3",
      "display_name": "Python 3"
    },
    "accelerator": "GPU"
  },
  "cells": [
    {
      "cell_type": "markdown",
      "metadata": {
        "id": "view-in-github",
        "colab_type": "text"
      },
      "source": [
        "<a href=\"https://colab.research.google.com/github/skywalker0803r/mxnet_course/blob/master/AlexNet.ipynb\" target=\"_parent\"><img src=\"https://colab.research.google.com/assets/colab-badge.svg\" alt=\"Open In Colab\"/></a>"
      ]
    },
    {
      "cell_type": "code",
      "metadata": {
        "id": "LC6DkjX8tYVZ",
        "colab_type": "code",
        "colab": {}
      },
      "source": [
        "#!pip install mxnet-cu100 d2lzh\n",
        "import d2lzh as d2l\n",
        "import mxnet as mx\n",
        "from mxnet import gluon,init,nd\n",
        "from mxnet.gluon import data as gdata,nn\n",
        "import os,sys"
      ],
      "execution_count": 0,
      "outputs": []
    },
    {
      "cell_type": "markdown",
      "metadata": {
        "id": "pF1SfKPAvyUk",
        "colab_type": "text"
      },
      "source": [
        "# GPU 狀態"
      ]
    },
    {
      "cell_type": "code",
      "metadata": {
        "id": "wjbhwGREvx5f",
        "colab_type": "code",
        "colab": {
          "base_uri": "https://localhost:8080/",
          "height": 323
        },
        "outputId": "feac8792-9133-4c81-8539-e8c2e50e32b8"
      },
      "source": [
        "!nvidia-smi"
      ],
      "execution_count": 2,
      "outputs": [
        {
          "output_type": "stream",
          "text": [
            "Wed Dec  4 07:13:48 2019       \n",
            "+-----------------------------------------------------------------------------+\n",
            "| NVIDIA-SMI 440.33.01    Driver Version: 418.67       CUDA Version: 10.1     |\n",
            "|-------------------------------+----------------------+----------------------+\n",
            "| GPU  Name        Persistence-M| Bus-Id        Disp.A | Volatile Uncorr. ECC |\n",
            "| Fan  Temp  Perf  Pwr:Usage/Cap|         Memory-Usage | GPU-Util  Compute M. |\n",
            "|===============================+======================+======================|\n",
            "|   0  Tesla K80           Off  | 00000000:00:04.0 Off |                    0 |\n",
            "| N/A   36C    P8    26W / 149W |      0MiB / 11441MiB |      0%      Default |\n",
            "+-------------------------------+----------------------+----------------------+\n",
            "                                                                               \n",
            "+-----------------------------------------------------------------------------+\n",
            "| Processes:                                                       GPU Memory |\n",
            "|  GPU       PID   Type   Process name                             Usage      |\n",
            "|=============================================================================|\n",
            "|  No running processes found                                                 |\n",
            "+-----------------------------------------------------------------------------+\n"
          ],
          "name": "stdout"
        }
      ]
    },
    {
      "cell_type": "markdown",
      "metadata": {
        "id": "oboxnr-5vq__",
        "colab_type": "text"
      },
      "source": [
        "# 建造Alexnet"
      ]
    },
    {
      "cell_type": "code",
      "metadata": {
        "id": "zuXsOXUatlZl",
        "colab_type": "code",
        "colab": {}
      },
      "source": [
        "net = nn.Sequential()\n",
        "# Conv => relu => pool\n",
        "net.add(nn.Conv2D(96,kernel_size=11,strides=4,activation='relu'))\n",
        "net.add(nn.MaxPool2D(pool_size=3,strides=2))\n",
        "# Conv => relu => pool\n",
        "net.add(nn.Conv2D(256,kernel_size=5,padding=2,activation='relu'))\n",
        "net.add(nn.MaxPool2D(pool_size=3,strides=2))\n",
        "# (Conv => relu) *3 => pool\n",
        "net.add(nn.Conv2D(384,kernel_size=3,padding=1,activation='relu'))\n",
        "net.add(nn.Conv2D(384,kernel_size=3,padding=1,activation='relu'))\n",
        "net.add(nn.Conv2D(256,kernel_size=3,padding=1,activation='relu'))\n",
        "net.add(nn.MaxPool2D(pool_size=3,strides=2))\n",
        "# (Dense 4096 => relu => Dropout 0.5) * 2\n",
        "net.add(nn.Dense(4096,activation=\"relu\"))\n",
        "net.add(nn.Dropout(0.5))\n",
        "net.add(nn.Dense(4096,activation=\"relu\"))\n",
        "net.add(nn.Dropout(0.5))\n",
        "# output 10\n",
        "net.add(nn.Dense(10))"
      ],
      "execution_count": 0,
      "outputs": []
    },
    {
      "cell_type": "code",
      "metadata": {
        "id": "NwgtGW5Nt4zX",
        "colab_type": "code",
        "colab": {
          "base_uri": "https://localhost:8080/",
          "height": 251
        },
        "outputId": "e9d3423f-5d96-4ab8-c4b3-d6436149a443"
      },
      "source": [
        "#觀察每一層輸出形狀\n",
        "X = nd.random.uniform(shape=(1,1,224,224))\n",
        "net.initialize()\n",
        "for layer in net:\n",
        "  X = layer(X)\n",
        "  print(layer.name,'output shape{}'.format(X.shape))"
      ],
      "execution_count": 4,
      "outputs": [
        {
          "output_type": "stream",
          "text": [
            "conv0 output shape(1, 96, 54, 54)\n",
            "pool0 output shape(1, 96, 26, 26)\n",
            "conv1 output shape(1, 256, 26, 26)\n",
            "pool1 output shape(1, 256, 12, 12)\n",
            "conv2 output shape(1, 384, 12, 12)\n",
            "conv3 output shape(1, 384, 12, 12)\n",
            "conv4 output shape(1, 256, 12, 12)\n",
            "pool2 output shape(1, 256, 5, 5)\n",
            "dense0 output shape(1, 4096)\n",
            "dropout0 output shape(1, 4096)\n",
            "dense1 output shape(1, 4096)\n",
            "dropout1 output shape(1, 4096)\n",
            "dense2 output shape(1, 10)\n"
          ],
          "name": "stdout"
        }
      ]
    },
    {
      "cell_type": "markdown",
      "metadata": {
        "id": "XFH-0l7Qwlh-",
        "colab_type": "text"
      },
      "source": [
        "# 讀取數據集\n"
      ]
    },
    {
      "cell_type": "code",
      "metadata": {
        "id": "1lLi1iG9wXE4",
        "colab_type": "code",
        "colab": {
          "base_uri": "https://localhost:8080/",
          "height": 89
        },
        "outputId": "84e31a80-defa-4075-d6c9-f3b4bd32effe"
      },
      "source": [
        "train_iter,test_iter = d2l.load_data_fashion_mnist(batch_size=128,resize=224)"
      ],
      "execution_count": 5,
      "outputs": [
        {
          "output_type": "stream",
          "text": [
            "Downloading /root/.mxnet/datasets/fashion-mnist/train-images-idx3-ubyte.gz from https://apache-mxnet.s3-accelerate.dualstack.amazonaws.com/gluon/dataset/fashion-mnist/train-images-idx3-ubyte.gz...\n",
            "Downloading /root/.mxnet/datasets/fashion-mnist/train-labels-idx1-ubyte.gz from https://apache-mxnet.s3-accelerate.dualstack.amazonaws.com/gluon/dataset/fashion-mnist/train-labels-idx1-ubyte.gz...\n",
            "Downloading /root/.mxnet/datasets/fashion-mnist/t10k-images-idx3-ubyte.gz from https://apache-mxnet.s3-accelerate.dualstack.amazonaws.com/gluon/dataset/fashion-mnist/t10k-images-idx3-ubyte.gz...\n",
            "Downloading /root/.mxnet/datasets/fashion-mnist/t10k-labels-idx1-ubyte.gz from https://apache-mxnet.s3-accelerate.dualstack.amazonaws.com/gluon/dataset/fashion-mnist/t10k-labels-idx1-ubyte.gz...\n"
          ],
          "name": "stdout"
        }
      ]
    },
    {
      "cell_type": "markdown",
      "metadata": {
        "id": "V2I2R3nyxGP5",
        "colab_type": "text"
      },
      "source": [
        "# 訓練模型"
      ]
    },
    {
      "cell_type": "code",
      "metadata": {
        "id": "__PkrvRCxBo1",
        "colab_type": "code",
        "colab": {}
      },
      "source": [
        "#初始化權重\n",
        "net.initialize(init=init.Xavier(),ctx=mx.gpu(),force_reinit=True)\n",
        "#梯度下降方法\n",
        "trainer = gluon.Trainer(net.collect_params(),'sgd',{'learning_rate':0.1})\n",
        "#定義loss\n",
        "loss = gluon.loss.SoftmaxCrossEntropyLoss()\n",
        "#開始訓練\n",
        "d2l.train(train_iter,test_iter,net,loss,trainer,ctx=mx.gpu(),num_epochs=10)"
      ],
      "execution_count": 0,
      "outputs": []
    },
    {
      "cell_type": "code",
      "metadata": {
        "id": "PUVCXtDyydnJ",
        "colab_type": "code",
        "colab": {}
      },
      "source": [
        ""
      ],
      "execution_count": 0,
      "outputs": []
    }
  ]
}