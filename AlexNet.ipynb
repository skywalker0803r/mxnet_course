{
  "nbformat": 4,
  "nbformat_minor": 0,
  "metadata": {
    "colab": {
      "name": "AlexNet.ipynb",
      "provenance": [],
      "include_colab_link": true
    },
    "kernelspec": {
      "name": "python3",
      "display_name": "Python 3"
    },
    "accelerator": "GPU"
  },
  "cells": [
    {
      "cell_type": "markdown",
      "metadata": {
        "id": "view-in-github",
        "colab_type": "text"
      },
      "source": [
        "<a href=\"https://colab.research.google.com/github/skywalker0803r/mxnet_course/blob/master/AlexNet.ipynb\" target=\"_parent\"><img src=\"https://colab.research.google.com/assets/colab-badge.svg\" alt=\"Open In Colab\"/></a>"
      ]
    },
    {
      "cell_type": "code",
      "metadata": {
        "id": "LC6DkjX8tYVZ",
        "colab_type": "code",
        "colab": {}
      },
      "source": [
        "#!pip install mxnet-cu100 d2lzh\n",
        "import d2lzh as d2l\n",
        "import mxnet as mx\n",
        "from mxnet import gluon,init,nd\n",
        "from mxnet.gluon import data as gdata,nn\n",
        "import os,sys"
      ],
      "execution_count": 0,
      "outputs": []
    },
    {
      "cell_type": "markdown",
      "metadata": {
        "id": "pF1SfKPAvyUk",
        "colab_type": "text"
      },
      "source": [
        "# GPU 狀態"
      ]
    },
    {
      "cell_type": "code",
      "metadata": {
        "id": "wjbhwGREvx5f",
        "colab_type": "code",
        "outputId": "d98f4101-c15d-4924-c237-a574f0fa0cc6",
        "colab": {
          "base_uri": "https://localhost:8080/",
          "height": 323
        }
      },
      "source": [
        "!nvidia-smi"
      ],
      "execution_count": 2,
      "outputs": [
        {
          "output_type": "stream",
          "text": [
            "Wed Dec  4 07:54:11 2019       \n",
            "+-----------------------------------------------------------------------------+\n",
            "| NVIDIA-SMI 440.33.01    Driver Version: 418.67       CUDA Version: 10.1     |\n",
            "|-------------------------------+----------------------+----------------------+\n",
            "| GPU  Name        Persistence-M| Bus-Id        Disp.A | Volatile Uncorr. ECC |\n",
            "| Fan  Temp  Perf  Pwr:Usage/Cap|         Memory-Usage | GPU-Util  Compute M. |\n",
            "|===============================+======================+======================|\n",
            "|   0  Tesla T4            Off  | 00000000:00:04.0 Off |                    0 |\n",
            "| N/A   53C    P8    10W /  70W |      0MiB / 15079MiB |      0%      Default |\n",
            "+-------------------------------+----------------------+----------------------+\n",
            "                                                                               \n",
            "+-----------------------------------------------------------------------------+\n",
            "| Processes:                                                       GPU Memory |\n",
            "|  GPU       PID   Type   Process name                             Usage      |\n",
            "|=============================================================================|\n",
            "|  No running processes found                                                 |\n",
            "+-----------------------------------------------------------------------------+\n"
          ],
          "name": "stdout"
        }
      ]
    },
    {
      "cell_type": "markdown",
      "metadata": {
        "id": "oboxnr-5vq__",
        "colab_type": "text"
      },
      "source": [
        "# 建造Alexnet"
      ]
    },
    {
      "cell_type": "code",
      "metadata": {
        "id": "zuXsOXUatlZl",
        "colab_type": "code",
        "colab": {}
      },
      "source": [
        "net = nn.Sequential()\n",
        "# Conv => relu => pool\n",
        "net.add(nn.Conv2D(96,kernel_size=11,strides=4,activation='relu'))\n",
        "net.add(nn.MaxPool2D(pool_size=3,strides=2))\n",
        "# Conv => relu => pool\n",
        "net.add(nn.Conv2D(256,kernel_size=5,padding=2,activation='relu'))\n",
        "net.add(nn.MaxPool2D(pool_size=3,strides=2))\n",
        "# (Conv => relu) *3 => pool\n",
        "net.add(nn.Conv2D(384,kernel_size=3,padding=1,activation='relu'))\n",
        "net.add(nn.Conv2D(384,kernel_size=3,padding=1,activation='relu'))\n",
        "net.add(nn.Conv2D(256,kernel_size=3,padding=1,activation='relu'))\n",
        "net.add(nn.MaxPool2D(pool_size=3,strides=2))\n",
        "# (Dense 4096 => relu => Dropout 0.5) * 2\n",
        "net.add(nn.Dense(4096,activation=\"relu\"))\n",
        "net.add(nn.Dropout(0.5))\n",
        "net.add(nn.Dense(4096,activation=\"relu\"))\n",
        "net.add(nn.Dropout(0.5))\n",
        "# output 10\n",
        "net.add(nn.Dense(10))"
      ],
      "execution_count": 0,
      "outputs": []
    },
    {
      "cell_type": "code",
      "metadata": {
        "id": "NwgtGW5Nt4zX",
        "colab_type": "code",
        "outputId": "c3128498-bbf7-426a-ed70-6e606c8b3812",
        "colab": {
          "base_uri": "https://localhost:8080/",
          "height": 251
        }
      },
      "source": [
        "#觀察每一層輸出形狀\n",
        "X = nd.random.uniform(shape=(1,1,224,224))\n",
        "net.initialize()\n",
        "for layer in net:\n",
        "  X = layer(X)\n",
        "  print(layer.name,'output shape{}'.format(X.shape))"
      ],
      "execution_count": 4,
      "outputs": [
        {
          "output_type": "stream",
          "text": [
            "conv0 output shape(1, 96, 54, 54)\n",
            "pool0 output shape(1, 96, 26, 26)\n",
            "conv1 output shape(1, 256, 26, 26)\n",
            "pool1 output shape(1, 256, 12, 12)\n",
            "conv2 output shape(1, 384, 12, 12)\n",
            "conv3 output shape(1, 384, 12, 12)\n",
            "conv4 output shape(1, 256, 12, 12)\n",
            "pool2 output shape(1, 256, 5, 5)\n",
            "dense0 output shape(1, 4096)\n",
            "dropout0 output shape(1, 4096)\n",
            "dense1 output shape(1, 4096)\n",
            "dropout1 output shape(1, 4096)\n",
            "dense2 output shape(1, 10)\n"
          ],
          "name": "stdout"
        }
      ]
    },
    {
      "cell_type": "markdown",
      "metadata": {
        "id": "XFH-0l7Qwlh-",
        "colab_type": "text"
      },
      "source": [
        "# 讀取數據集\n"
      ]
    },
    {
      "cell_type": "code",
      "metadata": {
        "id": "1lLi1iG9wXE4",
        "colab_type": "code",
        "outputId": "a6677eae-7cdd-4eeb-aa16-d9fad64bb0af",
        "colab": {
          "base_uri": "https://localhost:8080/",
          "height": 89
        }
      },
      "source": [
        "train_iter,test_iter = d2l.load_data_fashion_mnist(batch_size=128,resize=224)"
      ],
      "execution_count": 5,
      "outputs": [
        {
          "output_type": "stream",
          "text": [
            "Downloading /root/.mxnet/datasets/fashion-mnist/train-images-idx3-ubyte.gz from https://apache-mxnet.s3-accelerate.dualstack.amazonaws.com/gluon/dataset/fashion-mnist/train-images-idx3-ubyte.gz...\n",
            "Downloading /root/.mxnet/datasets/fashion-mnist/train-labels-idx1-ubyte.gz from https://apache-mxnet.s3-accelerate.dualstack.amazonaws.com/gluon/dataset/fashion-mnist/train-labels-idx1-ubyte.gz...\n",
            "Downloading /root/.mxnet/datasets/fashion-mnist/t10k-images-idx3-ubyte.gz from https://apache-mxnet.s3-accelerate.dualstack.amazonaws.com/gluon/dataset/fashion-mnist/t10k-images-idx3-ubyte.gz...\n",
            "Downloading /root/.mxnet/datasets/fashion-mnist/t10k-labels-idx1-ubyte.gz from https://apache-mxnet.s3-accelerate.dualstack.amazonaws.com/gluon/dataset/fashion-mnist/t10k-labels-idx1-ubyte.gz...\n"
          ],
          "name": "stdout"
        }
      ]
    },
    {
      "cell_type": "markdown",
      "metadata": {
        "id": "V2I2R3nyxGP5",
        "colab_type": "text"
      },
      "source": [
        "# 訓練模型"
      ]
    },
    {
      "cell_type": "code",
      "metadata": {
        "id": "__PkrvRCxBo1",
        "colab_type": "code",
        "colab": {
          "base_uri": "https://localhost:8080/",
          "height": 125
        },
        "outputId": "5a692761-c4f6-4395-c4fd-cfe69a7f9e13"
      },
      "source": [
        "#初始化權重\n",
        "net.initialize(init=init.Xavier(),ctx=mx.gpu(),force_reinit=True)\n",
        "#梯度下降方法\n",
        "trainer = gluon.Trainer(net.collect_params(),'sgd',{'learning_rate':0.1})\n",
        "#定義loss\n",
        "loss = gluon.loss.SoftmaxCrossEntropyLoss()\n",
        "#開始訓練\n",
        "d2l.train(train_iter,test_iter,net,loss,trainer,ctx=mx.gpu(),num_epochs=5)"
      ],
      "execution_count": 6,
      "outputs": [
        {
          "output_type": "stream",
          "text": [
            "training on gpu(0)\n",
            "epoch 1, loss 1.0478, train acc 0.615, test acc 0.827, time 50.9 sec\n",
            "epoch 2, loss 0.4126, train acc 0.848, test acc 0.867, time 49.4 sec\n",
            "epoch 3, loss 0.3376, train acc 0.875, test acc 0.896, time 49.3 sec\n",
            "epoch 4, loss 0.2940, train acc 0.891, test acc 0.902, time 49.5 sec\n",
            "epoch 5, loss 0.2680, train acc 0.901, test acc 0.900, time 49.3 sec\n"
          ],
          "name": "stdout"
        }
      ]
    },
    {
      "cell_type": "code",
      "metadata": {
        "id": "PUVCXtDyydnJ",
        "colab_type": "code",
        "colab": {}
      },
      "source": [
        ""
      ],
      "execution_count": 0,
      "outputs": []
    }
  ]
}