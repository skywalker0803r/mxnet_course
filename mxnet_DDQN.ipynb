{
  "nbformat": 4,
  "nbformat_minor": 0,
  "metadata": {
    "colab": {
      "name": "mxnet_dqn.ipynb",
      "provenance": [],
      "collapsed_sections": [],
      "include_colab_link": true
    },
    "kernelspec": {
      "name": "python3",
      "display_name": "Python 3"
    }
  },
  "cells": [
    {
      "cell_type": "markdown",
      "metadata": {
        "id": "view-in-github",
        "colab_type": "text"
      },
      "source": [
        "<a href=\"https://colab.research.google.com/github/skywalker0803r/mxnet_course/blob/master/mxnet_DDQN.ipynb\" target=\"_parent\"><img src=\"https://colab.research.google.com/assets/colab-badge.svg\" alt=\"Open In Colab\"/></a>"
      ]
    },
    {
      "cell_type": "code",
      "metadata": {
        "id": "RFBepfyUG8x1",
        "colab_type": "code",
        "colab": {}
      },
      "source": [
        "#!pip install mxnet\n",
        "import mxnet as mx\n",
        "import mxnet.ndarray as nd\n",
        "import mxnet.gluon as gluon\n",
        "from mxnet.gluon.loss import L2Loss\n",
        "import numpy as np\n",
        "from mxnet import init\n",
        "import mxnet.gluon.nn as nn\n",
        "import gym\n",
        "import matplotlib.pyplot as plt"
      ],
      "execution_count": 0,
      "outputs": []
    },
    {
      "cell_type": "markdown",
      "metadata": {
        "id": "EeauIatW2GBB",
        "colab_type": "text"
      },
      "source": [
        "# Hyper params"
      ]
    },
    {
      "cell_type": "code",
      "metadata": {
        "id": "Js1WdQzOzxMK",
        "colab_type": "code",
        "colab": {}
      },
      "source": [
        "BATCH_SIZE = 256          \n",
        "LR = 0.001                                                       \n",
        "EPSILON = 0.9                                                \n",
        "GAMMA = 0.9                             \n",
        "TARGET_REPLACE_ITER = 1000                          \n",
        "MEMORY_CAPACITY = 1000\n",
        "param_path = './param_path'\n",
        "l2loss = L2Loss(batch_axis=0)"
      ],
      "execution_count": 0,
      "outputs": []
    },
    {
      "cell_type": "markdown",
      "metadata": {
        "id": "vjVqpXrb2IVA",
        "colab_type": "text"
      },
      "source": [
        "# env"
      ]
    },
    {
      "cell_type": "code",
      "metadata": {
        "id": "zgM-jjAg0Mm7",
        "colab_type": "code",
        "colab": {}
      },
      "source": [
        "env = gym.make('CartPole-v0')                 \n",
        "N_ACTIONS=env.action_space.n                       \n",
        "N_STATES = env.observation_space.shape[0]    "
      ],
      "execution_count": 0,
      "outputs": []
    },
    {
      "cell_type": "markdown",
      "metadata": {
        "id": "VfFZuUf32Jkn",
        "colab_type": "text"
      },
      "source": [
        "# Q_net"
      ]
    },
    {
      "cell_type": "code",
      "metadata": {
        "id": "J1Ol2ir1M6Ty",
        "colab_type": "code",
        "colab": {}
      },
      "source": [
        "def build_Q_net(net,num_actions):\n",
        "  with net.name_scope():\n",
        "    net.add(nn.Dense(64,activation='relu'))\n",
        "    net.add(nn.Dense(64,activation='relu'))\n",
        "    net.add(nn.Dense(num_actions))\n",
        "  return net"
      ],
      "execution_count": 0,
      "outputs": []
    },
    {
      "cell_type": "code",
      "metadata": {
        "id": "v29u65XpNQrv",
        "colab_type": "code",
        "colab": {}
      },
      "source": [
        "state = nd.random.normal(shape=(1,4))"
      ],
      "execution_count": 0,
      "outputs": []
    },
    {
      "cell_type": "code",
      "metadata": {
        "id": "yDn8zU4666o5",
        "colab_type": "code",
        "outputId": "34cf82f2-364b-4afa-8e56-48ce6dee8de2",
        "colab": {
          "base_uri": "https://localhost:8080/",
          "height": 71
        }
      },
      "source": [
        "q = build_Q_net(nn.HybridSequential(),N_ACTIONS)\n",
        "q.initialize(init=init.Xavier(),force_reinit=True)\n",
        "q(state)"
      ],
      "execution_count": 6,
      "outputs": [
        {
          "output_type": "execute_result",
          "data": {
            "text/plain": [
              "\n",
              "[[-0.11593805 -0.02965571]]\n",
              "<NDArray 1x2 @cpu(0)>"
            ]
          },
          "metadata": {
            "tags": []
          },
          "execution_count": 6
        }
      ]
    },
    {
      "cell_type": "markdown",
      "metadata": {
        "id": "pXt_8Brv40VK",
        "colab_type": "text"
      },
      "source": [
        "# copy params"
      ]
    },
    {
      "cell_type": "code",
      "metadata": {
        "id": "xWROrpMOCuwA",
        "colab_type": "code",
        "colab": {
          "base_uri": "https://localhost:8080/",
          "height": 233
        },
        "outputId": "be8493a3-e113-444b-9090-f78abad00d95"
      },
      "source": [
        "q1 = build_Q_net(nn.HybridSequential(),N_ACTIONS)\n",
        "q1.initialize(init=init.Xavier())\n",
        "q2 = build_Q_net(nn.HybridSequential(),N_ACTIONS)\n",
        "q2.initialize(init=init.Xavier())\n",
        "\n",
        "# same\n",
        "print(q1(state))\n",
        "print(q2(state))\n",
        "\n",
        "# copy params\n",
        "q1.save_parameters(param_path)\n",
        "q2.load_parameters(param_path)\n",
        "\n",
        "# different\n",
        "print(q1(state))\n",
        "print(q2(state))"
      ],
      "execution_count": 7,
      "outputs": [
        {
          "output_type": "stream",
          "text": [
            "\n",
            "[[ 0.46952656 -0.50388855]]\n",
            "<NDArray 1x2 @cpu(0)>\n",
            "\n",
            "[[ 0.36828566 -0.42105114]]\n",
            "<NDArray 1x2 @cpu(0)>\n",
            "\n",
            "[[ 0.46952656 -0.50388855]]\n",
            "<NDArray 1x2 @cpu(0)>\n",
            "\n",
            "[[ 0.46952656 -0.50388855]]\n",
            "<NDArray 1x2 @cpu(0)>\n"
          ],
          "name": "stdout"
        }
      ]
    },
    {
      "cell_type": "markdown",
      "metadata": {
        "id": "D5phbbLiGZTw",
        "colab_type": "text"
      },
      "source": [
        "# memory"
      ]
    },
    {
      "cell_type": "code",
      "metadata": {
        "id": "Ho5du-EZGDao",
        "colab_type": "code",
        "colab": {
          "base_uri": "https://localhost:8080/",
          "height": 35
        },
        "outputId": "15d4be08-8c82-4dda-ac46-e8da177f964f"
      },
      "source": [
        "s = [1,1]\n",
        "r = 1\n",
        "a = 1\n",
        "d = 1\n",
        "s_ = [1,1]\n",
        "transition = np.hstack((s,[a,r,d],s_))\n",
        "transition"
      ],
      "execution_count": 8,
      "outputs": [
        {
          "output_type": "execute_result",
          "data": {
            "text/plain": [
              "array([1, 1, 1, 1, 1, 1, 1])"
            ]
          },
          "metadata": {
            "tags": []
          },
          "execution_count": 8
        }
      ]
    },
    {
      "cell_type": "markdown",
      "metadata": {
        "id": "vGiqYeS19N_0",
        "colab_type": "text"
      },
      "source": [
        "# class DQN"
      ]
    },
    {
      "cell_type": "code",
      "metadata": {
        "id": "yp4Us4jk7Kdj",
        "colab_type": "code",
        "colab": {}
      },
      "source": [
        "class DQN(object):\n",
        "  def __init__(self,N_ACTIONS):\n",
        "    # eval_net\n",
        "    self.eval_net = build_Q_net(nn.HybridSequential(),N_ACTIONS)\n",
        "    self.eval_net.initialize(init=init.Xavier()) # same with target_net\n",
        "    \n",
        "    # target_net\n",
        "    self.target_net = build_Q_net(nn.HybridSequential(),N_ACTIONS)\n",
        "    self.target_net.initialize(init=init.Xavier())# same with eval_net\n",
        "    \n",
        "    # init forward\n",
        "    random_x=nd.random_uniform(shape=(1,N_STATES))\n",
        "    _ = self.eval_net(random_x)\n",
        "    _ = self.target_net(random_x)\n",
        "\n",
        "    # init copy params\n",
        "    self.eval_net.save_parameters(param_path)\n",
        "    self.target_net.load_parameters(param_path)\n",
        "\n",
        "    # memory\n",
        "    self.memory_counter = 0\n",
        "    self.memory = np.zeros(shape=(MEMORY_CAPACITY, N_STATES*2 + 3)) # state,[action,reward ,done],next_state N_STATES*2 +3\n",
        "    \n",
        "    # trainer\n",
        "    self.trainer = gluon.Trainer(self.eval_net.collect_params(),'Adam',{'learning_rate':LR})\n",
        "\n",
        "    # record history\n",
        "    self.learn_step_counter = 0\n",
        "    self.cost_his=[]\n",
        "  \n",
        "  def choose_action(self,x):\n",
        "    # select best action\n",
        "    if np.random.uniform() < EPSILON:\n",
        "      x = nd.array([x])\n",
        "      action_value = self.eval_net(x)\n",
        "      action = nd.argmax(action_value,axis=1).asscalar()\n",
        "      return int(action)\n",
        "    # select random action\n",
        "    else:\n",
        "      return np.random.randint(0,N_ACTIONS)\n",
        "  \n",
        "  def store_transition(self,s,a,r,d,s_):\n",
        "    # add transition to memory\n",
        "    transition = np.hstack((s,[a,r,d],s_))\n",
        "    index = self.memory_counter % MEMORY_CAPACITY\n",
        "    self.memory[index,:] = transition\n",
        "    self.memory_counter += 1\n",
        "  \n",
        "  def learn(self):\n",
        "    # record how many times of eval_net update\n",
        "    self.learn_step_counter += 1\n",
        "\n",
        "    # update target_net every TARGET_REPLACE_ITER\n",
        "    if self.learn_step_counter % TARGET_REPLACE_ITER == 0:\n",
        "      print('copy params to target_net')\n",
        "      self.eval_net.save_parameters(param_path)\n",
        "      self.target_net.load_parameters(param_path)\n",
        "    \n",
        "    # from memory sample a mini_batch_data\n",
        "    sample_index = np.random.choice(MEMORY_CAPACITY,BATCH_SIZE)\n",
        "    b_memory = self.memory[sample_index,:]\n",
        "    b_s = nd.array(b_memory[:,:N_STATES])\n",
        "    b_a = nd.array(b_memory[:,N_STATES:N_STATES+1])\n",
        "    b_r = nd.array(b_memory[:,N_STATES+1:N_STATES+2])\n",
        "    b_r = nd.squeeze(b_r)\n",
        "    b_d = nd.array(b_memory[:,N_STATES+2:N_STATES+3])\n",
        "    b_d = nd.squeeze(b_d)\n",
        "    b_s_= nd.array(b_memory[:,-N_STATES:])\n",
        "    \n",
        "    # caculate gradient\n",
        "    with mx.autograd.record():\n",
        "      # 1.target_net input b_s_(next_state) output q_sp\n",
        "      Q_sp = nd.max(self.target_net(b_s_),axis=1) # the max next_q_value\n",
        "      Q_sp = Q_sp * (nd.ones(BATCH_SIZE) - b_d) # if is done not have Q_sp\n",
        "      # 2.eval_net input b_s(state) output q_s_array\n",
        "      Q_s_array = self.eval_net(b_s) # Q_s_array\n",
        "      Q_s = nd.pick(Q_s_array,b_a,1) # the choose action's q_value\n",
        "      # count l2_loss\n",
        "      loss = nd.mean(l2loss(Q_s,(b_r + GAMMA*Q_sp)))\n",
        "    \n",
        "    # loss backward and trainer step\n",
        "    loss.backward()\n",
        "    self.trainer.step(BATCH_SIZE)\n",
        "    \n",
        "    # record loss history\n",
        "    self.cost_his.append(nd.mean(loss).asscalar())\n",
        "  \n",
        "  def plot_cost(self):\n",
        "     plt.plot(np.arange(len(self.cost_his)), self.cost_his)\n",
        "     plt.ylabel('Cost')\n",
        "     plt.xlabel('training steps')\n",
        "     plt.show()"
      ],
      "execution_count": 0,
      "outputs": []
    },
    {
      "cell_type": "code",
      "metadata": {
        "id": "obZskD3E-Y6B",
        "colab_type": "code",
        "outputId": "5b283f9c-e9f5-4e8a-bcfb-a54bec596381",
        "colab": {
          "base_uri": "https://localhost:8080/",
          "height": 791
        }
      },
      "source": [
        "all_rewards = []\n",
        "avg_rewards = []\n",
        "dqn = DQN(N_ACTIONS)\n",
        "for episode in range(1000):\n",
        "  s = env.reset()\n",
        "  rewards = []\n",
        "  while True:\n",
        "    # choose action\n",
        "    a = dqn.choose_action(s)\n",
        "    # do action on env\n",
        "    s_ ,r ,done ,info = env.step(a)\n",
        "    # store\n",
        "    rewards.append(r) \n",
        "    dqn.store_transition(s,a,r,int(done),s_)\n",
        "    # if have collect a lot of memory can learn\n",
        "    if dqn.memory_counter > BATCH_SIZE:\n",
        "      dqn.learn()\n",
        "    # if env done\n",
        "    if done:\n",
        "      break\n",
        "    # if env not done\n",
        "    else:\n",
        "      s = s_\n",
        "  # record this episode infomation \n",
        "  all_rewards.append(np.sum(rewards))\n",
        "  avg_rewards.append(np.mean(all_rewards[-10:]))\n",
        "  if episode % 10 == 0:\n",
        "    print(episode,avg_rewards[-1:])\n",
        "  if (all_rewards[-1] >= 200)&(avg_rewards[-1] >= 150):\n",
        "    print(episode,all_rewards[-1],avg_rewards[-1])\n",
        "    break"
      ],
      "execution_count": 10,
      "outputs": [
        {
          "output_type": "stream",
          "text": [
            "0 [100.0]\n",
            "10 [32.3]\n",
            "20 [12.8]\n",
            "30 [12.2]\n",
            "40 [11.9]\n",
            "50 [17.6]\n",
            "60 [17.3]\n",
            "copy params to target_net\n",
            "70 [19.2]\n",
            "80 [18.9]\n",
            "90 [15.2]\n",
            "100 [16.6]\n",
            "110 [19.3]\n",
            "120 [16.6]\n",
            "copy params to target_net\n",
            "130 [14.3]\n",
            "140 [11.8]\n",
            "150 [11.5]\n",
            "160 [13.1]\n",
            "170 [11.5]\n",
            "180 [10.9]\n",
            "190 [11.5]\n",
            "200 [11.8]\n",
            "copy params to target_net\n",
            "210 [12.4]\n",
            "220 [29.1]\n",
            "230 [28.2]\n",
            "240 [30.4]\n",
            "copy params to target_net\n",
            "250 [45.2]\n",
            "260 [35.6]\n",
            "copy params to target_net\n",
            "270 [61.2]\n",
            "copy params to target_net\n",
            "280 [68.5]\n",
            "290 [74.2]\n",
            "copy params to target_net\n",
            "copy params to target_net\n",
            "300 [135.0]\n",
            "copy params to target_net\n",
            "310 [135.7]\n",
            "copy params to target_net\n",
            "316 200.0 165.2\n"
          ],
          "name": "stdout"
        }
      ]
    },
    {
      "cell_type": "code",
      "metadata": {
        "id": "fItQxcRAW5Fr",
        "colab_type": "code",
        "outputId": "f3be8968-2bf1-4926-cfad-b5d3e8a8b191",
        "colab": {
          "base_uri": "https://localhost:8080/",
          "height": 279
        }
      },
      "source": [
        "plt.plot(all_rewards)\n",
        "plt.plot(avg_rewards)\n",
        "plt.xlabel('Episode')\n",
        "plt.show()"
      ],
      "execution_count": 11,
      "outputs": [
        {
          "output_type": "display_data",
          "data": {
            "image/png": "[encoded data removed]",
            "text/plain": [
              "<Figure size 432x288 with 1 Axes>"
            ]
          },
          "metadata": {
            "tags": []
          }
        }
      ]
    },
    {
      "cell_type": "code",
      "metadata": {
        "id": "22u2-gySVN6i",
        "colab_type": "code",
        "colab": {}
      },
      "source": [
        "\n"
      ],
      "execution_count": 0,
      "outputs": []
    },
    {
      "cell_type": "code",
      "metadata": {
        "id": "wzdXTex6YTDg",
        "colab_type": "code",
        "colab": {}
      },
      "source": [
        ""
      ],
      "execution_count": 0,
      "outputs": []
    }
  ]
}