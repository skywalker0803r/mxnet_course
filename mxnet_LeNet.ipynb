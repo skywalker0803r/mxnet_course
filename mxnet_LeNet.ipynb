{
  "nbformat": 4,
  "nbformat_minor": 0,
  "metadata": {
    "colab": {
      "name": "mxnet_LeNet.ipynb",
      "provenance": [],
      "collapsed_sections": [],
      "include_colab_link": true
    },
    "kernelspec": {
      "name": "python3",
      "display_name": "Python 3"
    },
    "accelerator": "GPU"
  },
  "cells": [
    {
      "cell_type": "markdown",
      "metadata": {
        "id": "view-in-github",
        "colab_type": "text"
      },
      "source": [
        "<a href=\"https://colab.research.google.com/github/skywalker0803r/mxnet_course/blob/master/mxnet_LeNet.ipynb\" target=\"_parent\"><img src=\"https://colab.research.google.com/assets/colab-badge.svg\" alt=\"Open In Colab\"/></a>"
      ]
    },
    {
      "cell_type": "markdown",
      "metadata": {
        "id": "h86zO1QYz0YL",
        "colab_type": "text"
      },
      "source": [
        "看一下gpu是否正常work"
      ]
    },
    {
      "cell_type": "code",
      "metadata": {
        "id": "JnjANot6z72D",
        "colab_type": "code",
        "outputId": "18222385-bb20-4b9e-8512-58f376da9f0c",
        "colab": {
          "base_uri": "https://localhost:8080/",
          "height": 338
        }
      },
      "source": [
        "!nvidia-smi"
      ],
      "execution_count": 1,
      "outputs": [
        {
          "output_type": "stream",
          "text": [
            "Sat Nov 30 15:08:52 2019       \n",
            "+-----------------------------------------------------------------------------+\n",
            "| NVIDIA-SMI 440.33.01    Driver Version: 418.67       CUDA Version: 10.1     |\n",
            "|-------------------------------+----------------------+----------------------+\n",
            "| GPU  Name        Persistence-M| Bus-Id        Disp.A | Volatile Uncorr. ECC |\n",
            "| Fan  Temp  Perf  Pwr:Usage/Cap|         Memory-Usage | GPU-Util  Compute M. |\n",
            "|===============================+======================+======================|\n",
            "|   0  Tesla P100-PCIE...  Off  | 00000000:00:04.0 Off |                    0 |\n",
            "| N/A   34C    P0    28W / 250W |      0MiB / 16280MiB |      0%      Default |\n",
            "+-------------------------------+----------------------+----------------------+\n",
            "                                                                               \n",
            "+-----------------------------------------------------------------------------+\n",
            "| Processes:                                                       GPU Memory |\n",
            "|  GPU       PID   Type   Process name                             Usage      |\n",
            "|=============================================================================|\n",
            "|  No running processes found                                                 |\n",
            "+-----------------------------------------------------------------------------+\n"
          ],
          "name": "stdout"
        }
      ]
    },
    {
      "cell_type": "markdown",
      "metadata": {
        "id": "44_BOcaGz_3R",
        "colab_type": "text"
      },
      "source": [
        "安裝mxnet-cu100 d2lzh"
      ]
    },
    {
      "cell_type": "code",
      "metadata": {
        "id": "NYSzfRVk0AR6",
        "colab_type": "code",
        "colab": {}
      },
      "source": [
        "#!pip install mxnet-cu100 d2lzh"
      ],
      "execution_count": 0,
      "outputs": []
    },
    {
      "cell_type": "markdown",
      "metadata": {
        "id": "RQmfUTJY0h_D",
        "colab_type": "text"
      },
      "source": [
        "# Lenet model"
      ]
    },
    {
      "cell_type": "markdown",
      "metadata": {
        "id": "8sFEh0y40tGy",
        "colab_type": "text"
      },
      "source": [
        "![alt text](https://miro.medium.com/max/3800/1*tdLQdtGy8CopdIRWhqBLkw.png)"
      ]
    },
    {
      "cell_type": "code",
      "metadata": {
        "id": "0ZBcGYkiqUje",
        "colab_type": "code",
        "colab": {}
      },
      "source": [
        "import d2lzh as d2l\n",
        "from d2lzh import *\n",
        "import mxnet as mx\n",
        "from mxnet import autograd, gluon, init, nd\n",
        "from mxnet.gluon import loss as gloss, nn\n",
        "import time\n",
        "\n",
        "net = nn.Sequential()\n",
        "net.add(nn.Conv2D(channels=6, kernel_size=5, activation='sigmoid'),\n",
        "        nn.MaxPool2D(pool_size=2, strides=2),\n",
        "        nn.Conv2D(channels=16, kernel_size=5, activation='sigmoid'),\n",
        "        nn.MaxPool2D(pool_size=2, strides=2),\n",
        "        nn.Dense(120, activation='sigmoid'),\n",
        "        nn.Dense(84, activation='sigmoid'),\n",
        "        nn.Dense(10))"
      ],
      "execution_count": 0,
      "outputs": []
    },
    {
      "cell_type": "markdown",
      "metadata": {
        "id": "WdQ97Hl12z2I",
        "colab_type": "text"
      },
      "source": [
        "# check model layers shape"
      ]
    },
    {
      "cell_type": "code",
      "metadata": {
        "id": "X5Mv8ep508zS",
        "colab_type": "code",
        "colab": {
          "base_uri": "https://localhost:8080/",
          "height": 149
        },
        "outputId": "a35bdb9b-75d7-4c7b-ca85-c80567b97a5a"
      },
      "source": [
        "X = nd.random.uniform(shape=(1, 1, 32, 32))\n",
        "net.initialize()\n",
        "for layer in net:\n",
        "    X = layer(X)\n",
        "    print(layer.name, 'output shape:\\t', X.shape)"
      ],
      "execution_count": 4,
      "outputs": [
        {
          "output_type": "stream",
          "text": [
            "conv0 output shape:\t (1, 6, 28, 28)\n",
            "pool0 output shape:\t (1, 6, 14, 14)\n",
            "conv1 output shape:\t (1, 16, 10, 10)\n",
            "pool1 output shape:\t (1, 16, 5, 5)\n",
            "dense0 output shape:\t (1, 120)\n",
            "dense1 output shape:\t (1, 84)\n",
            "dense2 output shape:\t (1, 10)\n"
          ],
          "name": "stdout"
        }
      ]
    },
    {
      "cell_type": "markdown",
      "metadata": {
        "id": "FuC5GDpo1ltE",
        "colab_type": "text"
      },
      "source": [
        "# 获取数据和训练模型"
      ]
    },
    {
      "cell_type": "code",
      "metadata": {
        "id": "EQDXVU-x1Quw",
        "colab_type": "code",
        "colab": {}
      },
      "source": [
        "batch_size = 256\n",
        "train_iter, test_iter = d2l.load_data_fashion_mnist(batch_size=batch_size,resize=(32,32))"
      ],
      "execution_count": 0,
      "outputs": []
    },
    {
      "cell_type": "markdown",
      "metadata": {
        "id": "u6BPGAHA1_UX",
        "colab_type": "text"
      },
      "source": [
        "# set ctx"
      ]
    },
    {
      "cell_type": "code",
      "metadata": {
        "id": "2N5qMQ2J1rKz",
        "colab_type": "code",
        "colab": {}
      },
      "source": [
        "ctx = mx.gpu()"
      ],
      "execution_count": 0,
      "outputs": []
    },
    {
      "cell_type": "markdown",
      "metadata": {
        "id": "zjXrQg8x2Gc2",
        "colab_type": "text"
      },
      "source": [
        "# training"
      ]
    },
    {
      "cell_type": "code",
      "metadata": {
        "id": "hS3JuIYU2DB2",
        "colab_type": "code",
        "colab": {
          "base_uri": "https://localhost:8080/",
          "height": 130
        },
        "outputId": "439a8144-ef99-452d-bcfc-d8f89c705c0f"
      },
      "source": [
        "lr, num_epochs = 0.9, 5\n",
        "net.initialize(force_reinit=True ,ctx=ctx ,init=init.Xavier())\n",
        "trainer = gluon.Trainer(net.collect_params(), 'sgd', {'learning_rate': lr})\n",
        "train_ch5(net, train_iter, test_iter, batch_size, trainer, ctx, num_epochs)"
      ],
      "execution_count": 7,
      "outputs": [
        {
          "output_type": "stream",
          "text": [
            "training on gpu(0)\n",
            "epoch 1, loss 2.3194, train acc 0.098, test acc 0.154, time 6.0 sec\n",
            "epoch 2, loss 1.6970, train acc 0.344, test acc 0.658, time 5.8 sec\n",
            "epoch 3, loss 0.8856, train acc 0.652, test acc 0.708, time 6.0 sec\n",
            "epoch 4, loss 0.7118, train acc 0.720, test acc 0.730, time 6.3 sec\n",
            "epoch 5, loss 0.6353, train acc 0.749, test acc 0.774, time 6.2 sec\n"
          ],
          "name": "stdout"
        }
      ]
    },
    {
      "cell_type": "code",
      "metadata": {
        "id": "FRWmx_tO2Nkg",
        "colab_type": "code",
        "colab": {}
      },
      "source": [
        ""
      ],
      "execution_count": 0,
      "outputs": []
    }
  ]
}