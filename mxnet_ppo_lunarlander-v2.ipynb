{
  "nbformat": 4,
  "nbformat_minor": 0,
  "metadata": {
    "colab": {
      "name": "mxnet_ppo_test.ipynb",
      "provenance": [],
      "collapsed_sections": [],
      "include_colab_link": true
    },
    "kernelspec": {
      "name": "python3",
      "display_name": "Python 3"
    }
  },
  "cells": [
    {
      "cell_type": "markdown",
      "metadata": {
        "id": "view-in-github",
        "colab_type": "text"
      },
      "source": [
        "<a href=\"https://colab.research.google.com/github/skywalker0803r/mxnet_course/blob/master/mxnet_ppo_lunarlander-v2.ipynb\" target=\"_parent\"><img src=\"https://colab.research.google.com/assets/colab-badge.svg\" alt=\"Open In Colab\"/></a>"
      ]
    },
    {
      "cell_type": "code",
      "metadata": {
        "id": "9FiaX_ohLvWD",
        "colab_type": "code",
        "colab": {}
      },
      "source": [
        "#!pip install mxnet\n",
        "import numpy as np \n",
        "import mxnet as mx \n",
        "from mxnet import gluon, autograd, nd\n",
        "import mxnet.ndarray as F\n",
        "from mxnet.gluon import nn\n",
        "from mxnet.gluon.loss import L2Loss\n",
        "import gym\n",
        "from mxnet import init\n",
        "import matplotlib.pyplot as plt"
      ],
      "execution_count": 0,
      "outputs": []
    },
    {
      "cell_type": "markdown",
      "metadata": {
        "id": "NET-eqwPgkq_",
        "colab_type": "text"
      },
      "source": [
        "# some function"
      ]
    },
    {
      "cell_type": "code",
      "metadata": {
        "id": "uakkFrEad24J",
        "colab_type": "code",
        "colab": {}
      },
      "source": [
        "def nd_entropy(probs):\n",
        "  return -nd.sum(probs*nd.log(probs+1e-8),axis=1)"
      ],
      "execution_count": 0,
      "outputs": []
    },
    {
      "cell_type": "markdown",
      "metadata": {
        "id": "6LIRe6hjgmjV",
        "colab_type": "text"
      },
      "source": [
        "# memory"
      ]
    },
    {
      "cell_type": "code",
      "metadata": {
        "id": "Y6KC6RytdufZ",
        "colab_type": "code",
        "colab": {}
      },
      "source": [
        "class Memory:\n",
        "  def __init__(self):\n",
        "    self.actions = []\n",
        "    self.states = []\n",
        "    self.logprobs = []\n",
        "    self.rewards = []\n",
        "    self.is_terminals = []\n",
        "  def clear_memory(self):\n",
        "    del self.actions[:]\n",
        "    del self.states[:]\n",
        "    del self.logprobs[:]\n",
        "    del self.rewards[:]\n",
        "    del self.is_terminals[:]"
      ],
      "execution_count": 0,
      "outputs": []
    },
    {
      "cell_type": "markdown",
      "metadata": {
        "id": "Npwuiud-gn71",
        "colab_type": "text"
      },
      "source": [
        "# model"
      ]
    },
    {
      "cell_type": "code",
      "metadata": {
        "id": "yFy1rzTIL5is",
        "colab_type": "code",
        "colab": {}
      },
      "source": [
        "class ActorCritic_Discrete(gluon.Block):\n",
        "  def __init__(self,action_dim):\n",
        "    super(ActorCritic_Discrete, self).__init__()\n",
        "    self.action_dim = action_dim\n",
        "    with self.name_scope():\n",
        "      self.probs = nn.Sequential()\n",
        "      self.probs.add(nn.Dense(64,activation='relu'))\n",
        "      self.probs.add(nn.Dense(64,activation='relu'))\n",
        "      self.probs.add(nn.Dense(64,activation='relu'))\n",
        "      self.probs.add(nn.Dense(action_dim))\n",
        "      \n",
        "      self.value = nn.Sequential()\n",
        "      self.value.add(nn.Dense(64,activation='relu'))\n",
        "      self.value.add(nn.Dense(64,activation='relu'))\n",
        "      self.value.add(nn.Dense(64,activation='relu'))\n",
        "      self.value.add(nn.Dense(1))       \n",
        "  \n",
        "  def choose_action(self, state, memory):\n",
        "    state = nd.array(state)\n",
        "    probs = nd.softmax(self.probs(state))\n",
        "    action, log_prob = nd.sample_multinomial(probs, get_prob = True)\n",
        "    memory.states.append(list(nd.squeeze(state).asnumpy())) \n",
        "    memory.actions.append(action.asnumpy()[0])\n",
        "    memory.logprobs.append(log_prob.asnumpy()[0])\n",
        "    return action.asnumpy()[0]\n",
        "  \n",
        "  def evaluate(self, state, action):\n",
        "    state = nd.array(state)\n",
        "    action = nd.array(action)\n",
        "    probs = nd.softmax(self.probs(state))\n",
        "    action_logprobs = nd.pick(probs.log(),action,axis=1)\n",
        "    state_value = self.value(state)\n",
        "    return action_logprobs, nd.squeeze(state_value), nd_entropy(probs) "
      ],
      "execution_count": 0,
      "outputs": []
    },
    {
      "cell_type": "markdown",
      "metadata": {
        "id": "QxNAy1W-g5gm",
        "colab_type": "text"
      },
      "source": [
        "# ppo"
      ]
    },
    {
      "cell_type": "code",
      "metadata": {
        "id": "AjBVLp_6YhaR",
        "colab_type": "code",
        "colab": {}
      },
      "source": [
        "class PPO_Discrete(object):\n",
        "  def __init__(self, action_dim, lr, gamma):\n",
        "    \n",
        "    # initialize policy\n",
        "    self.policy = ActorCritic_Discrete(action_dim)\n",
        "    self.policy.probs.initialize(init=init.Xavier())\n",
        "    self.policy.value.initialize(init=init.Xavier())\n",
        "    \n",
        "    # initialize old policy\n",
        "    self.policy_old = ActorCritic_Discrete(action_dim)\n",
        "    self.policy_old.probs.initialize(init=init.Xavier())\n",
        "    self.policy_old.value.initialize(init=init.Xavier())\n",
        "\n",
        "    # initialize forward 4 net\n",
        "    random_x = nd.random_uniform(shape=(1,state_dim))\n",
        "    _ = self.policy.probs(random_x)\n",
        "    _ = self.policy.value(random_x)\n",
        "    _ = self.policy_old.probs(random_x)\n",
        "    _ = self.policy_old.value(random_x)\n",
        "    \n",
        "    # Copy policy params to old policy:\n",
        "    self.policy.probs.save_parameters(\"temp_probs.params\")\n",
        "    self.policy.value.save_parameters(\"temp_value.params\")\n",
        "    self.policy_old.probs.load_parameters(\"temp_probs.params\")\n",
        "    self.policy_old.value.load_parameters(\"temp_value.params\")\n",
        "    print('initialize copy params to old policy')\n",
        "    \n",
        "    self.lr = lr\n",
        "    self.gamma = gamma\n",
        "    self.trainer = gluon.Trainer(self.policy.collect_params(),'adam',{'learning_rate':self.lr})\n",
        "\n",
        "  def update(self, memory): \n",
        "    \n",
        "    # Monte Carlo estimate of state rewards:\n",
        "    rewards = []\n",
        "    discounted_reward = 0\n",
        "    for reward, is_terminal in zip(reversed(memory.rewards), reversed(memory.is_terminals)):\n",
        "      if is_terminal:\n",
        "        discounted_reward = 0\n",
        "      discounted_reward = reward + (self.gamma * discounted_reward)\n",
        "      rewards.insert(0, discounted_reward)\n",
        "    \n",
        "    # Normalizing the rewards:\n",
        "    rewards = np.array(rewards)\n",
        "    rewards = (rewards - rewards.mean()) / (rewards.std() + 1e-5)\n",
        "    \n",
        "    # sample batch data from memory\n",
        "    old_states = memory.states\n",
        "    old_actions = memory.actions\n",
        "    old_logprobs = memory.logprobs\n",
        "\n",
        "    # to ndarray\n",
        "    rewards = nd.array(rewards)\n",
        "    old_logprobs = nd.array(old_logprobs)\n",
        "\n",
        "    # Optimize policy for 4 epochs:\n",
        "    for _ in range(4):\n",
        "      with autograd.record():    \n",
        "        logprobs, state_values, dist_entropy = self.policy.evaluate(old_states, old_actions)\n",
        "        ratios = nd.exp(logprobs - old_logprobs)\n",
        "        advantages = rewards - state_values\n",
        "        surr1 = ratios * advantages\n",
        "        surr2 = nd.clip(ratios, 0.8, 1.2)*advantages\n",
        "        loss = -nd.minimum(surr1,surr2) + 0.5*(advantages)**2 - 0.01*dist_entropy\n",
        "        loss = nd.mean(loss)\n",
        "      # loss backward and trainer step\n",
        "      loss.backward()\n",
        "      self.trainer.step(1)\n",
        "    \n",
        "    # Copy policy params to old policy:\n",
        "    self.policy.probs.save_parameters(\"temp_probs.params\")\n",
        "    self.policy.value.save_parameters(\"temp_value.params\")\n",
        "    self.policy_old.probs.load_parameters(\"temp_probs.params\")\n",
        "    self.policy_old.value.load_parameters(\"temp_value.params\")\n",
        "    print('copy params to old policy')"
      ],
      "execution_count": 0,
      "outputs": []
    },
    {
      "cell_type": "markdown",
      "metadata": {
        "id": "E2gVFfDErj2r",
        "colab_type": "text"
      },
      "source": [
        "# env and params"
      ]
    },
    {
      "cell_type": "code",
      "metadata": {
        "id": "obr88nc6d-9i",
        "colab_type": "code",
        "colab": {}
      },
      "source": [
        "#!pip install box2d-py"
      ],
      "execution_count": 0,
      "outputs": []
    },
    {
      "cell_type": "code",
      "metadata": {
        "id": "JDpJoQBAfU0b",
        "colab_type": "code",
        "colab": {}
      },
      "source": [
        "env_name = \"LunarLander-v2\"\n",
        "env = gym.make(env_name)\n",
        "state_dim = env.observation_space.shape[0]\n",
        "action_dim = env.action_space.n\n",
        "solved_reward = 200         # stop training if avg_reward > solved_reward\n",
        "log_interval = 20           # print avg reward in the interval\n",
        "max_episodes = 50000        # max training episodes\n",
        "max_timesteps = 300         # max timesteps in one episode\n",
        "update_timestep = 2000      # update policy every n timesteps\n",
        "lr = 0.002\n",
        "gamma = 0.99                # discount factor"
      ],
      "execution_count": 0,
      "outputs": []
    },
    {
      "cell_type": "markdown",
      "metadata": {
        "id": "oNlWFrt0qOOH",
        "colab_type": "text"
      },
      "source": [
        "# main"
      ]
    },
    {
      "cell_type": "code",
      "metadata": {
        "id": "hgMq9T-lEkXq",
        "colab_type": "code",
        "outputId": "ac90ed8d-605a-4552-e448-5e6125330128",
        "colab": {
          "base_uri": "https://localhost:8080/",
          "height": 34
        }
      },
      "source": [
        "memory = Memory()\n",
        "ppo = PPO_Discrete(action_dim,lr=0.001,gamma=0.99)"
      ],
      "execution_count": 8,
      "outputs": [
        {
          "output_type": "stream",
          "text": [
            "initialize copy params to old policy\n"
          ],
          "name": "stdout"
        }
      ]
    },
    {
      "cell_type": "code",
      "metadata": {
        "id": "3Y0fjmcimvg1",
        "colab_type": "code",
        "outputId": "55c6759d-9567-4bd7-e708-ce81f90ca227",
        "colab": {
          "base_uri": "https://localhost:8080/",
          "height": 1000
        }
      },
      "source": [
        "all_rewards = []\n",
        "avg_rewards = []\n",
        "time_step = 0    \n",
        "\n",
        "# run 50000 episode\n",
        "for i_episode in range(max_episodes):\n",
        "  # reset env and R(total_reward)\n",
        "  state = env.reset()\n",
        "  R = 0\n",
        "  # game start \n",
        "  for t in range(max_timesteps):\n",
        "    time_step +=1\n",
        "    # transform state to nd_array\n",
        "    state = nd.array(np.expand_dims(state, 0))\n",
        "    # choose action\n",
        "    action = ppo.policy_old.choose_action(state, memory)\n",
        "    # do action on env\n",
        "    state, reward, done, _ = env.step(action)\n",
        "    \n",
        "    # append to memory\n",
        "    R += reward\n",
        "    memory.rewards.append(reward)\n",
        "    memory.is_terminals.append(done)\n",
        "    \n",
        "    # every update_timestep ppo learn\n",
        "    if time_step % update_timestep == 0:\n",
        "      ppo.update(memory)\n",
        "      memory.clear_memory()\n",
        "      time_step = 0\n",
        "    \n",
        "    # game over\n",
        "    if done:\n",
        "      break            \n",
        "  \n",
        "  # every episode record R\n",
        "  all_rewards.append(R)\n",
        "  avg_rewards.append(np.mean(all_rewards[-20:]))\n",
        "  \n",
        "  # if solved!\n",
        "  if (all_rewards[-1] >= solved_reward)&(avg_rewards[-1] >= solved_reward*0.9):\n",
        "    print(\"########## Solved! ##########\")\n",
        "    print(i_episode,all_rewards[-1],avg_rewards[-1])\n",
        "    break\n",
        "  \n",
        "  # print infomation\n",
        "  if i_episode % log_interval == 0:\n",
        "    print(i_episode,avg_rewards[-1])"
      ],
      "execution_count": 9,
      "outputs": [
        {
          "output_type": "stream",
          "text": [
            "0 -366.2525621862741\n",
            "20 -195.18966624749888\n",
            "copy params to old policy\n",
            "40 -170.09886888417105\n",
            "copy params to old policy\n",
            "60 -147.45566287692998\n",
            "copy params to old policy\n",
            "80 -157.30789764110796\n",
            "copy params to old policy\n",
            "100 -156.81572798974437\n",
            "copy params to old policy\n",
            "120 -157.06864624312112\n",
            "copy params to old policy\n",
            "140 -134.73091970344313\n",
            "copy params to old policy\n",
            "160 -117.42445366828277\n",
            "180 -106.65086888358269\n",
            "copy params to old policy\n",
            "200 -108.54087362746013\n",
            "copy params to old policy\n",
            "220 -128.0439613674883\n",
            "copy params to old policy\n",
            "240 -126.32195430801843\n",
            "copy params to old policy\n",
            "260 -106.84009733270291\n",
            "copy params to old policy\n",
            "280 -118.51429764073882\n",
            "copy params to old policy\n",
            "300 -117.75476145680143\n",
            "copy params to old policy\n",
            "320 -95.99123377636461\n",
            "copy params to old policy\n",
            "340 -90.4985236759626\n",
            "copy params to old policy\n",
            "360 -80.71354676117645\n",
            "copy params to old policy\n",
            "380 -121.33168555563529\n",
            "copy params to old policy\n",
            "400 -108.85206838306677\n",
            "copy params to old policy\n",
            "420 -85.52837733857103\n",
            "copy params to old policy\n",
            "440 -88.91846799296613\n",
            "copy params to old policy\n",
            "460 -105.46816316438287\n",
            "copy params to old policy\n",
            "480 -87.56474833809376\n",
            "copy params to old policy\n",
            "copy params to old policy\n",
            "500 -83.50519486624596\n",
            "copy params to old policy\n",
            "520 -68.10689141732429\n",
            "copy params to old policy\n",
            "copy params to old policy\n",
            "540 -47.13096916334409\n",
            "copy params to old policy\n",
            "560 -50.84582660520407\n",
            "copy params to old policy\n",
            "copy params to old policy\n",
            "580 -41.82504021742943\n",
            "copy params to old policy\n",
            "copy params to old policy\n",
            "copy params to old policy\n",
            "600 4.907144188353863\n",
            "copy params to old policy\n",
            "copy params to old policy\n",
            "620 13.088976585549307\n",
            "copy params to old policy\n",
            "copy params to old policy\n",
            "640 7.464323988932942\n",
            "copy params to old policy\n",
            "copy params to old policy\n",
            "660 27.272040305882946\n",
            "copy params to old policy\n",
            "copy params to old policy\n",
            "copy params to old policy\n",
            "680 52.20704255086436\n",
            "copy params to old policy\n",
            "copy params to old policy\n",
            "copy params to old policy\n",
            "700 67.378024867471\n",
            "copy params to old policy\n",
            "copy params to old policy\n",
            "720 75.88930133608639\n",
            "copy params to old policy\n",
            "copy params to old policy\n",
            "740 53.4019494932269\n",
            "copy params to old policy\n",
            "copy params to old policy\n",
            "copy params to old policy\n",
            "760 81.53692860516428\n",
            "copy params to old policy\n",
            "copy params to old policy\n",
            "copy params to old policy\n",
            "780 95.69526561083141\n",
            "copy params to old policy\n",
            "copy params to old policy\n",
            "800 50.35224682893475\n",
            "copy params to old policy\n",
            "copy params to old policy\n",
            "820 58.165443104702135\n",
            "copy params to old policy\n",
            "copy params to old policy\n",
            "copy params to old policy\n",
            "840 66.76961986042699\n",
            "copy params to old policy\n",
            "copy params to old policy\n",
            "copy params to old policy\n",
            "860 102.92328454381845\n",
            "copy params to old policy\n",
            "copy params to old policy\n",
            "copy params to old policy\n",
            "880 86.2998415008142\n",
            "copy params to old policy\n",
            "copy params to old policy\n",
            "copy params to old policy\n",
            "900 84.21071910234227\n",
            "copy params to old policy\n",
            "copy params to old policy\n",
            "copy params to old policy\n",
            "920 62.627321728269365\n",
            "copy params to old policy\n",
            "copy params to old policy\n",
            "copy params to old policy\n",
            "940 109.03477389359414\n",
            "copy params to old policy\n",
            "copy params to old policy\n",
            "copy params to old policy\n",
            "960 106.97245760361336\n",
            "copy params to old policy\n",
            "copy params to old policy\n",
            "980 127.63301256955285\n",
            "copy params to old policy\n",
            "copy params to old policy\n",
            "copy params to old policy\n",
            "1000 107.79731854801238\n",
            "copy params to old policy\n",
            "copy params to old policy\n",
            "copy params to old policy\n",
            "1020 133.15515754711768\n",
            "copy params to old policy\n",
            "copy params to old policy\n",
            "copy params to old policy\n",
            "1040 119.39990786324461\n",
            "copy params to old policy\n",
            "copy params to old policy\n",
            "1060 105.30227754585894\n",
            "copy params to old policy\n",
            "copy params to old policy\n",
            "copy params to old policy\n",
            "1080 103.82569766195427\n",
            "copy params to old policy\n",
            "copy params to old policy\n",
            "copy params to old policy\n",
            "1100 109.12769066808846\n",
            "copy params to old policy\n",
            "copy params to old policy\n",
            "1120 101.60538916424181\n",
            "copy params to old policy\n",
            "copy params to old policy\n",
            "copy params to old policy\n",
            "1140 104.87725301576063\n",
            "copy params to old policy\n",
            "copy params to old policy\n",
            "copy params to old policy\n",
            "1160 138.43386294397115\n",
            "copy params to old policy\n",
            "copy params to old policy\n",
            "copy params to old policy\n",
            "1180 157.72909784174345\n",
            "copy params to old policy\n",
            "copy params to old policy\n",
            "copy params to old policy\n",
            "1200 178.10139166368197\n",
            "########## Solved! ##########\n",
            "1204 290.2452440672386 180.39743314588424\n"
          ],
          "name": "stdout"
        }
      ]
    },
    {
      "cell_type": "markdown",
      "metadata": {
        "id": "tkHdkPFtUZOp",
        "colab_type": "text"
      },
      "source": [
        "# plot"
      ]
    },
    {
      "cell_type": "code",
      "metadata": {
        "id": "Wm8DVdTB2Lmy",
        "colab_type": "code",
        "outputId": "d9eab4b4-2597-44fa-c6ee-f406f22543b8",
        "colab": {
          "base_uri": "https://localhost:8080/",
          "height": 279
        }
      },
      "source": [
        "plt.plot(all_rewards)\n",
        "plt.plot(avg_rewards)\n",
        "plt.xlabel('episode')\n",
        "plt.show()"
      ],
      "execution_count": 10,
      "outputs": [
        {
          "output_type": "display_data",
          "data": {
            "image/png": "[encoded data removed]",
            "text/plain": [
              "<Figure size 432x288 with 1 Axes>"
            ]
          },
          "metadata": {
            "tags": []
          }
        }
      ]
    },
    {
      "cell_type": "markdown",
      "metadata": {
        "id": "VKpVyJNrhev_",
        "colab_type": "text"
      },
      "source": [
        "# test"
      ]
    },
    {
      "cell_type": "code",
      "metadata": {
        "id": "lWl3S8NAhe6j",
        "colab_type": "code",
        "colab": {
          "base_uri": "https://localhost:8080/",
          "height": 185
        },
        "outputId": "501e75f4-fbb3-4c47-f45f-b078da31bb93"
      },
      "source": [
        "for i_episode in range(10):\n",
        "  state = env.reset()\n",
        "  R = 0\n",
        "  for t in range(1000):\n",
        "    state = nd.array(np.expand_dims(state, 0))\n",
        "    action = ppo.policy_old.choose_action(state, memory)\n",
        "    state, reward, done, _ = env.step(action)\n",
        "    R += reward\n",
        "    if done:\n",
        "      break            \n",
        "  print(i_episode,R)"
      ],
      "execution_count": 11,
      "outputs": [
        {
          "output_type": "stream",
          "text": [
            "0 238.35654848244386\n",
            "1 237.83271118369947\n",
            "2 238.39163854443348\n",
            "3 265.74826492192176\n",
            "4 305.79812009942265\n",
            "5 66.93421217443262\n",
            "6 223.20954969688802\n",
            "7 264.4166658820544\n",
            "8 286.6863565646854\n",
            "9 21.416109780089286\n"
          ],
          "name": "stdout"
        }
      ]
    },
    {
      "cell_type": "code",
      "metadata": {
        "id": "-lNsvJstUo7l",
        "colab_type": "code",
        "colab": {}
      },
      "source": [
        ""
      ],
      "execution_count": 0,
      "outputs": []
    }
  ]
}