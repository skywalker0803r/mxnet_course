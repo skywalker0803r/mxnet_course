{
  "nbformat": 4,
  "nbformat_minor": 0,
  "metadata": {
    "colab": {
      "name": "mxnet-mlp.ipynb",
      "provenance": [],
      "include_colab_link": true
    },
    "kernelspec": {
      "name": "python3",
      "display_name": "Python 3"
    }
  },
  "cells": [
    {
      "cell_type": "markdown",
      "metadata": {
        "id": "view-in-github",
        "colab_type": "text"
      },
      "source": [
        "<a href=\"https://colab.research.google.com/github/skywalker0803r/mxnet_course/blob/master/mxnet_mlp.ipynb\" target=\"_parent\"><img src=\"https://colab.research.google.com/assets/colab-badge.svg\" alt=\"Open In Colab\"/></a>"
      ]
    },
    {
      "cell_type": "code",
      "metadata": {
        "id": "0znOFdC1L034",
        "colab_type": "code",
        "colab": {}
      },
      "source": [
        "#!pip install mxnet d2lzh\n",
        "%matplotlib inline\n",
        "import d2lzh as d2l\n",
        "from mxnet import nd\n",
        "from mxnet.gluon import loss as gloss"
      ],
      "execution_count": 0,
      "outputs": []
    },
    {
      "cell_type": "markdown",
      "metadata": {
        "id": "G3r4V4lkMOOm",
        "colab_type": "text"
      },
      "source": [
        "# load data"
      ]
    },
    {
      "cell_type": "code",
      "metadata": {
        "id": "NxfVLejYMDJO",
        "colab_type": "code",
        "colab": {}
      },
      "source": [
        "batch_size = 256\n",
        "train_iter, test_iter = d2l.load_data_fashion_mnist(batch_size)"
      ],
      "execution_count": 0,
      "outputs": []
    },
    {
      "cell_type": "markdown",
      "metadata": {
        "id": "4kt7_Z_BMS4J",
        "colab_type": "text"
      },
      "source": [
        "# define model's params"
      ]
    },
    {
      "cell_type": "code",
      "metadata": {
        "id": "moKq7yBtMSBc",
        "colab_type": "code",
        "colab": {}
      },
      "source": [
        "num_inputs, num_outputs, num_hiddens = 784, 10, 256\n",
        "\n",
        "W1 = nd.random.normal(loc=0 ,scale=0.01, shape=(num_inputs, num_hiddens))\n",
        "b1 = nd.zeros(num_hiddens)\n",
        "\n",
        "W2 = nd.random.normal(loc=0 ,scale=0.01, shape=(num_hiddens, num_outputs))\n",
        "b2 = nd.zeros(num_outputs)\n",
        "\n",
        "params = [W1, b1, W2, b2]\n",
        "\n",
        "for param in params:\n",
        "    param.attach_grad()"
      ],
      "execution_count": 0,
      "outputs": []
    },
    {
      "cell_type": "markdown",
      "metadata": {
        "id": "-CxQFov1MdaR",
        "colab_type": "text"
      },
      "source": [
        "# activate function"
      ]
    },
    {
      "cell_type": "code",
      "metadata": {
        "id": "oBqgju5TMbcn",
        "colab_type": "code",
        "colab": {}
      },
      "source": [
        "def relu(X):\n",
        "  return nd.maximum(X, 0)"
      ],
      "execution_count": 0,
      "outputs": []
    },
    {
      "cell_type": "markdown",
      "metadata": {
        "id": "GA4fpa6eMmLo",
        "colab_type": "text"
      },
      "source": [
        "# define model"
      ]
    },
    {
      "cell_type": "code",
      "metadata": {
        "id": "R_I2r4OqMkKp",
        "colab_type": "code",
        "colab": {}
      },
      "source": [
        "def net(X):\n",
        "  X = X.reshape((-1, num_inputs))\n",
        "  H = relu(nd.dot(X, W1) + b1)\n",
        "  return nd.dot(H, W2) + b2"
      ],
      "execution_count": 0,
      "outputs": []
    },
    {
      "cell_type": "markdown",
      "metadata": {
        "id": "dqC771rXMvIe",
        "colab_type": "text"
      },
      "source": [
        "# define loss"
      ]
    },
    {
      "cell_type": "code",
      "metadata": {
        "id": "VEn_1fMhMsV_",
        "colab_type": "code",
        "colab": {}
      },
      "source": [
        "loss = gloss.SoftmaxCrossEntropyLoss()"
      ],
      "execution_count": 0,
      "outputs": []
    },
    {
      "cell_type": "markdown",
      "metadata": {
        "id": "QBicd-XpMzjr",
        "colab_type": "text"
      },
      "source": [
        "# training"
      ]
    },
    {
      "cell_type": "code",
      "metadata": {
        "id": "_zTsDwa-MxZ8",
        "colab_type": "code",
        "colab": {
          "base_uri": "https://localhost:8080/",
          "height": 197
        },
        "outputId": "6a55513b-3eaa-4637-a2bd-33213194e570"
      },
      "source": [
        "num_epochs = 10\n",
        "lr = 0.3\n",
        "d2l.train_ch3(net,train_iter,test_iter,\n",
        "              loss,\n",
        "              num_epochs,\n",
        "              batch_size,\n",
        "              params,\n",
        "              lr)"
      ],
      "execution_count": 7,
      "outputs": [
        {
          "output_type": "stream",
          "text": [
            "epoch 1, loss 0.8054, train acc 0.705, test acc 0.814\n",
            "epoch 2, loss 0.5005, train acc 0.818, test acc 0.847\n",
            "epoch 3, loss 0.4395, train acc 0.840, test acc 0.860\n",
            "epoch 4, loss 0.4098, train acc 0.851, test acc 0.862\n",
            "epoch 5, loss 0.3835, train acc 0.861, test acc 0.872\n",
            "epoch 6, loss 0.3664, train acc 0.866, test acc 0.870\n",
            "epoch 7, loss 0.3498, train acc 0.870, test acc 0.866\n",
            "epoch 8, loss 0.3414, train acc 0.876, test acc 0.876\n",
            "epoch 9, loss 0.3277, train acc 0.880, test acc 0.879\n",
            "epoch 10, loss 0.3192, train acc 0.884, test acc 0.882\n"
          ],
          "name": "stdout"
        }
      ]
    },
    {
      "cell_type": "markdown",
      "metadata": {
        "id": "u_QcjnKmNW7X",
        "colab_type": "text"
      },
      "source": [
        "# 練習"
      ]
    },
    {
      "cell_type": "markdown",
      "metadata": {
        "id": "J2w484w9Na1A",
        "colab_type": "text"
      },
      "source": [
        "嘗試改num_hiddens看看有何影響"
      ]
    },
    {
      "cell_type": "markdown",
      "metadata": {
        "id": "EUJ6XsdONjYn",
        "colab_type": "text"
      },
      "source": [
        "加入一個新的隱藏層看看有何影響"
      ]
    },
    {
      "cell_type": "code",
      "metadata": {
        "id": "WL4121YFNSxK",
        "colab_type": "code",
        "colab": {}
      },
      "source": [
        ""
      ],
      "execution_count": 0,
      "outputs": []
    }
  ]
}