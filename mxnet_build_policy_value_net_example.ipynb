{
  "nbformat": 4,
  "nbformat_minor": 0,
  "metadata": {
    "colab": {
      "name": "mxnet_A2C.ipynb",
      "provenance": [],
      "include_colab_link": true
    },
    "kernelspec": {
      "name": "python3",
      "display_name": "Python 3"
    }
  },
  "cells": [
    {
      "cell_type": "markdown",
      "metadata": {
        "id": "view-in-github",
        "colab_type": "text"
      },
      "source": [
        "<a href=\"https://colab.research.google.com/github/skywalker0803r/mxnet_course/blob/master/mxnet_build_policy_value_net_example.ipynb\" target=\"_parent\"><img src=\"https://colab.research.google.com/assets/colab-badge.svg\" alt=\"Open In Colab\"/></a>"
      ]
    },
    {
      "cell_type": "code",
      "metadata": {
        "id": "RnYzFg5rjMn1",
        "colab_type": "code",
        "colab": {}
      },
      "source": [
        "#!pip install mxnet\n",
        "import warnings;warnings.simplefilter('ignore')\n",
        "import random\n",
        "import numpy as np\n",
        "from time import sleep\n",
        "import mxnet as mx\n",
        "from mxnet import init\n",
        "import mxnet.gluon as gluon\n",
        "from mxnet.gluon import nn\n",
        "from mxnet import nd, autograd"
      ],
      "execution_count": 0,
      "outputs": []
    },
    {
      "cell_type": "markdown",
      "metadata": {
        "id": "focw4c9foUMv",
        "colab_type": "text"
      },
      "source": [
        "# define policy and value net"
      ]
    },
    {
      "cell_type": "code",
      "metadata": {
        "id": "dP3NWvqrm7m5",
        "colab_type": "code",
        "colab": {}
      },
      "source": [
        "def get_policy_net(action_dim):\n",
        "  net = nn.HybridSequential()\n",
        "  net.add(nn.Dense(128,activation='relu'))\n",
        "  net.add(nn.Dense(128,activation='relu'))\n",
        "  net.add(nn.Dense(action_dim))\n",
        "  net.initialize(init.Xavier())\n",
        "  net.hybridize()\n",
        "  return net"
      ],
      "execution_count": 0,
      "outputs": []
    },
    {
      "cell_type": "code",
      "metadata": {
        "id": "9mpu5FWxnPI3",
        "colab_type": "code",
        "colab": {}
      },
      "source": [
        "def get_value_net():\n",
        "  net = nn.HybridSequential()\n",
        "  net.add(nn.Dense(128, activation='relu'))\n",
        "  net.add(nn.Dense(128, activation='relu'))\n",
        "  net.add(nn.Dense(1))\n",
        "  net.initialize(init.Xavier())\n",
        "  net.hybridize()\n",
        "  return net"
      ],
      "execution_count": 0,
      "outputs": []
    },
    {
      "cell_type": "markdown",
      "metadata": {
        "id": "NXkBWPLYluEu",
        "colab_type": "text"
      },
      "source": [
        "# test policy and value net"
      ]
    },
    {
      "cell_type": "code",
      "metadata": {
        "id": "n5TczriBnZ9o",
        "colab_type": "code",
        "colab": {}
      },
      "source": [
        "state_dim = 4\n",
        "action_dim = 2\n",
        "batch_size = 3"
      ],
      "execution_count": 0,
      "outputs": []
    },
    {
      "cell_type": "code",
      "metadata": {
        "id": "yX_MQ5FRohff",
        "colab_type": "code",
        "colab": {
          "base_uri": "https://localhost:8080/",
          "height": 113
        },
        "outputId": "2d7450e8-55f1-44dc-cb50-2204e74b0c5b"
      },
      "source": [
        "state = nd.random.uniform(shape=(batch_size,state_dim))\n",
        "print('state:',state)"
      ],
      "execution_count": 5,
      "outputs": [
        {
          "output_type": "stream",
          "text": [
            "state: \n",
            "[[0.5488135  0.5928446  0.71518934 0.84426576]\n",
            " [0.60276335 0.8579456  0.5448832  0.8472517 ]\n",
            " [0.4236548  0.6235637  0.6458941  0.3843817 ]]\n",
            "<NDArray 3x4 @cpu(0)>\n"
          ],
          "name": "stdout"
        }
      ]
    },
    {
      "cell_type": "code",
      "metadata": {
        "id": "N2pc2zrBnXD_",
        "colab_type": "code",
        "colab": {
          "base_uri": "https://localhost:8080/",
          "height": 113
        },
        "outputId": "f7ec571e-107d-47a4-a73f-6eebd45282bf"
      },
      "source": [
        "policy_net = get_policy_net(action_dim)\n",
        "probs= policy_net(state)\n",
        "print('probs',probs)"
      ],
      "execution_count": 6,
      "outputs": [
        {
          "output_type": "stream",
          "text": [
            "probs \n",
            "[[ 0.01244259 -0.10175639]\n",
            " [ 0.02120219 -0.11203857]\n",
            " [ 0.03049981 -0.08028838]]\n",
            "<NDArray 3x2 @cpu(0)>\n"
          ],
          "name": "stdout"
        }
      ]
    },
    {
      "cell_type": "code",
      "metadata": {
        "id": "EBv6JF--n0mI",
        "colab_type": "code",
        "colab": {
          "base_uri": "https://localhost:8080/",
          "height": 113
        },
        "outputId": "bc22210f-6ae1-4735-e5de-e05561468bcf"
      },
      "source": [
        "value_net = get_value_net()\n",
        "values= value_net(state)\n",
        "print('values',values)"
      ],
      "execution_count": 7,
      "outputs": [
        {
          "output_type": "stream",
          "text": [
            "values \n",
            "[[-0.06922802]\n",
            " [-0.04454572]\n",
            " [-0.04818239]]\n",
            "<NDArray 3x1 @cpu(0)>\n"
          ],
          "name": "stdout"
        }
      ]
    },
    {
      "cell_type": "markdown",
      "metadata": {
        "id": "LOLFgPlbl15M",
        "colab_type": "text"
      },
      "source": [
        "# export model"
      ]
    },
    {
      "cell_type": "code",
      "metadata": {
        "id": "fM1LALnlkj8w",
        "colab_type": "code",
        "colab": {
          "base_uri": "https://localhost:8080/",
          "height": 36
        },
        "outputId": "e6b7ae74-7441-4927-9da5-6c8af229ad18"
      },
      "source": [
        "policy_net.export(\"test_policy_net\")\n",
        "value_net.export(\"test_value_net\")\n",
        "print('export done!')"
      ],
      "execution_count": 8,
      "outputs": [
        {
          "output_type": "stream",
          "text": [
            "export done!\n"
          ],
          "name": "stdout"
        }
      ]
    },
    {
      "cell_type": "markdown",
      "metadata": {
        "id": "bu5UYXzbo9wZ",
        "colab_type": "text"
      },
      "source": [
        "# load model"
      ]
    },
    {
      "cell_type": "code",
      "metadata": {
        "id": "6DAL-Wq5l8f3",
        "colab_type": "code",
        "colab": {
          "base_uri": "https://localhost:8080/",
          "height": 113
        },
        "outputId": "93f13eac-bf11-4382-8baa-57abca960952"
      },
      "source": [
        "deserialized_policy_net = gluon.nn.SymbolBlock.imports(\"test_policy_net-symbol.json\",['data'],\"test_policy_net-0000.params\")\n",
        "probs= deserialized_policy_net(state)\n",
        "print('probs',probs)"
      ],
      "execution_count": 9,
      "outputs": [
        {
          "output_type": "stream",
          "text": [
            "probs \n",
            "[[ 0.01244259 -0.10175639]\n",
            " [ 0.02120219 -0.11203857]\n",
            " [ 0.03049981 -0.08028838]]\n",
            "<NDArray 3x2 @cpu(0)>\n"
          ],
          "name": "stdout"
        }
      ]
    },
    {
      "cell_type": "code",
      "metadata": {
        "id": "aq2-nVhmpUwk",
        "colab_type": "code",
        "colab": {
          "base_uri": "https://localhost:8080/",
          "height": 113
        },
        "outputId": "e7a713fb-d06d-4c06-ed63-169cc08ab2ca"
      },
      "source": [
        "deserialized_value_net = gluon.nn.SymbolBlock.imports(\"test_value_net-symbol.json\",['data'],\"test_value_net-0000.params\")\n",
        "values = deserialized_value_net(state)\n",
        "print('values',values)"
      ],
      "execution_count": 10,
      "outputs": [
        {
          "output_type": "stream",
          "text": [
            "values \n",
            "[[-0.06922802]\n",
            " [-0.04454572]\n",
            " [-0.04818239]]\n",
            "<NDArray 3x1 @cpu(0)>\n"
          ],
          "name": "stdout"
        }
      ]
    },
    {
      "cell_type": "code",
      "metadata": {
        "id": "8GQS6tmcpjI_",
        "colab_type": "code",
        "colab": {}
      },
      "source": [
        ""
      ],
      "execution_count": 0,
      "outputs": []
    }
  ]
}