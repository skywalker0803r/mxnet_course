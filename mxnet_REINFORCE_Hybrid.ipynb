{
  "nbformat": 4,
  "nbformat_minor": 0,
  "metadata": {
    "colab": {
      "name": "REINFORCE.ipynb",
      "provenance": [],
      "include_colab_link": true
    },
    "kernelspec": {
      "name": "python3",
      "display_name": "Python 3"
    }
  },
  "cells": [
    {
      "cell_type": "markdown",
      "metadata": {
        "id": "view-in-github",
        "colab_type": "text"
      },
      "source": [
        "<a href=\"https://colab.research.google.com/github/skywalker0803r/mxnet_course/blob/master/mxnet_REINFORCE_Hybrid.ipynb\" target=\"_parent\"><img src=\"https://colab.research.google.com/assets/colab-badge.svg\" alt=\"Open In Colab\"/></a>"
      ]
    },
    {
      "cell_type": "code",
      "metadata": {
        "id": "6u8SzL5cvnY0",
        "colab_type": "code",
        "colab": {}
      },
      "source": [
        "#!pip install mxnet box2d-py\n",
        "import sys\n",
        "import mxnet  \n",
        "import gym\n",
        "import numpy as np\n",
        "import pandas as pd  \n",
        "from mxnet import nd,autograd,init\n",
        "from mxnet.gluon import nn,trainer\n",
        "import matplotlib.pyplot as plt\n",
        "from mxnet.gluon import Trainer"
      ],
      "execution_count": 0,
      "outputs": []
    },
    {
      "cell_type": "markdown",
      "metadata": {
        "id": "AbD4Et2-6ASc",
        "colab_type": "text"
      },
      "source": [
        "# Hyper Params"
      ]
    },
    {
      "cell_type": "code",
      "metadata": {
        "id": "68P16BbO5_TA",
        "colab_type": "code",
        "colab": {}
      },
      "source": [
        "max_episodes = 1000\n",
        "max_steps = 1000\n",
        "log_interval = 10\n",
        "solved_score = 5000\n",
        "gamma = 0.99\n",
        "lr = 0.001"
      ],
      "execution_count": 0,
      "outputs": []
    },
    {
      "cell_type": "markdown",
      "metadata": {
        "id": "65zIrHcFFund",
        "colab_type": "text"
      },
      "source": [
        "# env"
      ]
    },
    {
      "cell_type": "code",
      "metadata": {
        "id": "mZ9rgMyYFuvs",
        "colab_type": "code",
        "colab": {
          "base_uri": "https://localhost:8080/",
          "height": 68
        },
        "outputId": "04d3d2e7-63d8-4d84-c491-9f017d5f3a2f"
      },
      "source": [
        "env_name = 'CartPole-v1'\n",
        "env = gym.make(env_name)\n",
        "state_dim = env.observation_space.shape[0]\n",
        "action_dim = env.action_space.n\n",
        "print(state_dim,action_dim)"
      ],
      "execution_count": 3,
      "outputs": [
        {
          "output_type": "stream",
          "text": [
            "4 2\n"
          ],
          "name": "stdout"
        },
        {
          "output_type": "stream",
          "text": [
            "/usr/local/lib/python3.6/dist-packages/gym/logger.py:30: UserWarning: \u001b[33mWARN: Box bound precision lowered by casting to float32\u001b[0m\n",
            "  warnings.warn(colorize('%s: %s'%('WARN', msg % args), 'yellow'))\n"
          ],
          "name": "stderr"
        }
      ]
    },
    {
      "cell_type": "markdown",
      "metadata": {
        "id": "SKCIv71r0-Wo",
        "colab_type": "text"
      },
      "source": [
        "# PolicyNetwork and trainer"
      ]
    },
    {
      "cell_type": "code",
      "metadata": {
        "id": "VLSoTkHf1mle",
        "colab_type": "code",
        "colab": {}
      },
      "source": [
        "# define net\n",
        "def build_policy(net,action_dim):\n",
        "  with net.name_scope():\n",
        "    net.add(nn.Dense(128,activation='relu'))\n",
        "    net.add(nn.Dense(128,activation='relu'))\n",
        "    net.add(nn.Dense(action_dim))\n",
        "  return net\n",
        "# create net\n",
        "policy_net = build_policy(nn.HybridSequential(),action_dim)\n",
        "policy_net.hybridize()\n",
        "policy_net.initialize(init=init.Xavier())\n",
        "trainer = Trainer(policy_net.collect_params(),'adam',{'learning_rate':lr})"
      ],
      "execution_count": 0,
      "outputs": []
    },
    {
      "cell_type": "markdown",
      "metadata": {
        "id": "WV5VFcv_1Knl",
        "colab_type": "text"
      },
      "source": [
        "# train loop"
      ]
    },
    {
      "cell_type": "code",
      "metadata": {
        "id": "344lgEAHBKg9",
        "colab_type": "code",
        "colab": {}
      },
      "source": [
        "def train_loop(env,net,max_episodes=1000):\n",
        "  \n",
        "  # 紀錄每個episode的 Total_reward\n",
        "  all_rewards = []\n",
        "  \n",
        "  # episode loop\n",
        "  for episode in range(max_episodes):\n",
        "    \n",
        "    # start a new episode reset everything\n",
        "    state = env.reset()\n",
        "    log_probs = []\n",
        "    rewards = []\n",
        "    done = False\n",
        "    \n",
        "    # 對以下過程紀錄梯度\n",
        "    with autograd.record():\n",
        "      # Game loop\n",
        "      while not done:\n",
        "        \n",
        "        # 與環境互動\n",
        "        state = nd.array([state])\n",
        "        probs = nd.softmax(policy_net(state))\n",
        "        action,log_prob = nd.random.multinomial(probs,get_prob=True)\n",
        "        state,reward,done,info = env.step(action.asnumpy()[0])\n",
        "        \n",
        "        # 紀錄互動數據\n",
        "        log_probs.append(log_prob)\n",
        "        rewards.append(reward)\n",
        "      \n",
        "      # 遊戲結束紀錄Total_reward\n",
        "      all_rewards.append(np.sum(rewards))\n",
        "      \n",
        "      # 計算Gt\n",
        "      R = 0\n",
        "      for i in range(len(rewards)-1, -1, -1):\n",
        "        R = rewards[i] + gamma * R\n",
        "        rewards[i] = R\n",
        "      \n",
        "      # 規一化Gt\n",
        "      rewards = np.array(rewards)\n",
        "      rewards -= rewards.mean()\n",
        "      rewards /= rewards.std()\n",
        "      \n",
        "      # 計算loss\n",
        "      loss = []\n",
        "      for log_prob,Gt in zip(log_probs,rewards):\n",
        "        loss.append(-1*log_prob*Gt) #因為要最大化所以乘上-1\n",
        "      \n",
        "      # 反向傳播\n",
        "      autograd.backward(loss)\n",
        "    \n",
        "    # net參數更新\n",
        "    trainer.step(len(loss))\n",
        "    \n",
        "    # 固定步長打印當前遊戲資訊\n",
        "    if episode % log_interval == 0:\n",
        "      print(episode,all_rewards[-1])\n",
        "  \n",
        "  # 結束訓練畫出訓練曲線\n",
        "  plt.plot(all_rewards)\n",
        "  plt.plot(pd.Series(all_rewards).rolling(10).mean())\n",
        "  plt.xlabel('Episode')\n",
        "  plt.show()"
      ],
      "execution_count": 0,
      "outputs": []
    },
    {
      "cell_type": "code",
      "metadata": {
        "id": "UP1g1Nn8FgS9",
        "colab_type": "code",
        "colab": {
          "base_uri": "https://localhost:8080/",
          "height": 1000
        },
        "outputId": "2a70fb99-e6d0-4164-c52d-74db4794bfa1"
      },
      "source": [
        "train_loop(env = env,\n",
        "           net = policy_net,\n",
        "           max_episodes = 500)"
      ],
      "execution_count": 6,
      "outputs": [
        {
          "output_type": "stream",
          "text": [
            "0 10.0\n",
            "10 13.0\n",
            "20 20.0\n",
            "30 39.0\n",
            "40 14.0\n",
            "50 65.0\n",
            "60 18.0\n",
            "70 34.0\n",
            "80 42.0\n",
            "90 47.0\n",
            "100 118.0\n",
            "110 91.0\n",
            "120 51.0\n",
            "130 77.0\n",
            "140 189.0\n",
            "150 311.0\n",
            "160 212.0\n",
            "170 238.0\n",
            "180 254.0\n",
            "190 125.0\n",
            "200 278.0\n",
            "210 87.0\n",
            "220 460.0\n",
            "230 500.0\n",
            "240 500.0\n",
            "250 500.0\n",
            "260 500.0\n",
            "270 500.0\n",
            "280 295.0\n",
            "290 361.0\n",
            "300 305.0\n",
            "310 343.0\n",
            "320 274.0\n",
            "330 143.0\n",
            "340 302.0\n",
            "350 500.0\n",
            "360 500.0\n",
            "370 500.0\n",
            "380 435.0\n",
            "390 175.0\n",
            "400 500.0\n",
            "410 500.0\n",
            "420 472.0\n",
            "430 500.0\n",
            "440 345.0\n",
            "450 500.0\n",
            "460 500.0\n",
            "470 418.0\n",
            "480 500.0\n",
            "490 500.0\n"
          ],
          "name": "stdout"
        },
        {
          "output_type": "display_data",
          "data": {
            "image/png": "[encoded data removed]",
            "text/plain": [
              "<Figure size 432x288 with 1 Axes>"
            ]
          },
          "metadata": {
            "tags": []
          }
        }
      ]
    },
    {
      "cell_type": "markdown",
      "metadata": {
        "id": "Bker6tLrFLoa",
        "colab_type": "text"
      },
      "source": [
        "# model save and load"
      ]
    },
    {
      "cell_type": "code",
      "metadata": {
        "id": "ycOKgww1vKlx",
        "colab_type": "code",
        "colab": {}
      },
      "source": [
        "policy_net.export('{}_model'.format(env_name))\n",
        "del policy_net"
      ],
      "execution_count": 0,
      "outputs": []
    },
    {
      "cell_type": "code",
      "metadata": {
        "id": "j5uxjDnZyBZU",
        "colab_type": "code",
        "outputId": "9a95dc9f-35ed-4df4-bdc5-95d4d1f4f944",
        "colab": {
          "base_uri": "https://localhost:8080/",
          "height": 68
        }
      },
      "source": [
        "policy_net = nn.SymbolBlock.imports(\"{}_model-symbol.json\".format(env_name), \n",
        "                                    ['data'], \n",
        "                                    \"{}_model-0000.params\".format(env_name))"
      ],
      "execution_count": 8,
      "outputs": [
        {
          "output_type": "stream",
          "text": [
            "/usr/local/lib/python3.6/dist-packages/mxnet/gluon/block.py:1159: UserWarning: Cannot decide type for the following arguments. Consider providing them as input:\n",
            "\tdata: None\n",
            "  input_sym_arg_type = in_param.infer_type()[0]\n"
          ],
          "name": "stderr"
        }
      ]
    },
    {
      "cell_type": "markdown",
      "metadata": {
        "id": "lMnLkgOMFVx9",
        "colab_type": "text"
      },
      "source": [
        "# test"
      ]
    },
    {
      "cell_type": "code",
      "metadata": {
        "id": "q8ouRjQv7GBx",
        "colab_type": "code",
        "outputId": "64aa9850-cd8e-4a73-e527-89bfbc858e4a",
        "colab": {
          "base_uri": "https://localhost:8080/",
          "height": 221
        }
      },
      "source": [
        "env = gym.make('CartPole-v1')\n",
        "for episode in range(10):\n",
        "  state = env.reset()\n",
        "  rewards = []\n",
        "  done = False\n",
        "  while not done:\n",
        "    state = nd.array([state])\n",
        "    probs = nd.softmax(policy_net(state))\n",
        "    action = np.argmax(probs.asnumpy())\n",
        "    state, reward, done, _ = env.step(action)\n",
        "    rewards.append(reward)\n",
        "  print(episode,np.sum(rewards))"
      ],
      "execution_count": 10,
      "outputs": [
        {
          "output_type": "stream",
          "text": [
            "/usr/local/lib/python3.6/dist-packages/gym/logger.py:30: UserWarning: \u001b[33mWARN: Box bound precision lowered by casting to float32\u001b[0m\n",
            "  warnings.warn(colorize('%s: %s'%('WARN', msg % args), 'yellow'))\n"
          ],
          "name": "stderr"
        },
        {
          "output_type": "stream",
          "text": [
            "0 500.0\n",
            "1 500.0\n",
            "2 500.0\n",
            "3 500.0\n",
            "4 500.0\n",
            "5 500.0\n",
            "6 500.0\n",
            "7 500.0\n",
            "8 500.0\n",
            "9 500.0\n"
          ],
          "name": "stdout"
        }
      ]
    },
    {
      "cell_type": "code",
      "metadata": {
        "id": "tvRqAJji4BGk",
        "colab_type": "code",
        "colab": {}
      },
      "source": [
        ""
      ],
      "execution_count": 0,
      "outputs": []
    }
  ]
}