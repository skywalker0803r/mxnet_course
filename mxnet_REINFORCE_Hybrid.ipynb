{
  "nbformat": 4,
  "nbformat_minor": 0,
  "metadata": {
    "colab": {
      "name": "REINFORCE.ipynb",
      "provenance": [],
      "include_colab_link": true
    },
    "kernelspec": {
      "name": "python3",
      "display_name": "Python 3"
    }
  },
  "cells": [
    {
      "cell_type": "markdown",
      "metadata": {
        "id": "view-in-github",
        "colab_type": "text"
      },
      "source": [
        "<a href=\"https://colab.research.google.com/github/skywalker0803r/mxnet_course/blob/master/mxnet_REINFORCE_Hybrid.ipynb\" target=\"_parent\"><img src=\"https://colab.research.google.com/assets/colab-badge.svg\" alt=\"Open In Colab\"/></a>"
      ]
    },
    {
      "cell_type": "code",
      "metadata": {
        "id": "6u8SzL5cvnY0",
        "colab_type": "code",
        "colab": {}
      },
      "source": [
        "#!pip install mxnet\n",
        "import sys\n",
        "import mxnet  \n",
        "import gym\n",
        "import numpy as np  \n",
        "from mxnet import nd,autograd,init\n",
        "from mxnet.gluon import nn,trainer\n",
        "import matplotlib.pyplot as plt\n",
        "from mxnet.gluon import Trainer"
      ],
      "execution_count": 0,
      "outputs": []
    },
    {
      "cell_type": "markdown",
      "metadata": {
        "id": "SKCIv71r0-Wo",
        "colab_type": "text"
      },
      "source": [
        "# PolicyNetwork"
      ]
    },
    {
      "cell_type": "code",
      "metadata": {
        "id": "VLSoTkHf1mle",
        "colab_type": "code",
        "colab": {}
      },
      "source": [
        "def build_policy(net,num_actions):\n",
        "  with net.name_scope():\n",
        "    net.add(nn.Dense(128,activation='relu'))\n",
        "    net.add(nn.Dense(num_actions))\n",
        "  return net"
      ],
      "execution_count": 0,
      "outputs": []
    },
    {
      "cell_type": "markdown",
      "metadata": {
        "id": "kYwQrT0QFmYC",
        "colab_type": "text"
      },
      "source": [
        "test"
      ]
    },
    {
      "cell_type": "code",
      "metadata": {
        "id": "Y3qdaFhHymCZ",
        "colab_type": "code",
        "outputId": "8a7d5341-1cc8-4e71-f07c-e452bd64dcfd",
        "colab": {
          "base_uri": "https://localhost:8080/",
          "height": 71
        }
      },
      "source": [
        "p = build_policy(nn.HybridSequential(),2)\n",
        "p.initialize(init=init.Xavier())\n",
        "x = nd.random.normal(shape=(1,4))\n",
        "p(x)"
      ],
      "execution_count": 3,
      "outputs": [
        {
          "output_type": "execute_result",
          "data": {
            "text/plain": [
              "\n",
              "[[0.11606808 0.42311054]]\n",
              "<NDArray 1x2 @cpu(0)>"
            ]
          },
          "metadata": {
            "tags": []
          },
          "execution_count": 3
        }
      ]
    },
    {
      "cell_type": "markdown",
      "metadata": {
        "id": "WV5VFcv_1Knl",
        "colab_type": "text"
      },
      "source": [
        "# main loop"
      ]
    },
    {
      "cell_type": "code",
      "metadata": {
        "id": "sZiKpJZsgy_e",
        "colab_type": "code",
        "colab": {}
      },
      "source": [
        "#!sudo pip install box2d-py"
      ],
      "execution_count": 0,
      "outputs": []
    },
    {
      "cell_type": "code",
      "metadata": {
        "id": "7oWV_Euh8BSO",
        "colab_type": "code",
        "outputId": "fc3eb1fe-e53c-4e74-ed69-5fd6db982ae6",
        "colab": {
          "base_uri": "https://localhost:8080/",
          "height": 1000
        }
      },
      "source": [
        "env = gym.make('CartPole-v0')\n",
        "\n",
        "policy_net = build_policy(nn.HybridSequential(),env.action_space.n)\n",
        "policy_net.hybridize()\n",
        "policy_net.initialize(init=init.Xavier())\n",
        "\n",
        "trainer = Trainer(policy_net.collect_params(),'adam',{'learning_rate':0.001})\n",
        "\n",
        "max_episode_num = 1000\n",
        "max_steps = 10000\n",
        "\n",
        "numsteps = []\n",
        "avg_numsteps = []\n",
        "\n",
        "all_rewards = []\n",
        "avg_all_rewards = []\n",
        "\n",
        "for episode in range(max_episode_num):\n",
        "  state = env.reset()\n",
        "  log_probs = []\n",
        "  rewards = []\n",
        "  with autograd.record():\n",
        "    for t in range(max_steps):\n",
        "      state = nd.array(np.expand_dims(state, 0))\n",
        "      \n",
        "      probs = nd.softmax(policy_net(state))\n",
        "      action,log_prob = nd.random.multinomial(probs,get_prob=True)\n",
        "      \n",
        "      state, reward, done, _ = env.step(action.asnumpy()[0])\n",
        "      \n",
        "      # reward engineering\n",
        "      angle_bias = abs(state[2]-0)\n",
        "      pos_bias = abs(state[0]-0)\n",
        "      reward -= 0.1*angle_bias + 0.1*pos_bias\n",
        "      \n",
        "      # store memory\n",
        "      log_probs.append(log_prob)\n",
        "      rewards.append(reward)\n",
        "      \n",
        "      if done:\n",
        "        break\n",
        "    \n",
        "    # logging\n",
        "    numsteps.append(t)\n",
        "    avg_numsteps.append(np.mean(numsteps[-10:]))\n",
        "    \n",
        "    all_rewards.append(np.sum(rewards))\n",
        "    avg_all_rewards.append(np.mean(all_rewards[-10:]))\n",
        "\n",
        "    # reverse accumulate and normalize rewards\n",
        "    R = 0\n",
        "    for i in range(len(rewards)-1, -1, -1):\n",
        "      R = rewards[i] + 0.9 * R\n",
        "      rewards[i] = R\n",
        "    rewards = np.array(rewards)\n",
        "    rewards -= rewards.mean()\n",
        "    rewards /= rewards.std() + np.finfo(rewards.dtype).eps\n",
        "      \n",
        "    # compute loss\n",
        "    loss = []\n",
        "    for log_prob,Gt in zip(log_probs,rewards):\n",
        "      loss.append(log_prob*(-Gt))\n",
        "    \n",
        "    # loss backward\n",
        "    autograd.backward(loss)\n",
        "  \n",
        "  # gradient descent\n",
        "  trainer.step(t)\n",
        "  \n",
        "  # print info\n",
        "  if episode % 20 == 0:\n",
        "    print(episode,all_rewards[-1])\n",
        "\n",
        "plt.plot(all_rewards)\n",
        "plt.plot(avg_all_rewards)\n",
        "plt.xlabel('Episode')\n",
        "plt.show()"
      ],
      "execution_count": 5,
      "outputs": [
        {
          "output_type": "stream",
          "text": [
            "0 9.825674767772034\n",
            "20 58.90464851780043\n",
            "40 21.714653999407002\n",
            "60 30.5582993576533\n",
            "80 35.61601019049733\n",
            "100 75.00598418910931\n",
            "120 19.632755694323322\n",
            "140 86.90068395036039\n",
            "160 80.57590100471195\n",
            "180 107.5450598192346\n",
            "200 187.7486576874927\n",
            "220 194.78845299451902\n",
            "240 157.42594450985445\n",
            "260 155.15158526303813\n",
            "280 185.04912538224\n",
            "300 191.35109743273733\n",
            "320 161.87531863139435\n",
            "340 190.29194804620994\n",
            "360 57.08857961130303\n",
            "380 193.53564867412047\n",
            "400 133.89052653896715\n",
            "420 174.78566517511706\n",
            "440 195.4140475693862\n",
            "460 181.26945601660117\n",
            "480 194.51098906324344\n",
            "500 118.39884743186718\n",
            "520 194.60166598462268\n",
            "540 198.01228591334132\n",
            "560 198.7917542836517\n",
            "580 192.54148659300228\n",
            "600 188.70765220275877\n",
            "620 187.61267540890526\n",
            "640 195.30393872318837\n",
            "660 197.20548340705471\n",
            "680 185.3026542597109\n",
            "700 198.38783424781002\n",
            "720 194.67483226373935\n",
            "740 179.7817588889699\n",
            "760 190.0689935527329\n",
            "780 173.6295044016913\n",
            "800 193.8605395638462\n",
            "820 197.0508519531203\n",
            "840 186.07273676695237\n",
            "860 192.91758361458642\n",
            "880 156.03845152926303\n",
            "900 178.2262521210844\n",
            "920 192.37017040359893\n",
            "940 191.0308946503397\n",
            "960 187.6888106282004\n",
            "980 196.26921817417804\n"
          ],
          "name": "stdout"
        },
        {
          "output_type": "display_data",
          "data": {
            "image/png": "[encoded data removed]",
            "text/plain": [
              "<Figure size 432x288 with 1 Axes>"
            ]
          },
          "metadata": {
            "tags": []
          }
        }
      ]
    },
    {
      "cell_type": "code",
      "metadata": {
        "id": "ycOKgww1vKlx",
        "colab_type": "code",
        "colab": {}
      },
      "source": [
        "policy_net.export('my_model',epoch=800)"
      ],
      "execution_count": 0,
      "outputs": []
    },
    {
      "cell_type": "code",
      "metadata": {
        "id": "8ktJSOl9F_iW",
        "colab_type": "code",
        "colab": {}
      },
      "source": [
        "del policy_net"
      ],
      "execution_count": 0,
      "outputs": []
    },
    {
      "cell_type": "code",
      "metadata": {
        "id": "j5uxjDnZyBZU",
        "colab_type": "code",
        "outputId": "0ad3cd00-49c9-4bbb-9b22-382cdb646079",
        "colab": {
          "base_uri": "https://localhost:8080/",
          "height": 71
        }
      },
      "source": [
        "deserialized_net = nn.SymbolBlock.imports(\"my_model-symbol.json\", \n",
        "                                          ['data'], \n",
        "                                          \"my_model-0800.params\")"
      ],
      "execution_count": 8,
      "outputs": [
        {
          "output_type": "stream",
          "text": [
            "/usr/local/lib/python3.6/dist-packages/mxnet/gluon/block.py:1159: UserWarning: Cannot decide type for the following arguments. Consider providing them as input:\n",
            "\tdata: None\n",
            "  input_sym_arg_type = in_param.infer_type()[0]\n"
          ],
          "name": "stderr"
        }
      ]
    },
    {
      "cell_type": "code",
      "metadata": {
        "id": "q8ouRjQv7GBx",
        "colab_type": "code",
        "outputId": "97ebddd2-4452-4818-eea2-fb03c203ffac",
        "colab": {
          "base_uri": "https://localhost:8080/",
          "height": 197
        }
      },
      "source": [
        "\n",
        "env = gym.make('CartPole-v0')\n",
        "\n",
        "policy_net = deserialized_net\n",
        "\n",
        "for episode in range(10):\n",
        "  state = env.reset()\n",
        "  rewards = []\n",
        "  for t in range(max_steps):\n",
        "    state = nd.array(np.expand_dims(state, 0))\n",
        "    probs = nd.softmax(policy_net(state))\n",
        "    action,log_prob = nd.random.multinomial(probs,get_prob=True)\n",
        "    state, reward, done, _ = env.step(action.asnumpy()[0])\n",
        "    rewards.append(reward)\n",
        "    if done:\n",
        "      break\n",
        "  \n",
        "  # print info\n",
        "  print(episode,np.sum(rewards))"
      ],
      "execution_count": 15,
      "outputs": [
        {
          "output_type": "stream",
          "text": [
            "0 200.0\n",
            "1 200.0\n",
            "2 200.0\n",
            "3 200.0\n",
            "4 200.0\n",
            "5 200.0\n",
            "6 200.0\n",
            "7 200.0\n",
            "8 200.0\n",
            "9 200.0\n"
          ],
          "name": "stdout"
        }
      ]
    },
    {
      "cell_type": "code",
      "metadata": {
        "id": "szKC0j808PhB",
        "colab_type": "code",
        "colab": {}
      },
      "source": [
        ""
      ],
      "execution_count": 0,
      "outputs": []
    }
  ]
}