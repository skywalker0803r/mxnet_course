{
  "nbformat": 4,
  "nbformat_minor": 0,
  "metadata": {
    "colab": {
      "name": "REINFORCE.ipynb",
      "provenance": [],
      "include_colab_link": true
    },
    "kernelspec": {
      "name": "python3",
      "display_name": "Python 3"
    }
  },
  "cells": [
    {
      "cell_type": "markdown",
      "metadata": {
        "id": "view-in-github",
        "colab_type": "text"
      },
      "source": [
        "<a href=\"https://colab.research.google.com/github/skywalker0803r/mxnet_course/blob/master/mxnet_REINFORCE_Hybrid.ipynb\" target=\"_parent\"><img src=\"https://colab.research.google.com/assets/colab-badge.svg\" alt=\"Open In Colab\"/></a>"
      ]
    },
    {
      "cell_type": "code",
      "metadata": {
        "id": "6u8SzL5cvnY0",
        "colab_type": "code",
        "colab": {}
      },
      "source": [
        "#!pip install mxnet box2d-py\n",
        "import sys\n",
        "import mxnet  \n",
        "import gym\n",
        "import numpy as np  \n",
        "from mxnet import nd,autograd,init\n",
        "from mxnet.gluon import nn,trainer\n",
        "import matplotlib.pyplot as plt\n",
        "from mxnet.gluon import Trainer"
      ],
      "execution_count": 0,
      "outputs": []
    },
    {
      "cell_type": "markdown",
      "metadata": {
        "id": "SKCIv71r0-Wo",
        "colab_type": "text"
      },
      "source": [
        "# PolicyNetwork"
      ]
    },
    {
      "cell_type": "code",
      "metadata": {
        "id": "VLSoTkHf1mle",
        "colab_type": "code",
        "colab": {}
      },
      "source": [
        "def build_policy(net,action_dim):\n",
        "  with net.name_scope():\n",
        "    net.add(nn.Dense(128,activation='relu'))\n",
        "    net.add(nn.Dense(128,activation='relu'))\n",
        "    net.add(nn.Dense(action_dim))\n",
        "  return net"
      ],
      "execution_count": 0,
      "outputs": []
    },
    {
      "cell_type": "markdown",
      "metadata": {
        "id": "z2gHLjo9qF6J",
        "colab_type": "text"
      },
      "source": [
        "# env"
      ]
    },
    {
      "cell_type": "code",
      "metadata": {
        "id": "10IXxbZBqHHg",
        "colab_type": "code",
        "colab": {
          "base_uri": "https://localhost:8080/",
          "height": 36
        },
        "outputId": "da552552-8aee-444a-94ad-21eac3a9d593"
      },
      "source": [
        "env_name = 'CartPole-v1'\n",
        "env = gym.make(env_name)\n",
        "state_dim = env.observation_space.shape[0]\n",
        "action_dim = env.action_space.n\n",
        "print(state_dim,action_dim)"
      ],
      "execution_count": 3,
      "outputs": [
        {
          "output_type": "stream",
          "text": [
            "4 2\n"
          ],
          "name": "stdout"
        }
      ]
    },
    {
      "cell_type": "markdown",
      "metadata": {
        "id": "tF-I0IfwqPCx",
        "colab_type": "text"
      },
      "source": [
        "# initialize"
      ]
    },
    {
      "cell_type": "code",
      "metadata": {
        "id": "vazxcIzRqPNJ",
        "colab_type": "code",
        "colab": {}
      },
      "source": [
        "max_episodes = 1000\n",
        "max_steps = 1000\n",
        "log_interval = 10\n",
        "solved_score = 500\n",
        "gamma = 0.99\n",
        "lr = 0.001\n",
        "policy_net = build_policy(nn.HybridSequential(),action_dim)\n",
        "policy_net.hybridize()\n",
        "policy_net.initialize(init=init.Xavier())\n",
        "trainer = Trainer(policy_net.collect_params(),'adam',{'learning_rate':lr})"
      ],
      "execution_count": 0,
      "outputs": []
    },
    {
      "cell_type": "markdown",
      "metadata": {
        "id": "WV5VFcv_1Knl",
        "colab_type": "text"
      },
      "source": [
        "# main loop"
      ]
    },
    {
      "cell_type": "code",
      "metadata": {
        "id": "7oWV_Euh8BSO",
        "colab_type": "code",
        "outputId": "445b4ba0-8d77-4cb7-d263-46aa040fed1d",
        "colab": {
          "base_uri": "https://localhost:8080/",
          "height": 775
        }
      },
      "source": [
        "all_rewards = []\n",
        "avg_all_rewards = []\n",
        "\n",
        "for episode in range(max_episodes):\n",
        "  \n",
        "  state = env.reset()\n",
        "  log_probs = []\n",
        "  rewards = []\n",
        "  \n",
        "  with autograd.record():\n",
        "    for time_step in range(max_steps):\n",
        "      state = nd.array([state])\n",
        "      \n",
        "      probs = nd.softmax(policy_net(state))\n",
        "      action,log_prob = nd.random.multinomial(probs,get_prob=True)\n",
        "      state,reward,done,info = env.step(action.asnumpy()[0])\n",
        "      \n",
        "      log_probs.append(log_prob)\n",
        "      rewards.append(reward)\n",
        "      \n",
        "      if done:\n",
        "        break\n",
        "    \n",
        "    all_rewards.append(np.sum(rewards))\n",
        "    avg_all_rewards.append(np.mean(all_rewards[-10:]))\n",
        "    \n",
        "    R = 0\n",
        "    for i in range(len(rewards)-1, -1, -1):\n",
        "      R = rewards[i] + gamma * R\n",
        "      rewards[i] = R\n",
        "    rewards = np.array(rewards)\n",
        "    rewards -= rewards.mean()\n",
        "    rewards /= rewards.std()\n",
        "    \n",
        "    loss = []\n",
        "    for log_prob,Gt in zip(log_probs,rewards):\n",
        "      loss.append(log_prob*(-Gt))\n",
        "  \n",
        "  autograd.backward(loss)\n",
        "  trainer.step(len(loss))\n",
        "  \n",
        "  if episode % log_interval == 0:\n",
        "    print(episode,avg_all_rewards[-1])\n",
        "  \n",
        "  if (all_rewards[-1] >= solved_score)&(avg_all_rewards[-1] >= solved_score):\n",
        "    print(episode,all_rewards[-1],avg_all_rewards[-1],'solved')\n",
        "    break\n",
        "\n",
        "plt.plot(all_rewards)\n",
        "plt.plot(avg_all_rewards)\n",
        "plt.xlabel('Episode')\n",
        "plt.show()"
      ],
      "execution_count": 5,
      "outputs": [
        {
          "output_type": "stream",
          "text": [
            "0 11.0\n",
            "10 20.2\n",
            "20 19.0\n",
            "30 23.9\n",
            "40 19.1\n",
            "50 26.6\n",
            "60 34.6\n",
            "70 35.6\n",
            "80 49.4\n",
            "90 53.8\n",
            "100 56.7\n",
            "110 110.7\n",
            "120 143.2\n",
            "130 186.5\n",
            "140 176.4\n",
            "150 256.4\n",
            "160 273.0\n",
            "170 347.2\n",
            "180 436.9\n",
            "190 319.4\n",
            "200 411.2\n",
            "210 412.4\n",
            "220 450.9\n",
            "230 425.0\n",
            "240 436.3\n",
            "249 500.0 500.0 solved\n"
          ],
          "name": "stdout"
        },
        {
          "output_type": "display_data",
          "data": {
            "image/png": "[encoded data removed]",
            "text/plain": [
              "<Figure size 432x288 with 1 Axes>"
            ]
          },
          "metadata": {
            "tags": []
          }
        }
      ]
    },
    {
      "cell_type": "code",
      "metadata": {
        "id": "ycOKgww1vKlx",
        "colab_type": "code",
        "colab": {}
      },
      "source": [
        "policy_net.export('{}_model'.format(env_name))"
      ],
      "execution_count": 0,
      "outputs": []
    },
    {
      "cell_type": "code",
      "metadata": {
        "id": "8ktJSOl9F_iW",
        "colab_type": "code",
        "colab": {}
      },
      "source": [
        "del policy_net"
      ],
      "execution_count": 0,
      "outputs": []
    },
    {
      "cell_type": "code",
      "metadata": {
        "id": "j5uxjDnZyBZU",
        "colab_type": "code",
        "outputId": "daac2fcd-a5cd-4416-d858-8c0117cc2f79",
        "colab": {
          "base_uri": "https://localhost:8080/",
          "height": 75
        }
      },
      "source": [
        "deserialized_net = nn.SymbolBlock.imports(\"{}_model-symbol.json\".format(env_name), \n",
        "                                          ['data'], \n",
        "                                          \"{}_model-0000.params\".format(env_name))"
      ],
      "execution_count": 8,
      "outputs": [
        {
          "output_type": "stream",
          "text": [
            "/usr/local/lib/python3.6/dist-packages/mxnet/gluon/block.py:1159: UserWarning: Cannot decide type for the following arguments. Consider providing them as input:\n",
            "\tdata: None\n",
            "  input_sym_arg_type = in_param.infer_type()[0]\n"
          ],
          "name": "stderr"
        }
      ]
    },
    {
      "cell_type": "code",
      "metadata": {
        "id": "w_zpW6H02kLG",
        "colab_type": "code",
        "colab": {}
      },
      "source": [
        "env = gym.make('CartPole-v1')\n",
        "policy_net = deserialized_net"
      ],
      "execution_count": 0,
      "outputs": []
    },
    {
      "cell_type": "code",
      "metadata": {
        "id": "q8ouRjQv7GBx",
        "colab_type": "code",
        "outputId": "6cd4a574-ffb6-4360-9128-45fd1c04cbcd",
        "colab": {
          "base_uri": "https://localhost:8080/",
          "height": 208
        }
      },
      "source": [
        "for episode in range(10):\n",
        "  state = env.reset()\n",
        "  rewards = []\n",
        "  for time_step in range(1000):\n",
        "    state = nd.array([state])\n",
        "    probs = nd.softmax(policy_net(state))\n",
        "    action = np.argmax(probs.asnumpy())\n",
        "    state, reward, done, _ = env.step(action)\n",
        "    rewards.append(reward)\n",
        "    if done:\n",
        "      break\n",
        "  print(episode,np.sum(rewards))"
      ],
      "execution_count": 10,
      "outputs": [
        {
          "output_type": "stream",
          "text": [
            "0 500.0\n",
            "1 500.0\n",
            "2 500.0\n",
            "3 500.0\n",
            "4 500.0\n",
            "5 500.0\n",
            "6 500.0\n",
            "7 500.0\n",
            "8 500.0\n",
            "9 500.0\n"
          ],
          "name": "stdout"
        }
      ]
    },
    {
      "cell_type": "code",
      "metadata": {
        "id": "tvRqAJji4BGk",
        "colab_type": "code",
        "colab": {}
      },
      "source": [
        ""
      ],
      "execution_count": 0,
      "outputs": []
    }
  ]
}