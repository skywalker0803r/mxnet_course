{
  "nbformat": 4,
  "nbformat_minor": 0,
  "metadata": {
    "colab": {
      "name": "REINFORCE.ipynb",
      "provenance": [],
      "include_colab_link": true
    },
    "kernelspec": {
      "name": "python3",
      "display_name": "Python 3"
    }
  },
  "cells": [
    {
      "cell_type": "markdown",
      "metadata": {
        "id": "view-in-github",
        "colab_type": "text"
      },
      "source": [
        "<a href=\"https://colab.research.google.com/github/skywalker0803r/mxnet_course/blob/master/mxnet_REINFORCE_Hybrid.ipynb\" target=\"_parent\"><img src=\"https://colab.research.google.com/assets/colab-badge.svg\" alt=\"Open In Colab\"/></a>"
      ]
    },
    {
      "cell_type": "code",
      "metadata": {
        "id": "6u8SzL5cvnY0",
        "colab_type": "code",
        "colab": {}
      },
      "source": [
        "#!pip install mxnet\n",
        "import sys\n",
        "import mxnet  \n",
        "import gym\n",
        "import numpy as np  \n",
        "from mxnet import nd,autograd,init\n",
        "from mxnet.gluon import nn,trainer\n",
        "import matplotlib.pyplot as plt\n",
        "from mxnet.gluon import Trainer"
      ],
      "execution_count": 0,
      "outputs": []
    },
    {
      "cell_type": "markdown",
      "metadata": {
        "id": "SKCIv71r0-Wo",
        "colab_type": "text"
      },
      "source": [
        "# PolicyNetwork"
      ]
    },
    {
      "cell_type": "code",
      "metadata": {
        "id": "VLSoTkHf1mle",
        "colab_type": "code",
        "colab": {}
      },
      "source": [
        "def build_policy(net,num_actions):\n",
        "  with net.name_scope():\n",
        "    net.add(nn.Dense(128,activation='relu'))\n",
        "    net.add(nn.Dense(num_actions))\n",
        "  return net"
      ],
      "execution_count": 0,
      "outputs": []
    },
    {
      "cell_type": "code",
      "metadata": {
        "id": "Y3qdaFhHymCZ",
        "colab_type": "code",
        "outputId": "601eae9c-04ad-42f5-8583-acc01866eebd",
        "colab": {
          "base_uri": "https://localhost:8080/",
          "height": 176
        }
      },
      "source": [
        "#test\n",
        "p = build_policy(nn.HybridSequential(),2)\n",
        "p.initialize(init=init.Xavier())\n",
        "\n",
        "s1 = np.array([1,2,3,4])\n",
        "s2 = np.array([2,3,4,5])\n",
        "batch_state = np.stack([s1,s2])\n",
        "\n",
        "s1 = nd.array([s1])\n",
        "s2 = nd.array([s2])\n",
        "batch_state = nd.array(batch_state)\n",
        "\n",
        "print('===============')\n",
        "print(p(s1))\n",
        "print('===============')\n",
        "print(p(batch_state))"
      ],
      "execution_count": 70,
      "outputs": [
        {
          "output_type": "stream",
          "text": [
            "===============\n",
            "\n",
            "[[ 0.10889705 -0.8330167 ]]\n",
            "<NDArray 1x2 @cpu(0)>\n",
            "===============\n",
            "\n",
            "[[ 0.10889705 -0.8330167 ]\n",
            " [ 0.26567897 -1.0653929 ]]\n",
            "<NDArray 2x2 @cpu(0)>\n"
          ],
          "name": "stdout"
        }
      ]
    },
    {
      "cell_type": "markdown",
      "metadata": {
        "id": "WV5VFcv_1Knl",
        "colab_type": "text"
      },
      "source": [
        "# main loop"
      ]
    },
    {
      "cell_type": "code",
      "metadata": {
        "id": "sZiKpJZsgy_e",
        "colab_type": "code",
        "colab": {}
      },
      "source": [
        "#!sudo pip install box2d-py"
      ],
      "execution_count": 0,
      "outputs": []
    },
    {
      "cell_type": "code",
      "metadata": {
        "id": "7oWV_Euh8BSO",
        "colab_type": "code",
        "outputId": "4d95b81c-65e1-40ca-a342-fd94c4e3ac52",
        "colab": {
          "base_uri": "https://localhost:8080/",
          "height": 1000
        }
      },
      "source": [
        "env = gym.make('CartPole-v0')\n",
        "\n",
        "policy_net = build_policy(nn.HybridSequential(),env.action_space.n)\n",
        "policy_net.initialize(init=init.Xavier())\n",
        "policy_net.hybridize()\n",
        "\n",
        "trainer = Trainer(policy_net.collect_params(),'adam',{'learning_rate':0.001})\n",
        "\n",
        "max_episode_num = 1000\n",
        "max_steps = 10000\n",
        "\n",
        "numsteps = []\n",
        "avg_numsteps = []\n",
        "\n",
        "all_rewards = []\n",
        "avg_all_rewards = []\n",
        "\n",
        "for episode in range(max_episode_num):\n",
        "  state = env.reset()\n",
        "  log_probs = []\n",
        "  rewards = []\n",
        "  with autograd.record():\n",
        "    for t in range(max_steps):\n",
        "      state = nd.array(np.expand_dims(state, 0))\n",
        "      probs = nd.softmax(policy_net(state))\n",
        "      action,log_prob = nd.random.multinomial(probs,get_prob=True)\n",
        "      state, reward, done, _ = env.step(action.asnumpy()[0])\n",
        "      log_probs.append(log_prob)\n",
        "      rewards.append(reward)\n",
        "      if done:\n",
        "        break\n",
        "    \n",
        "    # logging\n",
        "    numsteps.append(t)\n",
        "    avg_numsteps.append(np.mean(numsteps[-10:]))\n",
        "    \n",
        "    all_rewards.append(np.sum(rewards))\n",
        "    avg_all_rewards.append(np.mean(all_rewards[-10:]))\n",
        "\n",
        "    # reverse accumulate and normalize rewards\n",
        "    R = 0\n",
        "    for i in range(len(rewards)-1, -1, -1):\n",
        "      R = rewards[i] + 0.9 * R\n",
        "      rewards[i] = R\n",
        "    rewards = np.array(rewards)\n",
        "    rewards -= rewards.mean()\n",
        "    rewards /= rewards.std() + np.finfo(rewards.dtype).eps\n",
        "      \n",
        "    # compute loss\n",
        "    loss = []\n",
        "    for log_prob,Gt in zip(log_probs,rewards):\n",
        "      loss.append(log_prob*(-Gt))\n",
        "    \n",
        "    # loss backward\n",
        "    autograd.backward(loss)\n",
        "  \n",
        "  # gradient descent\n",
        "  trainer.step(t)\n",
        "  \n",
        "  # print info\n",
        "  if episode % 20 == 0:\n",
        "    print(episode,all_rewards[-1])\n",
        "\n",
        "plt.plot(all_rewards)\n",
        "plt.plot(avg_all_rewards)\n",
        "plt.xlabel('Episode')\n",
        "plt.show()"
      ],
      "execution_count": 72,
      "outputs": [
        {
          "output_type": "stream",
          "text": [
            "0 12.0\n",
            "20 21.0\n",
            "40 52.0\n",
            "60 18.0\n",
            "80 9.0\n",
            "100 13.0\n",
            "120 42.0\n",
            "140 39.0\n",
            "160 17.0\n",
            "180 72.0\n",
            "200 44.0\n",
            "220 47.0\n",
            "240 200.0\n",
            "260 166.0\n",
            "280 200.0\n",
            "300 125.0\n",
            "320 200.0\n",
            "340 182.0\n",
            "360 200.0\n",
            "380 172.0\n",
            "400 200.0\n",
            "420 200.0\n",
            "440 83.0\n",
            "460 137.0\n",
            "480 126.0\n",
            "500 194.0\n",
            "520 200.0\n",
            "540 147.0\n",
            "560 200.0\n",
            "580 100.0\n",
            "600 200.0\n",
            "620 166.0\n",
            "640 158.0\n",
            "660 186.0\n",
            "680 195.0\n",
            "700 180.0\n",
            "720 174.0\n",
            "740 200.0\n",
            "760 200.0\n",
            "780 200.0\n",
            "800 200.0\n",
            "820 200.0\n",
            "840 200.0\n",
            "860 198.0\n",
            "880 172.0\n",
            "900 51.0\n",
            "920 200.0\n",
            "940 176.0\n",
            "960 200.0\n",
            "980 142.0\n"
          ],
          "name": "stdout"
        },
        {
          "output_type": "display_data",
          "data": {
            "image/png": "[encoded data removed]",
            "text/plain": [
              "<Figure size 432x288 with 1 Axes>"
            ]
          },
          "metadata": {
            "tags": []
          }
        }
      ]
    },
    {
      "cell_type": "code",
      "metadata": {
        "id": "ycOKgww1vKlx",
        "colab_type": "code",
        "colab": {}
      },
      "source": [
        "policy_net.export('my_model',epoch=800)"
      ],
      "execution_count": 0,
      "outputs": []
    },
    {
      "cell_type": "code",
      "metadata": {
        "id": "j5uxjDnZyBZU",
        "colab_type": "code",
        "colab": {
          "base_uri": "https://localhost:8080/",
          "height": 70
        },
        "outputId": "cc0e7c59-50df-478c-972d-257e97f13e0b"
      },
      "source": [
        "deserialized_net = nn.SymbolBlock.imports(\"my_model-symbol.json\", \n",
        "                                          ['data'], \n",
        "                                          \"my_model-0800.params\")"
      ],
      "execution_count": 74,
      "outputs": [
        {
          "output_type": "stream",
          "text": [
            "/usr/local/lib/python3.6/dist-packages/mxnet/gluon/block.py:1159: UserWarning: Cannot decide type for the following arguments. Consider providing them as input:\n",
            "\tdata: None\n",
            "  input_sym_arg_type = in_param.infer_type()[0]\n"
          ],
          "name": "stderr"
        }
      ]
    },
    {
      "cell_type": "code",
      "metadata": {
        "id": "q8ouRjQv7GBx",
        "colab_type": "code",
        "colab": {
          "base_uri": "https://localhost:8080/",
          "height": 194
        },
        "outputId": "8bc6e7f4-5841-4660-d96c-69048bc6a3a7"
      },
      "source": [
        "\n",
        "env = gym.make('CartPole-v0')\n",
        "policy_net = deserialized_net\n",
        "\n",
        "for episode in range(10):\n",
        "  state = env.reset()\n",
        "  rewards = []\n",
        "  for t in range(max_steps):\n",
        "    state = nd.array(np.expand_dims(state, 0))\n",
        "    probs = nd.softmax(policy_net(state))\n",
        "    action,log_prob = nd.random.multinomial(probs,get_prob=True)\n",
        "    state, reward, done, _ = env.step(action.asnumpy()[0])\n",
        "    rewards.append(reward)\n",
        "    if done:\n",
        "      break\n",
        "  \n",
        "  # print info\n",
        "  print(episode,np.sum(rewards))"
      ],
      "execution_count": 79,
      "outputs": [
        {
          "output_type": "stream",
          "text": [
            "0 152.0\n",
            "1 200.0\n",
            "2 140.0\n",
            "3 172.0\n",
            "4 200.0\n",
            "5 123.0\n",
            "6 174.0\n",
            "7 200.0\n",
            "8 133.0\n",
            "9 200.0\n"
          ],
          "name": "stdout"
        }
      ]
    },
    {
      "cell_type": "code",
      "metadata": {
        "id": "szKC0j808PhB",
        "colab_type": "code",
        "colab": {}
      },
      "source": [
        ""
      ],
      "execution_count": 0,
      "outputs": []
    }
  ]
}