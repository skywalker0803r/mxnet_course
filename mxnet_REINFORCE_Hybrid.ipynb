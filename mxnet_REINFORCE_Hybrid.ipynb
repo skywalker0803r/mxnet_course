{
  "nbformat": 4,
  "nbformat_minor": 0,
  "metadata": {
    "colab": {
      "name": "REINFORCE.ipynb",
      "provenance": [],
      "include_colab_link": true
    },
    "kernelspec": {
      "name": "python3",
      "display_name": "Python 3"
    }
  },
  "cells": [
    {
      "cell_type": "markdown",
      "metadata": {
        "id": "view-in-github",
        "colab_type": "text"
      },
      "source": [
        "<a href=\"https://colab.research.google.com/github/skywalker0803r/mxnet_course/blob/master/mxnet_REINFORCE_Hybrid.ipynb\" target=\"_parent\"><img src=\"https://colab.research.google.com/assets/colab-badge.svg\" alt=\"Open In Colab\"/></a>"
      ]
    },
    {
      "cell_type": "code",
      "metadata": {
        "id": "6u8SzL5cvnY0",
        "colab_type": "code",
        "colab": {}
      },
      "source": [
        "#!pip install mxnet\n",
        "import sys\n",
        "import mxnet  \n",
        "import gym\n",
        "import numpy as np  \n",
        "from mxnet import nd,autograd,init\n",
        "from mxnet.gluon import nn,trainer\n",
        "import matplotlib.pyplot as plt\n",
        "from mxnet.gluon import Trainer"
      ],
      "execution_count": 0,
      "outputs": []
    },
    {
      "cell_type": "markdown",
      "metadata": {
        "id": "SKCIv71r0-Wo",
        "colab_type": "text"
      },
      "source": [
        "# PolicyNetwork"
      ]
    },
    {
      "cell_type": "code",
      "metadata": {
        "id": "VLSoTkHf1mle",
        "colab_type": "code",
        "colab": {}
      },
      "source": [
        "def build_policy(net,num_actions):\n",
        "  with net.name_scope():\n",
        "    net.add(nn.Dense(128,activation='relu'))\n",
        "    net.add(nn.Dense(128,activation='relu'))\n",
        "    net.add(nn.Dense(num_actions))\n",
        "  return net"
      ],
      "execution_count": 0,
      "outputs": []
    },
    {
      "cell_type": "markdown",
      "metadata": {
        "id": "z2gHLjo9qF6J",
        "colab_type": "text"
      },
      "source": [
        "# env"
      ]
    },
    {
      "cell_type": "code",
      "metadata": {
        "id": "10IXxbZBqHHg",
        "colab_type": "code",
        "colab": {}
      },
      "source": [
        "env = gym.make('CartPole-v1')"
      ],
      "execution_count": 0,
      "outputs": []
    },
    {
      "cell_type": "markdown",
      "metadata": {
        "id": "tF-I0IfwqPCx",
        "colab_type": "text"
      },
      "source": [
        "# hyper params"
      ]
    },
    {
      "cell_type": "code",
      "metadata": {
        "id": "vazxcIzRqPNJ",
        "colab_type": "code",
        "colab": {}
      },
      "source": [
        "policy_net = build_policy(nn.HybridSequential(),env.action_space.n)\n",
        "policy_net.hybridize()\n",
        "policy_net.initialize(init=init.Xavier())\n",
        "\n",
        "trainer = Trainer(policy_net.collect_params(),'adam',{'learning_rate':0.001})\n",
        "\n",
        "max_episode_num = 1000\n",
        "max_steps = 10000"
      ],
      "execution_count": 0,
      "outputs": []
    },
    {
      "cell_type": "markdown",
      "metadata": {
        "id": "WV5VFcv_1Knl",
        "colab_type": "text"
      },
      "source": [
        "# main loop"
      ]
    },
    {
      "cell_type": "code",
      "metadata": {
        "id": "7oWV_Euh8BSO",
        "colab_type": "code",
        "outputId": "37368e2b-79df-4378-f09d-ff231abdfec1",
        "colab": {
          "base_uri": "https://localhost:8080/",
          "height": 534
        }
      },
      "source": [
        "all_rewards = []\n",
        "avg_all_rewards = []\n",
        "\n",
        "for episode in range(max_episode_num):\n",
        "  \n",
        "  state = env.reset()\n",
        "  log_probs,rewards = [],[]\n",
        "  \n",
        "  with autograd.record():\n",
        "    for t in range(max_steps):\n",
        "      state = nd.array(np.expand_dims(state, 0))\n",
        "      probs = nd.softmax(policy_net(state))\n",
        "      action,log_prob = nd.random.multinomial(probs,get_prob=True)\n",
        "      state, reward, done, _ = env.step(action.asnumpy()[0])\n",
        "      log_probs.append(log_prob)\n",
        "      rewards.append(reward)\n",
        "      if done:\n",
        "        break\n",
        "    \n",
        "    all_rewards.append(np.sum(rewards))\n",
        "    avg_all_rewards.append(np.mean(all_rewards[-10:]))\n",
        "\n",
        "    R = 0\n",
        "    for i in range(len(rewards)-1, -1, -1):\n",
        "      R = rewards[i] + 0.99 * R\n",
        "      rewards[i] = R\n",
        "    rewards = np.array(rewards)\n",
        "    rewards -= rewards.mean()\n",
        "    rewards /= rewards.std() + np.finfo(rewards.dtype).eps\n",
        "    \n",
        "    loss = []\n",
        "    for log_prob,Gt in zip(log_probs,rewards):\n",
        "      loss.append(log_prob*(-Gt))\n",
        "  \n",
        "  autograd.backward(loss)\n",
        "  trainer.step(t)\n",
        "  \n",
        "  # print info\n",
        "  if episode % 20 == 0:\n",
        "    print(episode,avg_all_rewards[-1])\n",
        "  # if solved\n",
        "  if avg_all_rewards[-1] >= 500:\n",
        "    print(episode,avg_all_rewards[-1],'solved')\n",
        "    break\n",
        "\n",
        "plt.plot(all_rewards)\n",
        "plt.plot(avg_all_rewards)\n",
        "plt.xlabel('Episode')\n",
        "plt.show()"
      ],
      "execution_count": 5,
      "outputs": [
        {
          "output_type": "stream",
          "text": [
            "0 10.0\n",
            "20 29.6\n",
            "40 29.6\n",
            "60 24.8\n",
            "80 34.9\n",
            "100 55.9\n",
            "120 91.5\n",
            "140 128.7\n",
            "160 103.9\n",
            "180 345.2\n",
            "200 344.1\n",
            "220 377.0\n",
            "240 445.4\n",
            "260 205.1\n",
            "275 500.0 solved\n"
          ],
          "name": "stdout"
        },
        {
          "output_type": "display_data",
          "data": {
            "image/png": "[encoded data removed]",
            "text/plain": [
              "<Figure size 432x288 with 1 Axes>"
            ]
          },
          "metadata": {
            "tags": []
          }
        }
      ]
    },
    {
      "cell_type": "code",
      "metadata": {
        "id": "ycOKgww1vKlx",
        "colab_type": "code",
        "colab": {}
      },
      "source": [
        "policy_net.export('my_model',epoch=800)"
      ],
      "execution_count": 0,
      "outputs": []
    },
    {
      "cell_type": "code",
      "metadata": {
        "id": "8ktJSOl9F_iW",
        "colab_type": "code",
        "colab": {}
      },
      "source": [
        "del policy_net"
      ],
      "execution_count": 0,
      "outputs": []
    },
    {
      "cell_type": "code",
      "metadata": {
        "id": "j5uxjDnZyBZU",
        "colab_type": "code",
        "outputId": "a8f71554-29df-4d18-f845-f85a30f45b2c",
        "colab": {
          "base_uri": "https://localhost:8080/",
          "height": 88
        }
      },
      "source": [
        "deserialized_net = nn.SymbolBlock.imports(\"my_model-symbol.json\", \n",
        "                                          ['data'], \n",
        "                                          \"my_model-0800.params\")"
      ],
      "execution_count": 8,
      "outputs": [
        {
          "output_type": "stream",
          "text": [
            "/usr/local/lib/python3.6/dist-packages/mxnet/gluon/block.py:1159: UserWarning: Cannot decide type for the following arguments. Consider providing them as input:\n",
            "\tdata: None\n",
            "  input_sym_arg_type = in_param.infer_type()[0]\n"
          ],
          "name": "stderr"
        }
      ]
    },
    {
      "cell_type": "code",
      "metadata": {
        "id": "q8ouRjQv7GBx",
        "colab_type": "code",
        "outputId": "f7882286-8df0-48a5-c88d-9e708bf452c1",
        "colab": {
          "base_uri": "https://localhost:8080/",
          "height": 187
        }
      },
      "source": [
        "env = gym.make('CartPole-v1')\n",
        "\n",
        "policy_net = deserialized_net\n",
        "\n",
        "for episode in range(10):\n",
        "  state = env.reset()\n",
        "  rewards = []\n",
        "  for t in range(max_steps):\n",
        "    state = nd.array(np.expand_dims(state, 0))\n",
        "    probs = nd.softmax(policy_net(state))\n",
        "    action = np.argmax(probs.asnumpy())\n",
        "    state, reward, done, _ = env.step(action)\n",
        "    rewards.append(reward)\n",
        "    if done:\n",
        "      break\n",
        "  \n",
        "  # print info\n",
        "  print(episode,np.sum(rewards))"
      ],
      "execution_count": 12,
      "outputs": [
        {
          "output_type": "stream",
          "text": [
            "0 500.0\n",
            "1 500.0\n",
            "2 500.0\n",
            "3 500.0\n",
            "4 500.0\n",
            "5 500.0\n",
            "6 500.0\n",
            "7 500.0\n",
            "8 500.0\n",
            "9 500.0\n"
          ],
          "name": "stdout"
        }
      ]
    },
    {
      "cell_type": "code",
      "metadata": {
        "id": "szKC0j808PhB",
        "colab_type": "code",
        "colab": {}
      },
      "source": [
        ""
      ],
      "execution_count": 0,
      "outputs": []
    }
  ]
}