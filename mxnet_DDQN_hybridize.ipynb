{
  "nbformat": 4,
  "nbformat_minor": 0,
  "metadata": {
    "colab": {
      "name": "mxnet_dqn.ipynb",
      "provenance": [],
      "collapsed_sections": [],
      "include_colab_link": true
    },
    "kernelspec": {
      "name": "python3",
      "display_name": "Python 3"
    }
  },
  "cells": [
    {
      "cell_type": "markdown",
      "metadata": {
        "id": "view-in-github",
        "colab_type": "text"
      },
      "source": [
        "<a href=\"https://colab.research.google.com/github/skywalker0803r/mxnet_course/blob/master/mxnet_DDQN_hybridize.ipynb\" target=\"_parent\"><img src=\"https://colab.research.google.com/assets/colab-badge.svg\" alt=\"Open In Colab\"/></a>"
      ]
    },
    {
      "cell_type": "code",
      "metadata": {
        "id": "RFBepfyUG8x1",
        "colab_type": "code",
        "colab": {}
      },
      "source": [
        "#!pip install mxnet\n",
        "import mxnet as mx\n",
        "import mxnet.ndarray as nd\n",
        "import mxnet.gluon as gluon\n",
        "from mxnet.gluon.loss import L2Loss\n",
        "import numpy as np\n",
        "from mxnet import init\n",
        "import mxnet.gluon.nn as nn\n",
        "import gym\n",
        "import matplotlib.pyplot as plt"
      ],
      "execution_count": 0,
      "outputs": []
    },
    {
      "cell_type": "markdown",
      "metadata": {
        "id": "EeauIatW2GBB",
        "colab_type": "text"
      },
      "source": [
        "# Hyper params"
      ]
    },
    {
      "cell_type": "code",
      "metadata": {
        "id": "Js1WdQzOzxMK",
        "colab_type": "code",
        "colab": {}
      },
      "source": [
        "BATCH_SIZE = 256          \n",
        "LR = 0.001                                                       \n",
        "EPSILON = 0.95                                                \n",
        "GAMMA = 0.95                             \n",
        "TARGET_REPLACE_ITER = 1000                          \n",
        "MEMORY_CAPACITY = 10000\n",
        "l2loss = L2Loss(batch_axis=0)"
      ],
      "execution_count": 0,
      "outputs": []
    },
    {
      "cell_type": "markdown",
      "metadata": {
        "id": "vjVqpXrb2IVA",
        "colab_type": "text"
      },
      "source": [
        "# env"
      ]
    },
    {
      "cell_type": "code",
      "metadata": {
        "id": "zgM-jjAg0Mm7",
        "colab_type": "code",
        "colab": {}
      },
      "source": [
        "env_name = 'CartPole-v0'\n",
        "env = gym.make(env_name)                 \n",
        "N_ACTIONS = env.action_space.n                       \n",
        "N_STATES = env.observation_space.shape[0]    "
      ],
      "execution_count": 0,
      "outputs": []
    },
    {
      "cell_type": "markdown",
      "metadata": {
        "id": "VfFZuUf32Jkn",
        "colab_type": "text"
      },
      "source": [
        "# Q_net"
      ]
    },
    {
      "cell_type": "code",
      "metadata": {
        "id": "J1Ol2ir1M6Ty",
        "colab_type": "code",
        "colab": {}
      },
      "source": [
        "def build_Q_net(net,num_actions):\n",
        "  with net.name_scope():\n",
        "    net.add(nn.Dense(128,activation='relu'))\n",
        "    net.add(nn.Dense(128,activation='relu'))\n",
        "    net.add(nn.Dense(num_actions))\n",
        "  return net"
      ],
      "execution_count": 0,
      "outputs": []
    },
    {
      "cell_type": "code",
      "metadata": {
        "id": "v29u65XpNQrv",
        "colab_type": "code",
        "colab": {}
      },
      "source": [
        "state = nd.random.normal(shape=(1,4))"
      ],
      "execution_count": 0,
      "outputs": []
    },
    {
      "cell_type": "code",
      "metadata": {
        "id": "yDn8zU4666o5",
        "colab_type": "code",
        "outputId": "7dda4ad7-b77f-4781-e98a-c7263ce299fb",
        "colab": {
          "base_uri": "https://localhost:8080/",
          "height": 70
        }
      },
      "source": [
        "q = build_Q_net(nn.HybridSequential(),N_ACTIONS)\n",
        "q.initialize(init=init.Xavier(),force_reinit=True)\n",
        "q(state)"
      ],
      "execution_count": 6,
      "outputs": [
        {
          "output_type": "execute_result",
          "data": {
            "text/plain": [
              "\n",
              "[[-0.20866524 -0.40591076]]\n",
              "<NDArray 1x2 @cpu(0)>"
            ]
          },
          "metadata": {
            "tags": []
          },
          "execution_count": 6
        }
      ]
    },
    {
      "cell_type": "markdown",
      "metadata": {
        "id": "pXt_8Brv40VK",
        "colab_type": "text"
      },
      "source": [
        "# copy params"
      ]
    },
    {
      "cell_type": "code",
      "metadata": {
        "id": "xWROrpMOCuwA",
        "colab_type": "code",
        "outputId": "ad6f4b1c-a2be-4154-93b5-5c7a8b101f47",
        "colab": {
          "base_uri": "https://localhost:8080/",
          "height": 230
        }
      },
      "source": [
        "q1 = build_Q_net(nn.HybridSequential(),N_ACTIONS)\n",
        "q1.initialize(init=init.Xavier())\n",
        "q2 = build_Q_net(nn.HybridSequential(),N_ACTIONS)\n",
        "q2.initialize(init=init.Xavier())\n",
        "\n",
        "# different\n",
        "print(q1(state))\n",
        "print(q2(state))\n",
        "\n",
        "# copy params\n",
        "q1.save_parameters(\"temp.params\")\n",
        "q2.load_parameters(\"temp.params\")\n",
        "\n",
        "# same\n",
        "print(q1(state))\n",
        "print(q2(state))"
      ],
      "execution_count": 7,
      "outputs": [
        {
          "output_type": "stream",
          "text": [
            "\n",
            "[[-0.31712627  0.0712393 ]]\n",
            "<NDArray 1x2 @cpu(0)>\n",
            "\n",
            "[[ 0.169029   -0.11568238]]\n",
            "<NDArray 1x2 @cpu(0)>\n",
            "\n",
            "[[-0.31712627  0.0712393 ]]\n",
            "<NDArray 1x2 @cpu(0)>\n",
            "\n",
            "[[-0.31712627  0.0712393 ]]\n",
            "<NDArray 1x2 @cpu(0)>\n"
          ],
          "name": "stdout"
        }
      ]
    },
    {
      "cell_type": "markdown",
      "metadata": {
        "id": "D5phbbLiGZTw",
        "colab_type": "text"
      },
      "source": [
        "# memory"
      ]
    },
    {
      "cell_type": "code",
      "metadata": {
        "id": "Ho5du-EZGDao",
        "colab_type": "code",
        "outputId": "19cd0b7a-1ada-40c2-c314-fb390f5a5322",
        "colab": {
          "base_uri": "https://localhost:8080/",
          "height": 34
        }
      },
      "source": [
        "s = [1,1]\n",
        "r = 1\n",
        "a = 1\n",
        "d = 1\n",
        "s_ = [1,1]\n",
        "transition = np.hstack((s,[a,r,d],s_))\n",
        "transition"
      ],
      "execution_count": 8,
      "outputs": [
        {
          "output_type": "execute_result",
          "data": {
            "text/plain": [
              "array([1, 1, 1, 1, 1, 1, 1])"
            ]
          },
          "metadata": {
            "tags": []
          },
          "execution_count": 8
        }
      ]
    },
    {
      "cell_type": "markdown",
      "metadata": {
        "id": "vGiqYeS19N_0",
        "colab_type": "text"
      },
      "source": [
        "# class DQN"
      ]
    },
    {
      "cell_type": "code",
      "metadata": {
        "id": "yp4Us4jk7Kdj",
        "colab_type": "code",
        "colab": {}
      },
      "source": [
        "class DQN(object):\n",
        "  def __init__(self,N_ACTIONS):\n",
        "    # eval_net\n",
        "    self.eval_net = build_Q_net(nn.HybridSequential(),N_ACTIONS)\n",
        "    self.eval_net.hybridize()\n",
        "    self.eval_net.initialize()#init=init.Xavier())\n",
        "    \n",
        "    # target_net\n",
        "    self.target_net = build_Q_net(nn.HybridSequential(),N_ACTIONS)\n",
        "    self.target_net.hybridize()\n",
        "    self.target_net.initialize()#init=init.Xavier())\n",
        "    \n",
        "    # initialize forward\n",
        "    random_x = nd.random_uniform(shape=(1,N_STATES))\n",
        "    _ = self.eval_net(random_x)\n",
        "    _ = self.target_net(random_x)\n",
        "\n",
        "    # initialize copy params\n",
        "    print('initialize copy params to target_net')\n",
        "    self.eval_net.save_parameters(\"temp.params\")\n",
        "    self.target_net.load_parameters(\"temp.params\")\n",
        "\n",
        "    # initialize memory\n",
        "    self.memory_counter = 0\n",
        "    self.memory = np.zeros(shape=(MEMORY_CAPACITY, N_STATES*2 + 3)) # state,[action,reward ,done],next_state N_STATES*2 +3\n",
        "    \n",
        "    # initialize trainer\n",
        "    self.trainer = gluon.Trainer(self.eval_net.collect_params(),'Adam',{'learning_rate':LR})\n",
        "\n",
        "    # record history\n",
        "    self.learn_step_counter = 0\n",
        "  \n",
        "  def choose_action(self,x,test=False):\n",
        "    # select best action\n",
        "    if (np.random.uniform() < EPSILON)|(test == True):\n",
        "      x = nd.array([x])\n",
        "      action_value = self.eval_net(x)\n",
        "      action = nd.argmax(action_value,axis=1).asscalar()\n",
        "      return int(action)\n",
        "    # select random action\n",
        "    else:\n",
        "      return np.random.randint(0,N_ACTIONS)\n",
        "  \n",
        "  def store_transition(self,s,a,r,d,s_):\n",
        "    # add transition to memory\n",
        "    transition = np.hstack((s,[a,r,d],s_))\n",
        "    index = self.memory_counter % MEMORY_CAPACITY\n",
        "    self.memory[index,:] = transition\n",
        "    self.memory_counter += 1\n",
        "  \n",
        "  def learn(self):\n",
        "    # record how many times of eval_net update\n",
        "    self.learn_step_counter += 1\n",
        "\n",
        "    # update target_net every TARGET_REPLACE_ITER\n",
        "    if self.learn_step_counter % TARGET_REPLACE_ITER == 0:\n",
        "      print('copy params to target_net')\n",
        "      self.eval_net.save_parameters(\"temp.params\")\n",
        "      self.target_net.load_parameters(\"temp.params\")\n",
        "    \n",
        "    # from memory sample a mini_batch_data\n",
        "    sample_index = np.random.choice(MEMORY_CAPACITY,BATCH_SIZE)\n",
        "    b_memory = self.memory[sample_index,:]\n",
        "    b_s = nd.array(b_memory[:,:N_STATES])\n",
        "    b_a = nd.array(b_memory[:,N_STATES:N_STATES+1])\n",
        "    b_r = nd.array(b_memory[:,N_STATES+1:N_STATES+2])\n",
        "    b_r = nd.squeeze(b_r)\n",
        "    b_d = nd.array(b_memory[:,N_STATES+2:N_STATES+3])\n",
        "    b_d = nd.squeeze(b_d)\n",
        "    b_s_= nd.array(b_memory[:,-N_STATES:])\n",
        "    \n",
        "    # caculate gradient\n",
        "    with mx.autograd.record():\n",
        "      # 1.target_net input b_s_(next_state) output q_sp\n",
        "      Q_sp = nd.max(self.target_net(b_s_),axis=1) # the max next_q_value\n",
        "      Q_sp = Q_sp * (nd.ones(BATCH_SIZE) - b_d) # if is done not have Q_sp\n",
        "      # 2.eval_net input b_s(state) output q_s_array\n",
        "      Q_s_array = self.eval_net(b_s) # Q_s_array\n",
        "      Q_s = nd.pick(Q_s_array,b_a,1) # the choose action's q_value\n",
        "      # count l2_loss\n",
        "      loss = nd.mean(l2loss(Q_s,(b_r + GAMMA*Q_sp)))\n",
        "    \n",
        "    # loss backward and trainer step\n",
        "    loss.backward()\n",
        "    self.trainer.step(BATCH_SIZE)"
      ],
      "execution_count": 0,
      "outputs": []
    },
    {
      "cell_type": "code",
      "metadata": {
        "id": "obZskD3E-Y6B",
        "colab_type": "code",
        "outputId": "c44e3a8d-bc0d-420a-882b-f2f2eace0d79",
        "colab": {
          "base_uri": "https://localhost:8080/",
          "height": 1000
        }
      },
      "source": [
        "all_rewards = []\n",
        "avg_rewards = []\n",
        "dqn = DQN(N_ACTIONS)\n",
        "for episode in range(1000):\n",
        "  s = env.reset()\n",
        "  rewards = []\n",
        "  while True:\n",
        "    # choose action\n",
        "    a = dqn.choose_action(s)\n",
        "    # do action on env\n",
        "    s_ ,r ,done ,info = env.step(a)\n",
        "    # store\n",
        "    rewards.append(r) \n",
        "    dqn.store_transition(s,a,r,int(done),s_)\n",
        "    # if have collect a lot of memory can learn\n",
        "    if dqn.memory_counter > BATCH_SIZE:\n",
        "      dqn.learn()\n",
        "    # if env done\n",
        "    if done:\n",
        "      break\n",
        "    # if env not done\n",
        "    else:\n",
        "      s = s_\n",
        "  # record this episode infomation \n",
        "  all_rewards.append(np.sum(rewards))\n",
        "  avg_rewards.append(np.mean(all_rewards[-10:]))\n",
        "  if episode % 10 == 0:\n",
        "    print(episode,avg_rewards[-1:])\n",
        "  if (all_rewards[-1] >= 200)&(avg_rewards[-1] >= 195):\n",
        "    print(episode,all_rewards[-1],avg_rewards[-1])\n",
        "    best_episode = episode\n",
        "    break"
      ],
      "execution_count": 10,
      "outputs": [
        {
          "output_type": "stream",
          "text": [
            "initialize copy params to target_net\n",
            "0 [12.0]\n",
            "10 [26.4]\n",
            "20 [13.5]\n",
            "30 [10.5]\n",
            "40 [10.9]\n",
            "50 [12.3]\n",
            "60 [17.1]\n",
            "70 [17.8]\n",
            "copy params to target_net\n",
            "80 [18.1]\n",
            "90 [11.7]\n",
            "100 [13.5]\n",
            "110 [13.8]\n",
            "120 [13.0]\n",
            "130 [14.9]\n",
            "140 [15.3]\n",
            "150 [14.7]\n",
            "copy params to target_net\n",
            "160 [13.7]\n",
            "170 [23.2]\n",
            "180 [23.3]\n",
            "190 [21.3]\n",
            "copy params to target_net\n",
            "200 [30.5]\n",
            "210 [73.9]\n",
            "copy params to target_net\n",
            "220 [92.0]\n",
            "copy params to target_net\n",
            "copy params to target_net\n",
            "230 [145.2]\n",
            "copy params to target_net\n",
            "240 [173.8]\n",
            "copy params to target_net\n",
            "copy params to target_net\n",
            "250 [189.0]\n",
            "copy params to target_net\n",
            "copy params to target_net\n",
            "260 [164.1]\n",
            "copy params to target_net\n",
            "copy params to target_net\n",
            "270 [170.4]\n",
            "copy params to target_net\n",
            "280 [175.6]\n",
            "copy params to target_net\n",
            "copy params to target_net\n",
            "290 [184.4]\n",
            "copy params to target_net\n",
            "copy params to target_net\n",
            "300 [178.1]\n",
            "copy params to target_net\n",
            "copy params to target_net\n",
            "310 [144.8]\n",
            "copy params to target_net\n",
            "320 [117.9]\n",
            "copy params to target_net\n",
            "330 [131.7]\n",
            "copy params to target_net\n",
            "340 [133.3]\n",
            "copy params to target_net\n",
            "copy params to target_net\n",
            "350 [128.3]\n",
            "copy params to target_net\n",
            "360 [130.4]\n",
            "copy params to target_net\n",
            "370 [104.7]\n",
            "copy params to target_net\n",
            "380 [83.2]\n",
            "copy params to target_net\n",
            "390 [92.7]\n",
            "copy params to target_net\n",
            "400 [128.1]\n",
            "copy params to target_net\n",
            "410 [136.4]\n",
            "copy params to target_net\n",
            "copy params to target_net\n",
            "420 [129.9]\n",
            "copy params to target_net\n",
            "430 [172.1]\n",
            "copy params to target_net\n",
            "copy params to target_net\n",
            "440 [168.6]\n",
            "copy params to target_net\n",
            "copy params to target_net\n",
            "448 200.0 196.6\n"
          ],
          "name": "stdout"
        }
      ]
    },
    {
      "cell_type": "code",
      "metadata": {
        "id": "fItQxcRAW5Fr",
        "colab_type": "code",
        "outputId": "a40d7d52-498b-45d7-c8b6-956760dc5f1d",
        "colab": {
          "base_uri": "https://localhost:8080/",
          "height": 278
        }
      },
      "source": [
        "plt.plot(all_rewards)\n",
        "plt.plot(avg_rewards)\n",
        "plt.xlabel('Episode')\n",
        "plt.show()"
      ],
      "execution_count": 11,
      "outputs": [
        {
          "output_type": "display_data",
          "data": {
            "image/png": "[encoded data removed]",
            "text/plain": [
              "<Figure size 432x288 with 1 Axes>"
            ]
          },
          "metadata": {
            "tags": []
          }
        }
      ]
    },
    {
      "cell_type": "markdown",
      "metadata": {
        "id": "6nj4yla4y6wv",
        "colab_type": "text"
      },
      "source": [
        "# save model"
      ]
    },
    {
      "cell_type": "code",
      "metadata": {
        "id": "WqSgxz54kPjq",
        "colab_type": "code",
        "colab": {
          "base_uri": "https://localhost:8080/",
          "height": 34
        },
        "outputId": "1c8a875b-27ef-4f02-8428-7f00a55d1857"
      },
      "source": [
        "save_path = 'env_{}_epoch_{}.params'.format(env_name,best_episode)\n",
        "dqn.eval_net.save_parameters(save_path)\n",
        "del dqn\n",
        "print('saved!')"
      ],
      "execution_count": 12,
      "outputs": [
        {
          "output_type": "stream",
          "text": [
            "saved!\n"
          ],
          "name": "stdout"
        }
      ]
    },
    {
      "cell_type": "markdown",
      "metadata": {
        "id": "IUZZ2CjZztHI",
        "colab_type": "text"
      },
      "source": [
        "# load model"
      ]
    },
    {
      "cell_type": "code",
      "metadata": {
        "id": "7s9PNTWnzgQc",
        "colab_type": "code",
        "colab": {
          "base_uri": "https://localhost:8080/",
          "height": 52
        },
        "outputId": "30d30b97-0b21-4a0f-f28f-d3d5606a75ab"
      },
      "source": [
        "dqn = DQN(N_ACTIONS)\n",
        "dqn.eval_net.load_parameters(save_path)\n",
        "print('loaded!')"
      ],
      "execution_count": 13,
      "outputs": [
        {
          "output_type": "stream",
          "text": [
            "initialize copy params to target_net\n",
            "loaded!\n"
          ],
          "name": "stdout"
        }
      ]
    },
    {
      "cell_type": "markdown",
      "metadata": {
        "id": "oVst45-Gzw-k",
        "colab_type": "text"
      },
      "source": [
        "# test model"
      ]
    },
    {
      "cell_type": "code",
      "metadata": {
        "id": "pkAkAHi-zp3A",
        "colab_type": "code",
        "colab": {
          "base_uri": "https://localhost:8080/",
          "height": 194
        },
        "outputId": "bed41c55-b39f-4686-f8c7-174a75c0d508"
      },
      "source": [
        "all_rewards = []\n",
        "for episode in range(10):\n",
        "  s = env.reset()\n",
        "  rewards = []\n",
        "  while True:\n",
        "    a = dqn.choose_action(s,test=True)\n",
        "    s_ ,r ,done ,info = env.step(a)\n",
        "    rewards.append(r) \n",
        "    if done:\n",
        "      break\n",
        "    s = s_ \n",
        "  all_rewards.append(np.sum(rewards))\n",
        "  print(episode,'score',all_rewards[-1:])"
      ],
      "execution_count": 16,
      "outputs": [
        {
          "output_type": "stream",
          "text": [
            "0 score [200.0]\n",
            "1 score [200.0]\n",
            "2 score [200.0]\n",
            "3 score [200.0]\n",
            "4 score [200.0]\n",
            "5 score [200.0]\n",
            "6 score [200.0]\n",
            "7 score [200.0]\n",
            "8 score [200.0]\n",
            "9 score [200.0]\n"
          ],
          "name": "stdout"
        }
      ]
    },
    {
      "cell_type": "code",
      "metadata": {
        "id": "_Zp-5mKPz2Bb",
        "colab_type": "code",
        "colab": {}
      },
      "source": [
        ""
      ],
      "execution_count": 0,
      "outputs": []
    }
  ]
}