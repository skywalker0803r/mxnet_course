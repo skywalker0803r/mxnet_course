{
  "nbformat": 4,
  "nbformat_minor": 0,
  "metadata": {
    "colab": {
      "name": "mxnet_ndarray.ipynb",
      "provenance": [],
      "collapsed_sections": [],
      "include_colab_link": true
    },
    "kernelspec": {
      "name": "python3",
      "display_name": "Python 3"
    }
  },
  "cells": [
    {
      "cell_type": "markdown",
      "metadata": {
        "id": "view-in-github",
        "colab_type": "text"
      },
      "source": [
        "<a href=\"https://colab.research.google.com/github/skywalker0803r/mxnet_course/blob/master/mxnet_ndarray.ipynb\" target=\"_parent\"><img src=\"https://colab.research.google.com/assets/colab-badge.svg\" alt=\"Open In Colab\"/></a>"
      ]
    },
    {
      "cell_type": "code",
      "metadata": {
        "id": "uHaQEYJdADF3",
        "colab_type": "code",
        "colab": {}
      },
      "source": [
        "#!pip install mxnet\n",
        "import seaborn as sns\n",
        "from mxnet import nd"
      ],
      "execution_count": 0,
      "outputs": []
    },
    {
      "cell_type": "code",
      "metadata": {
        "id": "NYXmujVRAP7y",
        "colab_type": "code",
        "colab": {
          "base_uri": "https://localhost:8080/",
          "height": 71
        },
        "outputId": "862383bd-27a0-45a4-e971-cad76fa485d5"
      },
      "source": [
        "X = nd.arange(12)\n",
        "X"
      ],
      "execution_count": 2,
      "outputs": [
        {
          "output_type": "execute_result",
          "data": {
            "text/plain": [
              "\n",
              "[ 0.  1.  2.  3.  4.  5.  6.  7.  8.  9. 10. 11.]\n",
              "<NDArray 12 @cpu(0)>"
            ]
          },
          "metadata": {
            "tags": []
          },
          "execution_count": 2
        }
      ]
    },
    {
      "cell_type": "code",
      "metadata": {
        "id": "REXtoPwDAgBe",
        "colab_type": "code",
        "colab": {
          "base_uri": "https://localhost:8080/",
          "height": 35
        },
        "outputId": "4eb8a351-3b74-4f46-b414-ced0bb0882fb"
      },
      "source": [
        "X.shape"
      ],
      "execution_count": 3,
      "outputs": [
        {
          "output_type": "execute_result",
          "data": {
            "text/plain": [
              "(12,)"
            ]
          },
          "metadata": {
            "tags": []
          },
          "execution_count": 3
        }
      ]
    },
    {
      "cell_type": "code",
      "metadata": {
        "id": "ZHXokQpRAv6z",
        "colab_type": "code",
        "colab": {
          "base_uri": "https://localhost:8080/",
          "height": 35
        },
        "outputId": "1f1cbd83-03cb-4210-a0d4-de685badc4d7"
      },
      "source": [
        "X.size"
      ],
      "execution_count": 4,
      "outputs": [
        {
          "output_type": "execute_result",
          "data": {
            "text/plain": [
              "12"
            ]
          },
          "metadata": {
            "tags": []
          },
          "execution_count": 4
        }
      ]
    },
    {
      "cell_type": "code",
      "metadata": {
        "id": "xcSPvkjSAwku",
        "colab_type": "code",
        "colab": {
          "base_uri": "https://localhost:8080/",
          "height": 107
        },
        "outputId": "67af0273-8d53-4983-f65b-81fa9ddd84ee"
      },
      "source": [
        "X = X.reshape(3,4)\n",
        "X"
      ],
      "execution_count": 5,
      "outputs": [
        {
          "output_type": "execute_result",
          "data": {
            "text/plain": [
              "\n",
              "[[ 0.  1.  2.  3.]\n",
              " [ 4.  5.  6.  7.]\n",
              " [ 8.  9. 10. 11.]]\n",
              "<NDArray 3x4 @cpu(0)>"
            ]
          },
          "metadata": {
            "tags": []
          },
          "execution_count": 5
        }
      ]
    },
    {
      "cell_type": "code",
      "metadata": {
        "id": "V_uvNFjAAyXT",
        "colab_type": "code",
        "colab": {
          "base_uri": "https://localhost:8080/",
          "height": 179
        },
        "outputId": "77229a03-588d-4d75-f36d-93c0e2d4916b"
      },
      "source": [
        "nd.zeros((2, 3, 4))"
      ],
      "execution_count": 6,
      "outputs": [
        {
          "output_type": "execute_result",
          "data": {
            "text/plain": [
              "\n",
              "[[[0. 0. 0. 0.]\n",
              "  [0. 0. 0. 0.]\n",
              "  [0. 0. 0. 0.]]\n",
              "\n",
              " [[0. 0. 0. 0.]\n",
              "  [0. 0. 0. 0.]\n",
              "  [0. 0. 0. 0.]]]\n",
              "<NDArray 2x3x4 @cpu(0)>"
            ]
          },
          "metadata": {
            "tags": []
          },
          "execution_count": 6
        }
      ]
    },
    {
      "cell_type": "code",
      "metadata": {
        "id": "SJj3FNBrA5dS",
        "colab_type": "code",
        "colab": {
          "base_uri": "https://localhost:8080/",
          "height": 107
        },
        "outputId": "c2cbfc61-cccc-460e-87b9-976047009bad"
      },
      "source": [
        "nd.ones((3, 4))"
      ],
      "execution_count": 7,
      "outputs": [
        {
          "output_type": "execute_result",
          "data": {
            "text/plain": [
              "\n",
              "[[1. 1. 1. 1.]\n",
              " [1. 1. 1. 1.]\n",
              " [1. 1. 1. 1.]]\n",
              "<NDArray 3x4 @cpu(0)>"
            ]
          },
          "metadata": {
            "tags": []
          },
          "execution_count": 7
        }
      ]
    },
    {
      "cell_type": "code",
      "metadata": {
        "id": "3zkKDaBbA7wj",
        "colab_type": "code",
        "colab": {
          "base_uri": "https://localhost:8080/",
          "height": 107
        },
        "outputId": "314e0dff-17fe-4d8f-a201-aa67489d3216"
      },
      "source": [
        "Y = nd.array([[2, 1, 4, 3], [1, 2, 3, 4], [4, 3, 2, 1]])\n",
        "Y"
      ],
      "execution_count": 8,
      "outputs": [
        {
          "output_type": "execute_result",
          "data": {
            "text/plain": [
              "\n",
              "[[2. 1. 4. 3.]\n",
              " [1. 2. 3. 4.]\n",
              " [4. 3. 2. 1.]]\n",
              "<NDArray 3x4 @cpu(0)>"
            ]
          },
          "metadata": {
            "tags": []
          },
          "execution_count": 8
        }
      ]
    },
    {
      "cell_type": "code",
      "metadata": {
        "id": "EaZMV2rmA9wl",
        "colab_type": "code",
        "colab": {
          "base_uri": "https://localhost:8080/",
          "height": 283
        },
        "outputId": "9c5cc75c-8800-45f6-f4a9-a35397def7b6"
      },
      "source": [
        "sns.kdeplot(nd.random.normal(0,1, shape=(10000,)).asnumpy())"
      ],
      "execution_count": 9,
      "outputs": [
        {
          "output_type": "execute_result",
          "data": {
            "text/plain": [
              "<matplotlib.axes._subplots.AxesSubplot at 0x7fc3d9d15ba8>"
            ]
          },
          "metadata": {
            "tags": []
          },
          "execution_count": 9
        },
        {
          "output_type": "display_data",
          "data": {
            "image/png": "[encoded data removed]",
            "text/plain": [
              "<Figure size 432x288 with 1 Axes>"
            ]
          },
          "metadata": {
            "tags": []
          }
        }
      ]
    },
    {
      "cell_type": "code",
      "metadata": {
        "id": "t1Z0CyquA_5S",
        "colab_type": "code",
        "colab": {
          "base_uri": "https://localhost:8080/",
          "height": 107
        },
        "outputId": "feea01e1-db0d-4dba-edb0-02ead811dd59"
      },
      "source": [
        "X + Y"
      ],
      "execution_count": 10,
      "outputs": [
        {
          "output_type": "execute_result",
          "data": {
            "text/plain": [
              "\n",
              "[[ 2.  2.  6.  6.]\n",
              " [ 5.  7.  9. 11.]\n",
              " [12. 12. 12. 12.]]\n",
              "<NDArray 3x4 @cpu(0)>"
            ]
          },
          "metadata": {
            "tags": []
          },
          "execution_count": 10
        }
      ]
    },
    {
      "cell_type": "code",
      "metadata": {
        "id": "6HdJ-ODFCEqA",
        "colab_type": "code",
        "colab": {
          "base_uri": "https://localhost:8080/",
          "height": 107
        },
        "outputId": "696ce001-c78b-4610-aa10-c93d3210354e"
      },
      "source": [
        "X * Y"
      ],
      "execution_count": 11,
      "outputs": [
        {
          "output_type": "execute_result",
          "data": {
            "text/plain": [
              "\n",
              "[[ 0.  1.  8.  9.]\n",
              " [ 4. 10. 18. 28.]\n",
              " [32. 27. 20. 11.]]\n",
              "<NDArray 3x4 @cpu(0)>"
            ]
          },
          "metadata": {
            "tags": []
          },
          "execution_count": 11
        }
      ]
    },
    {
      "cell_type": "code",
      "metadata": {
        "id": "qctuA__pCVXP",
        "colab_type": "code",
        "colab": {
          "base_uri": "https://localhost:8080/",
          "height": 107
        },
        "outputId": "555e870d-de39-440c-e650-70dbe7869f24"
      },
      "source": [
        "X - Y"
      ],
      "execution_count": 12,
      "outputs": [
        {
          "output_type": "execute_result",
          "data": {
            "text/plain": [
              "\n",
              "[[-2.  0. -2.  0.]\n",
              " [ 3.  3.  3.  3.]\n",
              " [ 4.  6.  8. 10.]]\n",
              "<NDArray 3x4 @cpu(0)>"
            ]
          },
          "metadata": {
            "tags": []
          },
          "execution_count": 12
        }
      ]
    },
    {
      "cell_type": "code",
      "metadata": {
        "id": "Lt4OZI-lCWxY",
        "colab_type": "code",
        "colab": {
          "base_uri": "https://localhost:8080/",
          "height": 107
        },
        "outputId": "b8d28357-7383-4409-f96b-058a638e02ad"
      },
      "source": [
        "X / Y"
      ],
      "execution_count": 13,
      "outputs": [
        {
          "output_type": "execute_result",
          "data": {
            "text/plain": [
              "\n",
              "[[ 0.    1.    0.5   1.  ]\n",
              " [ 4.    2.5   2.    1.75]\n",
              " [ 2.    3.    5.   11.  ]]\n",
              "<NDArray 3x4 @cpu(0)>"
            ]
          },
          "metadata": {
            "tags": []
          },
          "execution_count": 13
        }
      ]
    },
    {
      "cell_type": "code",
      "metadata": {
        "id": "5PaoWPEUCXo6",
        "colab_type": "code",
        "colab": {
          "base_uri": "https://localhost:8080/",
          "height": 107
        },
        "outputId": "cc2c12a5-1c63-4f40-de44-66081e3d64d3"
      },
      "source": [
        "X.log()"
      ],
      "execution_count": 17,
      "outputs": [
        {
          "output_type": "execute_result",
          "data": {
            "text/plain": [
              "\n",
              "[[     -inf 0.        0.6931472 1.0986123]\n",
              " [1.3862944 1.609438  1.7917595 1.9459101]\n",
              " [2.0794415 2.1972246 2.3025851 2.3978953]]\n",
              "<NDArray 3x4 @cpu(0)>"
            ]
          },
          "metadata": {
            "tags": []
          },
          "execution_count": 17
        }
      ]
    },
    {
      "cell_type": "code",
      "metadata": {
        "id": "AmzH6yHGCadw",
        "colab_type": "code",
        "colab": {
          "base_uri": "https://localhost:8080/",
          "height": 107
        },
        "outputId": "bd662dc1-0405-4eb2-c7d0-09f4edb5eb52"
      },
      "source": [
        "Y.exp()"
      ],
      "execution_count": 18,
      "outputs": [
        {
          "output_type": "execute_result",
          "data": {
            "text/plain": [
              "\n",
              "[[ 7.389056   2.7182817 54.59815   20.085537 ]\n",
              " [ 2.7182817  7.389056  20.085537  54.59815  ]\n",
              " [54.59815   20.085537   7.389056   2.7182817]]\n",
              "<NDArray 3x4 @cpu(0)>"
            ]
          },
          "metadata": {
            "tags": []
          },
          "execution_count": 18
        }
      ]
    },
    {
      "cell_type": "code",
      "metadata": {
        "id": "DdVvgkPHCcY5",
        "colab_type": "code",
        "colab": {
          "base_uri": "https://localhost:8080/",
          "height": 107
        },
        "outputId": "37bfece3-40fc-4c92-b7fb-0bb17d0bd813"
      },
      "source": [
        "nd.dot(X, Y.T)"
      ],
      "execution_count": 19,
      "outputs": [
        {
          "output_type": "execute_result",
          "data": {
            "text/plain": [
              "\n",
              "[[ 18.  20.  10.]\n",
              " [ 58.  60.  50.]\n",
              " [ 98. 100.  90.]]\n",
              "<NDArray 3x3 @cpu(0)>"
            ]
          },
          "metadata": {
            "tags": []
          },
          "execution_count": 19
        }
      ]
    },
    {
      "cell_type": "code",
      "metadata": {
        "id": "_rAmRdXaChX3",
        "colab_type": "code",
        "colab": {
          "base_uri": "https://localhost:8080/",
          "height": 161
        },
        "outputId": "e227561a-21e8-4867-b255-40a071736411"
      },
      "source": [
        "nd.concat(X, Y, dim=0)"
      ],
      "execution_count": 21,
      "outputs": [
        {
          "output_type": "execute_result",
          "data": {
            "text/plain": [
              "\n",
              "[[ 0.  1.  2.  3.]\n",
              " [ 4.  5.  6.  7.]\n",
              " [ 8.  9. 10. 11.]\n",
              " [ 2.  1.  4.  3.]\n",
              " [ 1.  2.  3.  4.]\n",
              " [ 4.  3.  2.  1.]]\n",
              "<NDArray 6x4 @cpu(0)>"
            ]
          },
          "metadata": {
            "tags": []
          },
          "execution_count": 21
        }
      ]
    },
    {
      "cell_type": "code",
      "metadata": {
        "id": "HGjEEytrCl1m",
        "colab_type": "code",
        "colab": {
          "base_uri": "https://localhost:8080/",
          "height": 107
        },
        "outputId": "9ad758ce-9042-4fa2-bae9-557944a13626"
      },
      "source": [
        "nd.concat(X, Y, dim=1)"
      ],
      "execution_count": 22,
      "outputs": [
        {
          "output_type": "execute_result",
          "data": {
            "text/plain": [
              "\n",
              "[[ 0.  1.  2.  3.  2.  1.  4.  3.]\n",
              " [ 4.  5.  6.  7.  1.  2.  3.  4.]\n",
              " [ 8.  9. 10. 11.  4.  3.  2.  1.]]\n",
              "<NDArray 3x8 @cpu(0)>"
            ]
          },
          "metadata": {
            "tags": []
          },
          "execution_count": 22
        }
      ]
    },
    {
      "cell_type": "code",
      "metadata": {
        "id": "3XMYEDQCCns5",
        "colab_type": "code",
        "colab": {
          "base_uri": "https://localhost:8080/",
          "height": 107
        },
        "outputId": "013e31ba-1cc0-4fc2-dd94-916f6a0f9510"
      },
      "source": [
        "X == Y"
      ],
      "execution_count": 23,
      "outputs": [
        {
          "output_type": "execute_result",
          "data": {
            "text/plain": [
              "\n",
              "[[0. 1. 0. 1.]\n",
              " [0. 0. 0. 0.]\n",
              " [0. 0. 0. 0.]]\n",
              "<NDArray 3x4 @cpu(0)>"
            ]
          },
          "metadata": {
            "tags": []
          },
          "execution_count": 23
        }
      ]
    },
    {
      "cell_type": "code",
      "metadata": {
        "id": "9XsobcP3Cqdw",
        "colab_type": "code",
        "colab": {
          "base_uri": "https://localhost:8080/",
          "height": 71
        },
        "outputId": "985872e2-ee0e-451f-960a-b5d7b5bd026f"
      },
      "source": [
        "X.sum()"
      ],
      "execution_count": 28,
      "outputs": [
        {
          "output_type": "execute_result",
          "data": {
            "text/plain": [
              "\n",
              "[66.]\n",
              "<NDArray 1 @cpu(0)>"
            ]
          },
          "metadata": {
            "tags": []
          },
          "execution_count": 28
        }
      ]
    },
    {
      "cell_type": "code",
      "metadata": {
        "id": "nHK9IzJzCt0n",
        "colab_type": "code",
        "colab": {
          "base_uri": "https://localhost:8080/",
          "height": 35
        },
        "outputId": "e00ab806-c7f2-4a44-909f-928af04d2cee"
      },
      "source": [
        "X.norm().asscalar()"
      ],
      "execution_count": 29,
      "outputs": [
        {
          "output_type": "execute_result",
          "data": {
            "text/plain": [
              "22.494442"
            ]
          },
          "metadata": {
            "tags": []
          },
          "execution_count": 29
        }
      ]
    },
    {
      "cell_type": "markdown",
      "metadata": {
        "id": "uQ_snjivDIzV",
        "colab_type": "text"
      },
      "source": [
        "# 廣播機制"
      ]
    },
    {
      "cell_type": "code",
      "metadata": {
        "id": "TQKvuKCFCypv",
        "colab_type": "code",
        "colab": {
          "base_uri": "https://localhost:8080/",
          "height": 143
        },
        "outputId": "a970e451-6d1e-4182-a219-947e6278ea71"
      },
      "source": [
        "A = nd.arange(3).reshape((3, 1))\n",
        "B = nd.arange(2).reshape((1, 2))\n",
        "A, B"
      ],
      "execution_count": 30,
      "outputs": [
        {
          "output_type": "execute_result",
          "data": {
            "text/plain": [
              "(\n",
              " [[0.]\n",
              "  [1.]\n",
              "  [2.]]\n",
              " <NDArray 3x1 @cpu(0)>, \n",
              " [[0. 1.]]\n",
              " <NDArray 1x2 @cpu(0)>)"
            ]
          },
          "metadata": {
            "tags": []
          },
          "execution_count": 30
        }
      ]
    },
    {
      "cell_type": "code",
      "metadata": {
        "id": "twHw1zXrDOGh",
        "colab_type": "code",
        "colab": {
          "base_uri": "https://localhost:8080/",
          "height": 107
        },
        "outputId": "b4ebddc1-c8a0-4e0f-b28c-841648c7880f"
      },
      "source": [
        "A + B"
      ],
      "execution_count": 31,
      "outputs": [
        {
          "output_type": "execute_result",
          "data": {
            "text/plain": [
              "\n",
              "[[0. 1.]\n",
              " [1. 2.]\n",
              " [2. 3.]]\n",
              "<NDArray 3x2 @cpu(0)>"
            ]
          },
          "metadata": {
            "tags": []
          },
          "execution_count": 31
        }
      ]
    },
    {
      "cell_type": "code",
      "metadata": {
        "id": "2QEAFHutDXHA",
        "colab_type": "code",
        "colab": {
          "base_uri": "https://localhost:8080/",
          "height": 107
        },
        "outputId": "350a8304-c26a-4e72-ba03-169f61dafd0d"
      },
      "source": [
        "X"
      ],
      "execution_count": 34,
      "outputs": [
        {
          "output_type": "execute_result",
          "data": {
            "text/plain": [
              "\n",
              "[[ 0.  1.  2.  3.]\n",
              " [ 4.  5.  6.  7.]\n",
              " [ 8.  9. 10. 11.]]\n",
              "<NDArray 3x4 @cpu(0)>"
            ]
          },
          "metadata": {
            "tags": []
          },
          "execution_count": 34
        }
      ]
    },
    {
      "cell_type": "code",
      "metadata": {
        "id": "LcBvxqxcDP9R",
        "colab_type": "code",
        "colab": {
          "base_uri": "https://localhost:8080/",
          "height": 89
        },
        "outputId": "877ab18e-c879-4a78-f935-d8261b426a17"
      },
      "source": [
        "X[1:3]"
      ],
      "execution_count": 35,
      "outputs": [
        {
          "output_type": "execute_result",
          "data": {
            "text/plain": [
              "\n",
              "[[ 4.  5.  6.  7.]\n",
              " [ 8.  9. 10. 11.]]\n",
              "<NDArray 2x4 @cpu(0)>"
            ]
          },
          "metadata": {
            "tags": []
          },
          "execution_count": 35
        }
      ]
    },
    {
      "cell_type": "code",
      "metadata": {
        "id": "wtMKBWfWDSX4",
        "colab_type": "code",
        "colab": {
          "base_uri": "https://localhost:8080/",
          "height": 71
        },
        "outputId": "d3b557d0-ade8-47aa-ee5c-135dd6dc790a"
      },
      "source": [
        "X[1, 2]"
      ],
      "execution_count": 36,
      "outputs": [
        {
          "output_type": "execute_result",
          "data": {
            "text/plain": [
              "\n",
              "[6.]\n",
              "<NDArray 1 @cpu(0)>"
            ]
          },
          "metadata": {
            "tags": []
          },
          "execution_count": 36
        }
      ]
    },
    {
      "cell_type": "code",
      "metadata": {
        "id": "umKLdty4DU9h",
        "colab_type": "code",
        "colab": {
          "base_uri": "https://localhost:8080/",
          "height": 71
        },
        "outputId": "9e2eff50-d62d-4163-daea-eab20f170bc4"
      },
      "source": [
        "X[1:2,:] "
      ],
      "execution_count": 39,
      "outputs": [
        {
          "output_type": "execute_result",
          "data": {
            "text/plain": [
              "\n",
              "[[4. 5. 6. 7.]]\n",
              "<NDArray 1x4 @cpu(0)>"
            ]
          },
          "metadata": {
            "tags": []
          },
          "execution_count": 39
        }
      ]
    },
    {
      "cell_type": "markdown",
      "metadata": {
        "id": "iX_GQ3TkDnY3",
        "colab_type": "text"
      },
      "source": [
        "# MEMORY"
      ]
    },
    {
      "cell_type": "code",
      "metadata": {
        "id": "NLbqvA8kDfBW",
        "colab_type": "code",
        "colab": {
          "base_uri": "https://localhost:8080/",
          "height": 35
        },
        "outputId": "58f2e5c9-2792-43f0-a0a2-892c3354e3fe"
      },
      "source": [
        "before = id(Y)\n",
        "Y = Y + X\n",
        "id(Y) == before"
      ],
      "execution_count": 40,
      "outputs": [
        {
          "output_type": "execute_result",
          "data": {
            "text/plain": [
              "False"
            ]
          },
          "metadata": {
            "tags": []
          },
          "execution_count": 40
        }
      ]
    },
    {
      "cell_type": "code",
      "metadata": {
        "id": "8aq_c4XKDrIl",
        "colab_type": "code",
        "colab": {
          "base_uri": "https://localhost:8080/",
          "height": 125
        },
        "outputId": "83ef3334-13ca-40e8-d3ca-f58f5314b274"
      },
      "source": [
        "Z = Y.zeros_like()\n",
        "print(Z)\n",
        "before = id(Z)\n",
        "Z[:] = X + Y\n",
        "id(Z) == before"
      ],
      "execution_count": 44,
      "outputs": [
        {
          "output_type": "stream",
          "text": [
            "\n",
            "[[0. 0. 0. 0.]\n",
            " [0. 0. 0. 0.]\n",
            " [0. 0. 0. 0.]]\n",
            "<NDArray 3x4 @cpu(0)>\n"
          ],
          "name": "stdout"
        },
        {
          "output_type": "execute_result",
          "data": {
            "text/plain": [
              "True"
            ]
          },
          "metadata": {
            "tags": []
          },
          "execution_count": 44
        }
      ]
    },
    {
      "cell_type": "code",
      "metadata": {
        "id": "96U9vkHGDuoX",
        "colab_type": "code",
        "colab": {
          "base_uri": "https://localhost:8080/",
          "height": 35
        },
        "outputId": "40fb07ba-ae13-450b-db3a-c4ab0ad2979a"
      },
      "source": [
        "nd.elemwise_add(X, Y, out=Z)\n",
        "id(Z) == before"
      ],
      "execution_count": 45,
      "outputs": [
        {
          "output_type": "execute_result",
          "data": {
            "text/plain": [
              "True"
            ]
          },
          "metadata": {
            "tags": []
          },
          "execution_count": 45
        }
      ]
    },
    {
      "cell_type": "code",
      "metadata": {
        "id": "gJUlkDuBEK8Q",
        "colab_type": "code",
        "colab": {
          "base_uri": "https://localhost:8080/",
          "height": 35
        },
        "outputId": "ef6ac10d-0f96-41a6-aa69-524f5ef60419"
      },
      "source": [
        "before = id(X)\n",
        "X += Y\n",
        "id(X) == before"
      ],
      "execution_count": 46,
      "outputs": [
        {
          "output_type": "execute_result",
          "data": {
            "text/plain": [
              "True"
            ]
          },
          "metadata": {
            "tags": []
          },
          "execution_count": 46
        }
      ]
    },
    {
      "cell_type": "markdown",
      "metadata": {
        "id": "PhCxQU5aERb-",
        "colab_type": "text"
      },
      "source": [
        "# NDArray和NumPy相互变换¶"
      ]
    },
    {
      "cell_type": "code",
      "metadata": {
        "id": "CVKtAGz_EOnJ",
        "colab_type": "code",
        "colab": {
          "base_uri": "https://localhost:8080/",
          "height": 89
        },
        "outputId": "74336180-97a5-4dcc-d94b-1126265ee9ae"
      },
      "source": [
        "import numpy as np\n",
        "\n",
        "P = np.ones((2, 3))\n",
        "D = nd.array(P)\n",
        "D"
      ],
      "execution_count": 47,
      "outputs": [
        {
          "output_type": "execute_result",
          "data": {
            "text/plain": [
              "\n",
              "[[1. 1. 1.]\n",
              " [1. 1. 1.]]\n",
              "<NDArray 2x3 @cpu(0)>"
            ]
          },
          "metadata": {
            "tags": []
          },
          "execution_count": 47
        }
      ]
    },
    {
      "cell_type": "code",
      "metadata": {
        "id": "mV2Prz1KEWrV",
        "colab_type": "code",
        "colab": {
          "base_uri": "https://localhost:8080/",
          "height": 53
        },
        "outputId": "c086f86b-3f39-442a-dad7-c7adc2f9191e"
      },
      "source": [
        "D.asnumpy()"
      ],
      "execution_count": 48,
      "outputs": [
        {
          "output_type": "execute_result",
          "data": {
            "text/plain": [
              "array([[1., 1., 1.],\n",
              "       [1., 1., 1.]], dtype=float32)"
            ]
          },
          "metadata": {
            "tags": []
          },
          "execution_count": 48
        }
      ]
    },
    {
      "cell_type": "code",
      "metadata": {
        "id": "dfqbV1iDEbNr",
        "colab_type": "code",
        "colab": {}
      },
      "source": [
        ""
      ],
      "execution_count": 0,
      "outputs": []
    }
  ]
}