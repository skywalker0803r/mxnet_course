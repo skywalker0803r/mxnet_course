{
  "nbformat": 4,
  "nbformat_minor": 0,
  "metadata": {
    "colab": {
      "name": "mxnet_gluon_linear_regression.ipynb",
      "provenance": [],
      "include_colab_link": true
    },
    "kernelspec": {
      "name": "python3",
      "display_name": "Python 3"
    }
  },
  "cells": [
    {
      "cell_type": "markdown",
      "metadata": {
        "id": "view-in-github",
        "colab_type": "text"
      },
      "source": [
        "<a href=\"https://colab.research.google.com/github/skywalker0803r/mxnet_course/blob/master/mxnet_gluon_linear_regression.ipynb\" target=\"_parent\"><img src=\"https://colab.research.google.com/assets/colab-badge.svg\" alt=\"Open In Colab\"/></a>"
      ]
    },
    {
      "cell_type": "code",
      "metadata": {
        "id": "RrHlF1E6eMZ_",
        "colab_type": "code",
        "colab": {}
      },
      "source": [
        "#!pip install mxnet\n",
        "from mxnet import autograd,nd\n",
        "\n",
        "num_inputs = 2\n",
        "num_examples = 1000\n",
        "true_w = [2, -3.4]\n",
        "true_b = 4.2\n",
        "features = nd.random.normal(scale=1, shape=(num_examples, num_inputs))\n",
        "labels = true_w[0] * features[:, 0] + true_w[1] * features[:, 1] + true_b\n",
        "labels += nd.random.normal(scale=0.01, shape=labels.shape)"
      ],
      "execution_count": 0,
      "outputs": []
    },
    {
      "cell_type": "markdown",
      "metadata": {
        "id": "e-aKs2UTestN",
        "colab_type": "text"
      },
      "source": [
        "# batch data"
      ]
    },
    {
      "cell_type": "code",
      "metadata": {
        "id": "PijYjVFmebcm",
        "colab_type": "code",
        "colab": {}
      },
      "source": [
        "from mxnet.gluon import data as gdata\n",
        "\n",
        "batch_size = 10\n",
        "# 将训练数据的特征和标签组合\n",
        "dataset = gdata.ArrayDataset(features, labels)\n",
        "# 随机读取小批量\n",
        "data_iter = gdata.DataLoader(dataset, batch_size, shuffle=True)"
      ],
      "execution_count": 0,
      "outputs": []
    },
    {
      "cell_type": "code",
      "metadata": {
        "id": "0jhtrycWeylO",
        "colab_type": "code",
        "colab": {
          "base_uri": "https://localhost:8080/",
          "height": 287
        },
        "outputId": "47d73fc3-f7d7-4180-975c-30320eb76ccf"
      },
      "source": [
        "for X, y in data_iter:\n",
        "    print(X, y)\n",
        "    break"
      ],
      "execution_count": 3,
      "outputs": [
        {
          "output_type": "stream",
          "text": [
            "\n",
            "[[-1.0940087   0.9465744 ]\n",
            " [-0.9924796   1.1233943 ]\n",
            " [-0.61924976 -1.2270768 ]\n",
            " [-0.96521896  0.43817237]\n",
            " [-0.00357558  0.43679187]\n",
            " [-1.0267551   0.82085365]\n",
            " [-1.95122    -1.0635319 ]\n",
            " [ 0.542846    0.19992658]\n",
            " [ 0.82249576  0.68154025]\n",
            " [-0.42326602 -0.60970175]]\n",
            "<NDArray 10x2 @cpu(0)> \n",
            "[-1.2060806  -1.6139268   7.137101    0.77646625  2.705378   -0.65667355\n",
            "  3.9271483   4.6108565   3.5357232   5.427304  ]\n",
            "<NDArray 10 @cpu(0)>\n"
          ],
          "name": "stdout"
        }
      ]
    },
    {
      "cell_type": "markdown",
      "metadata": {
        "id": "4iHjX-7ze3fE",
        "colab_type": "text"
      },
      "source": [
        "# define model"
      ]
    },
    {
      "cell_type": "code",
      "metadata": {
        "id": "H08edd44e1z0",
        "colab_type": "code",
        "colab": {}
      },
      "source": [
        "from mxnet.gluon import nn\n",
        "from mxnet import init\n",
        "\n",
        "net = nn.Sequential()\n",
        "net.add(nn.Dense(1))\n",
        "net.initialize(init.Normal(sigma=0.01))"
      ],
      "execution_count": 0,
      "outputs": []
    },
    {
      "cell_type": "markdown",
      "metadata": {
        "id": "NZnxAC7VfG_g",
        "colab_type": "text"
      },
      "source": [
        "# define loss"
      ]
    },
    {
      "cell_type": "code",
      "metadata": {
        "id": "hiEWFimRe9PX",
        "colab_type": "code",
        "colab": {}
      },
      "source": [
        "from mxnet.gluon import loss as gloss\n",
        "\n",
        "loss = gloss.L2Loss()  # 平方损失又称L2范数损失"
      ],
      "execution_count": 0,
      "outputs": []
    },
    {
      "cell_type": "markdown",
      "metadata": {
        "id": "E5AnGAyBfM-s",
        "colab_type": "text"
      },
      "source": [
        "# define trainer"
      ]
    },
    {
      "cell_type": "code",
      "metadata": {
        "id": "YPmu2GyvfKO7",
        "colab_type": "code",
        "colab": {}
      },
      "source": [
        "from mxnet import gluon\n",
        "\n",
        "trainer = gluon.Trainer(net.collect_params(), 'sgd', {'learning_rate': 0.03})"
      ],
      "execution_count": 0,
      "outputs": []
    },
    {
      "cell_type": "markdown",
      "metadata": {
        "id": "8apJq6WAfTut",
        "colab_type": "text"
      },
      "source": [
        "# trainning"
      ]
    },
    {
      "cell_type": "code",
      "metadata": {
        "id": "FUSxRbRxfR5_",
        "colab_type": "code",
        "colab": {
          "base_uri": "https://localhost:8080/",
          "height": 107
        },
        "outputId": "34bc1bf9-b642-41bf-8537-47661328ec55"
      },
      "source": [
        "num_epochs = 5\n",
        "for epoch in range(1, num_epochs + 1):\n",
        "    for X, y in data_iter: #batch data\n",
        "        with autograd.record():\n",
        "            l = loss(net(X), y) #forward and count loss \n",
        "        l.backward() # loss backward\n",
        "        trainer.step(batch_size) # update weight & bias\n",
        "    l = loss(net(features), labels)\n",
        "    print('epoch %d, loss: %f' % (epoch, l.mean().asnumpy()))"
      ],
      "execution_count": 7,
      "outputs": [
        {
          "output_type": "stream",
          "text": [
            "epoch 1, loss: 0.040746\n",
            "epoch 2, loss: 0.000154\n",
            "epoch 3, loss: 0.000050\n",
            "epoch 4, loss: 0.000050\n",
            "epoch 5, loss: 0.000050\n"
          ],
          "name": "stdout"
        }
      ]
    },
    {
      "cell_type": "code",
      "metadata": {
        "id": "_c3VHav8fxss",
        "colab_type": "code",
        "colab": {
          "base_uri": "https://localhost:8080/",
          "height": 71
        },
        "outputId": "b6921a1c-4e4f-49c2-ddd6-96b3bd38ef32"
      },
      "source": [
        "dense = net[0]\n",
        "true_w, dense.weight.data()"
      ],
      "execution_count": 8,
      "outputs": [
        {
          "output_type": "execute_result",
          "data": {
            "text/plain": [
              "([2, -3.4], \n",
              " [[ 1.9998696 -3.4003716]]\n",
              " <NDArray 1x2 @cpu(0)>)"
            ]
          },
          "metadata": {
            "tags": []
          },
          "execution_count": 8
        }
      ]
    },
    {
      "cell_type": "code",
      "metadata": {
        "id": "H3FOju8uf4Tx",
        "colab_type": "code",
        "colab": {
          "base_uri": "https://localhost:8080/",
          "height": 71
        },
        "outputId": "9476d0a8-c0dc-4d1d-a1d5-49233f38f373"
      },
      "source": [
        "true_b, dense.bias.data()"
      ],
      "execution_count": 9,
      "outputs": [
        {
          "output_type": "execute_result",
          "data": {
            "text/plain": [
              "(4.2, \n",
              " [4.2005677]\n",
              " <NDArray 1 @cpu(0)>)"
            ]
          },
          "metadata": {
            "tags": []
          },
          "execution_count": 9
        }
      ]
    },
    {
      "cell_type": "code",
      "metadata": {
        "id": "4GQ59p8hf5-R",
        "colab_type": "code",
        "colab": {
          "base_uri": "https://localhost:8080/",
          "height": 71
        },
        "outputId": "0d9809c8-195d-4050-d08b-9bd7c77a0247"
      },
      "source": [
        "dense.weight.grad()"
      ],
      "execution_count": 11,
      "outputs": [
        {
          "output_type": "execute_result",
          "data": {
            "text/plain": [
              "\n",
              "[[ 0.009409   -0.00663071]]\n",
              "<NDArray 1x2 @cpu(0)>"
            ]
          },
          "metadata": {
            "tags": []
          },
          "execution_count": 11
        }
      ]
    },
    {
      "cell_type": "code",
      "metadata": {
        "id": "ORNlXKmIgPRd",
        "colab_type": "code",
        "colab": {}
      },
      "source": [
        ""
      ],
      "execution_count": 0,
      "outputs": []
    }
  ]
}