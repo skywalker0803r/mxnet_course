{
  "nbformat": 4,
  "nbformat_minor": 0,
  "metadata": {
    "colab": {
      "name": "mxnet_actor_critic_model_example.ipynb",
      "provenance": [],
      "collapsed_sections": [],
      "include_colab_link": true
    },
    "kernelspec": {
      "name": "python3",
      "display_name": "Python 3"
    }
  },
  "cells": [
    {
      "cell_type": "markdown",
      "metadata": {
        "id": "view-in-github",
        "colab_type": "text"
      },
      "source": [
        "<a href=\"https://colab.research.google.com/github/skywalker0803r/mxnet_course/blob/master/mxnet_actor_critic_model_example.ipynb\" target=\"_parent\"><img src=\"https://colab.research.google.com/assets/colab-badge.svg\" alt=\"Open In Colab\"/></a>"
      ]
    },
    {
      "cell_type": "code",
      "metadata": {
        "id": "VfBbJtcfU7nj",
        "colab_type": "code",
        "colab": {}
      },
      "source": [
        "import warnings;warnings.simplefilter('ignore')\n",
        "import random\n",
        "import numpy as np\n",
        "from time import sleep\n",
        "import mxnet as mx\n",
        "import mxnet.gluon as gluon\n",
        "from mxnet import nd, autograd\n",
        "import gym"
      ],
      "execution_count": 0,
      "outputs": []
    },
    {
      "cell_type": "markdown",
      "metadata": {
        "id": "xdyRM9M-iUtb",
        "colab_type": "text"
      },
      "source": [
        "# define model"
      ]
    },
    {
      "cell_type": "code",
      "metadata": {
        "id": "N5FYxzY-VD9M",
        "colab_type": "code",
        "colab": {}
      },
      "source": [
        "class Net(gluon.Block):\n",
        "  def __init__(self, actions_count):\n",
        "    super(Net, self).__init__()\n",
        "    with self.name_scope():\n",
        "      self.dense1 = gluon.nn.Dense(128, activation='relu')\n",
        "      self.dense2 = gluon.nn.Dense(128, activation='relu')\n",
        "      self.action_pred = gluon.nn.Dense(actions_count, in_units=128)\n",
        "      self.value_pred = gluon.nn.Dense(1, in_units=128)\n",
        "  \n",
        "  def forward(self, x):\n",
        "    x = self.dense1(x)\n",
        "    x = self.dense2(x)\n",
        "    probs = self.action_pred(x)\n",
        "    values = self.value_pred(x)\n",
        "    return nd.softmax(probs), values"
      ],
      "execution_count": 0,
      "outputs": []
    },
    {
      "cell_type": "markdown",
      "metadata": {
        "id": "JWxXhUwfiWf5",
        "colab_type": "text"
      },
      "source": [
        "# create env"
      ]
    },
    {
      "cell_type": "code",
      "metadata": {
        "id": "20LmXcvXh9Mr",
        "colab_type": "code",
        "colab": {
          "base_uri": "https://localhost:8080/",
          "height": 36
        },
        "outputId": "a8171596-babe-436f-8f92-1ba6c45b6d53"
      },
      "source": [
        "env = gym.make(\"CartPole-v1\")\n",
        "action_dim = env.action_space.n\n",
        "state_dim = env.observation_space.shape[0]\n",
        "print(state_dim,action_dim)"
      ],
      "execution_count": 3,
      "outputs": [
        {
          "output_type": "stream",
          "text": [
            "4 2\n"
          ],
          "name": "stdout"
        }
      ]
    },
    {
      "cell_type": "markdown",
      "metadata": {
        "id": "IeypHVXTiYub",
        "colab_type": "text"
      },
      "source": [
        "# forward test"
      ]
    },
    {
      "cell_type": "code",
      "metadata": {
        "id": "PidesjBkiGOQ",
        "colab_type": "code",
        "colab": {
          "base_uri": "https://localhost:8080/",
          "height": 75
        },
        "outputId": "02037cbb-592a-40ed-85ad-c6b35787388d"
      },
      "source": [
        "state = env.reset()\n",
        "state = nd.array([state])\n",
        "print(state)"
      ],
      "execution_count": 4,
      "outputs": [
        {
          "output_type": "stream",
          "text": [
            "\n",
            "[[-0.00875129 -0.03046686 -0.00029008  0.0425537 ]]\n",
            "<NDArray 1x4 @cpu(0)>\n"
          ],
          "name": "stdout"
        }
      ]
    },
    {
      "cell_type": "code",
      "metadata": {
        "id": "Dfweu1S5iIf8",
        "colab_type": "code",
        "colab": {
          "base_uri": "https://localhost:8080/",
          "height": 113
        },
        "outputId": "cc01e815-f3d5-4964-a059-3bd1bd772963"
      },
      "source": [
        "model = Net(action_dim)\n",
        "model.collect_params().initialize(mx.init.Xavier())\n",
        "print(model(state))"
      ],
      "execution_count": 5,
      "outputs": [
        {
          "output_type": "stream",
          "text": [
            "(\n",
            "[[0.5041903  0.49580967]]\n",
            "<NDArray 1x2 @cpu(0)>, \n",
            "[[-0.00319634]]\n",
            "<NDArray 1x1 @cpu(0)>)\n"
          ],
          "name": "stdout"
        }
      ]
    },
    {
      "cell_type": "markdown",
      "metadata": {
        "id": "E18ksPjbiuXc",
        "colab_type": "text"
      },
      "source": [
        "# copy params test"
      ]
    },
    {
      "cell_type": "code",
      "metadata": {
        "id": "ipgEyVDIisRT",
        "colab_type": "code",
        "colab": {
          "base_uri": "https://localhost:8080/",
          "height": 399
        },
        "outputId": "a14e55a4-d84a-4a20-c33e-ed839a9709a2"
      },
      "source": [
        "model_1 = Net(action_dim)\n",
        "model_1.collect_params().initialize(mx.init.Xavier())\n",
        "\n",
        "model_2 = Net(action_dim)\n",
        "model_2.collect_params().initialize(mx.init.Xavier())\n",
        "\n",
        "print(model_1(state))\n",
        "print(model_2(state))\n",
        "\n",
        "model_1.save_parameters('temp')\n",
        "model_2.load_parameters('temp')\n",
        "\n",
        "print(model_1(state))\n",
        "print(model_2(state))"
      ],
      "execution_count": 6,
      "outputs": [
        {
          "output_type": "stream",
          "text": [
            "(\n",
            "[[0.5009675  0.49903244]]\n",
            "<NDArray 1x2 @cpu(0)>, \n",
            "[[-0.00323182]]\n",
            "<NDArray 1x1 @cpu(0)>)\n",
            "(\n",
            "[[0.5034521  0.49654788]]\n",
            "<NDArray 1x2 @cpu(0)>, \n",
            "[[-0.00532455]]\n",
            "<NDArray 1x1 @cpu(0)>)\n",
            "(\n",
            "[[0.5009675  0.49903244]]\n",
            "<NDArray 1x2 @cpu(0)>, \n",
            "[[-0.00323182]]\n",
            "<NDArray 1x1 @cpu(0)>)\n",
            "(\n",
            "[[0.5009675  0.49903244]]\n",
            "<NDArray 1x2 @cpu(0)>, \n",
            "[[-0.00323182]]\n",
            "<NDArray 1x1 @cpu(0)>)\n"
          ],
          "name": "stdout"
        }
      ]
    },
    {
      "cell_type": "code",
      "metadata": {
        "id": "foNx2qCWjtjT",
        "colab_type": "code",
        "colab": {}
      },
      "source": [
        ""
      ],
      "execution_count": 0,
      "outputs": []
    }
  ]
}