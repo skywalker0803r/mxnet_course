{
  "nbformat": 4,
  "nbformat_minor": 0,
  "metadata": {
    "colab": {
      "name": "mxnet_dqn.ipynb",
      "provenance": [],
      "collapsed_sections": [],
      "include_colab_link": true
    },
    "kernelspec": {
      "name": "python3",
      "display_name": "Python 3"
    }
  },
  "cells": [
    {
      "cell_type": "markdown",
      "metadata": {
        "id": "view-in-github",
        "colab_type": "text"
      },
      "source": [
        "<a href=\"https://colab.research.google.com/github/skywalker0803r/mxnet_course/blob/master/mxnet_DoubleDQN.ipynb\" target=\"_parent\"><img src=\"https://colab.research.google.com/assets/colab-badge.svg\" alt=\"Open In Colab\"/></a>"
      ]
    },
    {
      "cell_type": "code",
      "metadata": {
        "id": "RFBepfyUG8x1",
        "colab_type": "code",
        "colab": {}
      },
      "source": [
        "#!pip install mxnet\n",
        "import mxnet as mx\n",
        "import mxnet.ndarray as nd\n",
        "import mxnet.gluon as gluon\n",
        "from mxnet.gluon.loss import L2Loss\n",
        "import numpy as np\n",
        "from mxnet import init\n",
        "import mxnet.gluon.nn as nn\n",
        "import gym\n",
        "import matplotlib.pyplot as plt"
      ],
      "execution_count": 0,
      "outputs": []
    },
    {
      "cell_type": "markdown",
      "metadata": {
        "id": "EeauIatW2GBB",
        "colab_type": "text"
      },
      "source": [
        "# Hyper params"
      ]
    },
    {
      "cell_type": "code",
      "metadata": {
        "id": "Js1WdQzOzxMK",
        "colab_type": "code",
        "colab": {}
      },
      "source": [
        "BATCH_SIZE = 256          \n",
        "LR = 0.001                                                       \n",
        "EPSILON = 0.95                                                \n",
        "GAMMA = 0.95                             \n",
        "TARGET_REPLACE_ITER = 1000                          \n",
        "MEMORY_CAPACITY = 1000\n",
        "param_path = './param_path'\n",
        "l2loss = L2Loss(batch_axis=0)"
      ],
      "execution_count": 0,
      "outputs": []
    },
    {
      "cell_type": "markdown",
      "metadata": {
        "id": "vjVqpXrb2IVA",
        "colab_type": "text"
      },
      "source": [
        "# env"
      ]
    },
    {
      "cell_type": "code",
      "metadata": {
        "id": "zgM-jjAg0Mm7",
        "colab_type": "code",
        "colab": {}
      },
      "source": [
        "env = gym.make('CartPole-v0')                 \n",
        "N_ACTIONS=env.action_space.n                       \n",
        "N_STATES = env.observation_space.shape[0]    "
      ],
      "execution_count": 0,
      "outputs": []
    },
    {
      "cell_type": "markdown",
      "metadata": {
        "id": "VfFZuUf32Jkn",
        "colab_type": "text"
      },
      "source": [
        "# Q_net"
      ]
    },
    {
      "cell_type": "code",
      "metadata": {
        "id": "J1Ol2ir1M6Ty",
        "colab_type": "code",
        "colab": {}
      },
      "source": [
        "def build_Q_net(net,num_actions):\n",
        "  with net.name_scope():\n",
        "    net.add(nn.Dense(128,activation='relu'))\n",
        "    net.add(nn.Dense(128,activation='relu'))\n",
        "    net.add(nn.Dense(num_actions))\n",
        "  return net"
      ],
      "execution_count": 0,
      "outputs": []
    },
    {
      "cell_type": "code",
      "metadata": {
        "id": "v29u65XpNQrv",
        "colab_type": "code",
        "colab": {}
      },
      "source": [
        "state = nd.random.normal(shape=(1,4))"
      ],
      "execution_count": 0,
      "outputs": []
    },
    {
      "cell_type": "code",
      "metadata": {
        "id": "yDn8zU4666o5",
        "colab_type": "code",
        "outputId": "df621a46-ab40-4046-8752-57bd22aaeadb",
        "colab": {
          "base_uri": "https://localhost:8080/",
          "height": 75
        }
      },
      "source": [
        "q = build_Q_net(nn.HybridSequential(),N_ACTIONS)\n",
        "q.initialize(init=init.Xavier(),force_reinit=True)\n",
        "q(state)"
      ],
      "execution_count": 6,
      "outputs": [
        {
          "output_type": "execute_result",
          "data": {
            "text/plain": [
              "\n",
              "[[-0.20866524 -0.40591076]]\n",
              "<NDArray 1x2 @cpu(0)>"
            ]
          },
          "metadata": {
            "tags": []
          },
          "execution_count": 6
        }
      ]
    },
    {
      "cell_type": "markdown",
      "metadata": {
        "id": "pXt_8Brv40VK",
        "colab_type": "text"
      },
      "source": [
        "# copy params"
      ]
    },
    {
      "cell_type": "code",
      "metadata": {
        "id": "xWROrpMOCuwA",
        "colab_type": "code",
        "outputId": "9f2b7566-9bd0-45a5-f9c6-add662ae5287",
        "colab": {
          "base_uri": "https://localhost:8080/",
          "height": 246
        }
      },
      "source": [
        "q1 = build_Q_net(nn.HybridSequential(),N_ACTIONS)\n",
        "q1.initialize(init=init.Xavier())\n",
        "q2 = build_Q_net(nn.HybridSequential(),N_ACTIONS)\n",
        "q2.initialize(init=init.Xavier())\n",
        "\n",
        "# different\n",
        "print(q1(state))\n",
        "print(q2(state))\n",
        "\n",
        "# copy params\n",
        "q1.save_parameters(param_path)\n",
        "q2.load_parameters(param_path)\n",
        "\n",
        "# same\n",
        "print(q1(state))\n",
        "print(q2(state))"
      ],
      "execution_count": 7,
      "outputs": [
        {
          "output_type": "stream",
          "text": [
            "\n",
            "[[-0.31712627  0.0712393 ]]\n",
            "<NDArray 1x2 @cpu(0)>\n",
            "\n",
            "[[ 0.169029   -0.11568238]]\n",
            "<NDArray 1x2 @cpu(0)>\n",
            "\n",
            "[[-0.31712627  0.0712393 ]]\n",
            "<NDArray 1x2 @cpu(0)>\n",
            "\n",
            "[[-0.31712627  0.0712393 ]]\n",
            "<NDArray 1x2 @cpu(0)>\n"
          ],
          "name": "stdout"
        }
      ]
    },
    {
      "cell_type": "markdown",
      "metadata": {
        "id": "D5phbbLiGZTw",
        "colab_type": "text"
      },
      "source": [
        "# memory"
      ]
    },
    {
      "cell_type": "code",
      "metadata": {
        "id": "Ho5du-EZGDao",
        "colab_type": "code",
        "outputId": "25cd9bf0-5b88-459d-bd14-78610dbdc5f4",
        "colab": {
          "base_uri": "https://localhost:8080/",
          "height": 36
        }
      },
      "source": [
        "s = [1,1]\n",
        "r = 1\n",
        "a = 1\n",
        "d = 1\n",
        "s_ = [1,1]\n",
        "transition = np.hstack((s,[a,r,d],s_))\n",
        "transition"
      ],
      "execution_count": 8,
      "outputs": [
        {
          "output_type": "execute_result",
          "data": {
            "text/plain": [
              "array([1, 1, 1, 1, 1, 1, 1])"
            ]
          },
          "metadata": {
            "tags": []
          },
          "execution_count": 8
        }
      ]
    },
    {
      "cell_type": "markdown",
      "metadata": {
        "id": "vGiqYeS19N_0",
        "colab_type": "text"
      },
      "source": [
        "# class DQN"
      ]
    },
    {
      "cell_type": "code",
      "metadata": {
        "id": "yp4Us4jk7Kdj",
        "colab_type": "code",
        "colab": {}
      },
      "source": [
        "class DQN(object):\n",
        "  def __init__(self,N_ACTIONS):\n",
        "    # eval_net\n",
        "    self.eval_net = build_Q_net(nn.HybridSequential(),N_ACTIONS)\n",
        "    self.eval_net.initialize(init=init.Xavier()) # same with target_net\n",
        "    \n",
        "    # target_net\n",
        "    self.target_net = build_Q_net(nn.HybridSequential(),N_ACTIONS)\n",
        "    self.target_net.initialize(init=init.Xavier())# same with eval_net\n",
        "    \n",
        "    # init forward\n",
        "    random_x=nd.random_uniform(shape=(1,N_STATES))\n",
        "    _ = self.eval_net(random_x)\n",
        "    _ = self.target_net(random_x)\n",
        "\n",
        "    # init copy params\n",
        "    self.eval_net.save_parameters(param_path)\n",
        "    self.target_net.load_parameters(param_path)\n",
        "\n",
        "    # memory\n",
        "    self.memory_counter = 0\n",
        "    self.memory = np.zeros(shape=(MEMORY_CAPACITY, N_STATES*2 + 3)) # state,[action,reward ,done],next_state N_STATES*2 +3\n",
        "    \n",
        "    # trainer\n",
        "    self.trainer = gluon.Trainer(self.eval_net.collect_params(),'Adam',{'learning_rate':LR})\n",
        "\n",
        "    # record history\n",
        "    self.learn_step_counter = 0\n",
        "    self.cost_his=[]\n",
        "  \n",
        "  def choose_action(self,x):\n",
        "    # select best action\n",
        "    if np.random.uniform() < EPSILON:\n",
        "      x = nd.array([x])\n",
        "      action_value = self.eval_net(x)\n",
        "      action = nd.argmax(action_value,axis=1).asscalar()\n",
        "      return int(action)\n",
        "    # select random action\n",
        "    else:\n",
        "      return np.random.randint(0,N_ACTIONS)\n",
        "  \n",
        "  def store_transition(self,s,a,r,d,s_):\n",
        "    # add transition to memory\n",
        "    transition = np.hstack((s,[a,r,d],s_))\n",
        "    index = self.memory_counter % MEMORY_CAPACITY\n",
        "    self.memory[index,:] = transition\n",
        "    self.memory_counter += 1\n",
        "  \n",
        "  def learn(self):\n",
        "    # record how many times of eval_net update\n",
        "    self.learn_step_counter += 1\n",
        "\n",
        "    # update target_net every TARGET_REPLACE_ITER\n",
        "    if self.learn_step_counter % TARGET_REPLACE_ITER == 0:\n",
        "      print('copy params to target_net')\n",
        "      self.eval_net.save_parameters(param_path)\n",
        "      self.target_net.load_parameters(param_path)\n",
        "    \n",
        "    # from memory sample a mini_batch_data\n",
        "    sample_index = np.random.choice(MEMORY_CAPACITY,BATCH_SIZE)\n",
        "    b_memory = self.memory[sample_index,:]\n",
        "    b_s = nd.array(b_memory[:,:N_STATES])\n",
        "    b_a = nd.array(b_memory[:,N_STATES:N_STATES+1])\n",
        "    b_r = nd.array(b_memory[:,N_STATES+1:N_STATES+2])\n",
        "    b_r = nd.squeeze(b_r)\n",
        "    b_d = nd.array(b_memory[:,N_STATES+2:N_STATES+3])\n",
        "    b_d = nd.squeeze(b_d)\n",
        "    b_s_= nd.array(b_memory[:,-N_STATES:])\n",
        "    \n",
        "    # caculate gradient\n",
        "    with mx.autograd.record():\n",
        "      # 1.\n",
        "      argmax_Q = nd.argmax(self.eval_net(b_s_),axis=1).astype('uint8')\n",
        "      Q_sp = nd.pick(self.target_net(b_s_),argmax_Q,1)\n",
        "      Q_sp = Q_sp * (nd.ones(BATCH_SIZE) - b_d)\n",
        "      # 2.\n",
        "      Q_s_array = self.eval_net(b_s) # Q_s_array\n",
        "      Q_s = nd.pick(Q_s_array,b_a,1) # the choose action's q_value\n",
        "      # count l2_loss\n",
        "      loss = nd.mean(l2loss(Q_s,(b_r + GAMMA*Q_sp)))\n",
        "    \n",
        "    # loss backward and trainer step\n",
        "    loss.backward()\n",
        "    self.trainer.step(BATCH_SIZE)\n",
        "    \n",
        "    # record loss history\n",
        "    self.cost_his.append(nd.mean(loss).asscalar())\n",
        "  \n",
        "  def plot_cost(self):\n",
        "     plt.plot(np.arange(len(self.cost_his)), self.cost_his)\n",
        "     plt.ylabel('Cost')\n",
        "     plt.xlabel('training steps')\n",
        "     plt.show()"
      ],
      "execution_count": 0,
      "outputs": []
    },
    {
      "cell_type": "code",
      "metadata": {
        "id": "obZskD3E-Y6B",
        "colab_type": "code",
        "outputId": "305f728d-6e61-4c7f-b9b0-17c4c82f8c0a",
        "colab": {
          "base_uri": "https://localhost:8080/",
          "height": 1000
        }
      },
      "source": [
        "all_rewards = []\n",
        "avg_rewards = []\n",
        "dqn = DQN(N_ACTIONS)\n",
        "for episode in range(1000):\n",
        "  s = env.reset()\n",
        "  rewards = []\n",
        "  while True:\n",
        "    # choose action\n",
        "    a = dqn.choose_action(s)\n",
        "    # do action on env\n",
        "    s_ ,r ,done ,info = env.step(a)\n",
        "    # store\n",
        "    rewards.append(r) \n",
        "    dqn.store_transition(s,a,r,int(done),s_)\n",
        "    # if have collect a lot of memory can learn\n",
        "    if dqn.memory_counter > BATCH_SIZE:\n",
        "      dqn.learn()\n",
        "    # if env done\n",
        "    if done:\n",
        "      break\n",
        "    # if env not done\n",
        "    else:\n",
        "      s = s_\n",
        "  # record this episode infomation \n",
        "  all_rewards.append(np.sum(rewards))\n",
        "  avg_rewards.append(np.mean(all_rewards[-10:]))\n",
        "  if episode % 10 == 0:\n",
        "    print(episode,avg_rewards[-1:])\n",
        "  if (all_rewards[-1] >= 200)&(avg_rewards[-1] >= 195):\n",
        "    print(episode,all_rewards[-1],avg_rewards[-1])\n",
        "    break"
      ],
      "execution_count": 10,
      "outputs": [
        {
          "output_type": "stream",
          "text": [
            "0 [10.0]\n",
            "10 [30.1]\n",
            "20 [16.9]\n",
            "30 [26.0]\n",
            "40 [16.7]\n",
            "50 [17.0]\n",
            "60 [16.3]\n",
            "copy params to target_net\n",
            "70 [42.3]\n",
            "80 [21.9]\n",
            "90 [11.3]\n",
            "100 [15.5]\n",
            "copy params to target_net\n",
            "110 [11.1]\n",
            "120 [14.8]\n",
            "130 [57.9]\n",
            "140 [11.8]\n",
            "copy params to target_net\n",
            "150 [40.6]\n",
            "copy params to target_net\n",
            "160 [141.0]\n",
            "copy params to target_net\n",
            "170 [63.4]\n",
            "180 [32.3]\n",
            "190 [34.7]\n",
            "copy params to target_net\n",
            "200 [39.7]\n",
            "210 [25.9]\n",
            "220 [17.5]\n",
            "230 [16.6]\n",
            "copy params to target_net\n",
            "240 [64.2]\n",
            "250 [34.6]\n",
            "copy params to target_net\n",
            "copy params to target_net\n",
            "260 [126.2]\n",
            "copy params to target_net\n",
            "270 [169.3]\n",
            "copy params to target_net\n",
            "copy params to target_net\n",
            "280 [159.9]\n",
            "copy params to target_net\n",
            "290 [87.2]\n",
            "300 [61.2]\n",
            "copy params to target_net\n",
            "copy params to target_net\n",
            "310 [150.9]\n",
            "copy params to target_net\n",
            "320 [148.2]\n",
            "copy params to target_net\n",
            "copy params to target_net\n",
            "329 200.0 199.6\n"
          ],
          "name": "stdout"
        }
      ]
    },
    {
      "cell_type": "code",
      "metadata": {
        "id": "fItQxcRAW5Fr",
        "colab_type": "code",
        "outputId": "39472ead-27a0-4ffa-ba76-a2408f442fed",
        "colab": {
          "base_uri": "https://localhost:8080/",
          "height": 279
        }
      },
      "source": [
        "plt.plot(all_rewards)\n",
        "plt.plot(avg_rewards)\n",
        "plt.xlabel('Episode')\n",
        "plt.show()"
      ],
      "execution_count": 11,
      "outputs": [
        {
          "output_type": "display_data",
          "data": {
            "image/png": "[encoded data removed]",
            "text/plain": [
              "<Figure size 432x288 with 1 Axes>"
            ]
          },
          "metadata": {
            "tags": []
          }
        }
      ]
    },
    {
      "cell_type": "markdown",
      "metadata": {
        "id": "YSxh_JSdjtPJ",
        "colab_type": "text"
      },
      "source": [
        "# TEST"
      ]
    },
    {
      "cell_type": "code",
      "metadata": {
        "id": "wzdXTex6YTDg",
        "colab_type": "code",
        "outputId": "18aec8db-7974-4a95-8f9c-8b1d3afdd87d",
        "colab": {
          "base_uri": "https://localhost:8080/",
          "height": 208
        }
      },
      "source": [
        "all_rewards = []\n",
        "for episode in range(10):\n",
        "  s = env.reset()\n",
        "  rewards = []\n",
        "  while True:\n",
        "    a = dqn.choose_action(s)\n",
        "    s_ ,r ,done ,info = env.step(a)\n",
        "    rewards.append(r) \n",
        "    if done:\n",
        "      break\n",
        "    s = s_ \n",
        "  all_rewards.append(np.sum(rewards))\n",
        "  print(episode,'score',all_rewards[-1:])"
      ],
      "execution_count": 13,
      "outputs": [
        {
          "output_type": "stream",
          "text": [
            "0 score [200.0]\n",
            "1 score [200.0]\n",
            "2 score [200.0]\n",
            "3 score [200.0]\n",
            "4 score [200.0]\n",
            "5 score [200.0]\n",
            "6 score [151.0]\n",
            "7 score [200.0]\n",
            "8 score [200.0]\n",
            "9 score [200.0]\n"
          ],
          "name": "stdout"
        }
      ]
    },
    {
      "cell_type": "code",
      "metadata": {
        "id": "WqSgxz54kPjq",
        "colab_type": "code",
        "colab": {}
      },
      "source": [
        ""
      ],
      "execution_count": 0,
      "outputs": []
    }
  ]
}