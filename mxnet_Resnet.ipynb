{
  "nbformat": 4,
  "nbformat_minor": 0,
  "metadata": {
    "colab": {
      "name": "mxnet_Resnet.ipynb",
      "provenance": [],
      "include_colab_link": true
    },
    "kernelspec": {
      "name": "python3",
      "display_name": "Python 3"
    },
    "accelerator": "GPU"
  },
  "cells": [
    {
      "cell_type": "markdown",
      "metadata": {
        "id": "view-in-github",
        "colab_type": "text"
      },
      "source": [
        "<a href=\"https://colab.research.google.com/github/skywalker0803r/mxnet_course/blob/master/mxnet_Resnet.ipynb\" target=\"_parent\"><img src=\"https://colab.research.google.com/assets/colab-badge.svg\" alt=\"Open In Colab\"/></a>"
      ]
    },
    {
      "cell_type": "code",
      "metadata": {
        "id": "GpYaEN8ObrOl",
        "colab_type": "code",
        "colab": {}
      },
      "source": [
        "#!pip install mxnet-cu100 d2lzh\n",
        "import d2lzh as d2l\n",
        "from mxnet import gluon, init, nd\n",
        "from mxnet.gluon import nn"
      ],
      "execution_count": 0,
      "outputs": []
    },
    {
      "cell_type": "markdown",
      "metadata": {
        "id": "zq0p8q7FcuWT",
        "colab_type": "text"
      },
      "source": [
        "# 殘差塊"
      ]
    },
    {
      "cell_type": "markdown",
      "metadata": {
        "id": "9NcTwokScq7M",
        "colab_type": "text"
      },
      "source": [
        "![alt text](https://zh.gluon.ai/_images/residual-block.svg)"
      ]
    },
    {
      "cell_type": "code",
      "metadata": {
        "id": "ITgKDxT4euqm",
        "colab_type": "code",
        "colab": {}
      },
      "source": [
        "def resnet_block(num_channels, num_residuals, first_block=False):\n",
        "    blk = nn.Sequential()\n",
        "    for i in range(num_residuals):\n",
        "        if i == 0 and not first_block:\n",
        "            blk.add(d2l.Residual(num_channels, use_1x1conv=True, strides=2))\n",
        "        else:\n",
        "            blk.add(d2l.Residual(num_channels))\n",
        "    return blk"
      ],
      "execution_count": 0,
      "outputs": []
    },
    {
      "cell_type": "markdown",
      "metadata": {
        "id": "t6h_k2fHdP1F",
        "colab_type": "text"
      },
      "source": [
        "# ResNet模型"
      ]
    },
    {
      "cell_type": "code",
      "metadata": {
        "id": "W_xaDd0sc6BA",
        "colab_type": "code",
        "colab": {}
      },
      "source": [
        "net = nn.Sequential()\n",
        "\n",
        "net.add(nn.Conv2D(64, kernel_size=7, strides=2, padding=3))\n",
        "net.add(nn.BatchNorm()) \n",
        "net.add(nn.Activation('relu'))\n",
        "net.add(nn.MaxPool2D(pool_size=3, strides=2, padding=1))\n",
        "\n",
        "net.add(resnet_block(64, 2, first_block=True))\n",
        "net.add(resnet_block(128, 2))\n",
        "net.add(resnet_block(256, 2))\n",
        "net.add(resnet_block(512, 2))\n",
        "\n",
        "net.add(nn.GlobalAvgPool2D())\n",
        "net.add(nn.Dense(10))"
      ],
      "execution_count": 0,
      "outputs": []
    },
    {
      "cell_type": "code",
      "metadata": {
        "id": "0Z7d0Dicc_cN",
        "colab_type": "code",
        "colab": {
          "base_uri": "https://localhost:8080/",
          "height": 197
        },
        "outputId": "a98897ce-229a-46d4-9ac5-755bcc986a4f"
      },
      "source": [
        "X = nd.random.uniform(shape=(1, 1, 224, 224))\n",
        "net.initialize()\n",
        "for layer in net:\n",
        "    X = layer(X)\n",
        "    print(layer.name, 'output shape:\\t', X.shape)"
      ],
      "execution_count": 8,
      "outputs": [
        {
          "output_type": "stream",
          "text": [
            "conv2 output shape:\t (1, 64, 112, 112)\n",
            "batchnorm2 output shape:\t (1, 64, 112, 112)\n",
            "relu2 output shape:\t (1, 64, 112, 112)\n",
            "pool2 output shape:\t (1, 64, 56, 56)\n",
            "sequential3 output shape:\t (1, 64, 56, 56)\n",
            "sequential4 output shape:\t (1, 128, 28, 28)\n",
            "sequential5 output shape:\t (1, 256, 14, 14)\n",
            "sequential6 output shape:\t (1, 512, 7, 7)\n",
            "pool3 output shape:\t (1, 512, 1, 1)\n",
            "dense0 output shape:\t (1, 10)\n"
          ],
          "name": "stdout"
        }
      ]
    },
    {
      "cell_type": "markdown",
      "metadata": {
        "id": "-fWCrBqzdy5e",
        "colab_type": "text"
      },
      "source": [
        "# 获取数据和训练模型"
      ]
    },
    {
      "cell_type": "code",
      "metadata": {
        "id": "B4VBY1C6dvjT",
        "colab_type": "code",
        "colab": {
          "base_uri": "https://localhost:8080/",
          "height": 197
        },
        "outputId": "c05b5c29-99d4-4853-e32e-bf55f1f66f85"
      },
      "source": [
        "lr, num_epochs, batch_size, ctx = 0.05, 5, 256, d2l.try_gpu()\n",
        "net.initialize(force_reinit=True, ctx=ctx, init=init.Xavier())\n",
        "trainer = gluon.Trainer(net.collect_params(), 'sgd', {'learning_rate': lr})\n",
        "train_iter, test_iter = d2l.load_data_fashion_mnist(batch_size, resize=96)\n",
        "d2l.train_ch5(net, train_iter, test_iter, batch_size, trainer, ctx,\n",
        "              num_epochs)"
      ],
      "execution_count": 9,
      "outputs": [
        {
          "output_type": "stream",
          "text": [
            "Downloading /root/.mxnet/datasets/fashion-mnist/train-images-idx3-ubyte.gz from https://apache-mxnet.s3-accelerate.dualstack.amazonaws.com/gluon/dataset/fashion-mnist/train-images-idx3-ubyte.gz...\n",
            "Downloading /root/.mxnet/datasets/fashion-mnist/train-labels-idx1-ubyte.gz from https://apache-mxnet.s3-accelerate.dualstack.amazonaws.com/gluon/dataset/fashion-mnist/train-labels-idx1-ubyte.gz...\n",
            "Downloading /root/.mxnet/datasets/fashion-mnist/t10k-images-idx3-ubyte.gz from https://apache-mxnet.s3-accelerate.dualstack.amazonaws.com/gluon/dataset/fashion-mnist/t10k-images-idx3-ubyte.gz...\n",
            "Downloading /root/.mxnet/datasets/fashion-mnist/t10k-labels-idx1-ubyte.gz from https://apache-mxnet.s3-accelerate.dualstack.amazonaws.com/gluon/dataset/fashion-mnist/t10k-labels-idx1-ubyte.gz...\n",
            "training on gpu(0)\n",
            "epoch 1, loss 0.4868, train acc 0.829, test acc 0.894, time 94.0 sec\n",
            "epoch 2, loss 0.2543, train acc 0.906, test acc 0.908, time 85.8 sec\n",
            "epoch 3, loss 0.1859, train acc 0.933, test acc 0.913, time 85.7 sec\n",
            "epoch 4, loss 0.1432, train acc 0.948, test acc 0.924, time 85.8 sec\n",
            "epoch 5, loss 0.1061, train acc 0.963, test acc 0.915, time 85.7 sec\n"
          ],
          "name": "stdout"
        }
      ]
    },
    {
      "cell_type": "code",
      "metadata": {
        "id": "PgdpERwuhL0-",
        "colab_type": "code",
        "colab": {}
      },
      "source": [
        ""
      ],
      "execution_count": 0,
      "outputs": []
    }
  ]
}