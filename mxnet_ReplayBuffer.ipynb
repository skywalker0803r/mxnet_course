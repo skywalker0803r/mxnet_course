{
  "nbformat": 4,
  "nbformat_minor": 0,
  "metadata": {
    "colab": {
      "name": "mxnet_ReplayBuffer.ipynb",
      "provenance": [],
      "include_colab_link": true
    },
    "kernelspec": {
      "name": "python3",
      "display_name": "Python 3"
    }
  },
  "cells": [
    {
      "cell_type": "markdown",
      "metadata": {
        "id": "view-in-github",
        "colab_type": "text"
      },
      "source": [
        "<a href=\"https://colab.research.google.com/github/skywalker0803r/mxnet_course/blob/master/mxnet_ReplayBuffer.ipynb\" target=\"_parent\"><img src=\"https://colab.research.google.com/assets/colab-badge.svg\" alt=\"Open In Colab\"/></a>"
      ]
    },
    {
      "cell_type": "code",
      "metadata": {
        "id": "aoEiFLW7O2L4",
        "colab_type": "code",
        "colab": {}
      },
      "source": [
        "#!pip install mxnet\n",
        "import gym\n",
        "import numpy as np\n",
        "from mxnet import ndarray as nd\n",
        "import pandas as pd\n",
        "\n",
        "class ReplayBuffer(object):\n",
        "    def __init__(self, replay_buffer_size):\n",
        "        self.replay_buffer_size = replay_buffer_size\n",
        "        self.memory = []\n",
        "        self.position = 0\n",
        "    \n",
        "    @property\n",
        "    def memory_len(self):\n",
        "        return len(self.memory)\n",
        "\n",
        "    def push(self,Transition):\n",
        "        if len(self.memory) < self.replay_buffer_size:\n",
        "            self.memory.append(None)\n",
        "        self.memory[self.position] = Transition\n",
        "        self.position = (self.position + 1) % self.replay_buffer_size\n",
        "\n",
        "    def sample(self, batch_size,prior_prob = None):\n",
        "        batch_index = np.random.choice(len(self.memory),size = batch_size,replace = False,p = prior_prob)\n",
        "        batch = np.array(self.memory)[batch_index]\n",
        "        state_dim = len(batch[0,0])\n",
        "        \n",
        "        # batch_state\n",
        "        batch_state = nd.array(np.zeros(shape=(batch_size,state_dim)))\n",
        "        for i in range(batch_size):\n",
        "          batch_state[i] = nd.array(batch[i,0])\n",
        "        \n",
        "        # batch action\n",
        "        batch_action = nd.array(batch[:,1])\n",
        "\n",
        "        # batch reward\n",
        "        batch_reward = nd.array(batch[:,2])\n",
        "\n",
        "        # batch done\n",
        "        batch_done = nd.array(batch[:,3])\n",
        "\n",
        "        # batch_next_state\n",
        "        batch_next_state = nd.array(np.zeros(shape=(batch_size,state_dim)))\n",
        "        for i in range(batch_size):\n",
        "          batch_next_state[i] = nd.array(batch[i,-1])\n",
        "\n",
        "        return batch_state,batch_action,batch_reward,batch_done,batch_next_state"
      ],
      "execution_count": 0,
      "outputs": []
    },
    {
      "cell_type": "markdown",
      "metadata": {
        "id": "eGgBAlJQfChT",
        "colab_type": "text"
      },
      "source": [
        "# 初始化一個記憶儲存體"
      ]
    },
    {
      "cell_type": "code",
      "metadata": {
        "id": "JsY_-QCWPHry",
        "colab_type": "code",
        "colab": {
          "base_uri": "https://localhost:8080/",
          "height": 50
        },
        "outputId": "44896d34-3591-4ff8-84ef-57399f079705"
      },
      "source": [
        "m = ReplayBuffer(replay_buffer_size=1000)\n",
        "print(m.memory_len)\n",
        "print(m.memory)"
      ],
      "execution_count": 2,
      "outputs": [
        {
          "output_type": "stream",
          "text": [
            "0\n",
            "[]\n"
          ],
          "name": "stdout"
        }
      ]
    },
    {
      "cell_type": "markdown",
      "metadata": {
        "id": "6d9Re_53fFJT",
        "colab_type": "text"
      },
      "source": [
        "# push 記憶"
      ]
    },
    {
      "cell_type": "code",
      "metadata": {
        "id": "yZcWVYutgwSF",
        "colab_type": "code",
        "colab": {}
      },
      "source": [
        "env = gym.make(\"CartPole-v1\")\n",
        "\n",
        "for episode in range(1):\n",
        "  state = env.reset()\n",
        "  for time_step in range(100):\n",
        "    action = env.action_space.sample()\n",
        "    next_state, reward, done, info = env.step(action)\n",
        "    m.push([state,action,reward,done,next_state])\n",
        "    \n",
        "    if done:\n",
        "      break\n",
        "    else:\n",
        "      state = next_state"
      ],
      "execution_count": 0,
      "outputs": []
    },
    {
      "cell_type": "markdown",
      "metadata": {
        "id": "fYYRLi0wfHNl",
        "colab_type": "text"
      },
      "source": [
        "# 查看記憶體"
      ]
    },
    {
      "cell_type": "code",
      "metadata": {
        "id": "RNMNIE3zRJDI",
        "colab_type": "code",
        "colab": {
          "base_uri": "https://localhost:8080/",
          "height": 70
        },
        "outputId": "3f6aca99-df3f-485b-fe7a-527bf07c030d"
      },
      "source": [
        "print(m.memory_len)\n",
        "print(m.memory[-2:])"
      ],
      "execution_count": 4,
      "outputs": [
        {
          "output_type": "stream",
          "text": [
            "13\n",
            "[[array([ 0.11161143,  0.54956362, -0.18164743, -1.14501466]), 1, 1.0, False, array([ 0.1226027 ,  0.74653233, -0.20454772, -1.4887179 ])], [array([ 0.1226027 ,  0.74653233, -0.20454772, -1.4887179 ]), 0, 1.0, True, array([ 0.13753335,  0.55440358, -0.23432208, -1.2662513 ])]]\n"
          ],
          "name": "stdout"
        }
      ]
    },
    {
      "cell_type": "markdown",
      "metadata": {
        "id": "0gHHPFhde7de",
        "colab_type": "text"
      },
      "source": [
        "# 定義抽取樣本數 和 抽取概率"
      ]
    },
    {
      "cell_type": "code",
      "metadata": {
        "id": "JOQ39ZQUe8Ss",
        "colab_type": "code",
        "colab": {}
      },
      "source": [
        "batch_size = 10"
      ],
      "execution_count": 0,
      "outputs": []
    },
    {
      "cell_type": "code",
      "metadata": {
        "id": "AXNeQ6hGmRz9",
        "colab_type": "code",
        "colab": {}
      },
      "source": [
        "p = [np.exp(i) for i in range(m.memory_len)]\n",
        "p = np.array(p) / np.sum(np.array(p))"
      ],
      "execution_count": 0,
      "outputs": []
    },
    {
      "cell_type": "code",
      "metadata": {
        "id": "f-lpl4pAmR6r",
        "colab_type": "code",
        "colab": {
          "base_uri": "https://localhost:8080/",
          "height": 58
        },
        "outputId": "498cf292-380b-49fc-b173-c27e14239976"
      },
      "source": [
        "pd.DataFrame(p).apply(lambda x:round(x,3)).T.style.background_gradient(axis=1)"
      ],
      "execution_count": 7,
      "outputs": [
        {
          "output_type": "execute_result",
          "data": {
            "text/html": [
              "<style  type=\"text/css\" >\n",
              "    #T_11c618b4_23a6_11ea_abc1_0242ac1c0002row0_col0 {\n",
              "            background-color:  #fff7fb;\n",
              "            color:  #000000;\n",
              "        }    #T_11c618b4_23a6_11ea_abc1_0242ac1c0002row0_col1 {\n",
              "            background-color:  #fff7fb;\n",
              "            color:  #000000;\n",
              "        }    #T_11c618b4_23a6_11ea_abc1_0242ac1c0002row0_col2 {\n",
              "            background-color:  #fff7fb;\n",
              "            color:  #000000;\n",
              "        }    #T_11c618b4_23a6_11ea_abc1_0242ac1c0002row0_col3 {\n",
              "            background-color:  #fff7fb;\n",
              "            color:  #000000;\n",
              "        }    #T_11c618b4_23a6_11ea_abc1_0242ac1c0002row0_col4 {\n",
              "            background-color:  #fff7fb;\n",
              "            color:  #000000;\n",
              "        }    #T_11c618b4_23a6_11ea_abc1_0242ac1c0002row0_col5 {\n",
              "            background-color:  #fff7fb;\n",
              "            color:  #000000;\n",
              "        }    #T_11c618b4_23a6_11ea_abc1_0242ac1c0002row0_col6 {\n",
              "            background-color:  #fff7fb;\n",
              "            color:  #000000;\n",
              "        }    #T_11c618b4_23a6_11ea_abc1_0242ac1c0002row0_col7 {\n",
              "            background-color:  #fef6fb;\n",
              "            color:  #000000;\n",
              "        }    #T_11c618b4_23a6_11ea_abc1_0242ac1c0002row0_col8 {\n",
              "            background-color:  #fdf5fa;\n",
              "            color:  #000000;\n",
              "        }    #T_11c618b4_23a6_11ea_abc1_0242ac1c0002row0_col9 {\n",
              "            background-color:  #f8f1f8;\n",
              "            color:  #000000;\n",
              "        }    #T_11c618b4_23a6_11ea_abc1_0242ac1c0002row0_col10 {\n",
              "            background-color:  #eae6f1;\n",
              "            color:  #000000;\n",
              "        }    #T_11c618b4_23a6_11ea_abc1_0242ac1c0002row0_col11 {\n",
              "            background-color:  #a8bedc;\n",
              "            color:  #000000;\n",
              "        }    #T_11c618b4_23a6_11ea_abc1_0242ac1c0002row0_col12 {\n",
              "            background-color:  #023858;\n",
              "            color:  #f1f1f1;\n",
              "        }</style><table id=\"T_11c618b4_23a6_11ea_abc1_0242ac1c0002\" ><thead>    <tr>        <th class=\"blank level0\" ></th>        <th class=\"col_heading level0 col0\" >0</th>        <th class=\"col_heading level0 col1\" >1</th>        <th class=\"col_heading level0 col2\" >2</th>        <th class=\"col_heading level0 col3\" >3</th>        <th class=\"col_heading level0 col4\" >4</th>        <th class=\"col_heading level0 col5\" >5</th>        <th class=\"col_heading level0 col6\" >6</th>        <th class=\"col_heading level0 col7\" >7</th>        <th class=\"col_heading level0 col8\" >8</th>        <th class=\"col_heading level0 col9\" >9</th>        <th class=\"col_heading level0 col10\" >10</th>        <th class=\"col_heading level0 col11\" >11</th>        <th class=\"col_heading level0 col12\" >12</th>    </tr></thead><tbody>\n",
              "                <tr>\n",
              "                        <th id=\"T_11c618b4_23a6_11ea_abc1_0242ac1c0002level0_row0\" class=\"row_heading level0 row0\" >0</th>\n",
              "                        <td id=\"T_11c618b4_23a6_11ea_abc1_0242ac1c0002row0_col0\" class=\"data row0 col0\" >0</td>\n",
              "                        <td id=\"T_11c618b4_23a6_11ea_abc1_0242ac1c0002row0_col1\" class=\"data row0 col1\" >0</td>\n",
              "                        <td id=\"T_11c618b4_23a6_11ea_abc1_0242ac1c0002row0_col2\" class=\"data row0 col2\" >0</td>\n",
              "                        <td id=\"T_11c618b4_23a6_11ea_abc1_0242ac1c0002row0_col3\" class=\"data row0 col3\" >0</td>\n",
              "                        <td id=\"T_11c618b4_23a6_11ea_abc1_0242ac1c0002row0_col4\" class=\"data row0 col4\" >0</td>\n",
              "                        <td id=\"T_11c618b4_23a6_11ea_abc1_0242ac1c0002row0_col5\" class=\"data row0 col5\" >0.001</td>\n",
              "                        <td id=\"T_11c618b4_23a6_11ea_abc1_0242ac1c0002row0_col6\" class=\"data row0 col6\" >0.002</td>\n",
              "                        <td id=\"T_11c618b4_23a6_11ea_abc1_0242ac1c0002row0_col7\" class=\"data row0 col7\" >0.004</td>\n",
              "                        <td id=\"T_11c618b4_23a6_11ea_abc1_0242ac1c0002row0_col8\" class=\"data row0 col8\" >0.012</td>\n",
              "                        <td id=\"T_11c618b4_23a6_11ea_abc1_0242ac1c0002row0_col9\" class=\"data row0 col9\" >0.031</td>\n",
              "                        <td id=\"T_11c618b4_23a6_11ea_abc1_0242ac1c0002row0_col10\" class=\"data row0 col10\" >0.086</td>\n",
              "                        <td id=\"T_11c618b4_23a6_11ea_abc1_0242ac1c0002row0_col11\" class=\"data row0 col11\" >0.233</td>\n",
              "                        <td id=\"T_11c618b4_23a6_11ea_abc1_0242ac1c0002row0_col12\" class=\"data row0 col12\" >0.632</td>\n",
              "            </tr>\n",
              "    </tbody></table>"
            ],
            "text/plain": [
              "<pandas.io.formats.style.Styler at 0x7f418c941080>"
            ]
          },
          "metadata": {
            "tags": []
          },
          "execution_count": 7
        }
      ]
    },
    {
      "cell_type": "markdown",
      "metadata": {
        "id": "OzxhBRYCfMG8",
        "colab_type": "text"
      },
      "source": [
        "# 測試"
      ]
    },
    {
      "cell_type": "code",
      "metadata": {
        "id": "fNL9b3rJRe3f",
        "colab_type": "code",
        "colab": {}
      },
      "source": [
        "b_s ,b_a ,b_r ,b_d ,b_s_ = m.sample(batch_size,p)"
      ],
      "execution_count": 0,
      "outputs": []
    },
    {
      "cell_type": "code",
      "metadata": {
        "id": "zlKPwWHDiibr",
        "colab_type": "code",
        "colab": {
          "base_uri": "https://localhost:8080/",
          "height": 571
        },
        "outputId": "135c68fa-1d3c-4cec-eb93-3c7f7ae7bfd0"
      },
      "source": [
        "for i,name in zip([b_s,b_a,b_r,b_d,b_s_],['state','action','reward','done','next_state']):\n",
        "  print(name,i)"
      ],
      "execution_count": 9,
      "outputs": [
        {
          "output_type": "stream",
          "text": [
            "state \n",
            "[[ 0.1226027   0.7465323  -0.20454772 -1.4887179 ]\n",
            " [ 0.11161143  0.54956365 -0.18164742 -1.1450146 ]\n",
            " [ 0.1045593   0.35260624 -0.16554403 -0.8051696 ]\n",
            " [ 0.0936484   0.5455455  -0.14455989 -1.049207  ]\n",
            " [ 0.08667069  0.3488854  -0.13018899 -0.71854573]\n",
            " [ 0.07582344  0.5423623  -0.11069886 -0.97450566]\n",
            " [ 0.05810308  0.53999233 -0.07925398 -0.91950226]\n",
            " [ 0.06890292  0.3460259  -0.09764402 -0.6527422 ]\n",
            " [ 0.04341597  0.73435533 -0.05536737 -1.1943303 ]\n",
            " [ 0.03264108  0.53874433 -0.03756579 -0.8900791 ]]\n",
            "<NDArray 10x4 @cpu(0)>\n",
            "action \n",
            "[0. 1. 1. 0. 1. 0. 0. 1. 0. 1.]\n",
            "<NDArray 10 @cpu(0)>\n",
            "reward \n",
            "[1. 1. 1. 1. 1. 1. 1. 1. 1. 1.]\n",
            "<NDArray 10 @cpu(0)>\n",
            "done \n",
            "[1. 0. 0. 0. 0. 0. 0. 0. 0. 0.]\n",
            "<NDArray 10 @cpu(0)>\n",
            "next_state \n",
            "[[ 0.13753335  0.5544036  -0.23432207 -1.2662513 ]\n",
            " [ 0.1226027   0.7465323  -0.20454772 -1.4887179 ]\n",
            " [ 0.11161143  0.54956365 -0.18164742 -1.1450146 ]\n",
            " [ 0.1045593   0.35260624 -0.16554403 -0.8051696 ]\n",
            " [ 0.0936484   0.5455455  -0.14455989 -1.049207  ]\n",
            " [ 0.08667069  0.3488854  -0.13018899 -0.71854573]\n",
            " [ 0.06890292  0.3460259  -0.09764402 -0.6527422 ]\n",
            " [ 0.07582344  0.5423623  -0.11069886 -0.97450566]\n",
            " [ 0.05810308  0.53999233 -0.07925398 -0.91950226]\n",
            " [ 0.04341597  0.73435533 -0.05536737 -1.1943303 ]]\n",
            "<NDArray 10x4 @cpu(0)>\n"
          ],
          "name": "stdout"
        }
      ]
    },
    {
      "cell_type": "code",
      "metadata": {
        "id": "Nnbs3EiNmOpV",
        "colab_type": "code",
        "colab": {}
      },
      "source": [
        ""
      ],
      "execution_count": 0,
      "outputs": []
    }
  ]
}