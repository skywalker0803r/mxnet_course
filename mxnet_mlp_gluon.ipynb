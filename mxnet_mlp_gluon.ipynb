{
  "nbformat": 4,
  "nbformat_minor": 0,
  "metadata": {
    "colab": {
      "name": "mxnet_mlp_gluon.ipynb",
      "provenance": [],
      "include_colab_link": true
    },
    "kernelspec": {
      "name": "python3",
      "display_name": "Python 3"
    }
  },
  "cells": [
    {
      "cell_type": "markdown",
      "metadata": {
        "id": "view-in-github",
        "colab_type": "text"
      },
      "source": [
        "<a href=\"https://colab.research.google.com/github/skywalker0803r/mxnet_course/blob/master/mxnet_mlp_gluon.ipynb\" target=\"_parent\"><img src=\"https://colab.research.google.com/assets/colab-badge.svg\" alt=\"Open In Colab\"/></a>"
      ]
    },
    {
      "cell_type": "code",
      "metadata": {
        "id": "TijcZckJlJz9",
        "colab_type": "code",
        "colab": {}
      },
      "source": [
        "#!pip install mxnet d2lzh\n",
        "import d2lzh as d2l\n",
        "from mxnet import gluon, init\n",
        "from mxnet.gluon import loss as gloss, nn\n",
        "import mxnet as mx"
      ],
      "execution_count": 0,
      "outputs": []
    },
    {
      "cell_type": "markdown",
      "metadata": {
        "id": "tq75pk4BljDP",
        "colab_type": "text"
      },
      "source": [
        "# define model"
      ]
    },
    {
      "cell_type": "code",
      "metadata": {
        "id": "C737toltlSKl",
        "colab_type": "code",
        "colab": {}
      },
      "source": [
        "net = nn.Sequential()\n",
        "net.add(nn.Dense(256, activation='relu'),\n",
        "        nn.Dense(10))\n",
        "net.initialize(init.Normal(sigma=0.01))"
      ],
      "execution_count": 0,
      "outputs": []
    },
    {
      "cell_type": "markdown",
      "metadata": {
        "id": "HYsZQI2GlqdC",
        "colab_type": "text"
      },
      "source": [
        "# load data and training"
      ]
    },
    {
      "cell_type": "code",
      "metadata": {
        "id": "IntFDcZ5lmCO",
        "colab_type": "code",
        "colab": {
          "base_uri": "https://localhost:8080/",
          "height": 125
        },
        "outputId": "7d3ce157-6159-41da-8193-dbe77f471bb5"
      },
      "source": [
        "batch_size = 256\n",
        "train_iter, test_iter = d2l.load_data_fashion_mnist(batch_size)\n",
        "\n",
        "loss = gloss.SoftmaxCrossEntropyLoss()\n",
        "trainer = gluon.Trainer(net.collect_params(), 'sgd', {'learning_rate': 0.5})\n",
        "\n",
        "num_epochs = 5\n",
        "d2l.train(train_iter,test_iter,net,loss,trainer,mx.cpu(),num_epochs)"
      ],
      "execution_count": 3,
      "outputs": [
        {
          "output_type": "stream",
          "text": [
            "training on cpu(0)\n",
            "epoch 1, loss 0.8157, train acc 0.695, test acc 0.749, time 6.3 sec\n",
            "epoch 2, loss 0.4938, train acc 0.816, test acc 0.843, time 6.4 sec\n",
            "epoch 3, loss 0.4282, train acc 0.841, test acc 0.772, time 6.2 sec\n",
            "epoch 4, loss 0.4009, train acc 0.852, test acc 0.826, time 6.2 sec\n",
            "epoch 5, loss 0.3747, train acc 0.861, test acc 0.845, time 6.3 sec\n"
          ],
          "name": "stdout"
        }
      ]
    },
    {
      "cell_type": "code",
      "metadata": {
        "id": "WarIFTnKmDYC",
        "colab_type": "code",
        "colab": {}
      },
      "source": [
        ""
      ],
      "execution_count": 0,
      "outputs": []
    }
  ]
}