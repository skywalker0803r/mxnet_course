{
  "nbformat": 4,
  "nbformat_minor": 0,
  "metadata": {
    "colab": {
      "name": "REINFORCE.ipynb",
      "provenance": [],
      "include_colab_link": true
    },
    "kernelspec": {
      "name": "python3",
      "display_name": "Python 3"
    }
  },
  "cells": [
    {
      "cell_type": "markdown",
      "metadata": {
        "id": "view-in-github",
        "colab_type": "text"
      },
      "source": [
        "<a href=\"https://colab.research.google.com/github/skywalker0803r/mxnet_course/blob/master/mxnet_REINFORCE.ipynb\" target=\"_parent\"><img src=\"https://colab.research.google.com/assets/colab-badge.svg\" alt=\"Open In Colab\"/></a>"
      ]
    },
    {
      "cell_type": "code",
      "metadata": {
        "id": "6u8SzL5cvnY0",
        "colab_type": "code",
        "colab": {}
      },
      "source": [
        "#!pip install mxnet\n",
        "import sys\n",
        "import mxnet  \n",
        "import gym\n",
        "import numpy as np  \n",
        "from mxnet import nd,autograd,init\n",
        "from mxnet.gluon import nn,trainer\n",
        "import matplotlib.pyplot as plt\n",
        "from mxnet.gluon import Trainer"
      ],
      "execution_count": 0,
      "outputs": []
    },
    {
      "cell_type": "markdown",
      "metadata": {
        "id": "SKCIv71r0-Wo",
        "colab_type": "text"
      },
      "source": [
        "# PolicyNetwork"
      ]
    },
    {
      "cell_type": "code",
      "metadata": {
        "id": "5lRLrhZyvvIH",
        "colab_type": "code",
        "colab": {}
      },
      "source": [
        "class PolicyNetwork(nn.Block):\n",
        "  def __init__(self,num_actions):\n",
        "    super(PolicyNetwork,self).__init__()\n",
        "    self.linear1 = nn.Dense(128)\n",
        "    self.linear2 = nn.Dense(num_actions)\n",
        "  def forward(self,x):\n",
        "    x = nd.array(x)\n",
        "    x = nd.relu(self.linear1(x))\n",
        "    x = nd.softmax(self.linear2(x))\n",
        "    return x\n",
        "  def get_action(self,x):\n",
        "    probs = self.forward(x)\n",
        "    action,log_prob = nd.random.multinomial(probs,get_prob=True)\n",
        "    return action,log_prob"
      ],
      "execution_count": 0,
      "outputs": []
    },
    {
      "cell_type": "code",
      "metadata": {
        "id": "Y3qdaFhHymCZ",
        "colab_type": "code",
        "colab": {
          "base_uri": "https://localhost:8080/",
          "height": 238
        },
        "outputId": "ffaa373f-0f9f-4e92-9ea9-984df706452f"
      },
      "source": [
        "#test\n",
        "p = PolicyNetwork(2)\n",
        "p.initialize(init=init.Xavier())\n",
        "s1 = np.array([1,2,3,4])\n",
        "s2 = np.array([2,3,4,5])\n",
        "batch_state = np.stack([s1,s2])\n",
        "print('===============')\n",
        "print(p.get_action([s1]))\n",
        "print('===============')\n",
        "print(p.get_action(batch_state))"
      ],
      "execution_count": 3,
      "outputs": [
        {
          "output_type": "stream",
          "text": [
            "===============\n",
            "(\n",
            "[1]\n",
            "<NDArray 1 @cpu(0)>, \n",
            "[-0.44218192]\n",
            "<NDArray 1 @cpu(0)>)\n",
            "===============\n",
            "(\n",
            "[1 1]\n",
            "<NDArray 2 @cpu(0)>, \n",
            "[-0.44218192 -0.36352086]\n",
            "<NDArray 2 @cpu(0)>)\n"
          ],
          "name": "stdout"
        }
      ]
    },
    {
      "cell_type": "markdown",
      "metadata": {
        "id": "WV5VFcv_1Knl",
        "colab_type": "text"
      },
      "source": [
        "# main loop"
      ]
    },
    {
      "cell_type": "code",
      "metadata": {
        "id": "7oWV_Euh8BSO",
        "colab_type": "code",
        "colab": {
          "base_uri": "https://localhost:8080/",
          "height": 1000
        },
        "outputId": "5578a032-1e09-4a78-c6bb-6a3c2677bf98"
      },
      "source": [
        "env = gym.make('CartPole-v0')\n",
        "policy_net = PolicyNetwork(env.action_space.n)\n",
        "policy_net.initialize(init=init.Xavier())\n",
        "trainer = Trainer(policy_net.collect_params(),'adam',{'learning_rate':0.001})\n",
        "\n",
        "max_episode_num = 1000\n",
        "max_steps = 10000\n",
        "numsteps = []\n",
        "avg_numsteps = []\n",
        "all_rewards = []\n",
        "\n",
        "for episode in range(max_episode_num):\n",
        "  state = env.reset()\n",
        "  log_probs = []\n",
        "  rewards = []\n",
        "  with autograd.record():\n",
        "    for t in range(max_steps):\n",
        "      state = nd.array(np.expand_dims(state, 0))\n",
        "      action, log_prob = policy_net.get_action(state)\n",
        "      state, reward, done, _ = env.step(action.asnumpy()[0])\n",
        "      log_probs.append(log_prob)\n",
        "      rewards.append(reward)\n",
        "      if done:\n",
        "        break\n",
        "    \n",
        "    # logging\n",
        "    numsteps.append(t)\n",
        "    avg_numsteps.append(np.mean(numsteps[-10:]))\n",
        "\n",
        "    # reverse accumulate and normalize rewards\n",
        "    R = 0\n",
        "    for i in range(len(rewards)-1, -1, -1):\n",
        "      R = rewards[i] + 0.9 * R\n",
        "      rewards[i] = R\n",
        "    rewards = np.array(rewards)\n",
        "    rewards -= rewards.mean()\n",
        "    rewards /= rewards.std() + np.finfo(rewards.dtype).eps\n",
        "      \n",
        "    # compute loss\n",
        "    loss = []\n",
        "    for log_prob,Gt in zip(log_probs,rewards):\n",
        "      loss.append(log_prob*(-Gt))\n",
        "    \n",
        "    # loss backward\n",
        "    autograd.backward(loss)\n",
        "  \n",
        "  # gradient descent\n",
        "  trainer.step(t)\n",
        "  \n",
        "  # print info\n",
        "  if episode % 20 == 0:\n",
        "    print(episode,t)\n",
        "\n",
        "plt.plot(numsteps)\n",
        "plt.plot(avg_numsteps)\n",
        "plt.xlabel('Episode')\n",
        "plt.show()"
      ],
      "execution_count": 4,
      "outputs": [
        {
          "output_type": "stream",
          "text": [
            "0 8\n",
            "20 19\n",
            "40 16\n",
            "60 103\n",
            "80 29\n",
            "100 59\n",
            "120 66\n",
            "140 135\n",
            "160 65\n",
            "180 52\n",
            "200 138\n",
            "220 159\n",
            "240 60\n",
            "260 159\n",
            "280 142\n",
            "300 199\n",
            "320 179\n",
            "340 199\n",
            "360 199\n",
            "380 199\n",
            "400 199\n",
            "420 199\n",
            "440 199\n",
            "460 199\n",
            "480 199\n",
            "500 199\n",
            "520 199\n",
            "540 199\n",
            "560 199\n",
            "580 199\n",
            "600 136\n",
            "620 142\n",
            "640 180\n",
            "660 127\n",
            "680 185\n",
            "700 166\n",
            "720 157\n",
            "740 199\n",
            "760 199\n",
            "780 199\n",
            "800 199\n",
            "820 199\n",
            "840 199\n",
            "860 199\n",
            "880 199\n",
            "900 199\n",
            "920 186\n",
            "940 199\n",
            "960 186\n",
            "980 161\n"
          ],
          "name": "stdout"
        },
        {
          "output_type": "display_data",
          "data": {
            "image/png": "[encoded data removed]",
            "text/plain": [
              "<Figure size 432x288 with 1 Axes>"
            ]
          },
          "metadata": {
            "tags": []
          }
        }
      ]
    },
    {
      "cell_type": "code",
      "metadata": {
        "id": "hzDB9BVU9gKd",
        "colab_type": "code",
        "colab": {}
      },
      "source": [
        ""
      ],
      "execution_count": 0,
      "outputs": []
    }
  ]
}