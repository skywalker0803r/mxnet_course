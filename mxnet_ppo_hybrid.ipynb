{
  "nbformat": 4,
  "nbformat_minor": 0,
  "metadata": {
    "colab": {
      "name": "Untitled52.ipynb",
      "provenance": [],
      "include_colab_link": true
    },
    "kernelspec": {
      "name": "python3",
      "display_name": "Python 3"
    }
  },
  "cells": [
    {
      "cell_type": "markdown",
      "metadata": {
        "id": "view-in-github",
        "colab_type": "text"
      },
      "source": [
        "<a href=\"https://colab.research.google.com/github/skywalker0803r/mxnet_course/blob/master/mxnet_ppo_hybrid.ipynb\" target=\"_parent\"><img src=\"https://colab.research.google.com/assets/colab-badge.svg\" alt=\"Open In Colab\"/></a>"
      ]
    },
    {
      "cell_type": "code",
      "metadata": {
        "id": "LIpkZan3w84P",
        "colab_type": "code",
        "colab": {}
      },
      "source": [
        "#!pip install mxnet\n",
        "#!pip install box2d-py\n",
        "import numpy as np \n",
        "import mxnet as mx \n",
        "from mxnet import gluon,autograd,nd\n",
        "import mxnet.ndarray as F\n",
        "from mxnet.gluon import nn\n",
        "from mxnet.gluon.loss import L2Loss\n",
        "import gym\n",
        "from mxnet import init\n",
        "import matplotlib.pyplot as plt"
      ],
      "execution_count": 0,
      "outputs": []
    },
    {
      "cell_type": "markdown",
      "metadata": {
        "id": "z7SuOLskWBof",
        "colab_type": "text"
      },
      "source": [
        "# hyper params"
      ]
    },
    {
      "cell_type": "code",
      "metadata": {
        "id": "2hvPWPS7WBxX",
        "colab_type": "code",
        "colab": {}
      },
      "source": [
        "env_name = \"CartPole-v1\"\n",
        "# creating environment\n",
        "env = gym.make(env_name)\n",
        "state_dim = env.observation_space.shape[0]\n",
        "action_dim = env.action_space.n\n",
        "solved_reward = 500      \n",
        "log_interval = 20          \n",
        "max_episodes = 50000       \n",
        "max_timesteps = 1000      \n",
        "update_timestep = 2000  \n",
        "lr = 0.001\n",
        "gamma = 0.99               \n",
        "K_epochs = 4           \n",
        "eps_clip = 0.2"
      ],
      "execution_count": 0,
      "outputs": []
    },
    {
      "cell_type": "markdown",
      "metadata": {
        "id": "_VX6A3Ub15CR",
        "colab_type": "text"
      },
      "source": [
        "# nd_entropy"
      ]
    },
    {
      "cell_type": "code",
      "metadata": {
        "id": "X9bI8JAz16pi",
        "colab_type": "code",
        "colab": {}
      },
      "source": [
        "def nd_entropy(p):\n",
        "  return -nd.sum(p*nd.log(p+1e-8),axis=1)"
      ],
      "execution_count": 0,
      "outputs": []
    },
    {
      "cell_type": "markdown",
      "metadata": {
        "id": "NrsqsDbo6nVL",
        "colab_type": "text"
      },
      "source": [
        "# nd_entropy test"
      ]
    },
    {
      "cell_type": "code",
      "metadata": {
        "id": "CQvVF4yW6my6",
        "colab_type": "code",
        "colab": {
          "base_uri": "https://localhost:8080/",
          "height": 246
        },
        "outputId": "969492c2-25ae-413c-b476-110ad46aad67"
      },
      "source": [
        "# test nd_entropy\n",
        "a = [1,0,0]\n",
        "b = [0,0,1]\n",
        "c = [0.4,0.3,0.3]\n",
        "d = [0.7,0.2,0.1]\n",
        "for i in [a,b,c,d]:\n",
        "  p = nd.array([i])\n",
        "  print(nd_entropy(p))"
      ],
      "execution_count": 4,
      "outputs": [
        {
          "output_type": "stream",
          "text": [
            "\n",
            "[-0.]\n",
            "<NDArray 1 @cpu(0)>\n",
            "\n",
            "[-0.]\n",
            "<NDArray 1 @cpu(0)>\n",
            "\n",
            "[1.0889001]\n",
            "<NDArray 1 @cpu(0)>\n",
            "\n",
            "[0.80181855]\n",
            "<NDArray 1 @cpu(0)>\n"
          ],
          "name": "stdout"
        }
      ]
    },
    {
      "cell_type": "markdown",
      "metadata": {
        "id": "tFquz5pY3xCt",
        "colab_type": "text"
      },
      "source": [
        "# memory"
      ]
    },
    {
      "cell_type": "code",
      "metadata": {
        "id": "dd2ZQIeC3Bu4",
        "colab_type": "code",
        "colab": {}
      },
      "source": [
        "class Memory:\n",
        "  def __init__(self):\n",
        "    self.actions = []\n",
        "    self.states = []\n",
        "    self.logprobs = []\n",
        "    self.rewards = []\n",
        "    self.is_terminals = []\n",
        "  \n",
        "  def clear_memory(self):\n",
        "    del self.actions[:]\n",
        "    del self.states[:]\n",
        "    del self.logprobs[:]\n",
        "    del self.rewards[:]\n",
        "    del self.is_terminals[:]"
      ],
      "execution_count": 0,
      "outputs": []
    },
    {
      "cell_type": "markdown",
      "metadata": {
        "id": "q1eGdebx35qL",
        "colab_type": "text"
      },
      "source": [
        "# ActorCritic model"
      ]
    },
    {
      "cell_type": "code",
      "metadata": {
        "id": "ydk4g9at33qw",
        "colab_type": "code",
        "colab": {}
      },
      "source": [
        "class ActorCritic_Discrete(nn.HybridBlock):\n",
        "  def __init__(self, actions_dim):\n",
        "    super().__init__()\n",
        "    with self.name_scope():\n",
        "      self.fc1 = nn.Dense(64, activation='relu')\n",
        "      self.fc2 = nn.Dense(64, activation='relu')\n",
        "      self.fc3 = nn.Dense(64, activation='relu')\n",
        "      self.action_pred = nn.Dense(actions_dim)\n",
        "      self.value_pred = nn.Dense(1)\n",
        "  \n",
        "  def hybrid_forward(self,F,x):\n",
        "    x = self.fc1(x)\n",
        "    x = self.fc2(x)\n",
        "    x = self.fc3(x)\n",
        "    probs = self.action_pred(x)\n",
        "    values = self.value_pred(x)\n",
        "    return F.softmax(probs), values"
      ],
      "execution_count": 0,
      "outputs": []
    },
    {
      "cell_type": "markdown",
      "metadata": {
        "id": "vIpCExKO6TB6",
        "colab_type": "text"
      },
      "source": [
        "# forward test"
      ]
    },
    {
      "cell_type": "code",
      "metadata": {
        "id": "t6JJ1aXC45NK",
        "colab_type": "code",
        "colab": {
          "base_uri": "https://localhost:8080/",
          "height": 227
        },
        "outputId": "ebc8b607-874d-4114-9d75-14fa07ba9e22"
      },
      "source": [
        "env = gym.make(env_name)\n",
        "action_dim = env.action_space.n\n",
        "state_dim = env.observation_space.shape[0]\n",
        "state = env.reset()\n",
        "state = nd.array([state])\n",
        "print(state_dim,action_dim)\n",
        "a = ActorCritic_Discrete(action_dim)\n",
        "b = ActorCritic_Discrete(action_dim)\n",
        "a.initialize(init=init.Xavier())\n",
        "b.initialize(init=init.Xavier())\n",
        "a.hybridize()\n",
        "b.hybridize()\n",
        "print(a(state))\n",
        "print(b(state))"
      ],
      "execution_count": 7,
      "outputs": [
        {
          "output_type": "stream",
          "text": [
            "4 2\n",
            "[\n",
            "[[0.5015262 0.4984738]]\n",
            "<NDArray 1x2 @cpu(0)>, \n",
            "[[-0.00114449]]\n",
            "<NDArray 1x1 @cpu(0)>]\n",
            "[\n",
            "[[0.5032659  0.49673414]]\n",
            "<NDArray 1x2 @cpu(0)>, \n",
            "[[0.00484853]]\n",
            "<NDArray 1x1 @cpu(0)>]\n"
          ],
          "name": "stdout"
        }
      ]
    },
    {
      "cell_type": "markdown",
      "metadata": {
        "id": "BtRpT2Kp6X40",
        "colab_type": "text"
      },
      "source": [
        "# copy params test"
      ]
    },
    {
      "cell_type": "code",
      "metadata": {
        "id": "RJxvF4oz5BaA",
        "colab_type": "code",
        "colab": {
          "base_uri": "https://localhost:8080/",
          "height": 208
        },
        "outputId": "9d2c9001-89db-4f2b-cbb1-942104863acf"
      },
      "source": [
        "a.save_parameters(\"temp\")\n",
        "b.load_parameters(\"temp\")\n",
        "print(a(state))\n",
        "print(b(state))"
      ],
      "execution_count": 8,
      "outputs": [
        {
          "output_type": "stream",
          "text": [
            "[\n",
            "[[0.5015262 0.4984738]]\n",
            "<NDArray 1x2 @cpu(0)>, \n",
            "[[-0.00114449]]\n",
            "<NDArray 1x1 @cpu(0)>]\n",
            "[\n",
            "[[0.5015262 0.4984738]]\n",
            "<NDArray 1x2 @cpu(0)>, \n",
            "[[-0.00114449]]\n",
            "<NDArray 1x1 @cpu(0)>]\n"
          ],
          "name": "stdout"
        }
      ]
    },
    {
      "cell_type": "markdown",
      "metadata": {
        "id": "rcnhepJcQlNm",
        "colab_type": "text"
      },
      "source": [
        "# model save test"
      ]
    },
    {
      "cell_type": "code",
      "metadata": {
        "id": "AyB8Ih6QQnWK",
        "colab_type": "code",
        "colab": {}
      },
      "source": [
        "a.export('test_save_model')"
      ],
      "execution_count": 0,
      "outputs": []
    },
    {
      "cell_type": "markdown",
      "metadata": {
        "id": "uzjH6sZI8K38",
        "colab_type": "text"
      },
      "source": [
        "# initialize memory net old_net and trainer"
      ]
    },
    {
      "cell_type": "code",
      "metadata": {
        "id": "ygm_wnaj83md",
        "colab_type": "code",
        "colab": {}
      },
      "source": [
        "memory = Memory()"
      ],
      "execution_count": 0,
      "outputs": []
    },
    {
      "cell_type": "code",
      "metadata": {
        "id": "TTdpvrS18HIo",
        "colab_type": "code",
        "colab": {}
      },
      "source": [
        "net = ActorCritic_Discrete(action_dim)\n",
        "old_net = ActorCritic_Discrete(action_dim)\n",
        "\n",
        "net.initialize(init=init.Xavier())\n",
        "old_net.initialize(init=init.Xavier())\n",
        "\n",
        "net.hybridize()\n",
        "old_net.hybridize()\n",
        "\n",
        "net(state)\n",
        "old_net(state)\n",
        "\n",
        "net.save_parameters(\"temp\")\n",
        "old_net.load_parameters(\"temp\")"
      ],
      "execution_count": 0,
      "outputs": []
    },
    {
      "cell_type": "code",
      "metadata": {
        "id": "fiLVRZ7SC78o",
        "colab_type": "code",
        "colab": {}
      },
      "source": [
        "trainer = gluon.Trainer(net.collect_params(),'adam',{'learning_rate':lr})"
      ],
      "execution_count": 0,
      "outputs": []
    },
    {
      "cell_type": "markdown",
      "metadata": {
        "id": "o7a9jfm09CGE",
        "colab_type": "text"
      },
      "source": [
        "# main loop"
      ]
    },
    {
      "cell_type": "code",
      "metadata": {
        "id": "7afMpsyk8Mv9",
        "colab_type": "code",
        "colab": {
          "base_uri": "https://localhost:8080/",
          "height": 1000
        },
        "outputId": "43c4ac9c-9fb7-4993-9bad-188819eb4841"
      },
      "source": [
        "all_rewards = []\n",
        "avg_rewards = []\n",
        "time_step = 0\n",
        "\n",
        "for i_episode in range(max_episodes):\n",
        "  \n",
        "  state = env.reset()\n",
        "  R = 0\n",
        "  \n",
        "  for t in range(max_timesteps):\n",
        "    time_step +=1\n",
        "    \n",
        "    # interactive with env\n",
        "    probs, values = old_net(nd.array([state]))\n",
        "    action, log_prob = nd.sample_multinomial(probs, get_prob = True)\n",
        "    action, log_prob = action.asnumpy()[0], log_prob.asnumpy()[0]\n",
        "    next_state, reward, done, info = env.step(action)\n",
        "    \n",
        "    # append to memory\n",
        "    R += reward\n",
        "    memory.states.append(state)\n",
        "    memory.actions.append(action)\n",
        "    memory.logprobs.append(log_prob)\n",
        "    memory.rewards.append(reward)\n",
        "    memory.is_terminals.append(done)\n",
        "    \n",
        "    # every update_timestep ppo learn\n",
        "    if time_step % update_timestep == 0:\n",
        "      \n",
        "      # Monte Carlo estimate of state rewards:\n",
        "      rewards = []\n",
        "      discounted_reward = 0\n",
        "      for reward, is_terminal in zip(reversed(memory.rewards), reversed(memory.is_terminals)):\n",
        "        if is_terminal:\n",
        "          discounted_reward = 0\n",
        "        discounted_reward = reward + (gamma * discounted_reward)\n",
        "        rewards.insert(0, discounted_reward)\n",
        "      \n",
        "      # Normalizing the rewards:\n",
        "      rewards = np.array(rewards)\n",
        "      rewards = (rewards - rewards.mean()) / (rewards.std() + 1e-5)\n",
        "      rewards = nd.array(rewards)\n",
        "\n",
        "      # sample batch data from memory\n",
        "      old_states = nd.array(memory.states)\n",
        "      old_actions = nd.array(memory.actions)\n",
        "      old_logprobs = nd.array(memory.logprobs)\n",
        "\n",
        "      # Optimize policy for 4 epochs:\n",
        "      for _ in range(K_epochs):\n",
        "        with autograd.record():\n",
        "          probs, values = net(old_states)\n",
        "          logprobs = nd.pick(probs.log(),old_actions,axis=1)\n",
        "          dist_entropy = nd_entropy(probs)\n",
        "          values = nd.squeeze(values)\n",
        "          # caculate\n",
        "          ratios = nd.exp(logprobs - old_logprobs)\n",
        "          advantages = rewards - values\n",
        "          surr1 = ratios * advantages\n",
        "          surr2 = nd.clip(ratios,1-eps_clip,1+eps_clip)*advantages\n",
        "          loss = -nd.minimum(surr1,surr2) + 0.5*nd.mean((advantages)**2) - 0.01*dist_entropy\n",
        "          loss = nd.mean(loss)\n",
        "        loss.backward()\n",
        "        trainer.step(1)\n",
        "      net.save_parameters(\"temp\")\n",
        "      old_net.load_parameters(\"temp\")\n",
        "      print('copy params to old net')\n",
        "      memory.clear_memory()\n",
        "      time_step = 0\n",
        "    \n",
        "    # game over\n",
        "    if done:\n",
        "      break\n",
        "    else:\n",
        "      state = next_state            \n",
        "  \n",
        "  # every episode record R\n",
        "  all_rewards.append(R)\n",
        "  avg_rewards.append(np.mean(all_rewards[-log_interval:]))\n",
        "  \n",
        "  # if solved!\n",
        "  if (all_rewards[-1] >= solved_reward):#&(avg_rewards[-1] >= solved_reward*0.9):\n",
        "    print(\"########## Solved! ##########\")\n",
        "    print(i_episode,all_rewards[-1],avg_rewards[-1])\n",
        "    break\n",
        "  \n",
        "  # print infomation\n",
        "  if i_episode % log_interval == 0:\n",
        "    print(i_episode,avg_rewards[-1])"
      ],
      "execution_count": 13,
      "outputs": [
        {
          "output_type": "stream",
          "text": [
            "0 11.0\n",
            "20 23.85\n",
            "40 27.55\n",
            "60 18.95\n",
            "80 20.9\n",
            "copy params to old net\n",
            "100 22.7\n",
            "120 22.45\n",
            "140 20.9\n",
            "160 23.35\n",
            "copy params to old net\n",
            "180 26.0\n",
            "200 23.15\n",
            "220 23.55\n",
            "240 29.85\n",
            "copy params to old net\n",
            "260 23.7\n",
            "280 26.9\n",
            "300 25.3\n",
            "320 23.4\n",
            "copy params to old net\n",
            "340 28.95\n",
            "360 25.4\n",
            "380 24.5\n",
            "400 28.4\n",
            "copy params to old net\n",
            "420 24.55\n",
            "440 23.65\n",
            "460 30.0\n",
            "480 29.0\n",
            "copy params to old net\n",
            "500 33.5\n",
            "520 29.15\n",
            "540 28.8\n",
            "copy params to old net\n",
            "560 33.6\n",
            "580 37.75\n",
            "600 29.8\n",
            "copy params to old net\n",
            "620 39.1\n",
            "640 42.15\n",
            "copy params to old net\n",
            "660 35.9\n",
            "680 43.0\n",
            "700 42.2\n",
            "copy params to old net\n",
            "720 38.85\n",
            "740 33.55\n",
            "760 35.1\n",
            "copy params to old net\n",
            "780 38.5\n",
            "800 46.8\n",
            "copy params to old net\n",
            "820 37.95\n",
            "840 36.8\n",
            "copy params to old net\n",
            "860 61.95\n",
            "880 59.65\n",
            "copy params to old net\n",
            "900 61.3\n",
            "920 47.45\n",
            "copy params to old net\n",
            "940 77.35\n",
            "copy params to old net\n",
            "960 43.7\n",
            "980 72.45\n",
            "copy params to old net\n",
            "1000 113.2\n",
            "copy params to old net\n",
            "1020 77.65\n",
            "copy params to old net\n",
            "1040 104.2\n",
            "copy params to old net\n",
            "1060 114.15\n",
            "copy params to old net\n",
            "copy params to old net\n",
            "1080 183.1\n",
            "copy params to old net\n",
            "copy params to old net\n",
            "########## Solved! ##########\n",
            "1098 500.0 189.95\n"
          ],
          "name": "stdout"
        }
      ]
    },
    {
      "cell_type": "markdown",
      "metadata": {
        "id": "Z2PMnWE3HwBB",
        "colab_type": "text"
      },
      "source": [
        "# plot"
      ]
    },
    {
      "cell_type": "code",
      "metadata": {
        "id": "YBj8XPvKHwI2",
        "colab_type": "code",
        "colab": {
          "base_uri": "https://localhost:8080/",
          "height": 279
        },
        "outputId": "ae6305d7-f95a-491c-9654-2288d34d0ade"
      },
      "source": [
        "plt.plot(all_rewards)\n",
        "plt.plot(avg_rewards)\n",
        "plt.xlabel('episode')\n",
        "plt.show()"
      ],
      "execution_count": 14,
      "outputs": [
        {
          "output_type": "display_data",
          "data": {
            "image/png": "[encoded data removed]",
            "text/plain": [
              "<Figure size 432x288 with 1 Axes>"
            ]
          },
          "metadata": {
            "tags": []
          }
        }
      ]
    },
    {
      "cell_type": "markdown",
      "metadata": {
        "id": "WtuEw1orOTBr",
        "colab_type": "text"
      },
      "source": [
        "# save model"
      ]
    },
    {
      "cell_type": "code",
      "metadata": {
        "id": "TOSCgXmsII3p",
        "colab_type": "code",
        "colab": {}
      },
      "source": [
        "old_net.export('{}_model'.format(env_name))\n",
        "del old_net"
      ],
      "execution_count": 0,
      "outputs": []
    },
    {
      "cell_type": "markdown",
      "metadata": {
        "id": "EshRZ1UcReHB",
        "colab_type": "text"
      },
      "source": [
        "# load model"
      ]
    },
    {
      "cell_type": "code",
      "metadata": {
        "id": "xavF_0ASRdXn",
        "colab_type": "code",
        "colab": {
          "base_uri": "https://localhost:8080/",
          "height": 75
        },
        "outputId": "085bdc2d-9453-485d-d4d8-41a5f94aea0b"
      },
      "source": [
        "deserialized_net = nn.SymbolBlock.imports(\"{}_model-symbol.json\".format(env_name), \n",
        "                                          ['data'], \n",
        "                                          \"{}_model-0000.params\".format(env_name))"
      ],
      "execution_count": 16,
      "outputs": [
        {
          "output_type": "stream",
          "text": [
            "/usr/local/lib/python3.6/dist-packages/mxnet/gluon/block.py:1159: UserWarning: Cannot decide type for the following arguments. Consider providing them as input:\n",
            "\tdata: None\n",
            "  input_sym_arg_type = in_param.infer_type()[0]\n"
          ],
          "name": "stderr"
        }
      ]
    },
    {
      "cell_type": "markdown",
      "metadata": {
        "id": "s4Fl64kQRlLd",
        "colab_type": "text"
      },
      "source": [
        "# test model"
      ]
    },
    {
      "cell_type": "code",
      "metadata": {
        "id": "cKouUhcURqwq",
        "colab_type": "code",
        "colab": {
          "base_uri": "https://localhost:8080/",
          "height": 208
        },
        "outputId": "b841bbc1-46c9-4e34-a668-5aa36606ad2c"
      },
      "source": [
        "env = gym.make(env_name)\n",
        "old_net = deserialized_net\n",
        "for i_episode in range(10):\n",
        "  state = env.reset()\n",
        "  R = 0\n",
        "  for t in range(1000):\n",
        "    probs,values = old_net(nd.array([state]))\n",
        "    action = np.argmax(probs.asnumpy())\n",
        "    state, reward, done, info = env.step(action)\n",
        "    R += reward\n",
        "    if done:\n",
        "      break            \n",
        "  print(i_episode,R)"
      ],
      "execution_count": 18,
      "outputs": [
        {
          "output_type": "stream",
          "text": [
            "0 500.0\n",
            "1 500.0\n",
            "2 500.0\n",
            "3 500.0\n",
            "4 500.0\n",
            "5 500.0\n",
            "6 421.0\n",
            "7 463.0\n",
            "8 500.0\n",
            "9 500.0\n"
          ],
          "name": "stdout"
        }
      ]
    },
    {
      "cell_type": "code",
      "metadata": {
        "id": "kyNpLrdURw8D",
        "colab_type": "code",
        "colab": {}
      },
      "source": [
        ""
      ],
      "execution_count": 0,
      "outputs": []
    }
  ]
}