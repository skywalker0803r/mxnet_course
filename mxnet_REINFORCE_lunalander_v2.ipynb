{
  "nbformat": 4,
  "nbformat_minor": 0,
  "metadata": {
    "colab": {
      "name": "REINFORCE.ipynb",
      "provenance": [],
      "include_colab_link": true
    },
    "kernelspec": {
      "name": "python3",
      "display_name": "Python 3"
    }
  },
  "cells": [
    {
      "cell_type": "markdown",
      "metadata": {
        "id": "view-in-github",
        "colab_type": "text"
      },
      "source": [
        "<a href=\"https://colab.research.google.com/github/skywalker0803r/mxnet_course/blob/master/mxnet_REINFORCE_lunalander_v2.ipynb\" target=\"_parent\"><img src=\"https://colab.research.google.com/assets/colab-badge.svg\" alt=\"Open In Colab\"/></a>"
      ]
    },
    {
      "cell_type": "code",
      "metadata": {
        "id": "6u8SzL5cvnY0",
        "colab_type": "code",
        "colab": {}
      },
      "source": [
        "#!pip install mxnet\n",
        "#!sudo pip install box2d-py\n",
        "import sys\n",
        "import mxnet  \n",
        "import gym\n",
        "import numpy as np  \n",
        "from mxnet import nd,autograd,init\n",
        "from mxnet.gluon import nn,trainer\n",
        "import matplotlib.pyplot as plt\n",
        "from mxnet.gluon import Trainer"
      ],
      "execution_count": 0,
      "outputs": []
    },
    {
      "cell_type": "markdown",
      "metadata": {
        "id": "SKCIv71r0-Wo",
        "colab_type": "text"
      },
      "source": [
        "# PolicyNetwork"
      ]
    },
    {
      "cell_type": "code",
      "metadata": {
        "id": "VLSoTkHf1mle",
        "colab_type": "code",
        "colab": {}
      },
      "source": [
        "def build_policy(net,num_actions):\n",
        "  with net.name_scope():\n",
        "    net.add(nn.Dense(128,activation='relu'))\n",
        "    net.add(nn.Dense(128,activation='relu'))\n",
        "    net.add(nn.Dense(128,activation='relu'))\n",
        "    net.add(nn.Dense(num_actions))\n",
        "  return net"
      ],
      "execution_count": 0,
      "outputs": []
    },
    {
      "cell_type": "markdown",
      "metadata": {
        "id": "kYwQrT0QFmYC",
        "colab_type": "text"
      },
      "source": [
        "test"
      ]
    },
    {
      "cell_type": "code",
      "metadata": {
        "id": "Y3qdaFhHymCZ",
        "colab_type": "code",
        "outputId": "ce20682f-e1e0-4af1-c427-b7bd186c4321",
        "colab": {
          "base_uri": "https://localhost:8080/",
          "height": 71
        }
      },
      "source": [
        "p = build_policy(nn.HybridSequential(),2)\n",
        "p.initialize(init=init.Xavier())\n",
        "x = nd.random.normal(shape=(1,4))\n",
        "p(x)"
      ],
      "execution_count": 3,
      "outputs": [
        {
          "output_type": "execute_result",
          "data": {
            "text/plain": [
              "\n",
              "[[-0.00842177  0.05223081]]\n",
              "<NDArray 1x2 @cpu(0)>"
            ]
          },
          "metadata": {
            "tags": []
          },
          "execution_count": 3
        }
      ]
    },
    {
      "cell_type": "markdown",
      "metadata": {
        "id": "Ho88zhB2FAcx",
        "colab_type": "text"
      },
      "source": [
        "# hyperparams"
      ]
    },
    {
      "cell_type": "code",
      "metadata": {
        "id": "F9LBCFzsFCqF",
        "colab_type": "code",
        "colab": {}
      },
      "source": [
        "# env\n",
        "seed = 42\n",
        "game = 'LunarLander-v2'\n",
        "env = gym.make(game)\n",
        "env.seed(seed)\n",
        "\n",
        "# policy net\n",
        "policy_net = build_policy(nn.HybridSequential(),env.action_space.n)\n",
        "policy_net.hybridize()\n",
        "policy_net.initialize(init=init.Xavier())\n",
        "\n",
        "# trainer\n",
        "trainer = Trainer(policy_net.collect_params(),'adam',{'learning_rate':1e-3})\n",
        "\n",
        "# game params\n",
        "max_episode_num = 1000\n",
        "max_steps = 1000\n",
        "\n",
        "# log list\n",
        "all_rewards = []\n",
        "avg_all_rewards = []"
      ],
      "execution_count": 0,
      "outputs": []
    },
    {
      "cell_type": "markdown",
      "metadata": {
        "id": "WV5VFcv_1Knl",
        "colab_type": "text"
      },
      "source": [
        "# main loop"
      ]
    },
    {
      "cell_type": "code",
      "metadata": {
        "id": "7oWV_Euh8BSO",
        "colab_type": "code",
        "outputId": "9ee340c8-96a7-463d-8c6f-3c8dde7b043e",
        "colab": {
          "base_uri": "https://localhost:8080/",
          "height": 747
        }
      },
      "source": [
        "for episode in range(max_episode_num):\n",
        "  state = env.reset()\n",
        "  log_probs = []\n",
        "  rewards = []\n",
        "  with autograd.record():\n",
        "    for t in range(max_steps):\n",
        "      state = nd.array(np.expand_dims(state, 0))\n",
        "      \n",
        "      probs = nd.softmax(policy_net(state))\n",
        "      action,log_prob = nd.random.multinomial(probs,get_prob=True)\n",
        "      \n",
        "      state, reward, done, _ = env.step(action.asnumpy()[0])\n",
        "      \n",
        "      # reward engineering\n",
        "      #angle_bias = abs(state[2]-0)\n",
        "      #pos_bias = abs(state[0]-0)\n",
        "      #reward -= 0.1*angle_bias + 0.1*pos_bias\n",
        "      \n",
        "      # store memory\n",
        "      log_probs.append(log_prob)\n",
        "      rewards.append(reward)\n",
        "      \n",
        "      if done:\n",
        "        break\n",
        "    \n",
        "    # logging\n",
        "    all_rewards.append(np.sum(rewards))\n",
        "    avg_all_rewards.append(np.mean(all_rewards[-10:]))\n",
        "\n",
        "    # reverse accumulate and normalize rewards\n",
        "    R = 0\n",
        "    for i in range(len(rewards)-1, -1, -1):\n",
        "      R = rewards[i] + 0.9 * R\n",
        "      rewards[i] = R\n",
        "    rewards = np.array(rewards)\n",
        "    rewards -= rewards.mean()\n",
        "    rewards /= rewards.std() #+ np.finfo(rewards.dtype).eps\n",
        "      \n",
        "    # compute loss\n",
        "    loss = []\n",
        "    for log_prob,Gt in zip(log_probs,rewards):\n",
        "      loss.append(log_prob*(-Gt))\n",
        "    \n",
        "    # loss backward\n",
        "    autograd.backward(loss)\n",
        "  \n",
        "  # gradient descent\n",
        "  trainer.step(1)\n",
        "  \n",
        "  # print info\n",
        "  if episode % 10 == 0:\n",
        "    print(episode,avg_all_rewards[-1])\n",
        "  \n",
        "  # if solved\n",
        "  if all_rewards[-1] >= 200:\n",
        "    print(episode,all_rewards[-1],'solved')\n",
        "    best_episode = episode\n",
        "    break\n",
        "\n",
        "plt.plot(all_rewards)\n",
        "plt.plot(avg_all_rewards)\n",
        "plt.xlabel('Episode')\n",
        "plt.show()"
      ],
      "execution_count": 5,
      "outputs": [
        {
          "output_type": "stream",
          "text": [
            "0 -161.56060147530553\n",
            "10 -139.70962190330866\n",
            "20 -204.1217677967515\n",
            "30 -218.79923366012113\n",
            "40 -122.4414791600608\n",
            "50 -157.8848586053546\n",
            "60 -135.23650865258\n",
            "70 -118.06182462241539\n",
            "80 -128.56971281030556\n",
            "90 -123.97079039267103\n",
            "100 -104.66817762063988\n",
            "110 -167.48635522024492\n",
            "120 -78.29350317932133\n",
            "130 -100.23997865662818\n",
            "140 -61.3885890480401\n",
            "150 -40.46416841946542\n",
            "160 -57.54317539070602\n",
            "170 -156.43643832989753\n",
            "180 -49.97074662680915\n",
            "190 -15.594581151692859\n",
            "200 -28.983176609767053\n",
            "210 51.30766429906375\n",
            "220 -166.94248359925825\n",
            "230 20.362270918244327\n",
            "240 -20.22006637098344\n",
            "248 229.8922433304934 solved\n"
          ],
          "name": "stdout"
        },
        {
          "output_type": "display_data",
          "data": {
            "image/png": "[encoded data removed]",
            "text/plain": [
              "<Figure size 432x288 with 1 Axes>"
            ]
          },
          "metadata": {
            "tags": []
          }
        }
      ]
    },
    {
      "cell_type": "code",
      "metadata": {
        "id": "ycOKgww1vKlx",
        "colab_type": "code",
        "colab": {}
      },
      "source": [
        "policy_net.export(game,epoch=best_episode)"
      ],
      "execution_count": 0,
      "outputs": []
    },
    {
      "cell_type": "code",
      "metadata": {
        "id": "8ktJSOl9F_iW",
        "colab_type": "code",
        "colab": {}
      },
      "source": [
        "del policy_net"
      ],
      "execution_count": 0,
      "outputs": []
    },
    {
      "cell_type": "code",
      "metadata": {
        "id": "j5uxjDnZyBZU",
        "colab_type": "code",
        "outputId": "ec907913-0584-4e67-a299-e7e1dd87575d",
        "colab": {
          "base_uri": "https://localhost:8080/",
          "height": 71
        }
      },
      "source": [
        "deserialized_net = nn.SymbolBlock.imports(\"{}-symbol.json\".format(game), \n",
        "                                          ['data'], \n",
        "                                          \"{}-0{}.params\".format(game,best_episode))"
      ],
      "execution_count": 8,
      "outputs": [
        {
          "output_type": "stream",
          "text": [
            "/usr/local/lib/python3.6/dist-packages/mxnet/gluon/block.py:1159: UserWarning: Cannot decide type for the following arguments. Consider providing them as input:\n",
            "\tdata: None\n",
            "  input_sym_arg_type = in_param.infer_type()[0]\n"
          ],
          "name": "stderr"
        }
      ]
    },
    {
      "cell_type": "code",
      "metadata": {
        "id": "q8ouRjQv7GBx",
        "colab_type": "code",
        "outputId": "f664c105-0945-4c96-ab45-f8cf78730d60",
        "colab": {
          "base_uri": "https://localhost:8080/",
          "height": 197
        }
      },
      "source": [
        "\n",
        "env = gym.make(game)\n",
        "env.seed(seed)\n",
        "\n",
        "policy_net = deserialized_net\n",
        "\n",
        "for episode in range(10):\n",
        "  state = env.reset()\n",
        "  rewards = []\n",
        "  for t in range(1000):\n",
        "    state = nd.array(np.expand_dims(state, 0))\n",
        "    \n",
        "    probs = nd.softmax(policy_net(state))\n",
        "    action,log_prob = nd.random.multinomial(probs,get_prob=True)\n",
        "    \n",
        "    state, reward, done, _ = env.step(action.asnumpy()[0])\n",
        "    \n",
        "    rewards.append(reward)\n",
        "    if done:\n",
        "      break\n",
        "  \n",
        "  # print info\n",
        "  print(episode,np.sum(rewards))"
      ],
      "execution_count": 11,
      "outputs": [
        {
          "output_type": "stream",
          "text": [
            "0 12.820941932372598\n",
            "1 218.1311028100509\n",
            "2 -54.079286186522104\n",
            "3 -47.35889015577739\n",
            "4 -20.89030665933163\n",
            "5 -35.76102205102549\n",
            "6 -41.39320712194609\n",
            "7 -39.0867085982043\n",
            "8 179.77102332788627\n",
            "9 -12.373201205835421\n"
          ],
          "name": "stdout"
        }
      ]
    },
    {
      "cell_type": "code",
      "metadata": {
        "id": "szKC0j808PhB",
        "colab_type": "code",
        "colab": {}
      },
      "source": [
        ""
      ],
      "execution_count": 0,
      "outputs": []
    }
  ]
}