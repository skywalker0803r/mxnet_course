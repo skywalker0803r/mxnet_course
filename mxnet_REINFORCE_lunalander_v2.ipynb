{
  "nbformat": 4,
  "nbformat_minor": 0,
  "metadata": {
    "colab": {
      "name": "REINFORCE.ipynb",
      "provenance": [],
      "include_colab_link": true
    },
    "kernelspec": {
      "name": "python3",
      "display_name": "Python 3"
    }
  },
  "cells": [
    {
      "cell_type": "markdown",
      "metadata": {
        "id": "view-in-github",
        "colab_type": "text"
      },
      "source": [
        "<a href=\"https://colab.research.google.com/github/skywalker0803r/mxnet_course/blob/master/mxnet_REINFORCE_lunalander_v2.ipynb\" target=\"_parent\"><img src=\"https://colab.research.google.com/assets/colab-badge.svg\" alt=\"Open In Colab\"/></a>"
      ]
    },
    {
      "cell_type": "code",
      "metadata": {
        "id": "6u8SzL5cvnY0",
        "colab_type": "code",
        "colab": {}
      },
      "source": [
        "#!pip install mxnet\n",
        "#!sudo pip install box2d-py\n",
        "import sys\n",
        "import mxnet  \n",
        "import gym\n",
        "import numpy as np  \n",
        "from mxnet import nd,autograd,init\n",
        "from mxnet.gluon import nn,trainer\n",
        "import matplotlib.pyplot as plt\n",
        "from mxnet.gluon import Trainer"
      ],
      "execution_count": 0,
      "outputs": []
    },
    {
      "cell_type": "markdown",
      "metadata": {
        "id": "SKCIv71r0-Wo",
        "colab_type": "text"
      },
      "source": [
        "# PolicyNetwork"
      ]
    },
    {
      "cell_type": "code",
      "metadata": {
        "id": "VLSoTkHf1mle",
        "colab_type": "code",
        "colab": {}
      },
      "source": [
        "def build_policy(net,num_actions):\n",
        "  with net.name_scope():\n",
        "    net.add(nn.Dense(128,activation='relu'))\n",
        "    net.add(nn.Dense(128,activation='relu'))\n",
        "    net.add(nn.Dense(128,activation='relu'))\n",
        "    net.add(nn.Dense(num_actions))\n",
        "  return net"
      ],
      "execution_count": 0,
      "outputs": []
    },
    {
      "cell_type": "markdown",
      "metadata": {
        "id": "kYwQrT0QFmYC",
        "colab_type": "text"
      },
      "source": [
        "test"
      ]
    },
    {
      "cell_type": "code",
      "metadata": {
        "id": "Y3qdaFhHymCZ",
        "colab_type": "code",
        "outputId": "0b7d9147-b926-47c5-8c03-2550bdb5ccf3",
        "colab": {
          "base_uri": "https://localhost:8080/",
          "height": 71
        }
      },
      "source": [
        "p = build_policy(nn.HybridSequential(),2)\n",
        "p.initialize(init=init.Xavier())\n",
        "x = nd.random.normal(shape=(1,4))\n",
        "p(x)"
      ],
      "execution_count": 3,
      "outputs": [
        {
          "output_type": "execute_result",
          "data": {
            "text/plain": [
              "\n",
              "[[-0.00842177  0.05223081]]\n",
              "<NDArray 1x2 @cpu(0)>"
            ]
          },
          "metadata": {
            "tags": []
          },
          "execution_count": 3
        }
      ]
    },
    {
      "cell_type": "markdown",
      "metadata": {
        "id": "Ho88zhB2FAcx",
        "colab_type": "text"
      },
      "source": [
        "# hyperparams"
      ]
    },
    {
      "cell_type": "code",
      "metadata": {
        "id": "F9LBCFzsFCqF",
        "colab_type": "code",
        "colab": {}
      },
      "source": [
        "# env\n",
        "seed = 42\n",
        "game = 'LunarLander-v2'\n",
        "env = gym.make(game)\n",
        "env.seed(seed)\n",
        "\n",
        "# policy net\n",
        "policy_net = build_policy(nn.HybridSequential(),env.action_space.n)\n",
        "policy_net.hybridize()\n",
        "policy_net.initialize(init=init.Xavier())\n",
        "\n",
        "# trainer\n",
        "trainer = Trainer(policy_net.collect_params(),'adam',{'learning_rate':1e-3})\n",
        "\n",
        "# game params\n",
        "max_episode_num = 1000\n",
        "max_steps = 1000\n",
        "\n",
        "# log list\n",
        "all_rewards = []\n",
        "avg_all_rewards = []"
      ],
      "execution_count": 0,
      "outputs": []
    },
    {
      "cell_type": "markdown",
      "metadata": {
        "id": "WV5VFcv_1Knl",
        "colab_type": "text"
      },
      "source": [
        "# main loop"
      ]
    },
    {
      "cell_type": "code",
      "metadata": {
        "id": "7oWV_Euh8BSO",
        "colab_type": "code",
        "outputId": "1e4c4d75-8aaf-49b9-a7dd-8d86a0596d94",
        "colab": {
          "base_uri": "https://localhost:8080/",
          "height": 891
        }
      },
      "source": [
        "for episode in range(max_episode_num):\n",
        "  env.seed(seed)\n",
        "  state = env.reset()\n",
        "  env.seed(seed)\n",
        "  log_probs = []\n",
        "  rewards = []\n",
        "  with autograd.record():\n",
        "    for t in range(max_steps):\n",
        "      state = nd.array(np.expand_dims(state, 0))\n",
        "      \n",
        "      probs = nd.softmax(policy_net(state))\n",
        "      action,log_prob = nd.random.multinomial(probs,get_prob=True)\n",
        "      \n",
        "      state, reward, done, _ = env.step(action.asnumpy()[0])\n",
        "      \n",
        "      # reward engineering\n",
        "      #angle_bias = abs(state[2]-0)\n",
        "      #pos_bias = abs(state[0]-0)\n",
        "      #reward -= 0.1*angle_bias + 0.1*pos_bias\n",
        "      \n",
        "      # store memory\n",
        "      log_probs.append(log_prob)\n",
        "      rewards.append(reward)\n",
        "      \n",
        "      if done:\n",
        "        break\n",
        "    \n",
        "    # logging\n",
        "    all_rewards.append(np.sum(rewards))\n",
        "    avg_all_rewards.append(np.mean(all_rewards[-10:]))\n",
        "\n",
        "    # reverse accumulate and normalize rewards\n",
        "    R = 0\n",
        "    for i in range(len(rewards)-1, -1, -1):\n",
        "      R = rewards[i] + 0.9 * R\n",
        "      rewards[i] = R\n",
        "    rewards = np.array(rewards)\n",
        "    rewards -= rewards.mean()\n",
        "    rewards /= rewards.std() #+ np.finfo(rewards.dtype).eps\n",
        "      \n",
        "    # compute loss\n",
        "    loss = []\n",
        "    for log_prob,Gt in zip(log_probs,rewards):\n",
        "      loss.append(log_prob*(-Gt))\n",
        "    \n",
        "    # loss backward\n",
        "    autograd.backward(loss)\n",
        "  \n",
        "  # gradient descent\n",
        "  trainer.step(1)\n",
        "  \n",
        "  # print info\n",
        "  if episode % 10 == 0:\n",
        "    print(episode,avg_all_rewards[-1])\n",
        "  \n",
        "  # if solved\n",
        "  if (all_rewards[-1]>=200)&(avg_all_rewards[-1]>=90):\n",
        "    print(episode,all_rewards[-1],'solved')\n",
        "    best_episode = episode\n",
        "    break\n",
        "\n",
        "plt.plot(all_rewards)\n",
        "plt.plot(avg_all_rewards)\n",
        "plt.xlabel('Episode')\n",
        "plt.show()"
      ],
      "execution_count": 5,
      "outputs": [
        {
          "output_type": "stream",
          "text": [
            "0 -159.81707992272788\n",
            "10 -236.79338012421854\n",
            "20 -204.90012057143787\n",
            "30 -326.00052210241813\n",
            "40 -280.9208907431348\n",
            "50 -270.3852488153485\n",
            "60 -176.1824352575187\n",
            "70 -186.48598434081077\n",
            "80 -124.37201085965293\n",
            "90 -111.3456178773993\n",
            "100 -195.4536333161837\n",
            "110 -298.9811588055669\n",
            "120 -164.78689774432675\n",
            "130 -109.14814801368394\n",
            "140 -96.96964260548667\n",
            "150 -59.51767209150454\n",
            "160 -95.71729764539809\n",
            "170 -46.93071523992692\n",
            "180 -16.168803148700075\n",
            "190 -62.35253292595779\n",
            "200 -51.56419033661863\n",
            "210 -57.15902218443681\n",
            "220 -53.53572192519458\n",
            "230 19.860696182902775\n",
            "240 -52.740321844416506\n",
            "250 -43.38943349722349\n",
            "260 -92.01079137879404\n",
            "270 64.8197461784222\n",
            "280 27.611842773297873\n",
            "290 -17.140740005800353\n",
            "300 -2.0292505651597663\n",
            "310 -42.78944845679233\n",
            "320 13.820048390313525\n",
            "326 219.3965281539331 solved\n"
          ],
          "name": "stdout"
        },
        {
          "output_type": "display_data",
          "data": {
            "image/png": "[encoded data removed]",
            "text/plain": [
              "<Figure size 432x288 with 1 Axes>"
            ]
          },
          "metadata": {
            "tags": []
          }
        }
      ]
    },
    {
      "cell_type": "code",
      "metadata": {
        "id": "ycOKgww1vKlx",
        "colab_type": "code",
        "colab": {}
      },
      "source": [
        "policy_net.export(game,epoch=best_episode)"
      ],
      "execution_count": 0,
      "outputs": []
    },
    {
      "cell_type": "code",
      "metadata": {
        "id": "8ktJSOl9F_iW",
        "colab_type": "code",
        "colab": {}
      },
      "source": [
        "del policy_net"
      ],
      "execution_count": 0,
      "outputs": []
    },
    {
      "cell_type": "code",
      "metadata": {
        "id": "j5uxjDnZyBZU",
        "colab_type": "code",
        "outputId": "e3916378-0dfd-4a60-bad6-ce20c5b5a65d",
        "colab": {
          "base_uri": "https://localhost:8080/",
          "height": 71
        }
      },
      "source": [
        "deserialized_net = nn.SymbolBlock.imports(\"{}-symbol.json\".format(game), \n",
        "                                          ['data'], \n",
        "                                          \"{}-0{}.params\".format(game,best_episode))"
      ],
      "execution_count": 8,
      "outputs": [
        {
          "output_type": "stream",
          "text": [
            "/usr/local/lib/python3.6/dist-packages/mxnet/gluon/block.py:1159: UserWarning: Cannot decide type for the following arguments. Consider providing them as input:\n",
            "\tdata: None\n",
            "  input_sym_arg_type = in_param.infer_type()[0]\n"
          ],
          "name": "stderr"
        }
      ]
    },
    {
      "cell_type": "code",
      "metadata": {
        "id": "q8ouRjQv7GBx",
        "colab_type": "code",
        "outputId": "aadf36f0-bf70-41db-c3c5-e959b3a56fd9",
        "colab": {
          "base_uri": "https://localhost:8080/",
          "height": 197
        }
      },
      "source": [
        "\n",
        "env = gym.make(game)\n",
        "env.seed(seed)\n",
        "\n",
        "policy_net = deserialized_net\n",
        "\n",
        "for episode in range(10):\n",
        "  env.seed(seed)\n",
        "  state = env.reset()\n",
        "  env.seed(seed)\n",
        "  rewards = []\n",
        "  for t in range(1000):\n",
        "    state = nd.array(np.expand_dims(state, 0))\n",
        "    \n",
        "    probs = nd.softmax(policy_net(state))\n",
        "    action,log_prob = nd.random.multinomial(probs,get_prob=True)\n",
        "    \n",
        "    state, reward, done, _ = env.step(action.asnumpy()[0])\n",
        "    \n",
        "    rewards.append(reward)\n",
        "    if done:\n",
        "      break\n",
        "  \n",
        "  # print info\n",
        "  print(episode,np.sum(rewards))"
      ],
      "execution_count": 9,
      "outputs": [
        {
          "output_type": "stream",
          "text": [
            "0 241.20509265207787\n",
            "1 -9.180155604522724\n",
            "2 253.91150829834086\n",
            "3 269.28604453482654\n",
            "4 268.0895163909396\n",
            "5 219.92518893845266\n",
            "6 225.6192300331685\n",
            "7 62.06328059036452\n",
            "8 242.20430990347464\n",
            "9 248.12619676071267\n"
          ],
          "name": "stdout"
        }
      ]
    },
    {
      "cell_type": "code",
      "metadata": {
        "id": "szKC0j808PhB",
        "colab_type": "code",
        "colab": {}
      },
      "source": [
        ""
      ],
      "execution_count": 0,
      "outputs": []
    }
  ]
}