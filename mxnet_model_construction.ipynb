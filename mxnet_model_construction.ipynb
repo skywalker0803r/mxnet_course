{
  "nbformat": 4,
  "nbformat_minor": 0,
  "metadata": {
    "colab": {
      "name": "mxnet_model-construction.ipynb",
      "provenance": [],
      "include_colab_link": true
    },
    "kernelspec": {
      "name": "python3",
      "display_name": "Python 3"
    }
  },
  "cells": [
    {
      "cell_type": "markdown",
      "metadata": {
        "id": "view-in-github",
        "colab_type": "text"
      },
      "source": [
        "<a href=\"https://colab.research.google.com/github/skywalker0803r/mxnet_course/blob/master/mxnet_model_construction.ipynb\" target=\"_parent\"><img src=\"https://colab.research.google.com/assets/colab-badge.svg\" alt=\"Open In Colab\"/></a>"
      ]
    },
    {
      "cell_type": "code",
      "metadata": {
        "id": "tQeDCF8khH2-",
        "colab_type": "code",
        "colab": {}
      },
      "source": [
        "#!pip install mxnet"
      ],
      "execution_count": 0,
      "outputs": []
    },
    {
      "cell_type": "markdown",
      "metadata": {
        "id": "RRsfZmTxhRqJ",
        "colab_type": "text"
      },
      "source": [
        "# 4.1.1. 继承Block类来构造模型¶"
      ]
    },
    {
      "cell_type": "code",
      "metadata": {
        "id": "OAKiXCKvhSXZ",
        "colab_type": "code",
        "colab": {}
      },
      "source": [
        "from mxnet import nd\n",
        "from mxnet.gluon import nn\n",
        "\n",
        "class MLP(nn.Block):\n",
        "    # 声明带有模型参数的层，这里声明了两个全连接层\n",
        "    def __init__(self, **kwargs):\n",
        "        # 调用MLP父类Block的构造函数来进行必要的初始化。这样在构造实例时还可以指定其他函数\n",
        "        # 参数，如“模型参数的访问、初始化和共享”一节将介绍的模型参数params\n",
        "        super().__init__(**kwargs)\n",
        "        self.hidden = nn.Dense(256, activation='relu')  # 隐藏层\n",
        "        self.output = nn.Dense(10)  # 输出层\n",
        "\n",
        "    # 定义模型的前向计算，即如何根据输入x计算返回所需要的模型输出\n",
        "    def forward(self, x):\n",
        "        return self.output(self.hidden(x))"
      ],
      "execution_count": 0,
      "outputs": []
    },
    {
      "cell_type": "code",
      "metadata": {
        "id": "l-LYiVqHhfKV",
        "colab_type": "code",
        "colab": {
          "base_uri": "https://localhost:8080/",
          "height": 125
        },
        "outputId": "e644ba7f-a343-40c8-98d5-ff969703f68c"
      },
      "source": [
        "net = MLP()\n",
        "net.initialize()\n",
        "X = nd.random.uniform(shape=(2, 20))\n",
        "net(X)"
      ],
      "execution_count": 3,
      "outputs": [
        {
          "output_type": "execute_result",
          "data": {
            "text/plain": [
              "\n",
              "[[ 0.09543004  0.04614332 -0.00286654 -0.07790349 -0.05130243  0.02942037\n",
              "   0.08696642 -0.0190793  -0.04122177  0.05088576]\n",
              " [ 0.0769287   0.03099705  0.00856576 -0.04467199 -0.06926839  0.09132434\n",
              "   0.06786595 -0.06187842 -0.03436673  0.04234694]]\n",
              "<NDArray 2x10 @cpu(0)>"
            ]
          },
          "metadata": {
            "tags": []
          },
          "execution_count": 3
        }
      ]
    },
    {
      "cell_type": "markdown",
      "metadata": {
        "id": "n7rgCMHZhnZJ",
        "colab_type": "text"
      },
      "source": [
        "# 4.1.2. Sequential类继承自Block类¶"
      ]
    },
    {
      "cell_type": "code",
      "metadata": {
        "id": "6Gz5dRX6hkry",
        "colab_type": "code",
        "colab": {}
      },
      "source": [
        "class MySequential(nn.Block):\n",
        "    def __init__(self, **kwargs):\n",
        "        super().__init__(**kwargs)\n",
        "\n",
        "    def add(self, block):\n",
        "        # block是一个Block子类实例，假设它有一个独一无二的名字。我们将它保存在Block类的\n",
        "        # 成员变量_children里，其类型是OrderedDict。当MySequential实例调用\n",
        "        # initialize函数时，系统会自动对_children里所有成员初始化\n",
        "        self._children[block.name] = block\n",
        "\n",
        "    def forward(self, x):\n",
        "        # OrderedDict保证会按照成员添加时的顺序遍历成员\n",
        "        for block in self._children.values():\n",
        "            x = block(x)\n",
        "        return x"
      ],
      "execution_count": 0,
      "outputs": []
    },
    {
      "cell_type": "code",
      "metadata": {
        "id": "Mh3GSvyOhr-0",
        "colab_type": "code",
        "colab": {
          "base_uri": "https://localhost:8080/",
          "height": 125
        },
        "outputId": "62e0d7a5-0626-4fc2-d4ce-c34d17409956"
      },
      "source": [
        "net = MySequential()\n",
        "net.add(nn.Dense(256, activation='relu'))\n",
        "net.add(nn.Dense(10))\n",
        "net.initialize()\n",
        "net(X)"
      ],
      "execution_count": 5,
      "outputs": [
        {
          "output_type": "execute_result",
          "data": {
            "text/plain": [
              "\n",
              "[[ 0.00362228  0.00633332  0.03201144 -0.01369375  0.10336449 -0.03508018\n",
              "  -0.00032164 -0.01676023  0.06978628  0.01303309]\n",
              " [ 0.03871715  0.02608213  0.03544959 -0.02521311  0.11005433 -0.0143066\n",
              "  -0.03052466 -0.03852827  0.06321152  0.0038594 ]]\n",
              "<NDArray 2x10 @cpu(0)>"
            ]
          },
          "metadata": {
            "tags": []
          },
          "execution_count": 5
        }
      ]
    },
    {
      "cell_type": "markdown",
      "metadata": {
        "id": "vryiRL6qh0K-",
        "colab_type": "text"
      },
      "source": [
        "## 4.1.3. 构造复杂的模型"
      ]
    },
    {
      "cell_type": "code",
      "metadata": {
        "id": "F_pWrJJchxsd",
        "colab_type": "code",
        "colab": {}
      },
      "source": [
        "class FancyMLP(nn.Block):\n",
        "    def __init__(self, **kwargs):\n",
        "        super().__init__(**kwargs)\n",
        "        # 使用get_constant创建的随机权重参数不会在训练中被迭代（即常数参数）\n",
        "        self.rand_weight = self.params.get_constant(\n",
        "            'rand_weight', nd.random.uniform(shape=(20, 20)))\n",
        "        self.dense = nn.Dense(20, activation='relu')\n",
        "\n",
        "    def forward(self, x):\n",
        "        x = self.dense(x)\n",
        "        # 使用创建的常数参数，以及NDArray的relu函数和dot函数\n",
        "        x = nd.relu(nd.dot(x, self.rand_weight.data()) + 1)\n",
        "        # 复用全连接层。等价于两个全连接层共享参数\n",
        "        x = self.dense(x)\n",
        "        # 控制流，这里我们需要调用asscalar函数来返回标量进行比较\n",
        "        while x.norm().asscalar() > 1:\n",
        "            x /= 2\n",
        "        if x.norm().asscalar() < 0.8:\n",
        "            x *= 10\n",
        "        return x.sum()"
      ],
      "execution_count": 0,
      "outputs": []
    },
    {
      "cell_type": "code",
      "metadata": {
        "id": "-vaHOQ3Nh6sF",
        "colab_type": "code",
        "colab": {
          "base_uri": "https://localhost:8080/",
          "height": 71
        },
        "outputId": "e24323a8-b5af-4888-94d5-158535425ac7"
      },
      "source": [
        "net = FancyMLP()\n",
        "net.initialize()\n",
        "net(X)"
      ],
      "execution_count": 7,
      "outputs": [
        {
          "output_type": "execute_result",
          "data": {
            "text/plain": [
              "\n",
              "[18.571953]\n",
              "<NDArray 1 @cpu(0)>"
            ]
          },
          "metadata": {
            "tags": []
          },
          "execution_count": 7
        }
      ]
    },
    {
      "cell_type": "code",
      "metadata": {
        "id": "d9dwATeqh--0",
        "colab_type": "code",
        "colab": {
          "base_uri": "https://localhost:8080/",
          "height": 71
        },
        "outputId": "4d309bae-1905-4bdb-f75a-f30ae8514be9"
      },
      "source": [
        "class NestMLP(nn.Block):\n",
        "    def __init__(self, **kwargs):\n",
        "        super().__init__(**kwargs)\n",
        "        self.net = nn.Sequential()\n",
        "        self.net.add(nn.Dense(64, activation='relu'),\n",
        "                     nn.Dense(32, activation='relu'))\n",
        "        self.dense = nn.Dense(16, activation='relu')\n",
        "\n",
        "    def forward(self, x):\n",
        "        return self.dense(self.net(x))\n",
        "\n",
        "net = nn.Sequential()\n",
        "net.add(NestMLP(), nn.Dense(20), FancyMLP())\n",
        "\n",
        "net.initialize()\n",
        "net(X)"
      ],
      "execution_count": 8,
      "outputs": [
        {
          "output_type": "execute_result",
          "data": {
            "text/plain": [
              "\n",
              "[24.86621]\n",
              "<NDArray 1 @cpu(0)>"
            ]
          },
          "metadata": {
            "tags": []
          },
          "execution_count": 8
        }
      ]
    },
    {
      "cell_type": "markdown",
      "metadata": {
        "id": "uJvsHIqHiL-c",
        "colab_type": "text"
      },
      "source": [
        "# 4.1.4. 小结¶"
      ]
    },
    {
      "cell_type": "markdown",
      "metadata": {
        "id": "DY25fDaOiOUU",
        "colab_type": "text"
      },
      "source": [
        "可以通过继承Block类来构造模型。"
      ]
    },
    {
      "cell_type": "markdown",
      "metadata": {
        "id": "n5UUvx-_iQdL",
        "colab_type": "text"
      },
      "source": [
        "Sequential类继承自Block类。"
      ]
    },
    {
      "cell_type": "markdown",
      "metadata": {
        "id": "gogBgW-kiQbm",
        "colab_type": "text"
      },
      "source": [
        "虽然Sequential类可以使模型构造更加简单，但直接继承Block类可以极大地拓展模型构造的灵活性。"
      ]
    },
    {
      "cell_type": "code",
      "metadata": {
        "id": "E1r3EXg7txKk",
        "colab_type": "code",
        "colab": {}
      },
      "source": [
        ""
      ],
      "execution_count": 0,
      "outputs": []
    }
  ]
}