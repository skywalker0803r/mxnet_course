{
  "nbformat": 4,
  "nbformat_minor": 0,
  "metadata": {
    "colab": {
      "name": "mxnet_A2C.ipynb",
      "provenance": [],
      "collapsed_sections": [],
      "include_colab_link": true
    },
    "kernelspec": {
      "name": "python3",
      "display_name": "Python 3"
    }
  },
  "cells": [
    {
      "cell_type": "markdown",
      "metadata": {
        "id": "view-in-github",
        "colab_type": "text"
      },
      "source": [
        "<a href=\"https://colab.research.google.com/github/skywalker0803r/mxnet_course/blob/master/mxnet_A2C.ipynb\" target=\"_parent\"><img src=\"https://colab.research.google.com/assets/colab-badge.svg\" alt=\"Open In Colab\"/></a>"
      ]
    },
    {
      "cell_type": "code",
      "metadata": {
        "id": "RnYzFg5rjMn1",
        "colab_type": "code",
        "colab": {}
      },
      "source": [
        "#!pip install mxnet\n",
        "import warnings;warnings.simplefilter('ignore')\n",
        "import random\n",
        "import numpy as np\n",
        "from time import sleep\n",
        "import mxnet as mx\n",
        "import mxnet.gluon as gluon\n",
        "from mxnet import nd, autograd\n",
        "import gym"
      ],
      "execution_count": 0,
      "outputs": []
    },
    {
      "cell_type": "markdown",
      "metadata": {
        "id": "focw4c9foUMv",
        "colab_type": "text"
      },
      "source": [
        "# define policy and value net"
      ]
    },
    {
      "cell_type": "code",
      "metadata": {
        "id": "dP3NWvqrm7m5",
        "colab_type": "code",
        "colab": {}
      },
      "source": [
        "class Net(gluon.Block):\n",
        "    def __init__(self, actions_count):\n",
        "        super(Net, self).__init__()\n",
        "        with self.name_scope():\n",
        "            self.dense = gluon.nn.Dense(128, activation='tanh')\n",
        "            self.dense2 = gluon.nn.Dense(128, activation='relu')\n",
        "            self.action_pred = gluon.nn.Dense(actions_count, in_units=128)\n",
        "            self.value_pred = gluon.nn.Dense(1, in_units=128)\n",
        "\n",
        "    def forward(self, x):\n",
        "        x = self.dense(x)\n",
        "        x = self.dense2(x)\n",
        "        probs = self.action_pred(x)\n",
        "        values = self.value_pred(x)\n",
        "        return mx.ndarray.softmax(probs), values"
      ],
      "execution_count": 0,
      "outputs": []
    },
    {
      "cell_type": "code",
      "metadata": {
        "id": "1X59ZVw1rKcX",
        "colab_type": "code",
        "outputId": "a8796ea6-60b9-416d-edbb-617eac2e1750",
        "colab": {
          "base_uri": "https://localhost:8080/",
          "height": 34
        }
      },
      "source": [
        "env = gym.make(\"CartPole-v1\")\n",
        "action_dim = env.action_space.n\n",
        "state_dim = env.observation_space.shape[0]\n",
        "print(state_dim,action_dim)"
      ],
      "execution_count": 3,
      "outputs": [
        {
          "output_type": "stream",
          "text": [
            "4 2\n"
          ],
          "name": "stdout"
        }
      ]
    },
    {
      "cell_type": "markdown",
      "metadata": {
        "id": "5FojKwxVsKR1",
        "colab_type": "text"
      },
      "source": [
        "# loss and optimizer"
      ]
    },
    {
      "cell_type": "code",
      "metadata": {
        "id": "8GQS6tmcpjI_",
        "colab_type": "code",
        "colab": {}
      },
      "source": [
        "#  Model initialization and loss method\n",
        "loss = gluon.loss.L2Loss()\n",
        "model = Net(action_dim)\n",
        "model.collect_params().initialize(mx.init.Xavier())\n",
        "optimizer = gluon.Trainer(model.collect_params(),'Adam',{'learning_rate': 0.001})"
      ],
      "execution_count": 0,
      "outputs": []
    },
    {
      "cell_type": "markdown",
      "metadata": {
        "id": "83S-IzFfsPFT",
        "colab_type": "text"
      },
      "source": [
        "# main loop"
      ]
    },
    {
      "cell_type": "code",
      "metadata": {
        "id": "uiHLjqnmrvk7",
        "colab_type": "code",
        "outputId": "a5a94337-18a2-46aa-d600-da9e6201b071",
        "colab": {
          "base_uri": "https://localhost:8080/",
          "height": 612
        }
      },
      "source": [
        "all_rewards = []\n",
        "avg_rewards = []\n",
        "\n",
        "for episode in range(1000):\n",
        "\n",
        "  # reset placeholder\n",
        "  rewards = []\n",
        "  values = []\n",
        "  actions = []\n",
        "  heads = []\n",
        "  state = env.reset()\n",
        "  total = 0\n",
        "  \n",
        "  with autograd.record():\n",
        "    for learning_step in range(1000):\n",
        "      \n",
        "      # nd_array state\n",
        "      state = nd.array(np.expand_dims(state, 0))\n",
        "      \n",
        "      # choose action and do action on env\n",
        "      prob, value = model(state)\n",
        "      action, logp = mx.nd.sample_multinomial(prob, get_prob=True)\n",
        "      action = action.asnumpy()[0].astype(np.int64)\n",
        "      next_state, reward, done, info = env.step(action)\n",
        "      \n",
        "      # record data\n",
        "      total += reward\n",
        "      rewards.append(reward)\n",
        "      actions.append(action)\n",
        "      values.append(value)\n",
        "      heads.append(logp)\n",
        "\n",
        "      # is game over?  \n",
        "      if done:\n",
        "        break\n",
        "      else:\n",
        "        state = next_state\n",
        "    \n",
        "    # record\n",
        "    all_rewards.append(total)\n",
        "    avg_rewards.append(np.mean(all_rewards[-10:]))\n",
        "    \n",
        "    # print infomation\n",
        "    if episode % 10 == 0:\n",
        "      print(episode,total)\n",
        "    \n",
        "    # if solved break\n",
        "    if (total >= 500)&(avg_rewards[-1] >= 500*0.9):\n",
        "      print(episode,total,avg_rewards[-1])\n",
        "      break\n",
        "        \n",
        "    # reverse accumulate and normalize rewards\n",
        "    R = 0\n",
        "    for i in range(len(rewards) - 1, -1, -1):\n",
        "      R = rewards[i] + 0.99 * R\n",
        "      rewards[i] = R\n",
        "    rewards = np.array(rewards)\n",
        "    rewards -= rewards.mean()\n",
        "    rewards /= rewards.std() + np.finfo(rewards.dtype).eps\n",
        "\n",
        "    # critic loss\n",
        "    L = sum([loss(value, mx.nd.array([r])) for r, value in zip(rewards, values)])\n",
        "    final_nodes = [L]\n",
        "    \n",
        "    # actor loss\n",
        "    for logp, r, v in zip(heads, rewards, values):\n",
        "      reward = r - v.asnumpy()[0, 0]\n",
        "      final_nodes.append(logp * (-reward))\n",
        "  \n",
        "  # loss backward\n",
        "  autograd.backward(final_nodes)\n",
        "  optimizer.step(len(final_nodes))"
      ],
      "execution_count": 5,
      "outputs": [
        {
          "output_type": "stream",
          "text": [
            "0 10.0\n",
            "10 21.0\n",
            "20 23.0\n",
            "30 24.0\n",
            "40 48.0\n",
            "50 31.0\n",
            "70 64.0\n",
            "80 49.0\n",
            "90 128.0\n",
            "100 23.0\n",
            "110 27.0\n",
            "120 159.0\n",
            "130 182.0\n",
            "140 188.0\n",
            "150 79.0\n",
            "160 90.0\n",
            "170 397.0\n",
            "180 151.0\n",
            "190 500.0\n",
            "200 287.0\n",
            "210 184.0\n",
            "220 207.0\n",
            "230 172.0\n",
            "240 167.0\n",
            "250 286.0\n",
            "260 218.0\n",
            "270 308.0\n",
            "280 295.0\n",
            "290 481.0\n",
            "300 354.0\n",
            "310 353.0\n",
            "320 333.0\n",
            "330 215.0\n",
            "340 461.0\n",
            "341 500.0 464.7\n"
          ],
          "name": "stdout"
        }
      ]
    },
    {
      "cell_type": "code",
      "metadata": {
        "id": "VZ-QK4VtuVkY",
        "colab_type": "code",
        "colab": {
          "base_uri": "https://localhost:8080/",
          "height": 279
        },
        "outputId": "94522907-92de-4b7f-b0c0-228bbd2dd34c"
      },
      "source": [
        "import matplotlib.pyplot as plt\n",
        "plt.plot(all_rewards)\n",
        "plt.plot(avg_rewards)\n",
        "plt.xlabel('episode')\n",
        "plt.show()"
      ],
      "execution_count": 6,
      "outputs": [
        {
          "output_type": "display_data",
          "data": {
            "image/png": "[encoded data removed]",
            "text/plain": [
              "<Figure size 432x288 with 1 Axes>"
            ]
          },
          "metadata": {
            "tags": []
          }
        }
      ]
    },
    {
      "cell_type": "markdown",
      "metadata": {
        "id": "O10CPHWWmZk9",
        "colab_type": "text"
      },
      "source": [
        "# test"
      ]
    },
    {
      "cell_type": "code",
      "metadata": {
        "id": "pkL3GhitlILp",
        "colab_type": "code",
        "colab": {
          "base_uri": "https://localhost:8080/",
          "height": 187
        },
        "outputId": "d8ce6b90-88b2-4fd3-8112-9dcb250223b8"
      },
      "source": [
        "for episode in range(10):\n",
        "  state = env.reset()\n",
        "  total = 0\n",
        "  for t in range(1000):\n",
        "    # nd_array state\n",
        "    state = nd.array(np.expand_dims(state, 0))    \n",
        "    \n",
        "    # choose action and do action on env\n",
        "    prob, value = model(state)\n",
        "    action = np.argmax(prob.asnumpy())\n",
        "    next_state, reward, done, info = env.step(action)\n",
        "    \n",
        "    # record total\n",
        "    total += reward\n",
        "    \n",
        "    # is game over?  \n",
        "    if done:\n",
        "      break\n",
        "    else:\n",
        "      state = next_state\n",
        "  \n",
        "  print(episode,total)"
      ],
      "execution_count": 14,
      "outputs": [
        {
          "output_type": "stream",
          "text": [
            "0 500.0\n",
            "1 500.0\n",
            "2 500.0\n",
            "3 500.0\n",
            "4 500.0\n",
            "5 500.0\n",
            "6 500.0\n",
            "7 500.0\n",
            "8 500.0\n",
            "9 500.0\n"
          ],
          "name": "stdout"
        }
      ]
    },
    {
      "cell_type": "code",
      "metadata": {
        "id": "GJ_rWfn8mv9x",
        "colab_type": "code",
        "colab": {}
      },
      "source": [
        ""
      ],
      "execution_count": 0,
      "outputs": []
    }
  ]
}