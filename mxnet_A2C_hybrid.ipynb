{
  "nbformat": 4,
  "nbformat_minor": 0,
  "metadata": {
    "colab": {
      "name": "mxnet_A2C.ipynb",
      "provenance": [],
      "collapsed_sections": [],
      "include_colab_link": true
    },
    "kernelspec": {
      "name": "python3",
      "display_name": "Python 3"
    }
  },
  "cells": [
    {
      "cell_type": "markdown",
      "metadata": {
        "id": "view-in-github",
        "colab_type": "text"
      },
      "source": [
        "<a href=\"https://colab.research.google.com/github/skywalker0803r/mxnet_course/blob/master/mxnet_A2C_hybrid.ipynb\" target=\"_parent\"><img src=\"https://colab.research.google.com/assets/colab-badge.svg\" alt=\"Open In Colab\"/></a>"
      ]
    },
    {
      "cell_type": "code",
      "metadata": {
        "id": "RnYzFg5rjMn1",
        "colab_type": "code",
        "colab": {}
      },
      "source": [
        "#!pip install mxnet\n",
        "#!pip install box2d-py\n",
        "import numpy as np \n",
        "import mxnet as mx \n",
        "from mxnet import gluon,autograd,nd\n",
        "import mxnet.ndarray as F\n",
        "from mxnet.gluon import nn\n",
        "from mxnet.gluon.loss import L2Loss\n",
        "import gym\n",
        "from mxnet import init\n",
        "import matplotlib.pyplot as plt"
      ],
      "execution_count": 0,
      "outputs": []
    },
    {
      "cell_type": "markdown",
      "metadata": {
        "id": "A3myl1gY8ZfR",
        "colab_type": "text"
      },
      "source": [
        "# hyperparams"
      ]
    },
    {
      "cell_type": "code",
      "metadata": {
        "id": "lTSstV4u8ZqP",
        "colab_type": "code",
        "colab": {}
      },
      "source": [
        "env_name = \"CartPole-v1\"\n",
        "solved_reward = 500 \n",
        "log_interval = 10\n",
        "lr = 0.001\n",
        "gamma = 0.99               "
      ],
      "execution_count": 0,
      "outputs": []
    },
    {
      "cell_type": "markdown",
      "metadata": {
        "id": "8CTamjHV-Qso",
        "colab_type": "text"
      },
      "source": [
        "# env"
      ]
    },
    {
      "cell_type": "code",
      "metadata": {
        "id": "rSfKiLCq-Pnm",
        "colab_type": "code",
        "colab": {
          "base_uri": "https://localhost:8080/",
          "height": 36
        },
        "outputId": "0da6076e-1676-49fc-fbac-6b635c986ef8"
      },
      "source": [
        "env = gym.make(env_name)\n",
        "state_dim = env.observation_space.shape[0]\n",
        "action_dim = env.action_space.n\n",
        "print(state_dim,action_dim)"
      ],
      "execution_count": 3,
      "outputs": [
        {
          "output_type": "stream",
          "text": [
            "4 2\n"
          ],
          "name": "stdout"
        }
      ]
    },
    {
      "cell_type": "markdown",
      "metadata": {
        "id": "focw4c9foUMv",
        "colab_type": "text"
      },
      "source": [
        "# ActorCritic model"
      ]
    },
    {
      "cell_type": "code",
      "metadata": {
        "id": "dP3NWvqrm7m5",
        "colab_type": "code",
        "colab": {}
      },
      "source": [
        "class ActorCritic_Discrete(nn.HybridBlock):\n",
        "  def __init__(self, actions_dim):\n",
        "    super().__init__()\n",
        "    with self.name_scope():\n",
        "      self.fc1 = nn.Dense(128,activation='tanh')\n",
        "      self.fc2 = nn.Dense(128,activation='relu')\n",
        "      self.action_pred = nn.Dense(actions_dim)\n",
        "      self.value_pred = nn.Dense(1)\n",
        "  def hybrid_forward(self,F,x):\n",
        "    x = self.fc1(x)\n",
        "    x = self.fc2(x)\n",
        "    probs = self.action_pred(x)\n",
        "    values = self.value_pred(x)\n",
        "    return F.softmax(probs), values"
      ],
      "execution_count": 0,
      "outputs": []
    },
    {
      "cell_type": "markdown",
      "metadata": {
        "id": "2r8G5ToT82bn",
        "colab_type": "text"
      },
      "source": [
        "# forward test"
      ]
    },
    {
      "cell_type": "code",
      "metadata": {
        "id": "_s6v6sGh83-7",
        "colab_type": "code",
        "colab": {
          "base_uri": "https://localhost:8080/",
          "height": 208
        },
        "outputId": "db840985-bcd9-445b-d79a-f862b934db3d"
      },
      "source": [
        "state = env.reset()\n",
        "state = nd.array([state])\n",
        "\n",
        "a = ActorCritic_Discrete(action_dim)\n",
        "b = ActorCritic_Discrete(action_dim)\n",
        "\n",
        "a.initialize(init=init.Xavier())\n",
        "b.initialize(init=init.Xavier())\n",
        "\n",
        "a.hybridize()\n",
        "b.hybridize()\n",
        "\n",
        "print(a(state))\n",
        "print(b(state))"
      ],
      "execution_count": 5,
      "outputs": [
        {
          "output_type": "stream",
          "text": [
            "[\n",
            "[[0.49933335 0.5006667 ]]\n",
            "<NDArray 1x2 @cpu(0)>, \n",
            "[[0.00294055]]\n",
            "<NDArray 1x1 @cpu(0)>]\n",
            "[\n",
            "[[0.49908295 0.5009171 ]]\n",
            "<NDArray 1x2 @cpu(0)>, \n",
            "[[0.00337218]]\n",
            "<NDArray 1x1 @cpu(0)>]\n"
          ],
          "name": "stdout"
        }
      ]
    },
    {
      "cell_type": "markdown",
      "metadata": {
        "id": "GrdpG5Gf88Cz",
        "colab_type": "text"
      },
      "source": [
        "# copy params test"
      ]
    },
    {
      "cell_type": "code",
      "metadata": {
        "id": "RPUV_KIL88iv",
        "colab_type": "code",
        "colab": {
          "base_uri": "https://localhost:8080/",
          "height": 208
        },
        "outputId": "1b1c248d-3b29-47e4-e408-cd409283a888"
      },
      "source": [
        "a.save_parameters(\"temp\")\n",
        "b.load_parameters(\"temp\")\n",
        "\n",
        "print(a(state))\n",
        "print(b(state))"
      ],
      "execution_count": 6,
      "outputs": [
        {
          "output_type": "stream",
          "text": [
            "[\n",
            "[[0.49933335 0.5006667 ]]\n",
            "<NDArray 1x2 @cpu(0)>, \n",
            "[[0.00294055]]\n",
            "<NDArray 1x1 @cpu(0)>]\n",
            "[\n",
            "[[0.49933335 0.5006667 ]]\n",
            "<NDArray 1x2 @cpu(0)>, \n",
            "[[0.00294055]]\n",
            "<NDArray 1x1 @cpu(0)>]\n"
          ],
          "name": "stdout"
        }
      ]
    },
    {
      "cell_type": "markdown",
      "metadata": {
        "id": "H1f5XdxQ9A3l",
        "colab_type": "text"
      },
      "source": [
        "# model save test"
      ]
    },
    {
      "cell_type": "code",
      "metadata": {
        "id": "UAnSkyqf9BZe",
        "colab_type": "code",
        "colab": {}
      },
      "source": [
        "a.export('test_save_model')\n",
        "b.export('test_save_model')"
      ],
      "execution_count": 0,
      "outputs": []
    },
    {
      "cell_type": "markdown",
      "metadata": {
        "id": "5FojKwxVsKR1",
        "colab_type": "text"
      },
      "source": [
        "# initialize"
      ]
    },
    {
      "cell_type": "code",
      "metadata": {
        "id": "8GQS6tmcpjI_",
        "colab_type": "code",
        "colab": {}
      },
      "source": [
        "loss = gluon.loss.L2Loss()\n",
        "\n",
        "model = ActorCritic_Discrete(action_dim)\n",
        "model.collect_params().initialize(mx.init.Xavier())\n",
        "model.hybridize()\n",
        "\n",
        "optimizer = gluon.Trainer(model.collect_params(),'Adam',{'learning_rate':lr})"
      ],
      "execution_count": 0,
      "outputs": []
    },
    {
      "cell_type": "markdown",
      "metadata": {
        "id": "83S-IzFfsPFT",
        "colab_type": "text"
      },
      "source": [
        "# main loop"
      ]
    },
    {
      "cell_type": "code",
      "metadata": {
        "id": "uiHLjqnmrvk7",
        "colab_type": "code",
        "outputId": "29e9282e-b49f-422f-8d0a-8ccfe98e8a3c",
        "colab": {
          "base_uri": "https://localhost:8080/",
          "height": 571
        }
      },
      "source": [
        "all_rewards = []\n",
        "avg_rewards = []\n",
        "\n",
        "for episode in range(1000):\n",
        "\n",
        "  # reset placeholder\n",
        "  rewards = []\n",
        "  values = []\n",
        "  actions = []\n",
        "  heads = []\n",
        "  state = env.reset()\n",
        "  total = 0\n",
        "  \n",
        "  with autograd.record():\n",
        "    for learning_step in range(1000):\n",
        "      \n",
        "      # nd_array state\n",
        "      state = nd.array(np.expand_dims(state, 0))\n",
        "      \n",
        "      # choose action and do action on env\n",
        "      prob, value = model(state)\n",
        "      action, logp = mx.nd.sample_multinomial(prob, get_prob=True)\n",
        "      action = action.asnumpy()[0].astype(np.int64)\n",
        "      next_state, reward, done, info = env.step(action)\n",
        "      \n",
        "      # record data\n",
        "      total += reward\n",
        "      rewards.append(reward)\n",
        "      actions.append(action)\n",
        "      values.append(value)\n",
        "      heads.append(logp)\n",
        "\n",
        "      # is game over?  \n",
        "      if done:\n",
        "        break\n",
        "      else:\n",
        "        state = next_state\n",
        "    \n",
        "    # record\n",
        "    all_rewards.append(total)\n",
        "    avg_rewards.append(np.mean(all_rewards[-10:]))\n",
        "    \n",
        "    # print infomation\n",
        "    if episode % 10 == 0:\n",
        "      print(episode,avg_rewards[-1])\n",
        "    \n",
        "    # if solved break\n",
        "    if (total >= solved_reward)&(avg_rewards[-1] >= solved_reward*0.9):\n",
        "      print(episode,total,avg_rewards[-1])\n",
        "      break\n",
        "        \n",
        "    # reverse accumulate and normalize rewards\n",
        "    R = 0\n",
        "    for i in range(len(rewards) - 1, -1, -1):\n",
        "      R = rewards[i] + gamma * R\n",
        "      rewards[i] = R\n",
        "    rewards = np.array(rewards)\n",
        "    rewards -= rewards.mean()\n",
        "    rewards /= rewards.std() + np.finfo(rewards.dtype).eps\n",
        "\n",
        "    # critic loss\n",
        "    L = sum([loss(value, mx.nd.array([r])) for r, value in zip(rewards, values)])\n",
        "    final_nodes = [L]\n",
        "    \n",
        "    # actor loss\n",
        "    for logp, r, v in zip(heads, rewards, values):\n",
        "      reward = r - v.asnumpy()[0, 0]\n",
        "      final_nodes.append(logp * (-reward))\n",
        "  \n",
        "  # loss backward\n",
        "  autograd.backward(final_nodes)\n",
        "  optimizer.step(len(final_nodes))"
      ],
      "execution_count": 9,
      "outputs": [
        {
          "output_type": "stream",
          "text": [
            "0 10.0\n",
            "10 21.1\n",
            "20 37.3\n",
            "30 42.4\n",
            "40 37.7\n",
            "50 40.1\n",
            "60 57.6\n",
            "70 70.2\n",
            "80 103.7\n",
            "90 96.1\n",
            "100 67.1\n",
            "110 78.8\n",
            "120 132.8\n",
            "130 157.6\n",
            "140 168.5\n",
            "150 183.8\n",
            "160 200.0\n",
            "170 240.2\n",
            "180 255.2\n",
            "190 309.9\n",
            "200 258.6\n",
            "210 352.2\n",
            "220 283.6\n",
            "230 288.2\n",
            "240 353.5\n",
            "250 383.7\n",
            "260 392.7\n",
            "270 417.7\n",
            "273 500.0 453.4\n"
          ],
          "name": "stdout"
        }
      ]
    },
    {
      "cell_type": "code",
      "metadata": {
        "id": "VZ-QK4VtuVkY",
        "colab_type": "code",
        "outputId": "0b262b09-a0c9-4ea2-825f-d0d2ec2e84c0",
        "colab": {
          "base_uri": "https://localhost:8080/",
          "height": 279
        }
      },
      "source": [
        "plt.plot(all_rewards)\n",
        "plt.plot(avg_rewards)\n",
        "plt.xlabel('episode')\n",
        "plt.show()"
      ],
      "execution_count": 10,
      "outputs": [
        {
          "output_type": "display_data",
          "data": {
            "image/png": "[encoded data removed]",
            "text/plain": [
              "<Figure size 432x288 with 1 Axes>"
            ]
          },
          "metadata": {
            "tags": []
          }
        }
      ]
    },
    {
      "cell_type": "markdown",
      "metadata": {
        "id": "0-W8ObQIAGZV",
        "colab_type": "text"
      },
      "source": [
        "# save model"
      ]
    },
    {
      "cell_type": "code",
      "metadata": {
        "id": "GJ_rWfn8mv9x",
        "colab_type": "code",
        "colab": {}
      },
      "source": [
        "model.export('{}_model'.format(env_name))\n",
        "del model"
      ],
      "execution_count": 0,
      "outputs": []
    },
    {
      "cell_type": "markdown",
      "metadata": {
        "id": "wJfVQ0DlAOjE",
        "colab_type": "text"
      },
      "source": [
        "# load model"
      ]
    },
    {
      "cell_type": "code",
      "metadata": {
        "id": "EHc9mCJLANj1",
        "colab_type": "code",
        "colab": {
          "base_uri": "https://localhost:8080/",
          "height": 75
        },
        "outputId": "9ec729b1-1a00-4a20-c34a-13a01b853707"
      },
      "source": [
        "deserialized_net = nn.SymbolBlock.imports(\"{}_model-symbol.json\".format(env_name), \n",
        "                                          ['data'], \n",
        "                                          \"{}_model-0000.params\".format(env_name))"
      ],
      "execution_count": 12,
      "outputs": [
        {
          "output_type": "stream",
          "text": [
            "/usr/local/lib/python3.6/dist-packages/mxnet/gluon/block.py:1159: UserWarning: Cannot decide type for the following arguments. Consider providing them as input:\n",
            "\tdata: None\n",
            "  input_sym_arg_type = in_param.infer_type()[0]\n"
          ],
          "name": "stderr"
        }
      ]
    },
    {
      "cell_type": "markdown",
      "metadata": {
        "id": "gqjADmQrAWs7",
        "colab_type": "text"
      },
      "source": [
        "# test model"
      ]
    },
    {
      "cell_type": "code",
      "metadata": {
        "id": "l3WwGtETApz1",
        "colab_type": "code",
        "colab": {}
      },
      "source": [
        "env = gym.make(env_name)\n",
        "model = deserialized_net"
      ],
      "execution_count": 0,
      "outputs": []
    },
    {
      "cell_type": "code",
      "metadata": {
        "id": "lcGNF-FMATvj",
        "colab_type": "code",
        "colab": {
          "base_uri": "https://localhost:8080/",
          "height": 208
        },
        "outputId": "ec2d07fe-ac3a-4d68-e362-d31a47de0113"
      },
      "source": [
        "for i_episode in range(10):\n",
        "  state = env.reset()\n",
        "  R = 0\n",
        "  for t in range(1000):\n",
        "    probs,values = model(nd.array([state]))\n",
        "    action = np.argmax(probs.asnumpy())\n",
        "    state, reward, done, info = env.step(action)\n",
        "    R += reward\n",
        "    if done:\n",
        "      break            \n",
        "  print(i_episode,R)"
      ],
      "execution_count": 14,
      "outputs": [
        {
          "output_type": "stream",
          "text": [
            "0 500.0\n",
            "1 500.0\n",
            "2 500.0\n",
            "3 500.0\n",
            "4 500.0\n",
            "5 500.0\n",
            "6 432.0\n",
            "7 500.0\n",
            "8 500.0\n",
            "9 500.0\n"
          ],
          "name": "stdout"
        }
      ]
    },
    {
      "cell_type": "code",
      "metadata": {
        "id": "zGP2J-URAgx4",
        "colab_type": "code",
        "colab": {}
      },
      "source": [
        ""
      ],
      "execution_count": 0,
      "outputs": []
    }
  ]
}