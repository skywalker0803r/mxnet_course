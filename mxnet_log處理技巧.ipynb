{
  "nbformat": 4,
  "nbformat_minor": 0,
  "metadata": {
    "colab": {
      "name": "mxnet_log處理技巧.ipynb",
      "provenance": [],
      "include_colab_link": true
    },
    "kernelspec": {
      "name": "python3",
      "display_name": "Python 3"
    }
  },
  "cells": [
    {
      "cell_type": "markdown",
      "metadata": {
        "id": "view-in-github",
        "colab_type": "text"
      },
      "source": [
        "<a href=\"https://colab.research.google.com/github/skywalker0803r/mxnet_course/blob/master/mxnet_log%E8%99%95%E7%90%86%E6%8A%80%E5%B7%A7.ipynb\" target=\"_parent\"><img src=\"https://colab.research.google.com/assets/colab-badge.svg\" alt=\"Open In Colab\"/></a>"
      ]
    },
    {
      "cell_type": "code",
      "metadata": {
        "id": "JflGoLJ7Dn87",
        "colab_type": "code",
        "colab": {}
      },
      "source": [
        "import torch\n",
        "import torch.nn as nn\n",
        "from torch.distributions import Categorical\n",
        "import gym\n",
        "import numpy as np\n",
        "from torch.autograd import Variable\n",
        "#! pip install mxnet\n",
        "import mxnet\n",
        "from mxnet import nd"
      ],
      "execution_count": 0,
      "outputs": []
    },
    {
      "cell_type": "code",
      "metadata": {
        "id": "j-1avil1K0b-",
        "colab_type": "code",
        "colab": {}
      },
      "source": [
        "action_probs = np.array([[0.01,0.99]])"
      ],
      "execution_count": 0,
      "outputs": []
    },
    {
      "cell_type": "markdown",
      "metadata": {
        "id": "JFdKfN6jKU-H",
        "colab_type": "text"
      },
      "source": [
        "# pytorch"
      ]
    },
    {
      "cell_type": "code",
      "metadata": {
        "id": "aQytwFU3Dpnf",
        "colab_type": "code",
        "colab": {
          "base_uri": "https://localhost:8080/",
          "height": 67
        },
        "outputId": "3d06102d-1326-48b4-b079-47a9d1468ad5"
      },
      "source": [
        "dist = Categorical(torch.tensor(action_probs))\n",
        "print('原始機率:',dist.probs)\n",
        "print('log機率:',dist.logits)\n",
        "print('entropy:',dist.entropy())"
      ],
      "execution_count": 3,
      "outputs": [
        {
          "output_type": "stream",
          "text": [
            "原始機率: tensor([[0.0100, 0.9900]], dtype=torch.float64)\n",
            "log機率: tensor([[-4.6052, -0.0101]], dtype=torch.float64)\n",
            "entropy: tensor([0.0560], dtype=torch.float64)\n"
          ],
          "name": "stdout"
        }
      ]
    },
    {
      "cell_type": "markdown",
      "metadata": {
        "id": "6hdyly27KZJV",
        "colab_type": "text"
      },
      "source": [
        "# mxnet"
      ]
    },
    {
      "cell_type": "code",
      "metadata": {
        "id": "2jNPGLHlJ5pf",
        "colab_type": "code",
        "colab": {}
      },
      "source": [
        "def entropy(logits):\n",
        "  out = -nd.sum(logits * nd.log(logits + 1e-8),axis=1)\n",
        "  return out"
      ],
      "execution_count": 0,
      "outputs": []
    },
    {
      "cell_type": "code",
      "metadata": {
        "id": "KvYeqoeyEuVk",
        "colab_type": "code",
        "colab": {
          "base_uri": "https://localhost:8080/",
          "height": 252
        },
        "outputId": "347e2b6b-978a-4c7c-b4f3-514426841dd7"
      },
      "source": [
        "dist = nd.array(action_probs)\n",
        "print('原始機率:',dist)\n",
        "print('log版本機率:',nd.log(dist))\n",
        "print('entropy:',entropy(dist))\n",
        "print('根據原始機率選取動作並返回log版本機率:',nd.sample_multinomial(dist,get_prob=True))"
      ],
      "execution_count": 5,
      "outputs": [
        {
          "output_type": "stream",
          "text": [
            "原始機率: \n",
            "[[0.01 0.99]]\n",
            "<NDArray 1x2 @cpu(0)>\n",
            "log版本機率: \n",
            "[[-4.6051702  -0.01005033]]\n",
            "<NDArray 1x2 @cpu(0)>\n",
            "entropy: \n",
            "[0.05600151]\n",
            "<NDArray 1 @cpu(0)>\n",
            "根據原始機率選取動作並返回log版本機率: [\n",
            "[1]\n",
            "<NDArray 1 @cpu(0)>, \n",
            "[-0.01005033]\n",
            "<NDArray 1 @cpu(0)>]\n"
          ],
          "name": "stdout"
        }
      ]
    },
    {
      "cell_type": "code",
      "metadata": {
        "id": "N55IIJKKI1ek",
        "colab_type": "code",
        "colab": {}
      },
      "source": [
        ""
      ],
      "execution_count": 0,
      "outputs": []
    }
  ]
}