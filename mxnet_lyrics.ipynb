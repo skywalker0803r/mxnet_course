{
  "nbformat": 4,
  "nbformat_minor": 0,
  "metadata": {
    "colab": {
      "name": "mxnet_lyrics.ipynb",
      "provenance": [],
      "include_colab_link": true
    },
    "kernelspec": {
      "name": "python3",
      "display_name": "Python 3"
    }
  },
  "cells": [
    {
      "cell_type": "markdown",
      "metadata": {
        "id": "view-in-github",
        "colab_type": "text"
      },
      "source": [
        "<a href=\"https://colab.research.google.com/github/skywalker0803r/mxnet_course/blob/master/mxnet_lyrics.ipynb\" target=\"_parent\"><img src=\"https://colab.research.google.com/assets/colab-badge.svg\" alt=\"Open In Colab\"/></a>"
      ]
    },
    {
      "cell_type": "code",
      "metadata": {
        "id": "Wkova8pDNSrh",
        "colab_type": "code",
        "colab": {
          "base_uri": "https://localhost:8080/",
          "height": 35
        },
        "outputId": "c74fa165-8bac-444d-c6ee-978333cf37aa"
      },
      "source": [
        "#!pip install mxnet\n",
        "#!pip install d2lzh\n",
        "from mxnet import autograd,gluon,init,nd,cpu\n",
        "import d2lzh as d2l\n",
        "import math\n",
        "from mxnet.gluon import loss as gloss,nn,rnn\n",
        "import time\n",
        "from google.colab import drive\n",
        "import random\n",
        "drive.mount('/content/drive')"
      ],
      "execution_count": 1,
      "outputs": [
        {
          "output_type": "stream",
          "text": [
            "Drive already mounted at /content/drive; to attempt to forcibly remount, call drive.mount(\"/content/drive\", force_remount=True).\n"
          ],
          "name": "stdout"
        }
      ]
    },
    {
      "cell_type": "code",
      "metadata": {
        "id": "LgCYkj0hZNU-",
        "colab_type": "code",
        "colab": {}
      },
      "source": [
        "def load_lyrics(path):\n",
        "  with open(path,encoding='utf8') as f:\n",
        "    corpus_chars = f.read().replace('\\n',' ').replace('\\r',' ').replace('\\u3000','')\n",
        "  idx_to_char = list(set(corpus_chars))\n",
        "  char_to_idx = dict([(char,i) for i,char in enumerate(idx_to_char)])\n",
        "  vocab_size = len(char_to_idx)\n",
        "  corpus_indices = [char_to_idx[char] for char in corpus_chars]\n",
        "  return corpus_indices,char_to_idx,idx_to_char,vocab_size"
      ],
      "execution_count": 0,
      "outputs": []
    },
    {
      "cell_type": "markdown",
      "metadata": {
        "id": "szBUDs14PBys",
        "colab_type": "text"
      },
      "source": [
        "# load data"
      ]
    },
    {
      "cell_type": "code",
      "metadata": {
        "id": "kLpQI3DRNTuE",
        "colab_type": "code",
        "colab": {
          "base_uri": "https://localhost:8080/",
          "height": 53
        },
        "outputId": "a332a2c0-4370-4daf-f7f0-73e295d8c66b"
      },
      "source": [
        "(corpus_indices,char_to_idx,idx_to_char,vocab_size) = load_lyrics('/content/drive/My Drive/mxnet_dataset/歌詞.txt')\n",
        "print('chars:',[idx_to_char[i] for i in corpus_indices[:20]])\n",
        "print('indices:',corpus_indices[:20])"
      ],
      "execution_count": 3,
      "outputs": [
        {
          "output_type": "stream",
          "text": [
            "chars: ['窗', '外', '的', '麻', '雀', '在', '電', '線', '桿', '上', '多', '嘴', ' ', '妳', '說', '這', '一', '句', '很', '有']\n",
            "indices: [77, 91, 52, 17, 48, 34, 2, 30, 76, 137, 101, 14, 39, 47, 136, 87, 79, 82, 21, 122]\n"
          ],
          "name": "stdout"
        }
      ]
    },
    {
      "cell_type": "markdown",
      "metadata": {
        "id": "Ga-jhY_waSr4",
        "colab_type": "text"
      },
      "source": [
        "# model"
      ]
    },
    {
      "cell_type": "code",
      "metadata": {
        "id": "MsPm8lllVppt",
        "colab_type": "code",
        "colab": {}
      },
      "source": [
        "num_hiddens = 256\n",
        "rnn_layer = rnn.RNN(num_hiddens)\n",
        "rnn_layer.initialize()"
      ],
      "execution_count": 0,
      "outputs": []
    },
    {
      "cell_type": "code",
      "metadata": {
        "id": "0FJDhj6mYnCp",
        "colab_type": "code",
        "colab": {
          "base_uri": "https://localhost:8080/",
          "height": 35
        },
        "outputId": "2db6f3b4-ea08-44a0-a066-b9c13dd19b17"
      },
      "source": [
        "state = rnn_layer.begin_state(batch_size=2)\n",
        "state[0].shape"
      ],
      "execution_count": 5,
      "outputs": [
        {
          "output_type": "execute_result",
          "data": {
            "text/plain": [
              "(1, 2, 256)"
            ]
          },
          "metadata": {
            "tags": []
          },
          "execution_count": 5
        }
      ]
    },
    {
      "cell_type": "code",
      "metadata": {
        "id": "AL2uY38UY1Qw",
        "colab_type": "code",
        "colab": {}
      },
      "source": [
        "class RNNModel(nn.Block):\n",
        "  def __init__(self,rnn_layer,vocab_size,**kwargs):\n",
        "    super().__init__(**kwargs)\n",
        "    self.rnn = rnn_layer\n",
        "    self.vocab_size = vocab_size\n",
        "    self.dense = nn.Dense(vocab_size)\n",
        "  \n",
        "  def forward(self,inputs,state):\n",
        "    X = nd.one_hot(inputs.T,self.vocab_size)\n",
        "    Y,state = self.rnn(X,state)\n",
        "    output = self.dense(Y.reshape((-1,Y.shape[-1])))\n",
        "    return output ,state\n",
        "  \n",
        "  def begin_state(self,*args,**kwargs):\n",
        "    return self.rnn.begin_state(*args,**kwargs) "
      ],
      "execution_count": 0,
      "outputs": []
    },
    {
      "cell_type": "markdown",
      "metadata": {
        "id": "Spe8o1Ldd8QU",
        "colab_type": "text"
      },
      "source": [
        "# 訓練前"
      ]
    },
    {
      "cell_type": "code",
      "metadata": {
        "id": "2uizy-GvdDcN",
        "colab_type": "code",
        "colab": {}
      },
      "source": [
        "model = RNNModel(rnn_layer,vocab_size)\n",
        "model.initialize(force_reinit=True)"
      ],
      "execution_count": 0,
      "outputs": []
    },
    {
      "cell_type": "code",
      "metadata": {
        "id": "_Oh2gj-kmLXG",
        "colab_type": "code",
        "colab": {
          "base_uri": "https://localhost:8080/",
          "height": 35
        },
        "outputId": "2df148fa-25f5-4e4b-a82b-6199bf0eaa53"
      },
      "source": [
        "d2l.predict_rnn_gluon('窗外',10,model,vocab_size,cpu(),idx_to_char,char_to_idx)"
      ],
      "execution_count": 8,
      "outputs": [
        {
          "output_type": "execute_result",
          "data": {
            "text/plain": [
              "'窗外 ~節上結結結香上永'"
            ]
          },
          "metadata": {
            "tags": []
          },
          "execution_count": 8
        }
      ]
    },
    {
      "cell_type": "markdown",
      "metadata": {
        "id": "gUmNnqF-eWvz",
        "colab_type": "text"
      },
      "source": [
        "# 開始訓練"
      ]
    },
    {
      "cell_type": "code",
      "metadata": {
        "id": "masIgErOdP3V",
        "colab_type": "code",
        "colab": {
          "base_uri": "https://localhost:8080/",
          "height": 1000
        },
        "outputId": "6bb10d58-1372-4a3e-b3c1-0a1c7a9bbdb2"
      },
      "source": [
        "d2l.train_and_predict_rnn_gluon(model = model,\n",
        "                                num_hiddens = 256,\n",
        "                                vocab_size = vocab_size,\n",
        "                                ctx = cpu(),\n",
        "                                corpus_indices = corpus_indices,\n",
        "                                idx_to_char = idx_to_char,\n",
        "                                char_to_idx = char_to_idx,\n",
        "                                num_epochs = 500,\n",
        "                                num_steps = 11,\n",
        "                                lr = 1e2,\n",
        "                                clipping_theta = 1e-2,\n",
        "                                batch_size = 32,\n",
        "                                pred_period = 10,\n",
        "                                pred_len = 10,\n",
        "                                prefixes=['窗外'])"
      ],
      "execution_count": 9,
      "outputs": [
        {
          "output_type": "stream",
          "text": [
            "epoch 10, perplexity 93.312315, time 0.02 sec\n",
            " - 窗外的的的的的的的的的的\n",
            "epoch 20, perplexity 81.229718, time 0.02 sec\n",
            " - 窗外的的的的的的的的的的\n",
            "epoch 30, perplexity 51.952918, time 0.02 sec\n",
            " - 窗外的愛溢出就像雨 出就\n",
            "epoch 40, perplexity 35.027126, time 0.02 sec\n",
            " - 窗外的愛溢出就像雨念出就\n",
            "epoch 50, perplexity 24.136526, time 0.03 sec\n",
            " - 窗外的愛溢出的一雨我的愛\n",
            "epoch 60, perplexity 18.228982, time 0.02 sec\n",
            " - 窗外是我的愛溢出就像雨水\n",
            "epoch 70, perplexity 14.291189, time 0.02 sec\n",
            " - 窗外是我詩愛溢出就像雨水\n",
            "epoch 80, perplexity 14.617773, time 0.02 sec\n",
            " - 窗外是我也無法我的愛溢出\n",
            "epoch 90, perplexity 9.723547, time 0.02 sec\n",
            " - 窗外夜我詩愛溢出就像雨 \n",
            "epoch 100, perplexity 12.044058, time 0.02 sec\n",
            " - 窗外的著溢出就像雨水 窗\n",
            "epoch 110, perplexity 7.347678, time 0.02 sec\n",
            " - 窗外的愛溢出就像雨水 窗\n",
            "epoch 120, perplexity 5.172585, time 0.02 sec\n",
            " - 窗外的著寫在就像雨水 嘴\n",
            "epoch 130, perplexity 4.973076, time 0.02 sec\n",
            " - 窗外夜我的愛溢出就像雨水\n",
            "epoch 140, perplexity 5.311710, time 0.02 sec\n",
            " - 窗外的麻雀在就像雨水 窗\n",
            "epoch 150, perplexity 3.582867, time 0.02 sec\n",
            " - 窗外的麻雀在電像雨水多窗\n",
            "epoch 160, perplexity 3.184749, time 0.02 sec\n",
            " - 窗外的麻溢在電像的上念厚\n",
            "epoch 170, perplexity 2.853958, time 0.02 sec\n",
            " - 窗外的麻雀在電線桿強的嘴\n",
            "epoch 180, perplexity 2.220915, time 0.02 sec\n",
            " - 窗外的麻溢出就像雨水 嘴\n",
            "epoch 190, perplexity 2.205506, time 0.02 sec\n",
            " - 窗外的麻雀在電線桿上多嘴\n",
            "epoch 200, perplexity 1.864468, time 0.02 sec\n",
            " - 窗外的麻雀在電線桿上 窗\n",
            "epoch 210, perplexity 1.929238, time 0.02 sec\n",
            " - 窗外的麻雀在電線桿上多嘴\n",
            "epoch 220, perplexity 1.818436, time 0.02 sec\n",
            " - 窗外的麻雀在電線桿上多嘴\n",
            "epoch 230, perplexity 1.799427, time 0.02 sec\n",
            " - 窗外的麻雀在電線桿水多嘴\n",
            "epoch 240, perplexity 1.881566, time 0.02 sec\n",
            " - 窗外的麻雀在電線桿上多嘴\n",
            "epoch 250, perplexity 1.729095, time 0.02 sec\n",
            " - 窗外的麻雀在電線桿上多嘴\n",
            "epoch 260, perplexity 1.619819, time 0.02 sec\n",
            " - 窗外的麻雀在電線桿上多嘴\n",
            "epoch 270, perplexity 1.599493, time 0.02 sec\n",
            " - 窗外的麻雀在電線桿上的嘴\n",
            "epoch 280, perplexity 1.510337, time 0.02 sec\n",
            " - 窗外的麻雀在電線桿上多嘴\n",
            "epoch 290, perplexity 1.372804, time 0.02 sec\n",
            " - 窗外的麻雀在電線桿上多嘴\n",
            "epoch 300, perplexity 1.303038, time 0.02 sec\n",
            " - 窗外的麻雀在電線桿上多嘴\n",
            "epoch 310, perplexity 1.783972, time 0.02 sec\n",
            " - 窗外的麻雀在電線桿上多嘴\n",
            "epoch 320, perplexity 1.303615, time 0.02 sec\n",
            " - 窗外的麻雀在電線桿上多嘴\n",
            "epoch 330, perplexity 1.263170, time 0.02 sec\n",
            " - 窗外的麻雀在電線桿上多嘴\n",
            "epoch 340, perplexity 1.390868, time 0.02 sec\n",
            " - 窗外的麻雀在電線桿上多嘴\n",
            "epoch 350, perplexity 1.211103, time 0.02 sec\n",
            " - 窗外的麻雀在電線桿上多嘴\n",
            "epoch 360, perplexity 1.221802, time 0.02 sec\n",
            " - 窗外的麻雀在電線桿上多嘴\n",
            "epoch 370, perplexity 1.200038, time 0.02 sec\n",
            " - 窗外的麻雀在電線桿上多嘴\n",
            "epoch 380, perplexity 1.183400, time 0.02 sec\n",
            " - 窗外的麻雀在電線桿上多嘴\n",
            "epoch 390, perplexity 1.223717, time 0.02 sec\n",
            " - 窗外的麻雀在電線桿上多嘴\n",
            "epoch 400, perplexity 1.132387, time 0.02 sec\n",
            " - 窗外的麻雀在電線桿上多嘴\n",
            "epoch 410, perplexity 1.139624, time 0.02 sec\n",
            " - 窗外的麻雀在電線桿上多嘴\n",
            "epoch 420, perplexity 1.203512, time 0.02 sec\n",
            " - 窗外的麻雀在電線桿上多嘴\n",
            "epoch 430, perplexity 1.156958, time 0.02 sec\n",
            " - 窗外的麻雀在電線桿上多嘴\n",
            "epoch 440, perplexity 1.091242, time 0.02 sec\n",
            " - 窗外的麻雀在電線桿上多嘴\n",
            "epoch 450, perplexity 1.101972, time 0.02 sec\n",
            " - 窗外的麻雀在電線桿上多嘴\n",
            "epoch 460, perplexity 1.201261, time 0.02 sec\n",
            " - 窗外的麻雀在電線桿上多嘴\n",
            "epoch 470, perplexity 1.229633, time 0.02 sec\n",
            " - 窗外的麻雀在電線桿上多嘴\n",
            "epoch 480, perplexity 1.169020, time 0.02 sec\n",
            " - 窗外的麻雀在電線桿上多嘴\n",
            "epoch 490, perplexity 1.061772, time 0.02 sec\n",
            " - 窗外的麻雀在電線桿上多嘴\n",
            "epoch 500, perplexity 1.045658, time 0.03 sec\n",
            " - 窗外的麻雀在電線桿上多嘴\n"
          ],
          "name": "stdout"
        }
      ]
    },
    {
      "cell_type": "markdown",
      "metadata": {
        "id": "OOozQ8k-mHhc",
        "colab_type": "text"
      },
      "source": [
        "# 測試"
      ]
    },
    {
      "cell_type": "code",
      "metadata": {
        "id": "DHh_Vdh7fZDc",
        "colab_type": "code",
        "colab": {
          "base_uri": "https://localhost:8080/",
          "height": 35
        },
        "outputId": "c10f98ac-94c5-4683-abef-7267bc7c7853"
      },
      "source": [
        "d2l.predict_rnn_gluon('窗外',10,model,vocab_size,cpu(),idx_to_char,char_to_idx)"
      ],
      "execution_count": 10,
      "outputs": [
        {
          "output_type": "execute_result",
          "data": {
            "text/plain": [
              "'窗外的麻雀在電線桿上多嘴'"
            ]
          },
          "metadata": {
            "tags": []
          },
          "execution_count": 10
        }
      ]
    },
    {
      "cell_type": "code",
      "metadata": {
        "id": "96i5qO7LlVpU",
        "colab_type": "code",
        "colab": {}
      },
      "source": [
        ""
      ],
      "execution_count": 0,
      "outputs": []
    }
  ]
}