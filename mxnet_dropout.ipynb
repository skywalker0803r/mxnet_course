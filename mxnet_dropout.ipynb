{
  "nbformat": 4,
  "nbformat_minor": 0,
  "metadata": {
    "colab": {
      "name": "mxnet_dropout.ipynb",
      "provenance": [],
      "include_colab_link": true
    },
    "kernelspec": {
      "name": "python3",
      "display_name": "Python 3"
    }
  },
  "cells": [
    {
      "cell_type": "markdown",
      "metadata": {
        "id": "view-in-github",
        "colab_type": "text"
      },
      "source": [
        "<a href=\"https://colab.research.google.com/github/skywalker0803r/mxnet_course/blob/master/mxnet_dropout.ipynb\" target=\"_parent\"><img src=\"https://colab.research.google.com/assets/colab-badge.svg\" alt=\"Open In Colab\"/></a>"
      ]
    },
    {
      "cell_type": "markdown",
      "metadata": {
        "id": "Iy97kqoNfNgX",
        "colab_type": "text"
      },
      "source": [
        "![alt text](https://d1dwq032kyr03c.cloudfront.net/upload/images/20181112/20107143dFZdVGsX47.png)"
      ]
    },
    {
      "cell_type": "markdown",
      "metadata": {
        "id": "4GRxGLJRgF6l",
        "colab_type": "text"
      },
      "source": [
        "# dropout 從0開始實現"
      ]
    },
    {
      "cell_type": "code",
      "metadata": {
        "id": "CKAG2MusgKYE",
        "colab_type": "code",
        "colab": {}
      },
      "source": [
        "#!pip install mxnet d2lzh\n",
        "import d2lzh as d2l\n",
        "from mxnet import autograd, gluon, init, nd\n",
        "from mxnet.gluon import loss as gloss, nn\n",
        "\n",
        "def dropout(X, drop_prob):\n",
        "    assert 0 <= drop_prob <= 1\n",
        "    keep_prob = 1 - drop_prob\n",
        "    # 这种情况下把全部元素都丢弃\n",
        "    if keep_prob == 0:\n",
        "        return X.zeros_like()\n",
        "    mask = nd.random.uniform(0, 1, X.shape) < keep_prob\n",
        "    return mask * X / keep_prob"
      ],
      "execution_count": 0,
      "outputs": []
    },
    {
      "cell_type": "markdown",
      "metadata": {
        "id": "wNDLsTX7gz16",
        "colab_type": "text"
      },
      "source": [
        "# test dropout"
      ]
    },
    {
      "cell_type": "code",
      "metadata": {
        "id": "jvacyiGbgKZi",
        "colab_type": "code",
        "colab": {
          "base_uri": "https://localhost:8080/",
          "height": 89
        },
        "outputId": "ae93b945-348d-4864-cd5b-e2937cac8666"
      },
      "source": [
        "X = nd.arange(16).reshape((2, 8))\n",
        "dropout(X, 0)"
      ],
      "execution_count": 5,
      "outputs": [
        {
          "output_type": "execute_result",
          "data": {
            "text/plain": [
              "\n",
              "[[ 0.  1.  2.  3.  4.  5.  6.  7.]\n",
              " [ 8.  9. 10. 11. 12. 13. 14. 15.]]\n",
              "<NDArray 2x8 @cpu(0)>"
            ]
          },
          "metadata": {
            "tags": []
          },
          "execution_count": 5
        }
      ]
    },
    {
      "cell_type": "code",
      "metadata": {
        "id": "Pk0p1yGqg19a",
        "colab_type": "code",
        "colab": {
          "base_uri": "https://localhost:8080/",
          "height": 89
        },
        "outputId": "5a65e3e7-800d-460a-aa13-0f44f3a1ee46"
      },
      "source": [
        "dropout(X,0.5)"
      ],
      "execution_count": 6,
      "outputs": [
        {
          "output_type": "execute_result",
          "data": {
            "text/plain": [
              "\n",
              "[[ 0.  2.  4.  6.  0.  0.  0. 14.]\n",
              " [ 0. 18.  0.  0. 24. 26. 28.  0.]]\n",
              "<NDArray 2x8 @cpu(0)>"
            ]
          },
          "metadata": {
            "tags": []
          },
          "execution_count": 6
        }
      ]
    },
    {
      "cell_type": "code",
      "metadata": {
        "id": "fQAH1JSQg7b3",
        "colab_type": "code",
        "colab": {
          "base_uri": "https://localhost:8080/",
          "height": 89
        },
        "outputId": "a68e8528-ac59-4a9d-bdd8-8d2535e32530"
      },
      "source": [
        "dropout(X,1)"
      ],
      "execution_count": 7,
      "outputs": [
        {
          "output_type": "execute_result",
          "data": {
            "text/plain": [
              "\n",
              "[[0. 0. 0. 0. 0. 0. 0. 0.]\n",
              " [0. 0. 0. 0. 0. 0. 0. 0.]]\n",
              "<NDArray 2x8 @cpu(0)>"
            ]
          },
          "metadata": {
            "tags": []
          },
          "execution_count": 7
        }
      ]
    },
    {
      "cell_type": "markdown",
      "metadata": {
        "id": "kRSPJ--mhEl-",
        "colab_type": "text"
      },
      "source": [
        "# 定义模型参数"
      ]
    },
    {
      "cell_type": "code",
      "metadata": {
        "id": "ESBGzq8kg_GD",
        "colab_type": "code",
        "colab": {}
      },
      "source": [
        "num_inputs, num_outputs, num_hiddens1, num_hiddens2 = 784, 10, 256, 256\n",
        "\n",
        "W1 = nd.random.normal(scale=0.01, shape=(num_inputs, num_hiddens1))\n",
        "b1 = nd.zeros(num_hiddens1)\n",
        "W2 = nd.random.normal(scale=0.01, shape=(num_hiddens1, num_hiddens2))\n",
        "b2 = nd.zeros(num_hiddens2)\n",
        "W3 = nd.random.normal(scale=0.01, shape=(num_hiddens2, num_outputs))\n",
        "b3 = nd.zeros(num_outputs)\n",
        "\n",
        "params = [W1, b1, W2, b2, W3, b3]\n",
        "for param in params:\n",
        "    param.attach_grad()"
      ],
      "execution_count": 0,
      "outputs": []
    },
    {
      "cell_type": "markdown",
      "metadata": {
        "id": "VtfKs_eghOsl",
        "colab_type": "text"
      },
      "source": [
        "# 定义模型"
      ]
    },
    {
      "cell_type": "code",
      "metadata": {
        "id": "IK9_3DtBhLuk",
        "colab_type": "code",
        "colab": {}
      },
      "source": [
        "drop_prob1, drop_prob2 = 0.2, 0.5\n",
        "\n",
        "def net(X):\n",
        "    X = X.reshape((-1, num_inputs))\n",
        "    H1 = (nd.dot(X, W1) + b1).relu()\n",
        "    if autograd.is_training():  # 只在训练模型时使用丢弃法\n",
        "        H1 = dropout(H1, drop_prob1)  # 在第一层全连接后添加丢弃层\n",
        "    H2 = (nd.dot(H1, W2) + b2).relu()\n",
        "    if autograd.is_training():\n",
        "        H2 = dropout(H2, drop_prob2)  # 在第二层全连接后添加丢弃层\n",
        "    return nd.dot(H2, W3) + b3"
      ],
      "execution_count": 0,
      "outputs": []
    },
    {
      "cell_type": "markdown",
      "metadata": {
        "id": "H-KtY6rlhYiw",
        "colab_type": "text"
      },
      "source": [
        "# 训练和测试模型"
      ]
    },
    {
      "cell_type": "code",
      "metadata": {
        "id": "nP5v_bPqhVpy",
        "colab_type": "code",
        "colab": {
          "base_uri": "https://localhost:8080/",
          "height": 179
        },
        "outputId": "f14b6ec1-891e-42e3-90ca-7177f86e8008"
      },
      "source": [
        "num_epochs, lr, batch_size = 5, 0.5, 256\n",
        "loss = gloss.SoftmaxCrossEntropyLoss()\n",
        "train_iter, test_iter = d2l.load_data_fashion_mnist(batch_size)\n",
        "d2l.train_ch3(net, train_iter, test_iter, loss, num_epochs, batch_size,\n",
        "              params, lr)"
      ],
      "execution_count": 10,
      "outputs": [
        {
          "output_type": "stream",
          "text": [
            "Downloading /root/.mxnet/datasets/fashion-mnist/train-images-idx3-ubyte.gz from https://apache-mxnet.s3-accelerate.dualstack.amazonaws.com/gluon/dataset/fashion-mnist/train-images-idx3-ubyte.gz...\n",
            "Downloading /root/.mxnet/datasets/fashion-mnist/train-labels-idx1-ubyte.gz from https://apache-mxnet.s3-accelerate.dualstack.amazonaws.com/gluon/dataset/fashion-mnist/train-labels-idx1-ubyte.gz...\n",
            "Downloading /root/.mxnet/datasets/fashion-mnist/t10k-images-idx3-ubyte.gz from https://apache-mxnet.s3-accelerate.dualstack.amazonaws.com/gluon/dataset/fashion-mnist/t10k-images-idx3-ubyte.gz...\n",
            "Downloading /root/.mxnet/datasets/fashion-mnist/t10k-labels-idx1-ubyte.gz from https://apache-mxnet.s3-accelerate.dualstack.amazonaws.com/gluon/dataset/fashion-mnist/t10k-labels-idx1-ubyte.gz...\n",
            "epoch 1, loss 1.1148, train acc 0.568, test acc 0.760\n",
            "epoch 2, loss 0.5799, train acc 0.785, test acc 0.837\n",
            "epoch 3, loss 0.4814, train acc 0.824, test acc 0.857\n",
            "epoch 4, loss 0.4479, train acc 0.838, test acc 0.851\n",
            "epoch 5, loss 0.4193, train acc 0.847, test acc 0.864\n"
          ],
          "name": "stdout"
        }
      ]
    },
    {
      "cell_type": "markdown",
      "metadata": {
        "id": "cPRlymGUhm3P",
        "colab_type": "text"
      },
      "source": [
        "# 简洁实现"
      ]
    },
    {
      "cell_type": "code",
      "metadata": {
        "id": "NCn87wOWhdTO",
        "colab_type": "code",
        "colab": {}
      },
      "source": [
        "net = nn.Sequential()\n",
        "net.add(nn.Dense(256, activation=\"relu\"),\n",
        "        nn.Dropout(drop_prob1),  # 在第一个全连接层后添加丢弃层\n",
        "        nn.Dense(256, activation=\"relu\"),\n",
        "        nn.Dropout(drop_prob2),  # 在第二个全连接层后添加丢弃层\n",
        "        nn.Dense(10))\n",
        "net.initialize(init.Normal(sigma=0.01))"
      ],
      "execution_count": 0,
      "outputs": []
    },
    {
      "cell_type": "code",
      "metadata": {
        "id": "pnt6WSf4htZJ",
        "colab_type": "code",
        "colab": {
          "base_uri": "https://localhost:8080/",
          "height": 107
        },
        "outputId": "bf262041-3c4e-4906-eaeb-a11c4872ee2f"
      },
      "source": [
        "trainer = gluon.Trainer(net.collect_params(), 'sgd', {'learning_rate': lr})\n",
        "d2l.train_ch3(net, train_iter, test_iter, loss, num_epochs, batch_size, None,\n",
        "              None, trainer)"
      ],
      "execution_count": 12,
      "outputs": [
        {
          "output_type": "stream",
          "text": [
            "epoch 1, loss 1.1748, train acc 0.542, test acc 0.740\n",
            "epoch 2, loss 0.5986, train acc 0.778, test acc 0.789\n",
            "epoch 3, loss 0.4957, train acc 0.820, test acc 0.851\n",
            "epoch 4, loss 0.4463, train acc 0.838, test acc 0.858\n",
            "epoch 5, loss 0.4261, train acc 0.845, test acc 0.865\n"
          ],
          "name": "stdout"
        }
      ]
    },
    {
      "cell_type": "markdown",
      "metadata": {
        "id": "-oPHtgW3h5kF",
        "colab_type": "text"
      },
      "source": [
        "# 小结"
      ]
    },
    {
      "cell_type": "code",
      "metadata": {
        "id": "dOkVD-W0hwoD",
        "colab_type": "code",
        "colab": {}
      },
      "source": [
        "#我们可以通过使用丢弃法应对过拟合。\n",
        "#丢弃法只在训练模型时使用。"
      ],
      "execution_count": 0,
      "outputs": []
    },
    {
      "cell_type": "markdown",
      "metadata": {
        "id": "jKgcgL2ah-0-",
        "colab_type": "text"
      },
      "source": [
        "# 练习"
      ]
    },
    {
      "cell_type": "code",
      "metadata": {
        "id": "lR5GZ-HUh_i1",
        "colab_type": "code",
        "colab": {}
      },
      "source": [
        "#如果把本节中的两个丢弃概率超参数对调，会有什么结果？\n",
        "#增大迭代周期数，比较使用丢弃法与不使用丢弃法的结果。\n",
        "#如果将模型改得更加复杂，如增加隐藏层单元，使用丢弃法应对过拟合的效果是否更加明显？\n",
        "#以本节中的模型为例，比较使用丢弃法与权重衰减的效果。如果同时使用丢弃法和权重衰减，效果会如何？"
      ],
      "execution_count": 0,
      "outputs": []
    },
    {
      "cell_type": "code",
      "metadata": {
        "id": "JPwNLaDRiH-5",
        "colab_type": "code",
        "colab": {}
      },
      "source": [
        ""
      ],
      "execution_count": 0,
      "outputs": []
    }
  ]
}