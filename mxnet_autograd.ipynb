{
  "nbformat": 4,
  "nbformat_minor": 0,
  "metadata": {
    "colab": {
      "name": "mxnet_autograd.ipynb",
      "provenance": [],
      "include_colab_link": true
    },
    "kernelspec": {
      "name": "python3",
      "display_name": "Python 3"
    }
  },
  "cells": [
    {
      "cell_type": "markdown",
      "metadata": {
        "id": "view-in-github",
        "colab_type": "text"
      },
      "source": [
        "<a href=\"https://colab.research.google.com/github/skywalker0803r/mxnet_course/blob/master/mxnet_autograd.ipynb\" target=\"_parent\"><img src=\"https://colab.research.google.com/assets/colab-badge.svg\" alt=\"Open In Colab\"/></a>"
      ]
    },
    {
      "cell_type": "code",
      "metadata": {
        "id": "xmdleKypGLc9",
        "colab_type": "code",
        "colab": {}
      },
      "source": [
        "#!pip install mxnet\n",
        "from mxnet import autograd, nd"
      ],
      "execution_count": 0,
      "outputs": []
    },
    {
      "cell_type": "code",
      "metadata": {
        "id": "uyPo79UtGQyW",
        "colab_type": "code",
        "colab": {
          "base_uri": "https://localhost:8080/",
          "height": 125
        },
        "outputId": "d6bfd321-9ea6-4a96-b112-26942aeb7a29"
      },
      "source": [
        "x = nd.arange(4).reshape((4, 1))\n",
        "x"
      ],
      "execution_count": 2,
      "outputs": [
        {
          "output_type": "execute_result",
          "data": {
            "text/plain": [
              "\n",
              "[[0.]\n",
              " [1.]\n",
              " [2.]\n",
              " [3.]]\n",
              "<NDArray 4x1 @cpu(0)>"
            ]
          },
          "metadata": {
            "tags": []
          },
          "execution_count": 2
        }
      ]
    },
    {
      "cell_type": "markdown",
      "metadata": {
        "id": "TSFUQmUoGeKQ",
        "colab_type": "text"
      },
      "source": [
        "# 为了求有关变量x的梯度，我们需要先调用attach_grad函数来申请存储梯度所需要的内存"
      ]
    },
    {
      "cell_type": "code",
      "metadata": {
        "id": "QUCZyhusGbVX",
        "colab_type": "code",
        "colab": {}
      },
      "source": [
        "x.attach_grad()"
      ],
      "execution_count": 0,
      "outputs": []
    },
    {
      "cell_type": "markdown",
      "metadata": {
        "id": "Q9h1nVkaGjZX",
        "colab_type": "text"
      },
      "source": [
        "# 下面定义有关变量x的函数。为了减少计算和内存开销，默认条件下MXNet不会记录用于求梯度的计算。我们需要调用record函数来要求MXNet记录与求梯度有关的计算。"
      ]
    },
    {
      "cell_type": "code",
      "metadata": {
        "id": "6FbE3XxkGhBG",
        "colab_type": "code",
        "colab": {}
      },
      "source": [
        "with autograd.record():\n",
        "    y = 2 * nd.dot(x.T, x)"
      ],
      "execution_count": 0,
      "outputs": []
    },
    {
      "cell_type": "markdown",
      "metadata": {
        "id": "9GvNXMSyKYZv",
        "colab_type": "text"
      },
      "source": [
        "# backward"
      ]
    },
    {
      "cell_type": "code",
      "metadata": {
        "id": "-wKxJ9N5Gy9F",
        "colab_type": "code",
        "colab": {}
      },
      "source": [
        "y.backward()"
      ],
      "execution_count": 0,
      "outputs": []
    },
    {
      "cell_type": "markdown",
      "metadata": {
        "id": "V6Gd9pWxKa3g",
        "colab_type": "text"
      },
      "source": [
        "# look grad"
      ]
    },
    {
      "cell_type": "code",
      "metadata": {
        "id": "sJV3BdNRGz__",
        "colab_type": "code",
        "colab": {
          "base_uri": "https://localhost:8080/",
          "height": 125
        },
        "outputId": "eb6bc7c5-d419-4d4a-b5b0-e2276213a9d7"
      },
      "source": [
        "assert (x.grad - 4 * x).norm().asscalar() == 0\n",
        "x.grad"
      ],
      "execution_count": 6,
      "outputs": [
        {
          "output_type": "execute_result",
          "data": {
            "text/plain": [
              "\n",
              "[[ 0.]\n",
              " [ 4.]\n",
              " [ 8.]\n",
              " [12.]]\n",
              "<NDArray 4x1 @cpu(0)>"
            ]
          },
          "metadata": {
            "tags": []
          },
          "execution_count": 6
        }
      ]
    },
    {
      "cell_type": "markdown",
      "metadata": {
        "id": "ZFcTGPTBImQP",
        "colab_type": "text"
      },
      "source": [
        "# 2.3.2. 训练模式和预测模式¶"
      ]
    },
    {
      "cell_type": "code",
      "metadata": {
        "id": "0WnImWjpG2RT",
        "colab_type": "code",
        "colab": {
          "base_uri": "https://localhost:8080/",
          "height": 53
        },
        "outputId": "dfac290a-02b4-4d0d-f550-4cc2bf2d89a5"
      },
      "source": [
        "print(autograd.is_training())\n",
        "with autograd.record():\n",
        "    print(autograd.is_training())"
      ],
      "execution_count": 7,
      "outputs": [
        {
          "output_type": "stream",
          "text": [
            "False\n",
            "True\n"
          ],
          "name": "stdout"
        }
      ]
    },
    {
      "cell_type": "markdown",
      "metadata": {
        "id": "1nCqCqZJJAAf",
        "colab_type": "text"
      },
      "source": [
        "# 2.3.3. 对Python控制流求梯度¶"
      ]
    },
    {
      "cell_type": "code",
      "metadata": {
        "id": "hFcUxWdnI4BT",
        "colab_type": "code",
        "colab": {}
      },
      "source": [
        "def f(a):\n",
        "    b = a * 2\n",
        "    while b.norm().asscalar() < 1000:\n",
        "        b = b * 2\n",
        "    if b.sum().asscalar() > 0:\n",
        "        c = b\n",
        "    else:\n",
        "        c = 100 * b\n",
        "    return c"
      ],
      "execution_count": 0,
      "outputs": []
    },
    {
      "cell_type": "code",
      "metadata": {
        "id": "iY6Wtz2yJCyU",
        "colab_type": "code",
        "colab": {}
      },
      "source": [
        "a = nd.random.normal(shape=1)\n",
        "a.attach_grad()\n",
        "with autograd.record():\n",
        "    c = f(a)\n",
        "c.backward()"
      ],
      "execution_count": 0,
      "outputs": []
    },
    {
      "cell_type": "code",
      "metadata": {
        "id": "-IYpJpVAJQGy",
        "colab_type": "code",
        "colab": {
          "base_uri": "https://localhost:8080/",
          "height": 125
        },
        "outputId": "dbaac1bf-e00e-410f-8b77-a3b52f5932ee"
      },
      "source": [
        "print(a.grad)\n",
        "print(c/a)"
      ],
      "execution_count": 10,
      "outputs": [
        {
          "output_type": "stream",
          "text": [
            "\n",
            "[512.]\n",
            "<NDArray 1 @cpu(0)>\n",
            "\n",
            "[512.]\n",
            "<NDArray 1 @cpu(0)>\n"
          ],
          "name": "stdout"
        }
      ]
    },
    {
      "cell_type": "code",
      "metadata": {
        "id": "EXSzsQJDJSWZ",
        "colab_type": "code",
        "colab": {}
      },
      "source": [
        ""
      ],
      "execution_count": 0,
      "outputs": []
    }
  ]
}